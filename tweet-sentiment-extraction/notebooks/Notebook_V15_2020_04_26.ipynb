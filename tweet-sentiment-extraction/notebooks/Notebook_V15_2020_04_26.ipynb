{
 "cells": [
  {
   "cell_type": "markdown",
   "metadata": {},
   "source": [
    "# Do you need psuedo labels?"
   ]
  },
  {
   "cell_type": "markdown",
   "metadata": {},
   "source": [
    "# You might need a token for space itself? start and stop tokens?"
   ]
  },
  {
   "cell_type": "markdown",
   "metadata": {},
   "source": [
    "Not implemented\n",
    "\n",
    "1. https://www.tensorflow.org/api_docs/python/tf/keras/layers/AdditiveAttention\n",
    "2. https://www.tensorflow.org/api_docs/python/tf/keras/layers/Attention"
   ]
  },
  {
   "cell_type": "markdown",
   "metadata": {},
   "source": [
    "# Sentiment Classification model with test as well in train? Will increase the vocab size as well?"
   ]
  },
  {
   "cell_type": "markdown",
   "metadata": {},
   "source": [
    "# * https://www.tensorflow.org/tutorials/text/transformer\n",
    "# * https://pytorch.org/tutorials/beginner/transformer_tutorial.html"
   ]
  },
  {
   "cell_type": "markdown",
   "metadata": {},
   "source": [
    "https://rubikscode.net/2019/08/05/transformer-with-python-and-tensorflow-2-0-attention-layers/"
   ]
  },
  {
   "cell_type": "markdown",
   "metadata": {},
   "source": [
    "## Settings"
   ]
  },
  {
   "cell_type": "code",
   "execution_count": 1,
   "metadata": {},
   "outputs": [],
   "source": [
    "# CONTROLS\n",
    "MODEL_PREFIX = \"V15\"\n",
    "MODEL_NUMBER = MODEL_PREFIX[-2:]\n",
    "TRAIN_SPLIT_RATIO = 0.8\n",
    "\n",
    "DROPOUT = 0.3\n",
    "MIN_LR = 1e-6\n",
    "MAX_LR = 1e-3\n",
    "BATCH_SIZE = 1024\n",
    "PREDICT_BATCH_SIZE = 2048\n",
    "STEP_SIZE = 10\n",
    "CLR_METHOD = \"triangular\" # exp_range, triangular, triangular2\n",
    "NUM_EPOCHS = 300"
   ]
  },
  {
   "cell_type": "markdown",
   "metadata": {},
   "source": [
    "## Libraries"
   ]
  },
  {
   "cell_type": "code",
   "execution_count": 2,
   "metadata": {},
   "outputs": [],
   "source": [
    "import numpy as np\n",
    "import pandas as pd\n",
    "from matplotlib import pyplot as plt\n",
    "\n",
    "from sklearn.metrics import accuracy_score, confusion_matrix, f1_score, precision_score, recall_score\n",
    "\n",
    "import pickle, os, sys, re\n",
    "from time import time, ctime\n",
    "\n",
    "import tensorflow as tf\n",
    "from tensorflow.keras import Model, Input\n",
    "from tensorflow.keras.layers import Conv1D, Conv2D, LSTM, Embedding, Dense, concatenate, MaxPooling2D, Softmax, Flatten\n",
    "from tensorflow.keras.layers import BatchNormalization, Dropout, Reshape, Activation, Bidirectional, TimeDistributed\n",
    "from tensorflow.keras.layers import RepeatVector, Multiply, MaxPooling1D, Layer\n",
    "from tensorflow.keras.activations import softmax\n",
    "from tensorflow.keras.optimizers import Adam\n",
    "from tensorflow.keras.preprocessing.sequence import pad_sequences\n",
    "\n",
    "import tokenizers\n",
    "\n",
    "%matplotlib inline"
   ]
  },
  {
   "cell_type": "code",
   "execution_count": 3,
   "metadata": {},
   "outputs": [],
   "source": [
    "from tensorflow.keras.callbacks import *\n",
    "import tensorflow.keras.backend as K\n",
    "\n",
    "class CyclicLR(Callback):\n",
    "    \"\"\"This callback implements a cyclical learning rate policy (CLR).\n",
    "    The method cycles the learning rate between two boundaries with\n",
    "    some constant frequency, as detailed in this paper (https://arxiv.org/abs/1506.01186).\n",
    "    The amplitude of the cycle can be scaled on a per-iteration or \n",
    "    per-cycle basis.\n",
    "    This class has three built-in policies, as put forth in the paper.\n",
    "    \"triangular\":\n",
    "        A basic triangular cycle w/ no amplitude scaling.\n",
    "    \"triangular2\":\n",
    "        A basic triangular cycle that scales initial amplitude by half each cycle.\n",
    "    \"exp_range\":\n",
    "        A cycle that scales initial amplitude by gamma**(cycle iterations) at each \n",
    "        cycle iteration.\n",
    "    For more detail, please see paper.\n",
    "    \n",
    "    # Example\n",
    "        ```python\n",
    "            clr = CyclicLR(base_lr=0.001, max_lr=0.006,\n",
    "                                step_size=2000., mode='triangular')\n",
    "            model.fit(X_train, Y_train, callbacks=[clr])\n",
    "        ```\n",
    "    \n",
    "    Class also supports custom scaling functions:\n",
    "        ```python\n",
    "            clr_fn = lambda x: 0.5*(1+np.sin(x*np.pi/2.))\n",
    "            clr = CyclicLR(base_lr=0.001, max_lr=0.006,\n",
    "                                step_size=2000., scale_fn=clr_fn,\n",
    "                                scale_mode='cycle')\n",
    "            model.fit(X_train, Y_train, callbacks=[clr])\n",
    "        ```    \n",
    "    # Arguments\n",
    "        base_lr: initial learning rate which is the\n",
    "            lower boundary in the cycle.\n",
    "        max_lr: upper boundary in the cycle. Functionally,\n",
    "            it defines the cycle amplitude (max_lr - base_lr).\n",
    "            The lr at any cycle is the sum of base_lr\n",
    "            and some scaling of the amplitude; therefore \n",
    "            max_lr may not actually be reached depending on\n",
    "            scaling function.\n",
    "        step_size: number of training iterations per\n",
    "            half cycle. Authors suggest setting step_size\n",
    "            2-8 x training iterations in epoch.\n",
    "        mode: one of {triangular, triangular2, exp_range}.\n",
    "            Default 'triangular'.\n",
    "            Values correspond to policies detailed above.\n",
    "            If scale_fn is not None, this argument is ignored.\n",
    "        gamma: constant in 'exp_range' scaling function:\n",
    "            gamma**(cycle iterations)\n",
    "        scale_fn: Custom scaling policy defined by a single\n",
    "            argument lambda function, where \n",
    "            0 <= scale_fn(x) <= 1 for all x >= 0.\n",
    "            mode paramater is ignored \n",
    "        scale_mode: {'cycle', 'iterations'}.\n",
    "            Defines whether scale_fn is evaluated on \n",
    "            cycle number or cycle iterations (training\n",
    "            iterations since start of cycle). Default is 'cycle'.\n",
    "    \"\"\"\n",
    "\n",
    "    def __init__(self, base_lr=0.001, max_lr=0.006, step_size=2000., mode='triangular',\n",
    "                 gamma=1., scale_fn=None, scale_mode='cycle'):\n",
    "        super(CyclicLR, self).__init__()\n",
    "\n",
    "        self.base_lr = base_lr\n",
    "        self.max_lr = max_lr\n",
    "        self.step_size = step_size\n",
    "        self.mode = mode\n",
    "        self.gamma = gamma\n",
    "        if scale_fn == None:\n",
    "            if self.mode == 'triangular':\n",
    "                self.scale_fn = lambda x: 1.\n",
    "                self.scale_mode = 'cycle'\n",
    "            elif self.mode == 'triangular2':\n",
    "                self.scale_fn = lambda x: 1/(2.**(x-1))\n",
    "                self.scale_mode = 'cycle'\n",
    "            elif self.mode == 'exp_range':\n",
    "                self.scale_fn = lambda x: gamma**(x)\n",
    "                self.scale_mode = 'iterations'\n",
    "        else:\n",
    "            self.scale_fn = scale_fn\n",
    "            self.scale_mode = scale_mode\n",
    "        self.clr_iterations = 0.\n",
    "        self.trn_iterations = 0.\n",
    "        self.history = {}\n",
    "\n",
    "        self._reset()\n",
    "\n",
    "    def _reset(self, new_base_lr=None, new_max_lr=None,\n",
    "               new_step_size=None):\n",
    "        \"\"\"Resets cycle iterations.\n",
    "        Optional boundary/step size adjustment.\n",
    "        \"\"\"\n",
    "        if new_base_lr != None:\n",
    "            self.base_lr = new_base_lr\n",
    "        if new_max_lr != None:\n",
    "            self.max_lr = new_max_lr\n",
    "        if new_step_size != None:\n",
    "            self.step_size = new_step_size\n",
    "        self.clr_iterations = 0.\n",
    "        \n",
    "    def clr(self):\n",
    "        cycle = np.floor(1+self.clr_iterations/(2*self.step_size))\n",
    "        x = np.abs(self.clr_iterations/self.step_size - 2*cycle + 1)\n",
    "        if self.scale_mode == 'cycle':\n",
    "            return self.base_lr + (self.max_lr-self.base_lr)*np.maximum(0, (1-x))*self.scale_fn(cycle)\n",
    "        else:\n",
    "            return self.base_lr + (self.max_lr-self.base_lr)*np.maximum(0, (1-x))*self.scale_fn(self.clr_iterations)\n",
    "        \n",
    "    def on_train_begin(self, logs={}):\n",
    "        logs = logs or {}\n",
    "\n",
    "        if self.clr_iterations == 0:\n",
    "            K.set_value(self.model.optimizer.lr, self.base_lr)\n",
    "        else:\n",
    "            K.set_value(self.model.optimizer.lr, self.clr())        \n",
    "            \n",
    "    def on_batch_end(self, epoch, logs=None):\n",
    "        \n",
    "        logs = logs or {}\n",
    "        self.trn_iterations += 1\n",
    "        self.clr_iterations += 1\n",
    "\n",
    "        self.history.setdefault('lr', []).append(K.get_value(self.model.optimizer.lr))\n",
    "        self.history.setdefault('iterations', []).append(self.trn_iterations)\n",
    "\n",
    "        for k, v in logs.items():\n",
    "            self.history.setdefault(k, []).append(v)\n",
    "        \n",
    "        K.set_value(self.model.optimizer.lr, self.clr())"
   ]
  },
  {
   "cell_type": "code",
   "execution_count": 4,
   "metadata": {},
   "outputs": [
    {
     "name": "stderr",
     "output_type": "stream",
     "text": [
      "c:\\users\\deepak\\miniconda3\\envs\\dev\\lib\\site-packages\\ipykernel_launcher.py:1: FutureWarning: Passing a negative integer is deprecated in version 1.0 and will not be supported in future version. Instead, use None to not limit the column width.\n",
      "  \"\"\"Entry point for launching an IPython kernel.\n"
     ]
    }
   ],
   "source": [
    "pd.set_option('display.max_colwidth', -1)\n",
    "np.random.seed(54321)"
   ]
  },
  {
   "cell_type": "code",
   "execution_count": 5,
   "metadata": {},
   "outputs": [
    {
     "name": "stdout",
     "output_type": "stream",
     "text": [
      "Tue Apr 28 11:16:35 2020\n"
     ]
    }
   ],
   "source": [
    "print(ctime(time()))"
   ]
  },
  {
   "cell_type": "markdown",
   "metadata": {},
   "source": [
    "## Import Data"
   ]
  },
  {
   "cell_type": "code",
   "execution_count": 6,
   "metadata": {},
   "outputs": [
    {
     "name": "stdout",
     "output_type": "stream",
     "text": [
      "                    0  1\n",
      "textID         object  0\n",
      "text           object  1\n",
      "selected_text  object  1\n",
      "sentiment      object  0\n",
      "(27481, 4)\n",
      "{'textID': 27481, 'text': 27480, 'selected_text': 22463, 'sentiment': 3}\n",
      "            textID  \\\n",
      "count   27481        \n",
      "unique  27481        \n",
      "top     3d88d89c9d   \n",
      "freq    1            \n",
      "\n",
      "                                                                                                                            text  \\\n",
      "count   27480                                                                                                                      \n",
      "unique  27480                                                                                                                      \n",
      "top     Hell of a lot to do. But they say you shouldn`t complain theese days. Who are 'they' and can 'they' help me in that case   \n",
      "freq    1                                                                                                                          \n",
      "\n",
      "       selected_text sentiment  \n",
      "count   27480         27481     \n",
      "unique  22463         3         \n",
      "top     good          neutral   \n",
      "freq    199           11118     \n"
     ]
    },
    {
     "data": {
      "text/html": [
       "<div>\n",
       "<style scoped>\n",
       "    .dataframe tbody tr th:only-of-type {\n",
       "        vertical-align: middle;\n",
       "    }\n",
       "\n",
       "    .dataframe tbody tr th {\n",
       "        vertical-align: top;\n",
       "    }\n",
       "\n",
       "    .dataframe thead th {\n",
       "        text-align: right;\n",
       "    }\n",
       "</style>\n",
       "<table border=\"1\" class=\"dataframe\">\n",
       "  <thead>\n",
       "    <tr style=\"text-align: right;\">\n",
       "      <th></th>\n",
       "      <th>textID</th>\n",
       "      <th>text</th>\n",
       "      <th>selected_text</th>\n",
       "      <th>sentiment</th>\n",
       "    </tr>\n",
       "  </thead>\n",
       "  <tbody>\n",
       "    <tr>\n",
       "      <th>0</th>\n",
       "      <td>cb774db0d1</td>\n",
       "      <td>I`d have responded, if I were going</td>\n",
       "      <td>I`d have responded, if I were going</td>\n",
       "      <td>neutral</td>\n",
       "    </tr>\n",
       "    <tr>\n",
       "      <th>1</th>\n",
       "      <td>549e992a42</td>\n",
       "      <td>Sooo SAD I will miss you here in San Diego!!!</td>\n",
       "      <td>Sooo SAD</td>\n",
       "      <td>negative</td>\n",
       "    </tr>\n",
       "  </tbody>\n",
       "</table>\n",
       "</div>"
      ],
      "text/plain": [
       "       textID                                            text  \\\n",
       "0  cb774db0d1   I`d have responded, if I were going             \n",
       "1  549e992a42   Sooo SAD I will miss you here in San Diego!!!   \n",
       "\n",
       "                         selected_text sentiment  \n",
       "0  I`d have responded, if I were going  neutral   \n",
       "1  Sooo SAD                             negative  "
      ]
     },
     "execution_count": 6,
     "metadata": {},
     "output_type": "execute_result"
    }
   ],
   "source": [
    "df = pd.read_csv(\"../data/train.csv\",\n",
    "                 encoding=\"utf8\")\n",
    "\n",
    "print(pd.concat((df.dtypes, df.isna().sum()), axis=1))\n",
    "print(df.shape)\n",
    "\n",
    "# Counts of various columns\n",
    "print({i:df[i].nunique() for i in df.columns})\n",
    "print(df.describe()) #.astype(int)\n",
    "df.head(2)"
   ]
  },
  {
   "cell_type": "code",
   "execution_count": 7,
   "metadata": {},
   "outputs": [
    {
     "name": "stdout",
     "output_type": "stream",
     "text": [
      "                0  1\n",
      "textID     object  0\n",
      "text       object  0\n",
      "sentiment  object  0\n",
      "(3534, 3)\n",
      "{'textID': 3534, 'text': 3534, 'sentiment': 3}\n",
      "            textID  \\\n",
      "count   3534         \n",
      "unique  3534         \n",
      "top     0437867c21   \n",
      "freq    1            \n",
      "\n",
      "                                                                                               text  \\\n",
      "count   3534                                                                                          \n",
      "unique  3534                                                                                          \n",
      "top      hi ya demi! im glad ur back   http://twitpic.com/4vuuy i personally love the picture! haha   \n",
      "freq    1                                                                                             \n",
      "\n",
      "       sentiment  \n",
      "count   3534      \n",
      "unique  3         \n",
      "top     neutral   \n",
      "freq    1430      \n"
     ]
    },
    {
     "data": {
      "text/html": [
       "<div>\n",
       "<style scoped>\n",
       "    .dataframe tbody tr th:only-of-type {\n",
       "        vertical-align: middle;\n",
       "    }\n",
       "\n",
       "    .dataframe tbody tr th {\n",
       "        vertical-align: top;\n",
       "    }\n",
       "\n",
       "    .dataframe thead th {\n",
       "        text-align: right;\n",
       "    }\n",
       "</style>\n",
       "<table border=\"1\" class=\"dataframe\">\n",
       "  <thead>\n",
       "    <tr style=\"text-align: right;\">\n",
       "      <th></th>\n",
       "      <th>textID</th>\n",
       "      <th>text</th>\n",
       "      <th>sentiment</th>\n",
       "    </tr>\n",
       "  </thead>\n",
       "  <tbody>\n",
       "    <tr>\n",
       "      <th>0</th>\n",
       "      <td>f87dea47db</td>\n",
       "      <td>Last session of the day  http://twitpic.com/67ezh</td>\n",
       "      <td>neutral</td>\n",
       "    </tr>\n",
       "    <tr>\n",
       "      <th>1</th>\n",
       "      <td>96d74cb729</td>\n",
       "      <td>Shanghai is also really exciting (precisely -- skyscrapers galore). Good tweeps in China:  (SH)  (BJ).</td>\n",
       "      <td>positive</td>\n",
       "    </tr>\n",
       "  </tbody>\n",
       "</table>\n",
       "</div>"
      ],
      "text/plain": [
       "       textID  \\\n",
       "0  f87dea47db   \n",
       "1  96d74cb729   \n",
       "\n",
       "                                                                                                      text  \\\n",
       "0  Last session of the day  http://twitpic.com/67ezh                                                         \n",
       "1   Shanghai is also really exciting (precisely -- skyscrapers galore). Good tweeps in China:  (SH)  (BJ).   \n",
       "\n",
       "  sentiment  \n",
       "0  neutral   \n",
       "1  positive  "
      ]
     },
     "execution_count": 7,
     "metadata": {},
     "output_type": "execute_result"
    }
   ],
   "source": [
    "test_df = pd.read_csv(\"../data/test.csv\")\n",
    "print(pd.concat((test_df.dtypes, test_df.isna().sum()), axis=1))\n",
    "print(test_df.shape)\n",
    "\n",
    "# Counts of various columns\n",
    "print({i:test_df[i].nunique() for i in test_df.columns})\n",
    "print(test_df.describe())\n",
    "test_df.head(2)"
   ]
  },
  {
   "cell_type": "code",
   "execution_count": 8,
   "metadata": {},
   "outputs": [
    {
     "data": {
      "text/html": [
       "<div>\n",
       "<style scoped>\n",
       "    .dataframe tbody tr th:only-of-type {\n",
       "        vertical-align: middle;\n",
       "    }\n",
       "\n",
       "    .dataframe tbody tr th {\n",
       "        vertical-align: top;\n",
       "    }\n",
       "\n",
       "    .dataframe thead th {\n",
       "        text-align: right;\n",
       "    }\n",
       "</style>\n",
       "<table border=\"1\" class=\"dataframe\">\n",
       "  <thead>\n",
       "    <tr style=\"text-align: right;\">\n",
       "      <th></th>\n",
       "      <th>textID</th>\n",
       "      <th>text</th>\n",
       "      <th>selected_text</th>\n",
       "      <th>sentiment</th>\n",
       "    </tr>\n",
       "  </thead>\n",
       "  <tbody>\n",
       "    <tr>\n",
       "      <th>44</th>\n",
       "      <td>c77717b103</td>\n",
       "      <td>I love to! But I`m only available from 5pm.  and where dear? Would love to help  convert her vids.ï¿½</td>\n",
       "      <td>I love to!</td>\n",
       "      <td>positive</td>\n",
       "    </tr>\n",
       "    <tr>\n",
       "      <th>192</th>\n",
       "      <td>28dbada620</td>\n",
       "      <td>*phew*  Will make a note in case anyone else runs into the same issueï¿½</td>\n",
       "      <td>*phew*  Will make a note in case anyone else runs into the same issueï¿½</td>\n",
       "      <td>neutral</td>\n",
       "    </tr>\n",
       "  </tbody>\n",
       "</table>\n",
       "</div>"
      ],
      "text/plain": [
       "         textID  \\\n",
       "44   c77717b103   \n",
       "192  28dbada620   \n",
       "\n",
       "                                                                                                       text  \\\n",
       "44    I love to! But I`m only available from 5pm.  and where dear? Would love to help  convert her vids.ï¿½   \n",
       "192   *phew*  Will make a note in case anyone else runs into the same issueï¿½                                \n",
       "\n",
       "                                                                selected_text  \\\n",
       "44   I love to!                                                                 \n",
       "192  *phew*  Will make a note in case anyone else runs into the same issueï¿½   \n",
       "\n",
       "    sentiment  \n",
       "44   positive  \n",
       "192  neutral   "
      ]
     },
     "execution_count": 8,
     "metadata": {},
     "output_type": "execute_result"
    }
   ],
   "source": [
    "df.loc[df['text'].astype('str').apply(lambda x : len(re.findall(pattern=\"ï¿½\", string=x))>0)].head(2)"
   ]
  },
  {
   "cell_type": "code",
   "execution_count": 9,
   "metadata": {},
   "outputs": [
    {
     "data": {
      "text/html": [
       "<div>\n",
       "<style scoped>\n",
       "    .dataframe tbody tr th:only-of-type {\n",
       "        vertical-align: middle;\n",
       "    }\n",
       "\n",
       "    .dataframe tbody tr th {\n",
       "        vertical-align: top;\n",
       "    }\n",
       "\n",
       "    .dataframe thead th {\n",
       "        text-align: right;\n",
       "    }\n",
       "</style>\n",
       "<table border=\"1\" class=\"dataframe\">\n",
       "  <thead>\n",
       "    <tr style=\"text-align: right;\">\n",
       "      <th></th>\n",
       "      <th>textID</th>\n",
       "      <th>text</th>\n",
       "      <th>sentiment</th>\n",
       "    </tr>\n",
       "  </thead>\n",
       "  <tbody>\n",
       "    <tr>\n",
       "      <th>145</th>\n",
       "      <td>7223fdccc2</td>\n",
       "      <td>tikcets are only ï¿½91...each...BUT I SO WANT TO GO</td>\n",
       "      <td>positive</td>\n",
       "    </tr>\n",
       "    <tr>\n",
       "      <th>618</th>\n",
       "      <td>43ad351369</td>\n",
       "      <td>AHHH - Whatchu talkinï¿½ baby?  HAHAHA I canï¿½t believe youu:O heh, actually I can. Life is worth taking risks... http://tumblr.com/xs81qy54s</td>\n",
       "      <td>positive</td>\n",
       "    </tr>\n",
       "  </tbody>\n",
       "</table>\n",
       "</div>"
      ],
      "text/plain": [
       "         textID  \\\n",
       "145  7223fdccc2   \n",
       "618  43ad351369   \n",
       "\n",
       "                                                                                                                                               text  \\\n",
       "145  tikcets are only ï¿½91...each...BUT I SO WANT TO GO                                                                                              \n",
       "618  AHHH - Whatchu talkinï¿½ baby?  HAHAHA I canï¿½t believe youu:O heh, actually I can. Life is worth taking risks... http://tumblr.com/xs81qy54s   \n",
       "\n",
       "    sentiment  \n",
       "145  positive  \n",
       "618  positive  "
      ]
     },
     "execution_count": 9,
     "metadata": {},
     "output_type": "execute_result"
    }
   ],
   "source": [
    "test_df.loc[test_df['text'].astype('str').apply(lambda x : len(re.findall(pattern=\"ï¿½\", string=x))>0)].head(2)"
   ]
  },
  {
   "cell_type": "markdown",
   "metadata": {},
   "source": [
    "## Exploration"
   ]
  },
  {
   "cell_type": "markdown",
   "metadata": {},
   "source": [
    "#### Sentiment count in training"
   ]
  },
  {
   "cell_type": "code",
   "execution_count": 10,
   "metadata": {},
   "outputs": [
    {
     "data": {
      "text/html": [
       "<div>\n",
       "<style scoped>\n",
       "    .dataframe tbody tr th:only-of-type {\n",
       "        vertical-align: middle;\n",
       "    }\n",
       "\n",
       "    .dataframe tbody tr th {\n",
       "        vertical-align: top;\n",
       "    }\n",
       "\n",
       "    .dataframe thead th {\n",
       "        text-align: right;\n",
       "    }\n",
       "</style>\n",
       "<table border=\"1\" class=\"dataframe\">\n",
       "  <thead>\n",
       "    <tr style=\"text-align: right;\">\n",
       "      <th></th>\n",
       "      <th>text</th>\n",
       "      <th>text</th>\n",
       "    </tr>\n",
       "    <tr>\n",
       "      <th>sentiment</th>\n",
       "      <th></th>\n",
       "      <th></th>\n",
       "    </tr>\n",
       "  </thead>\n",
       "  <tbody>\n",
       "    <tr>\n",
       "      <th>negative</th>\n",
       "      <td>7781</td>\n",
       "      <td>1001</td>\n",
       "    </tr>\n",
       "    <tr>\n",
       "      <th>neutral</th>\n",
       "      <td>11117</td>\n",
       "      <td>1430</td>\n",
       "    </tr>\n",
       "    <tr>\n",
       "      <th>positive</th>\n",
       "      <td>8582</td>\n",
       "      <td>1103</td>\n",
       "    </tr>\n",
       "  </tbody>\n",
       "</table>\n",
       "</div>"
      ],
      "text/plain": [
       "            text  text\n",
       "sentiment             \n",
       "negative   7781   1001\n",
       "neutral    11117  1430\n",
       "positive   8582   1103"
      ]
     },
     "execution_count": 10,
     "metadata": {},
     "output_type": "execute_result"
    }
   ],
   "source": [
    "pd.concat([df.groupby(\"sentiment\")[[\"text\"]].count(), test_df.groupby(\"sentiment\")[[\"text\"]].count()], axis=1)"
   ]
  },
  {
   "cell_type": "markdown",
   "metadata": {},
   "source": [
    "## Preprocessing"
   ]
  },
  {
   "cell_type": "markdown",
   "metadata": {},
   "source": [
    "#### Cleaning"
   ]
  },
  {
   "cell_type": "code",
   "execution_count": 11,
   "metadata": {},
   "outputs": [],
   "source": [
    "# For traceability\n",
    "df[\"original_index\"] = df.index\n",
    "test_df[\"original_index\"] = test_df.index"
   ]
  },
  {
   "cell_type": "code",
   "execution_count": 12,
   "metadata": {},
   "outputs": [],
   "source": [
    "anomalous_idxs = [18, 27, 32, 39, 48, 49, 64, 66, 84, 92, 102, 116, 129, 132, 134, 149, 160, 166, 168, 189, 196, 197, 210, 223, 247, 251, 260, 285, 295, 296, 297, 309, 349, 362, 366, 382, 396, 398, 406, 410, 425, 458, 460, 482, 492, 500, 504, 517, 533, 537, 543, 569, 573, 581, 604, 605, 608, 634, 636, 637, 639, 642, 665, 670, 674, 678, 685, 702, 707, 709, 710, 727, 737, 746, 751, 757, 768, 778, 787, 794, 804, 809, 853, 854, 856, 863, 871, 872, 912, 931, 937, 942, 950, 956, 957, 963, 992, 993, 999, 1001, 1011, 1012, 1036, 1039, 1057, 1062, 1076, 1077, 1083, 1096, 1105, 1116, 1117, 1122, 1134, 1137, 1150, 1159, 1199, 1200, 1209, 1217, 1264, 1271, 1280, 1283, 1298, 1300, 1303, 1319, 1327, 1342, 1360, 1363, 1365, 1372, 1374, 1376, 1382, 1393, 1416, 1417, 1420, 1447, 1454, 1468, 1472, 1513, 1515, 1518, 1531, 1548, 1558, 1567, 1580, 1588, 1605, 1623, 1648, 1649, 1657, 1659, 1661, 1665, 1672, 1674, 1678, 1683, 1693, 1696, 1713, 1723, 1728, 1739, 1747, 1754, 1798, 1806, 1808, 1814, 1822, 1828, 1830, 1835, 1850, 1857, 1860, 1866, 1888, 1901, 1902, 1929, 1938, 1940, 1987, 1994, 2003, 2004, 2008, 2011, 2023, 2054, 2056, 2065, 2068, 2083, 2086, 2094, 2106, 2113, 2124, 2125, 2136, 2139, 2145, 2168, 2180, 2181, 2187, 2213, 2225, 2227, 2230, 2239, 2273, 2279, 2286, 2288, 2298, 2323, 2324, 2335, 2343, 2359, 2364, 2371, 2385, 2388, 2392, 2398, 2401, 2404, 2410, 2415, 2421, 2430, 2438, 2439, 2440, 2444, 2445, 2448, 2470, 2478, 2489, 2499, 2505, 2515, 2520, 2559, 2574, 2576, 2589, 2598, 2600, 2640, 2643, 2650, 2671, 2679, 2696, 2699, 2706, 2716, 2718, 2731, 2743, 2749, 2750, 2785, 2787, 2789, 2805, 2809, 2825, 2838, 2856, 2888, 2898, 2903, 2923, 2925, 2931, 2933, 2942, 2957, 2961, 2986, 2995, 3034, 3068, 3075, 3077, 3080, 3088, 3089, 3096, 3097, 3101, 3121, 3147, 3160, 3161, 3176, 3182, 3187, 3211, 3225, 3234, 3257, 3263, 3267, 3281, 3290, 3295, 3317, 3319, 3325, 3333, 3359, 3364, 3369, 3374, 3390, 3399, 3400, 3411, 3424, 3473, 3475, 3476, 3479, 3492, 3499, 3504, 3509, 3517, 3519, 3532, 3553, 3578, 3588, 3590, 3593, 3598, 3605, 3606, 3607, 3622, 3634, 3669, 3672, 3678, 3682, 3685, 3694, 3708, 3720, 3729, 3750, 3755, 3784, 3794, 3798, 3801, 3806, 3807, 3813, 3826, 3834, 3872, 3886, 3895, 3903, 3925, 3937, 3946, 3962, 3969, 3998, 4031, 4047, 4053, 4074, 4091, 4093, 4100, 4108, 4113, 4119, 4143, 4148, 4163, 4164, 4183, 4196, 4254, 4260, 4265, 4307, 4308, 4309, 4312, 4318, 4325, 4327, 4328, 4329, 4344, 4347, 4369, 4371, 4377, 4384, 4402, 4404, 4405, 4407, 4412, 4421, 4422, 4437, 4455, 4457, 4471, 4473, 4479, 4483, 4486, 4514, 4532, 4537, 4542, 4543, 4545, 4550, 4554, 4563, 4575, 4576, 4591, 4595, 4631, 4636, 4637, 4639, 4654, 4655, 4704, 4706, 4714, 4718, 4724, 4729, 4735, 4747, 4749, 4750, 4764, 4800, 4814, 4841, 4842, 4844, 4864, 4866, 4869, 4875, 4891, 4908, 4918, 4924, 4928, 4933, 4943, 4946, 4947, 4956, 4968, 4980, 4994, 5009, 5011, 5038, 5056, 5079, 5083, 5101, 5133, 5167, 5173, 5174, 5188, 5189, 5196, 5197, 5213, 5218, 5229, 5241, 5245, 5258, 5279, 5290, 5294, 5297, 5308, 5317, 5331, 5342, 5343, 5353, 5355, 5356, 5358, 5379, 5385, 5386, 5399, 5418, 5433, 5436, 5450, 5456, 5466, 5489, 5504, 5509, 5510, 5530, 5542, 5560, 5583, 5603, 5607, 5618, 5620, 5624, 5626, 5678, 5697, 5712, 5725, 5751, 5757, 5775, 5785, 5799, 5822, 5832, 5836, 5844, 5895, 5902, 5904, 5913, 5918, 5938, 5939, 5961, 5984, 5990, 6025, 6031, 6033, 6060, 6077, 6084, 6090, 6113, 6131, 6134, 6151, 6152, 6176, 6203, 6229, 6230, 6248, 6261, 6277, 6289, 6296, 6304, 6308, 6317, 6319, 6321, 6335, 6338, 6343, 6353, 6356, 6360, 6377, 6382, 6395, 6404, 6425, 6433, 6468, 6474, 6475, 6476, 6477, 6510, 6528, 6540, 6574, 6580, 6582, 6593, 6609, 6627, 6628, 6633, 6635, 6650, 6656, 6657, 6670, 6673, 6676, 6677, 6679, 6686, 6702, 6724, 6740, 6745, 6759, 6801, 6804, 6830, 6833, 6834, 6842, 6859, 6871, 6875, 6878, 6880, 6885, 6896, 6934, 6939, 6948, 6950, 6958, 6970, 6979, 6987, 7010, 7017, 7024, 7040, 7099, 7107, 7112, 7136, 7147, 7149, 7158, 7184, 7225, 7227, 7251, 7274, 7288, 7305, 7306, 7308, 7331, 7344, 7355, 7373, 7407, 7408, 7409, 7410, 7423, 7436, 7438, 7442, 7444, 7450, 7469, 7473, 7479, 7487, 7492, 7506, 7513, 7521, 7528, 7530, 7546, 7567, 7581, 7582, 7597, 7599, 7602, 7632, 7635, 7636, 7642, 7662, 7663, 7701, 7752, 7758, 7765, 7769, 7778, 7780, 7788, 7801, 7816, 7818, 7831, 7836, 7837, 7849, 7893, 7895, 7896, 7922, 7927, 7945, 7948, 7968, 7997, 8003, 8005, 8010, 8030, 8049, 8051, 8052, 8059, 8060, 8085, 8094, 8142, 8143, 8151, 8153, 8161, 8169, 8170, 8196, 8208, 8212, 8215, 8224, 8235, 8241, 8249, 8250, 8276, 8282, 8285, 8286, 8288, 8289, 8299, 8314, 8338, 8343, 8345, 8349, 8373, 8379, 8390, 8397, 8399, 8407, 8427, 8428, 8432, 8439, 8442, 8444, 8484, 8493, 8497, 8500, 8507, 8510, 8534, 8546, 8559, 8569, 8579, 8588, 8594, 8604, 8617, 8620, 8624, 8631, 8638, 8661, 8671, 8674, 8687, 8691, 8696, 8706, 8720, 8729, 8749, 8756, 8758, 8769, 8774, 8780, 8800, 8803, 8809, 8815, 8827, 8830, 8875, 8902, 8906, 8910, 8917, 8919, 8922, 8951, 8954, 8968, 8985, 8986, 8991, 8999, 9014, 9034, 9050, 9057, 9063, 9070, 9088, 9098, 9112, 9113, 9122, 9127, 9140, 9155, 9157, 9169, 9179, 9190, 9216, 9223, 9226, 9264, 9272, 9281, 9297, 9300, 9303, 9322, 9354, 9361, 9374, 9377, 9381, 9385, 9400, 9403, 9419, 9422, 9425, 9428, 9436, 9442, 9449, 9454, 9456, 9458, 9470, 9482, 9496, 9500, 9535, 9539, 9541, 9554, 9556, 9560, 9565, 9574, 9594, 9605, 9610, 9631, 9632, 9660, 9689, 9691, 9696, 9708, 9710, 9712, 9725, 9726, 9734, 9742, 9753, 9770, 9789, 9799, 9801, 9812, 9817, 9836, 9839, 9850, 9852, 9881, 9882, 9891, 9906, 9912, 9920, 9922, 9928, 9976, 9980, 9984, 10002, 10004, 10007, 10029, 10039, 10042, 10050, 10052, 10057, 10067, 10070, 10092, 10093, 10123, 10131, 10138, 10145, 10151, 10164, 10167, 10170, 10179, 10184, 10185, 10190, 10197, 10200, 10211, 10218, 10219, 10222, 10228, 10245, 10247, 10255, 10259, 10276, 10293, 10298, 10299, 10306, 10319, 10327, 10342, 10348, 10377, 10379, 10449, 10465, 10469, 10492, 10504, 10505, 10508, 10521, 10528, 10529, 10530, 10570, 10573, 10577, 10578, 10597, 10611, 10639, 10651, 10666, 10672, 10675, 10690, 10706, 10711, 10738, 10742, 10747, 10749, 10779, 10782, 10783, 10795, 10813, 10849, 10852, 10853, 10884, 10885, 10888, 10892, 10901, 10914, 10918, 10919, 10933, 10935, 10956, 10966, 10968, 10970, 10981, 10986, 10996, 10999, 11005, 11032, 11038, 11051, 11055, 11060, 11067, 11097, 11102, 11155, 11157, 11159, 11162, 11167, 11176, 11187, 11215, 11222, 11228, 11230, 11257, 11263, 11265, 11274, 11286, 11289, 11297, 11300, 11308, 11323, 11337, 11339, 11341, 11347, 11349, 11353, 11371, 11381, 11386, 11426, 11431, 11448, 11449, 11474, 11480, 11500, 11507, 11553, 11562, 11582, 11588, 11594, 11612, 11616, 11618, 11636, 11643, 11650, 11658, 11666, 11679, 11683, 11693, 11695, 11698, 11699, 11706, 11716, 11723, 11730, 11732, 11741, 11745, 11780, 11794, 11798, 11808, 11812, 11828, 11829, 11837, 11840, 11841, 11844, 11849, 11853, 11854, 11855, 11861, 11862, 11872, 11875, 11878, 11886, 11890, 11899, 11905, 11912, 11938, 11963, 11967, 11973, 11980, 11985, 11999, 12026, 12027, 12029, 12039, 12054, 12067, 12115, 12124, 12134, 12136, 12138, 12150, 12187, 12205, 12206, 12224, 12242, 12258, 12269, 12277, 12283, 12295, 12305, 12314, 12322, 12331, 12333, 12334, 12350, 12355, 12356, 12360, 12370, 12372, 12389, 12395, 12396, 12397, 12405, 12410, 12416, 12429, 12439, 12440, 12442, 12446, 12474, 12482, 12486, 12507, 12516, 12521, 12522, 12526, 12527, 12537, 12550, 12563, 12576, 12585, 12586, 12587, 12598, 12606, 12630, 12631, 12635, 12639, 12650, 12657, 12662, 12669, 12687, 12703, 12718, 12724, 12732, 12736, 12745, 12767, 12787, 12803, 12804, 12808, 12818, 12830, 12843, 12855, 12856, 12870, 12884, 12903, 12914, 12920, 12923, 12924, 12927, 12936, 12972, 12977, 12998, 13003, 13004, 13009, 13044, 13068, 13069, 13074, 13080, 13095, 13098, 13124, 13130, 13153, 13154, 13176, 13219, 13222, 13227, 13237, 13267, 13274, 13293, 13301, 13304, 13307, 13330, 13333, 13354, 13365, 13373, 13379, 13381, 13389, 13397, 13422, 13430, 13433, 13445, 13466, 13473, 13476, 13482, 13490, 13493, 13528, 13529, 13535, 13543, 13558, 13559, 13586, 13637, 13643, 13646, 13665, 13674, 13678, 13679, 13704, 13707, 13710, 13718, 13727, 13733, 13747, 13762, 13772, 13785, 13796, 13803, 13812, 13814, 13817, 13827, 13844, 13846, 13847, 13848, 13854, 13855, 13861, 13864, 13873, 13899, 13907, 13936, 13939, 13946, 13949, 13954, 13964, 13965, 13974, 13975, 13978, 13980, 14002, 14006, 14007, 14030, 14043, 14044, 14057, 14058, 14060, 14073, 14091, 14109, 14110, 14112, 14117, 14131, 14132, 14159, 14172, 14173, 14176, 14184, 14194, 14197, 14200, 14204, 14207, 14213, 14230, 14257, 14273, 14275, 14287, 14299, 14301, 14307, 14308, 14347, 14362, 14365, 14381, 14386, 14400, 14416, 14428, 14436, 14446, 14457, 14458, 14462, 14487, 14499, 14509, 14532, 14548, 14551, 14571, 14596, 14598, 14611, 14621, 14639, 14640, 14648, 14662, 14669, 14671, 14676, 14680, 14687, 14689, 14691, 14718, 14731, 14747, 14779, 14787, 14825, 14839, 14844, 14847, 14855, 14870, 14880, 14891, 14908, 14946, 14959, 14960, 14967, 14971, 14986, 15007, 15010, 15016, 15044, 15049, 15055, 15056, 15112, 15131, 15158, 15165, 15174, 15177, 15196, 15203, 15206, 15207, 15213, 15217, 15233, 15236, 15253, 15259, 15286, 15296, 15307, 15308, 15321, 15323, 15327, 15339, 15363, 15372, 15374, 15379, 15380, 15383, 15385, 15392, 15410, 15449, 15452, 15462, 15464, 15465, 15477, 15483, 15503, 15505, 15528, 15532, 15548, 15562, 15566, 15571, 15605, 15610, 15622, 15651, 15660, 15666, 15674, 15709, 15721, 15731, 15735, 15736, 15741, 15767, 15774, 15785, 15792, 15793, 15811, 15851, 15879, 15883, 15884, 15912, 15926, 15927, 15931, 15940, 15959, 15965, 15985, 15998, 16020, 16027, 16031, 16032, 16044, 16070, 16100, 16117, 16129, 16136, 16137, 16140, 16149, 16152, 16175, 16186, 16201, 16241, 16261, 16269, 16272, 16279, 16290, 16308, 16319, 16324, 16325, 16327, 16338, 16341, 16345, 16352, 16354, 16371, 16372, 16385, 16391, 16416, 16423, 16448, 16455, 16468, 16470, 16477, 16481, 16484, 16491, 16493, 16500, 16509, 16510, 16516, 16541, 16559, 16577, 16589, 16632, 16638, 16642, 16643, 16649, 16650, 16654, 16665, 16677, 16684, 16704, 16720, 16726, 16734, 16765, 16774, 16775, 16777, 16780, 16797, 16798, 16799, 16803, 16807, 16809, 16830, 16832, 16861, 16863, 16868, 16876, 16889, 16890, 16902, 16915, 16927, 16939, 16949, 16962, 16968, 17002, 17010, 17013, 17021, 17023, 17029, 17062, 17066, 17084, 17093, 17094, 17102, 17152, 17160, 17167, 17173, 17183, 17221, 17239, 17250, 17267, 17277, 17278, 17282, 17296, 17307, 17315, 17333, 17336, 17344, 17346, 17348, 17354, 17365, 17374, 17385, 17387, 17397, 17401, 17404, 17412, 17417, 17432, 17436, 17444, 17452, 17467, 17469, 17501, 17502, 17513, 17530, 17531, 17547, 17550, 17555, 17573, 17577, 17578, 17586, 17600, 17602, 17611, 17627, 17640, 17645, 17648, 17649, 17652, 17667, 17676, 17682, 17721, 17724, 17729, 17731, 17751, 17754, 17762, 17770, 17772, 17781, 17802, 17820, 17823, 17833, 17848, 17857, 17858, 17865, 17867, 17887, 17893, 17909, 17924, 17926, 17945, 17971, 17977, 17986, 17990, 18003, 18011, 18042, 18046, 18052, 18077, 18086, 18091, 18099, 18103, 18123, 18128, 18131, 18142, 18153, 18165, 18167, 18173, 18181, 18206, 18226, 18252, 18263, 18276, 18277, 18284, 18314, 18319, 18327, 18330, 18342, 18352, 18355, 18362, 18364, 18375, 18383, 18398, 18403, 18432, 18447, 18453, 18465, 18467, 18485, 18486, 18492, 18505, 18508, 18510, 18515, 18536, 18540, 18548, 18550, 18557, 18563, 18570, 18574, 18576, 18616, 18622, 18627, 18639, 18649, 18655, 18673, 18681, 18712, 18745, 18746, 18758, 18773, 18778, 18782, 18826, 18832, 18834, 18842, 18851, 18853, 18858, 18862, 18867, 18872, 18877, 18908, 18910, 18912, 18913, 18919, 18925, 18929, 18930, 18933, 18936, 18944, 18974, 18975, 18997, 19009, 19011, 19014, 19016, 19028, 19057, 19098, 19106, 19114, 19130, 19133, 19147, 19157, 19162, 19166, 19173, 19179, 19198, 19213, 19225, 19230, 19239, 19241, 19266, 19274, 19279, 19283, 19285, 19316, 19327, 19335, 19352, 19358, 19362, 19366, 19377, 19379, 19405, 19423, 19428, 19431, 19437, 19444, 19456, 19469, 19475, 19476, 19481, 19486, 19492, 19506, 19507, 19536, 19537, 19562, 19586, 19589, 19622, 19634, 19651, 19663, 19679, 19685, 19690, 19697, 19707, 19712, 19714, 19715, 19717, 19724, 19734, 19744, 19754, 19769, 19779, 19792, 19807, 19830, 19850, 19863, 19875, 19903, 19904, 19908, 19963, 19985, 19988, 20003, 20012, 20014, 20018, 20040, 20042, 20054, 20078, 20079, 20083, 20087, 20089, 20114, 20121, 20122, 20138, 20155, 20162, 20186, 20199, 20216, 20222, 20234, 20238, 20254, 20285, 20299, 20302, 20305, 20337, 20345, 20364, 20365, 20374, 20382, 20394, 20403, 20440, 20450, 20451, 20476, 20506, 20508, 20516, 20527, 20536, 20540, 20541, 20542, 20557, 20566, 20584, 20608, 20611, 20613, 20618, 20627, 20644, 20656, 20663, 20674, 20682, 20690, 20699, 20707, 20711, 20737, 20751, 20765, 20771, 20774, 20778, 20779, 20789, 20795, 20798, 20834, 20851, 20865, 20867, 20869, 20872, 20883, 20892, 20894, 20895, 20896, 20901, 20919, 20924, 20933, 20937, 20938, 20946, 20947, 20955, 20957, 20958, 20965, 20966, 20970, 20974, 20991, 21001, 21013, 21018, 21020, 21025, 21114, 21142, 21205, 21210, 21227, 21230, 21236, 21253, 21262, 21294, 21300, 21316, 21331, 21339, 21349, 21356, 21365, 21369, 21376, 21399, 21410, 21413, 21418, 21420, 21435, 21447, 21452, 21455, 21468, 21470, 21474, 21486, 21495, 21501, 21517, 21530, 21539, 21546, 21547, 21553, 21556, 21564, 21569, 21579, 21593, 21595, 21599, 21603, 21632, 21643, 21690, 21713, 21726, 21732, 21737, 21738, 21744, 21755, 21773, 21782, 21800, 21807, 21829, 21839, 21848, 21876, 21893, 21923, 21926, 21931, 21958, 21967, 21970, 21973, 21982, 22002, 22029, 22031, 22035, 22044, 22051, 22068, 22073, 22099, 22117, 22121, 22126, 22145, 22146, 22149, 22161, 22166, 22170, 22177, 22205, 22210, 22231, 22233, 22234, 22244, 22246, 22251, 22272, 22280, 22299, 22317, 22321, 22327, 22350, 22355, 22363, 22365, 22378, 22383, 22387, 22391, 22393, 22395, 22403, 22406, 22418, 22423, 22428, 22437, 22444, 22451, 22453, 22460, 22480, 22491, 22510, 22530, 22536, 22554, 22557, 22561, 22562, 22564, 22571, 22588, 22593, 22606, 22607, 22610, 22611, 22642, 22666, 22717, 22729, 22738, 22744, 22745, 22763, 22768, 22769, 22774, 22782, 22789, 22796, 22800, 22836, 22841, 22843, 22858, 22864, 22886, 22889, 22897, 22925, 22928, 22938, 22944, 22945, 22948, 22950, 22956, 22983, 22986, 22988, 22993, 22994, 22997, 23028, 23030, 23039, 23047, 23081, 23091, 23097, 23105, 23108, 23111, 23113, 23133, 23145, 23150, 23161, 23172, 23176, 23199, 23200, 23202, 23204, 23205, 23211, 23212, 23226, 23227, 23231, 23236, 23239, 23263, 23265, 23266, 23269, 23290, 23311, 23315, 23320, 23323, 23340, 23352, 23361, 23372, 23375, 23376, 23381, 23386, 23390, 23401, 23415, 23418, 23428, 23429, 23453, 23467, 23479, 23505, 23508, 23527, 23528, 23535, 23537, 23541, 23553, 23555, 23557, 23559, 23563, 23566, 23581, 23585, 23596, 23598, 23604, 23605, 23617, 23630, 23643, 23658, 23669, 23673, 23680, 23683, 23690, 23691, 23701, 23707, 23714, 23720, 23725, 23733, 23746, 23750, 23751, 23769, 23774, 23784, 23809, 23818, 23831, 23839, 23842, 23857, 23924, 23930, 23944, 23945, 23947, 23959, 23971, 23975, 23987, 23989, 24002, 24003, 24009, 24019, 24026, 24039, 24041, 24046, 24062, 24071, 24077, 24079, 24087, 24096, 24119, 24121, 24137, 24150, 24169, 24181, 24194, 24195, 24199, 24200, 24203, 24210, 24223, 24258, 24272, 24274, 24291, 24293, 24300, 24305, 24318, 24339, 24378, 24380, 24383, 24392, 24402, 24442, 24468, 24476, 24480, 24488, 24490, 24495, 24502, 24504, 24505, 24516, 24562, 24572, 24594, 24595, 24597, 24600, 24606, 24609, 24622, 24623, 24629, 24631, 24632, 24633, 24657, 24662, 24664, 24666, 24682, 24697, 24709, 24753, 24758, 24766, 24833, 24840, 24851, 24858, 24869, 24886, 24909, 24915, 24916, 24929, 24945, 24951, 24966, 24972, 24980, 24996, 25012, 25017, 25043, 25059, 25067, 25104, 25121, 25125, 25127, 25133, 25150, 25191, 25210, 25224, 25228, 25240, 25243, 25255, 25264, 25267, 25272, 25282, 25284, 25290, 25292, 25293, 25334, 25338, 25350, 25365, 25368, 25380, 25389, 25391, 25400, 25413, 25422, 25440, 25444, 25446, 25456, 25460, 25472, 25486, 25495, 25499, 25509, 25512, 25528, 25530, 25532, 25547, 25559, 25591, 25593, 25597, 25601, 25614, 25616, 25638, 25672, 25691, 25698, 25712, 25713, 25721, 25722, 25725, 25732, 25753, 25760, 25775, 25794, 25813, 25819, 25828, 25833, 25901, 25908, 25947, 25983, 25987, 25989, 25996, 26008, 26017, 26025, 26030, 26039, 26047, 26054, 26058, 26077, 26088, 26092, 26112, 26183, 26185, 26190, 26201, 26204, 26237, 26239, 26241, 26248, 26251, 26252, 26256, 26263, 26268, 26282, 26314, 26331, 26346, 26358, 26360, 26364, 26377, 26428, 26434, 26460, 26481, 26485, 26497, 26532, 26533, 26538, 26561, 26567, 26585, 26588, 26595, 26596, 26618, 26625, 26633, 26643, 26651, 26677, 26687, 26715, 26721, 26732, 26733, 26746, 26760, 26762, 26769, 26779, 26781, 26822, 26828, 26830, 26870, 26882, 26883, 26889, 26892, 26894, 26914, 26927, 26932, 26944, 26953, 26957, 26963, 26967, 26973, 26976, 26978, 26985, 27030, 27038, 27044, 27048, 27052, 27067, 27111, 27115, 27121, 27142, 27144, 27153, 27167, 27205, 27209, 27217, 27218, 27229, 27233, 27240, 27250, 27280, 27302, 27332, 27339, 27349, 27362, 27376, 27386, 27396, 27401, 27413, 27426, 27429, 27456, 27470, 27474, 27476, 27477, 27480]"
   ]
  },
  {
   "cell_type": "code",
   "execution_count": 13,
   "metadata": {},
   "outputs": [
    {
     "name": "stdout",
     "output_type": "stream",
     "text": [
      "(27481, 5)\n",
      "(24864, 5)\n",
      "(24863, 5)\n"
     ]
    }
   ],
   "source": [
    "print(df.shape)\n",
    "df = df[(~df.index.isin(anomalous_idxs))]\n",
    "print(df.shape)\n",
    "df = df[(~df.text.isna())]\n",
    "df = df.reset_index(drop=True)\n",
    "df = df.copy()\n",
    "print(df.shape)"
   ]
  },
  {
   "cell_type": "code",
   "execution_count": 14,
   "metadata": {},
   "outputs": [],
   "source": [
    "df[\"sentiment_code\"] = df[\"sentiment\"].astype(\"category\")\n",
    "X_sentiments = df[\"sentiment_code\"].cat.codes.values\n",
    "\n",
    "test_df[\"sentiment_code\"] = test_df[\"sentiment\"].astype(\"category\")\n",
    "X_sentiments_test = test_df[\"sentiment_code\"].cat.codes.values"
   ]
  },
  {
   "cell_type": "code",
   "execution_count": 15,
   "metadata": {},
   "outputs": [],
   "source": [
    "df[\"text\"] = df[\"text\"].astype(str)\n",
    "df[\"selected_text\"] = df[\"selected_text\"].astype(str)\n",
    "test_df[\"text\"] = test_df[\"text\"].astype(str)"
   ]
  },
  {
   "cell_type": "code",
   "execution_count": 16,
   "metadata": {},
   "outputs": [],
   "source": [
    "df[\"text_mod\"] = \"xxxSTART \" + df.text + \" xxxSENTIMENT \" + df.sentiment + \" xxxEND\"\n",
    "test_df[\"text_mod\"] = \"xxxSTART \" + test_df.text + \" xxxSENTIMENT \" + test_df.sentiment + \" xxxEND\""
   ]
  },
  {
   "cell_type": "markdown",
   "metadata": {},
   "source": [
    "#### Random Shuffle and Train Val Indices"
   ]
  },
  {
   "cell_type": "code",
   "execution_count": 17,
   "metadata": {},
   "outputs": [
    {
     "name": "stdout",
     "output_type": "stream",
     "text": [
      "24863 19890 4973 24863\n"
     ]
    }
   ],
   "source": [
    "n_rows = df.shape[0]\n",
    "idx = [i for i in np.arange(n_rows)]\n",
    "np.random.shuffle(idx)\n",
    "train_idx, val_idx = idx[:round(TRAIN_SPLIT_RATIO * n_rows)], idx[round(TRAIN_SPLIT_RATIO * n_rows):]\n",
    "\n",
    "print(len(idx), len(train_idx), len(val_idx), len(train_idx) + len(val_idx))"
   ]
  },
  {
   "cell_type": "code",
   "execution_count": 18,
   "metadata": {},
   "outputs": [],
   "source": [
    "df[\"set_name\"] = np.where(df.index.isin(val_idx), \"val\", \"train\")"
   ]
  },
  {
   "cell_type": "code",
   "execution_count": 19,
   "metadata": {},
   "outputs": [
    {
     "data": {
      "text/plain": [
       "set_name\n",
       "train    19890\n",
       "val      4973 \n",
       "Name: textID, dtype: int64"
      ]
     },
     "execution_count": 19,
     "metadata": {},
     "output_type": "execute_result"
    }
   ],
   "source": [
    "df.groupby(\"set_name\")[\"textID\"].count()"
   ]
  },
  {
   "cell_type": "markdown",
   "metadata": {},
   "source": [
    "#### Tokenization"
   ]
  },
  {
   "cell_type": "code",
   "execution_count": 20,
   "metadata": {},
   "outputs": [],
   "source": [
    "if os.path.exists(\"../results/texts\"):\n",
    "    for i in os.listdir(\"../results/texts/\"):\n",
    "        os.remove(\"../results/texts/\"+i)\n",
    "else:\n",
    "    os.mkdir(\"../results/texts/\")"
   ]
  },
  {
   "cell_type": "code",
   "execution_count": 21,
   "metadata": {},
   "outputs": [],
   "source": [
    "for i, j in zip(df.textID.loc[df.set_name==\"train\"], df.text_mod.loc[df.set_name==\"train\"]):\n",
    "    with open(\"../results/texts/\"+i+\".txt\", \"w+\") as f:\n",
    "        f.write(j)"
   ]
  },
  {
   "cell_type": "code",
   "execution_count": 22,
   "metadata": {},
   "outputs": [],
   "source": [
    "from pathlib import Path\n",
    "paths = [str(x) for x in Path(\"../results/texts/\").glob(\"**/*.txt\")]"
   ]
  },
  {
   "cell_type": "code",
   "execution_count": 23,
   "metadata": {},
   "outputs": [],
   "source": [
    "tokenizer = tokenizers.ByteLevelBPETokenizer(add_prefix_space=True, lowercase=True)"
   ]
  },
  {
   "cell_type": "code",
   "execution_count": 24,
   "metadata": {},
   "outputs": [],
   "source": [
    "tokenizer.train(files=paths, min_frequency=2, show_progress=True, special_tokens=[\n",
    "    \"<s>\",\n",
    "    \"<pad>\",\n",
    "    \"</s>\",\n",
    "    \"<unk>\",\n",
    "    \"xxxSTART\",\n",
    "    \"xxxSENTIMENT\",\n",
    "    \"xxxEND\"\n",
    "])"
   ]
  },
  {
   "cell_type": "code",
   "execution_count": 25,
   "metadata": {},
   "outputs": [
    {
     "data": {
      "text/plain": [
       "['../results/tokenizers/V15-vocab.json',\n",
       " '../results/tokenizers/V15-merges.txt']"
      ]
     },
     "execution_count": 25,
     "metadata": {},
     "output_type": "execute_result"
    }
   ],
   "source": [
    "tokenizer.save(\"../results/tokenizers/\", MODEL_PREFIX)"
   ]
  },
  {
   "cell_type": "code",
   "execution_count": 26,
   "metadata": {},
   "outputs": [],
   "source": [
    "X_tokens = tokenizer.encode_batch(df.text_mod.tolist())\n",
    "Y_tokens = tokenizer.encode_batch(df.selected_text.tolist())\n",
    "X_tokens_test = tokenizer.encode_batch(test_df.text_mod.tolist())"
   ]
  },
  {
   "cell_type": "code",
   "execution_count": 27,
   "metadata": {},
   "outputs": [],
   "source": [
    "X = [i.ids for i in X_tokens]\n",
    "Y = [i.ids for i in Y_tokens]\n",
    "X_test = [i.ids for i in X_tokens_test]"
   ]
  },
  {
   "cell_type": "code",
   "execution_count": 28,
   "metadata": {},
   "outputs": [],
   "source": [
    "X_att = [i.attention_mask for i in X_tokens]\n",
    "Y_att = [i.attention_mask for i in Y_tokens]\n",
    "X_att_test = [i.attention_mask for i in X_tokens_test]"
   ]
  },
  {
   "cell_type": "code",
   "execution_count": 29,
   "metadata": {},
   "outputs": [
    {
     "name": "stdout",
     "output_type": "stream",
     "text": [
      "14517 108\n"
     ]
    }
   ],
   "source": [
    "max_len = max([len(i) for i in X])\n",
    "VOCAB_SIZE = tokenizer.get_vocab_size()\n",
    "print(VOCAB_SIZE, max_len)"
   ]
  },
  {
   "cell_type": "code",
   "execution_count": 30,
   "metadata": {},
   "outputs": [],
   "source": [
    "def get_extremities(l_string, s_string, print_it=False):\n",
    "    len_l = len(l_string)\n",
    "    len_s = len(s_string)\n",
    "    \n",
    "    for i in range(len_l - len_s + 1):\n",
    "        if (i + len_s) <= len_l:\n",
    "            substring = l_string[i:i+len_s]\n",
    "            if substring == s_string:\n",
    "                if print_it:\n",
    "                    print(l_string)\n",
    "                    print(substring)\n",
    "                    print(i, i+len_s, substring)\n",
    "                \n",
    "                start_vector, end_vector = [0] * len_l, [0] * len_l\n",
    "                start_vector[i], end_vector[i+len_s-1] = 1, 1\n",
    "                \n",
    "                return (start_vector, end_vector)"
   ]
  },
  {
   "cell_type": "code",
   "execution_count": 31,
   "metadata": {},
   "outputs": [
    {
     "name": "stdout",
     "output_type": "stream",
     "text": [
      "24863 \t: #Processed\n",
      "1 \t: # of Anomalies\n"
     ]
    }
   ],
   "source": [
    "Y_starts, Y_stops = [], []\n",
    "anomaly_idx, counter = [], 0\n",
    "for num, (i,j) in enumerate(zip(X_tokens, Y_tokens)):\n",
    "    x,y = i.ids, j.ids\n",
    "    #s,e = get_extremities(x, y)\n",
    "    try:\n",
    "        s,e = get_extremities(x, y)\n",
    "    except TypeError as t:\n",
    "        counter += 1\n",
    "        anomaly_idx.append(num)\n",
    "    Y_starts.append(s)\n",
    "    Y_stops.append(e)\n",
    "print(num + 1, \"\\t: #Processed\")\n",
    "\n",
    "print(counter,\"\\t: # of Anomalies\")"
   ]
  },
  {
   "cell_type": "code",
   "execution_count": 32,
   "metadata": {},
   "outputs": [
    {
     "name": "stdout",
     "output_type": "stream",
     "text": [
      "[5001]\n"
     ]
    },
    {
     "data": {
      "text/html": [
       "<div>\n",
       "<style scoped>\n",
       "    .dataframe tbody tr th:only-of-type {\n",
       "        vertical-align: middle;\n",
       "    }\n",
       "\n",
       "    .dataframe tbody tr th {\n",
       "        vertical-align: top;\n",
       "    }\n",
       "\n",
       "    .dataframe thead th {\n",
       "        text-align: right;\n",
       "    }\n",
       "</style>\n",
       "<table border=\"1\" class=\"dataframe\">\n",
       "  <thead>\n",
       "    <tr style=\"text-align: right;\">\n",
       "      <th></th>\n",
       "      <th>textID</th>\n",
       "      <th>text</th>\n",
       "      <th>selected_text</th>\n",
       "      <th>sentiment</th>\n",
       "      <th>original_index</th>\n",
       "      <th>sentiment_code</th>\n",
       "      <th>text_mod</th>\n",
       "      <th>set_name</th>\n",
       "    </tr>\n",
       "  </thead>\n",
       "  <tbody>\n",
       "    <tr>\n",
       "      <th>5001</th>\n",
       "      <td>b507cce1a4</td>\n",
       "      <td>I`m home, Yay! Unpacked everything, now just got to wash it all</td>\n",
       "      <td>Yay! Un</td>\n",
       "      <td>positive</td>\n",
       "      <td>5543</td>\n",
       "      <td>positive</td>\n",
       "      <td>xxxSTART I`m home, Yay! Unpacked everything, now just got to wash it all xxxSENTIMENT positive xxxEND</td>\n",
       "      <td>val</td>\n",
       "    </tr>\n",
       "  </tbody>\n",
       "</table>\n",
       "</div>"
      ],
      "text/plain": [
       "          textID  \\\n",
       "5001  b507cce1a4   \n",
       "\n",
       "                                                                 text  \\\n",
       "5001  I`m home, Yay! Unpacked everything, now just got to wash it all   \n",
       "\n",
       "     selected_text sentiment  original_index sentiment_code  \\\n",
       "5001  Yay! Un       positive  5543            positive        \n",
       "\n",
       "                                                                                                   text_mod  \\\n",
       "5001  xxxSTART I`m home, Yay! Unpacked everything, now just got to wash it all xxxSENTIMENT positive xxxEND   \n",
       "\n",
       "     set_name  \n",
       "5001  val      "
      ]
     },
     "execution_count": 32,
     "metadata": {},
     "output_type": "execute_result"
    }
   ],
   "source": [
    "print(anomaly_idx, sep=\",\")\n",
    "df.iloc[anomaly_idx].tail(10)"
   ]
  },
  {
   "cell_type": "code",
   "execution_count": 33,
   "metadata": {},
   "outputs": [
    {
     "name": "stdout",
     "output_type": "stream",
     "text": [
      "failed inspection. Did you know you can pass wo/oven, but not wo/anti-tip bracket, which is only sold w/oven? This is worse than taxes.\n",
      "This is worse than taxes.\n",
      "[['xxxSTART', 4, 0, 0], ['Ġfailed', 2659, 0, 0], ['Ġinspection', 10359, 0, 0], ['.', 20, 0, 0], ['Ġdid', 510, 0, 0], ['Ġyou', 337, 0, 0], ['Ġknow', 497, 0, 0], ['Ġyou', 337, 0, 0], ['Ġcan', 405, 0, 0], ['Ġpass', 1581, 0, 0], ['Ġwo', 3752, 0, 0], ['/', 21, 0, 0], ['o', 85, 0, 0], ['ven', 603, 0, 0], [',', 18, 0, 0], ['Ġbut', 389, 0, 0], ['Ġnot', 400, 0, 0], ['Ġwo', 3752, 0, 0], ['/', 21, 0, 0], ['anti', 11245, 0, 0], ['-', 19, 0, 0], ['ti', 292, 0, 0], ['p', 86, 0, 0], ['Ġbracket', 12162, 0, 0], [',', 18, 0, 0], ['Ġwhich', 1286, 0, 0], ['Ġis', 349, 0, 0], ['Ġonly', 649, 0, 0], ['Ġsold', 2374, 0, 0], ['Ġw', 287, 0, 0], ['/', 21, 0, 0], ['o', 85, 0, 0], ['ven', 603, 0, 0], ['?', 37, 0, 0], ['Ġthis', 425, 1, 0], ['Ġis', 349, 0, 0], ['Ġworse', 2576, 0, 0], ['Ġthan', 445, 0, 0], ['Ġtaxes', 13510, 0, 0], ['.', 20, 0, 1], ['Ġ', 227, 0, 0], ['xxxSENTIMENT', 5, 0, 0], ['Ġnegative', 328, 0, 0], ['Ġ', 227, 0, 0], ['xxxEND', 6, 0, 0]]\n",
      "[[425, 'Ġthis'], [349, 'Ġis'], [2576, 'Ġworse'], [445, 'Ġthan'], [13510, 'Ġtaxes'], [20, '.']]\n"
     ]
    }
   ],
   "source": [
    "check_idx = 201\n",
    "print(df.text[check_idx])\n",
    "print(df.selected_text[check_idx])\n",
    "print([[i,j,k,l] for i,j,k,l in zip(X_tokens[check_idx].tokens,\n",
    "                                    X_tokens[check_idx].ids,\n",
    "                                    Y_starts[check_idx],\n",
    "                                    Y_stops[check_idx])])\n",
    "print([[i,j] for i,j in zip(Y_tokens[check_idx].ids,\n",
    "                            Y_tokens[check_idx].tokens)])"
   ]
  },
  {
   "cell_type": "markdown",
   "metadata": {},
   "source": [
    "#### Train Validation  split"
   ]
  },
  {
   "cell_type": "code",
   "execution_count": 34,
   "metadata": {},
   "outputs": [
    {
     "name": "stdout",
     "output_type": "stream",
     "text": [
      "\n",
      " 19890 \t : X_train \n",
      " 19890 \t : X_att_train \n",
      " 19890 \t : Y_train \n",
      " 19890 \t : Y_starts_train \n",
      " 19890 \t : Y_stops_train \n",
      " 4973 \t : X_val \n",
      " 4973 \t : X_att_val \n",
      " 4973 \t : Y_val \n",
      " 4973 \t : Y_starts_val \n",
      " 4973 \t : Y_stops_val \n",
      "\n"
     ]
    }
   ],
   "source": [
    "X_train, X_val = [X[i] for i in train_idx], [X[i] for i in val_idx]\n",
    "X_att_train, X_att_val = [X_att[i] for i in train_idx], [X_att[i] for i in val_idx]\n",
    "\n",
    "Y_train, Y_val = [Y[i] for i in train_idx], [Y[i] for i in val_idx]\n",
    "Y_starts_train, Y_starts_val = [Y_starts[i] for i in train_idx], [Y_starts[i] for i in val_idx]\n",
    "Y_stops_train, Y_stops_val = [Y_stops[i] for i in train_idx], [Y_stops[i] for i in val_idx]\n",
    "\n",
    "print(\"\\n\",\n",
    "    len(X_train),\"\\t\",\": X_train\",\"\\n\",\n",
    "    len(X_att_train),\"\\t\",\": X_att_train\",\"\\n\",\n",
    "    len(Y_train),\"\\t\",\": Y_train\",\"\\n\",\n",
    "    len(Y_starts_train),\"\\t\",\": Y_starts_train\",\"\\n\",\n",
    "    len(Y_stops_train),\"\\t\",\": Y_stops_train\",\"\\n\",\n",
    "    len(X_val),\"\\t\",\": X_val\",\"\\n\",\n",
    "    len(X_att_val),\"\\t\",\": X_att_val\",\"\\n\",\n",
    "    len(Y_val),\"\\t\",\": Y_val\",\"\\n\",\n",
    "    len(Y_starts_val),\"\\t\",\": Y_starts_val\",\"\\n\",\n",
    "    len(Y_stops_val),\"\\t\",\": Y_stops_val\",\"\\n\"\n",
    ")"
   ]
  },
  {
   "cell_type": "markdown",
   "metadata": {},
   "source": [
    "#### Padding"
   ]
  },
  {
   "cell_type": "code",
   "execution_count": 36,
   "metadata": {},
   "outputs": [],
   "source": [
    "X_train = pad_sequences(X_train, maxlen=max_len, padding=\"post\")\n",
    "X_att_train = pad_sequences(X_att_train, maxlen=max_len, padding=\"post\")\n",
    "Y_train = pad_sequences(Y_train, maxlen=max_len, padding=\"post\")\n",
    "Y_starts_train = pad_sequences(Y_starts_train, maxlen=max_len, padding=\"post\")\n",
    "Y_stops_train = pad_sequences(Y_stops_train, maxlen=max_len, padding=\"post\")\n",
    "\n",
    "X_val = pad_sequences(X_val, maxlen=max_len, padding=\"post\")\n",
    "X_att_val = pad_sequences(X_att_val, maxlen=max_len, padding=\"post\")\n",
    "Y_val = pad_sequences(Y_val, maxlen=max_len, padding=\"post\")\n",
    "Y_starts_val = pad_sequences(Y_starts_val, maxlen=max_len, padding=\"post\")\n",
    "Y_stops_val = pad_sequences(Y_stops_val, maxlen=max_len, padding=\"post\")\n",
    "\n",
    "X_test = pad_sequences(X_test, maxlen=max_len, padding=\"post\")\n",
    "X_att_test = pad_sequences(X_att_test, maxlen=max_len, padding=\"post\")"
   ]
  },
  {
   "cell_type": "code",
   "execution_count": 37,
   "metadata": {},
   "outputs": [
    {
     "name": "stdout",
     "output_type": "stream",
     "text": [
      "\n",
      " (19890, 108) \t: X_train  \n",
      " (19890, 108) \t: X_att_train  \n",
      " (19890, 108) \t: Y_train  \n",
      " (19890, 108) \t: Y_starts_train  \n",
      " (19890, 108) \t: Y_stops_train  \n",
      " (4973, 108) \t: X_val  \n",
      " (4973, 108) \t: X_att_val  \n",
      " (4973, 108) \t: Y_val  \n",
      " (4973, 108) \t: Y_starts_val  \n",
      " (4973, 108) \t: Y_stops_val  \n",
      " (3534, 108) \t: X_test  \n",
      " (3534, 108) \t: X_att_test  \n",
      "\n"
     ]
    }
   ],
   "source": [
    "print(\"\\n\",\n",
    "     X_train.shape, \"\\t: X_train \", \"\\n\",\n",
    "     X_att_train.shape, \"\\t: X_att_train \", \"\\n\",\n",
    "     Y_train.shape, \"\\t: Y_train \", \"\\n\",\n",
    "     Y_starts_train.shape, \"\\t: Y_starts_train \", \"\\n\",\n",
    "     Y_stops_train.shape, \"\\t: Y_stops_train \", \"\\n\",\n",
    "\n",
    "     X_val.shape, \"\\t: X_val \", \"\\n\",\n",
    "     X_att_val.shape, \"\\t: X_att_val \", \"\\n\",\n",
    "     Y_val.shape, \"\\t: Y_val \", \"\\n\",\n",
    "     Y_starts_val.shape, \"\\t: Y_starts_val \", \"\\n\",\n",
    "     Y_stops_val.shape, \"\\t: Y_stops_val \", \"\\n\",\n",
    "\n",
    "     X_test.shape, \"\\t: X_test \", \"\\n\",\n",
    "     X_att_test.shape, \"\\t: X_att_test \", \"\\n\"\n",
    ")"
   ]
  },
  {
   "cell_type": "markdown",
   "metadata": {},
   "source": [
    "#### Checking for zero input vectors"
   ]
  },
  {
   "cell_type": "code",
   "execution_count": 38,
   "metadata": {},
   "outputs": [
    {
     "name": "stdout",
     "output_type": "stream",
     "text": [
      "0 1302\n",
      "0 1562\n"
     ]
    }
   ],
   "source": [
    "print(np.argmax([X_train.sum(axis=1)==0]), np.min([X_train.sum(axis=1)]))\n",
    "print(np.argmax([X_val.sum(axis=1)==0]), np.min([X_val.sum(axis=1)]))"
   ]
  },
  {
   "cell_type": "markdown",
   "metadata": {},
   "source": [
    "#### Check inputs and outputs"
   ]
  },
  {
   "cell_type": "code",
   "execution_count": 39,
   "metadata": {
    "scrolled": true
   },
   "outputs": [
    {
     "data": {
      "text/plain": [
       "[[4, 1, 1066, 0, 0],\n",
       " [227, 1, 18, 0, 0],\n",
       " [1066, 1, 312, 1, 0],\n",
       " [18, 1, 1161, 0, 0],\n",
       " [312, 1, 598, 0, 0],\n",
       " [1161, 1, 642, 0, 0],\n",
       " [598, 1, 1219, 0, 0],\n",
       " [642, 1, 1960, 0, 0],\n",
       " [1219, 1, 595, 0, 0],\n",
       " [1960, 1, 20, 0, 0],\n",
       " [595, 1, 0, 0, 0],\n",
       " [20, 1, 0, 0, 1],\n",
       " [339, 1, 0, 0, 0],\n",
       " [2181, 1, 0, 0, 0],\n",
       " [436, 1, 0, 0, 0],\n",
       " [339, 1, 0, 0, 0],\n",
       " [403, 1, 0, 0, 0],\n",
       " [724, 1, 0, 0, 0],\n",
       " [793, 1, 0, 0, 0],\n",
       " [463, 1, 0, 0, 0],\n",
       " [389, 1, 0, 0, 0],\n",
       " [353, 1, 0, 0, 0],\n",
       " [1936, 1, 0, 0, 0],\n",
       " [339, 1, 0, 0, 0],\n",
       " [673, 1, 0, 0, 0],\n",
       " [70, 1, 0, 0, 0],\n",
       " [90, 1, 0, 0, 0],\n",
       " [18, 1, 0, 0, 0],\n",
       " [2947, 1, 0, 0, 0],\n",
       " [706, 1, 0, 0, 0],\n",
       " [18, 1, 0, 0, 0],\n",
       " [227, 1, 0, 0, 0],\n",
       " [5, 1, 0, 0, 0],\n",
       " [328, 1, 0, 0, 0],\n",
       " [227, 1, 0, 0, 0],\n",
       " [6, 1, 0, 0, 0],\n",
       " [0, 0, 0, 0, 0],\n",
       " [0, 0, 0, 0, 0],\n",
       " [0, 0, 0, 0, 0],\n",
       " [0, 0, 0, 0, 0],\n",
       " [0, 0, 0, 0, 0],\n",
       " [0, 0, 0, 0, 0],\n",
       " [0, 0, 0, 0, 0],\n",
       " [0, 0, 0, 0, 0],\n",
       " [0, 0, 0, 0, 0],\n",
       " [0, 0, 0, 0, 0],\n",
       " [0, 0, 0, 0, 0],\n",
       " [0, 0, 0, 0, 0],\n",
       " [0, 0, 0, 0, 0],\n",
       " [0, 0, 0, 0, 0],\n",
       " [0, 0, 0, 0, 0],\n",
       " [0, 0, 0, 0, 0],\n",
       " [0, 0, 0, 0, 0],\n",
       " [0, 0, 0, 0, 0],\n",
       " [0, 0, 0, 0, 0],\n",
       " [0, 0, 0, 0, 0],\n",
       " [0, 0, 0, 0, 0],\n",
       " [0, 0, 0, 0, 0],\n",
       " [0, 0, 0, 0, 0],\n",
       " [0, 0, 0, 0, 0],\n",
       " [0, 0, 0, 0, 0],\n",
       " [0, 0, 0, 0, 0],\n",
       " [0, 0, 0, 0, 0],\n",
       " [0, 0, 0, 0, 0],\n",
       " [0, 0, 0, 0, 0],\n",
       " [0, 0, 0, 0, 0],\n",
       " [0, 0, 0, 0, 0],\n",
       " [0, 0, 0, 0, 0],\n",
       " [0, 0, 0, 0, 0],\n",
       " [0, 0, 0, 0, 0],\n",
       " [0, 0, 0, 0, 0],\n",
       " [0, 0, 0, 0, 0],\n",
       " [0, 0, 0, 0, 0],\n",
       " [0, 0, 0, 0, 0],\n",
       " [0, 0, 0, 0, 0],\n",
       " [0, 0, 0, 0, 0],\n",
       " [0, 0, 0, 0, 0],\n",
       " [0, 0, 0, 0, 0],\n",
       " [0, 0, 0, 0, 0],\n",
       " [0, 0, 0, 0, 0],\n",
       " [0, 0, 0, 0, 0],\n",
       " [0, 0, 0, 0, 0],\n",
       " [0, 0, 0, 0, 0],\n",
       " [0, 0, 0, 0, 0],\n",
       " [0, 0, 0, 0, 0],\n",
       " [0, 0, 0, 0, 0],\n",
       " [0, 0, 0, 0, 0],\n",
       " [0, 0, 0, 0, 0],\n",
       " [0, 0, 0, 0, 0],\n",
       " [0, 0, 0, 0, 0],\n",
       " [0, 0, 0, 0, 0],\n",
       " [0, 0, 0, 0, 0],\n",
       " [0, 0, 0, 0, 0],\n",
       " [0, 0, 0, 0, 0],\n",
       " [0, 0, 0, 0, 0],\n",
       " [0, 0, 0, 0, 0],\n",
       " [0, 0, 0, 0, 0],\n",
       " [0, 0, 0, 0, 0],\n",
       " [0, 0, 0, 0, 0],\n",
       " [0, 0, 0, 0, 0],\n",
       " [0, 0, 0, 0, 0],\n",
       " [0, 0, 0, 0, 0],\n",
       " [0, 0, 0, 0, 0],\n",
       " [0, 0, 0, 0, 0],\n",
       " [0, 0, 0, 0, 0],\n",
       " [0, 0, 0, 0, 0],\n",
       " [0, 0, 0, 0, 0],\n",
       " [0, 0, 0, 0, 0]]"
      ]
     },
     "execution_count": 39,
     "metadata": {},
     "output_type": "execute_result"
    }
   ],
   "source": [
    "#Train\n",
    "num = 100\n",
    "[[i,j,k,l,m] for i,j,k,l,m in zip(X_train[num],\n",
    "                                  X_att_train[num],\n",
    "                                  Y_train[num],\n",
    "                                  Y_starts_train[num],\n",
    "                                  Y_stops_train[num])]"
   ]
  },
  {
   "cell_type": "code",
   "execution_count": 40,
   "metadata": {
    "scrolled": true
   },
   "outputs": [
    {
     "data": {
      "text/plain": [
       "[[4, 1, 347, 0, 0],\n",
       " [227, 1, 482, 0, 0],\n",
       " [347, 1, 311, 1, 0],\n",
       " [482, 1, 0, 0, 0],\n",
       " [311, 1, 0, 0, 1],\n",
       " [227, 1, 0, 0, 0],\n",
       " [5, 1, 0, 0, 0],\n",
       " [309, 1, 0, 0, 0],\n",
       " [227, 1, 0, 0, 0],\n",
       " [6, 1, 0, 0, 0],\n",
       " [0, 0, 0, 0, 0],\n",
       " [0, 0, 0, 0, 0],\n",
       " [0, 0, 0, 0, 0],\n",
       " [0, 0, 0, 0, 0],\n",
       " [0, 0, 0, 0, 0],\n",
       " [0, 0, 0, 0, 0],\n",
       " [0, 0, 0, 0, 0],\n",
       " [0, 0, 0, 0, 0],\n",
       " [0, 0, 0, 0, 0],\n",
       " [0, 0, 0, 0, 0],\n",
       " [0, 0, 0, 0, 0],\n",
       " [0, 0, 0, 0, 0],\n",
       " [0, 0, 0, 0, 0],\n",
       " [0, 0, 0, 0, 0],\n",
       " [0, 0, 0, 0, 0],\n",
       " [0, 0, 0, 0, 0],\n",
       " [0, 0, 0, 0, 0],\n",
       " [0, 0, 0, 0, 0],\n",
       " [0, 0, 0, 0, 0],\n",
       " [0, 0, 0, 0, 0],\n",
       " [0, 0, 0, 0, 0],\n",
       " [0, 0, 0, 0, 0],\n",
       " [0, 0, 0, 0, 0],\n",
       " [0, 0, 0, 0, 0],\n",
       " [0, 0, 0, 0, 0],\n",
       " [0, 0, 0, 0, 0],\n",
       " [0, 0, 0, 0, 0],\n",
       " [0, 0, 0, 0, 0],\n",
       " [0, 0, 0, 0, 0],\n",
       " [0, 0, 0, 0, 0],\n",
       " [0, 0, 0, 0, 0],\n",
       " [0, 0, 0, 0, 0],\n",
       " [0, 0, 0, 0, 0],\n",
       " [0, 0, 0, 0, 0],\n",
       " [0, 0, 0, 0, 0],\n",
       " [0, 0, 0, 0, 0],\n",
       " [0, 0, 0, 0, 0],\n",
       " [0, 0, 0, 0, 0],\n",
       " [0, 0, 0, 0, 0],\n",
       " [0, 0, 0, 0, 0],\n",
       " [0, 0, 0, 0, 0],\n",
       " [0, 0, 0, 0, 0],\n",
       " [0, 0, 0, 0, 0],\n",
       " [0, 0, 0, 0, 0],\n",
       " [0, 0, 0, 0, 0],\n",
       " [0, 0, 0, 0, 0],\n",
       " [0, 0, 0, 0, 0],\n",
       " [0, 0, 0, 0, 0],\n",
       " [0, 0, 0, 0, 0],\n",
       " [0, 0, 0, 0, 0],\n",
       " [0, 0, 0, 0, 0],\n",
       " [0, 0, 0, 0, 0],\n",
       " [0, 0, 0, 0, 0],\n",
       " [0, 0, 0, 0, 0],\n",
       " [0, 0, 0, 0, 0],\n",
       " [0, 0, 0, 0, 0],\n",
       " [0, 0, 0, 0, 0],\n",
       " [0, 0, 0, 0, 0],\n",
       " [0, 0, 0, 0, 0],\n",
       " [0, 0, 0, 0, 0],\n",
       " [0, 0, 0, 0, 0],\n",
       " [0, 0, 0, 0, 0],\n",
       " [0, 0, 0, 0, 0],\n",
       " [0, 0, 0, 0, 0],\n",
       " [0, 0, 0, 0, 0],\n",
       " [0, 0, 0, 0, 0],\n",
       " [0, 0, 0, 0, 0],\n",
       " [0, 0, 0, 0, 0],\n",
       " [0, 0, 0, 0, 0],\n",
       " [0, 0, 0, 0, 0],\n",
       " [0, 0, 0, 0, 0],\n",
       " [0, 0, 0, 0, 0],\n",
       " [0, 0, 0, 0, 0],\n",
       " [0, 0, 0, 0, 0],\n",
       " [0, 0, 0, 0, 0],\n",
       " [0, 0, 0, 0, 0],\n",
       " [0, 0, 0, 0, 0],\n",
       " [0, 0, 0, 0, 0],\n",
       " [0, 0, 0, 0, 0],\n",
       " [0, 0, 0, 0, 0],\n",
       " [0, 0, 0, 0, 0],\n",
       " [0, 0, 0, 0, 0],\n",
       " [0, 0, 0, 0, 0],\n",
       " [0, 0, 0, 0, 0],\n",
       " [0, 0, 0, 0, 0],\n",
       " [0, 0, 0, 0, 0],\n",
       " [0, 0, 0, 0, 0],\n",
       " [0, 0, 0, 0, 0],\n",
       " [0, 0, 0, 0, 0],\n",
       " [0, 0, 0, 0, 0],\n",
       " [0, 0, 0, 0, 0],\n",
       " [0, 0, 0, 0, 0],\n",
       " [0, 0, 0, 0, 0],\n",
       " [0, 0, 0, 0, 0],\n",
       " [0, 0, 0, 0, 0],\n",
       " [0, 0, 0, 0, 0],\n",
       " [0, 0, 0, 0, 0],\n",
       " [0, 0, 0, 0, 0]]"
      ]
     },
     "execution_count": 40,
     "metadata": {},
     "output_type": "execute_result"
    }
   ],
   "source": [
    "#Val\n",
    "num = 100\n",
    "[[i,j,k,l,m] for i,j,k,l,m in zip(X_val[num],\n",
    "                                  X_att_val[num],\n",
    "                                  Y_val[num],\n",
    "                                  Y_starts_val[num],\n",
    "                                  Y_stops_val[num])]"
   ]
  },
  {
   "cell_type": "code",
   "execution_count": 41,
   "metadata": {
    "scrolled": true
   },
   "outputs": [
    {
     "data": {
      "text/plain": [
       "[[4, 4, 1],\n",
       " [3876, 3876, 1],\n",
       " [18, 18, 1],\n",
       " [2105, 2105, 1],\n",
       " [7, 7, 1],\n",
       " [282, 282, 1],\n",
       " [8781, 8781, 1],\n",
       " [353, 353, 1],\n",
       " [2105, 2105, 1],\n",
       " [7, 7, 1],\n",
       " [342, 342, 1],\n",
       " [339, 339, 1],\n",
       " [512, 512, 1],\n",
       " [350, 350, 1],\n",
       " [1113, 1113, 1],\n",
       " [647, 647, 1],\n",
       " [312, 312, 1],\n",
       " [495, 495, 1],\n",
       " [271, 271, 1],\n",
       " [1176, 1176, 1],\n",
       " [423, 423, 1],\n",
       " [342, 342, 1],\n",
       " [1882, 1882, 1],\n",
       " [7829, 7829, 1],\n",
       " [394, 394, 1],\n",
       " [793, 793, 1],\n",
       " [20, 20, 1],\n",
       " [227, 227, 1],\n",
       " [1945, 1945, 1],\n",
       " [1380, 1380, 1],\n",
       " [227, 227, 1],\n",
       " [5, 5, 1],\n",
       " [309, 309, 1],\n",
       " [227, 227, 1],\n",
       " [6, 6, 1]]"
      ]
     },
     "execution_count": 41,
     "metadata": {},
     "output_type": "execute_result"
    }
   ],
   "source": [
    "#Test\n",
    "num = 100\n",
    "[[i,j,k] for i,j,k in zip(X_tokens_test[num].ids,\n",
    "                          X_test[num],\n",
    "                          X_tokens_test[num].attention_mask)]"
   ]
  },
  {
   "cell_type": "markdown",
   "metadata": {},
   "source": [
    "## Model"
   ]
  },
  {
   "cell_type": "code",
   "execution_count": 42,
   "metadata": {
    "scrolled": true
   },
   "outputs": [],
   "source": [
    "input_att_flags = Input((max_len), name=\"att_flags\")\n",
    "input_sequences = Input((max_len), name=\"words\")\n",
    "\n",
    "emb_sequences = Embedding(input_dim=VOCAB_SIZE, input_length=max_len, output_dim=64, mask_zero=True)(input_sequences)\n",
    "\n",
    "seq = Bidirectional(LSTM(32, activation=None, return_sequences=True))(emb_sequences)\n",
    "seq = BatchNormalization()(seq)\n",
    "seq = Activation(\"relu\")(seq)\n",
    "seq = Dropout(DROPOUT)(seq)\n",
    "\n",
    "seq = Bidirectional(LSTM(32, activation=None, return_sequences=True))(seq)\n",
    "seq = BatchNormalization()(seq)\n",
    "seq = Activation(\"relu\")(seq)\n",
    "seq = Dropout(DROPOUT)(seq)\n",
    "\n",
    "seq = Bidirectional(LSTM(32, activation=None, return_sequences=False))(seq)\n",
    "#seq = Attention(max_len)(seq)\n",
    "seq = BatchNormalization()(seq)\n",
    "seq = Activation(\"relu\")(seq)\n",
    "seq = Dropout(DROPOUT)(seq)\n",
    "\n",
    "seq = Dense(max_len, activation=\"relu\")(seq)\n",
    "seq = BatchNormalization()(seq)\n",
    "seq = Dropout(DROPOUT)(seq)\n",
    "\n",
    "att = Dense(max_len, activation=\"relu\")(input_att_flags)\n",
    "att = BatchNormalization()(att)\n",
    "att = Dropout(DROPOUT)(att)\n",
    "\n",
    "convs = Conv1D(filters=32, kernel_size=8, padding=\"same\", activation=None)(emb_sequences)\n",
    "convs = BatchNormalization()(convs)\n",
    "convs = Activation(\"relu\")(convs)\n",
    "convs = MaxPooling1D(pool_size=2, strides=1)(convs)\n",
    "convs = Dropout(DROPOUT)(convs)\n",
    "\n",
    "convs = Conv1D(filters=32, kernel_size=8, padding=\"same\", activation=None)(convs)\n",
    "convs = BatchNormalization()(convs)\n",
    "convs = Activation(\"relu\")(convs)\n",
    "convs = MaxPooling1D(pool_size=2, strides=1)(convs)\n",
    "convs = Dropout(DROPOUT)(convs)\n",
    "\n",
    "convs = Conv1D(filters=32, kernel_size=8, padding=\"same\", activation=None)(convs)\n",
    "convs = BatchNormalization()(convs)\n",
    "convs = Activation(\"relu\")(convs)\n",
    "convs = MaxPooling1D(pool_size=2, strides=1)(convs)\n",
    "convs = Dropout(DROPOUT)(convs)\n",
    "\n",
    "convs = Flatten()(convs)\n",
    "convs = Dense(max_len, activation=None)(convs)\n",
    "convs = BatchNormalization()(convs)\n",
    "convs = Activation(\"relu\")(convs)\n",
    "convs = Dropout(DROPOUT)(convs)\n",
    "\n",
    "conv = Multiply()([att, convs])\n",
    "seq = Multiply()([att, seq])\n",
    "concat_layer = concatenate([conv, seq])\n",
    "\n",
    "output_starts = Dense(max_len, activation=None)(concat_layer)\n",
    "output_starts = BatchNormalization()(output_starts)\n",
    "output_starts = Activation(\"relu\")(output_starts)\n",
    "output_starts = Dropout(DROPOUT)(output_starts)\n",
    "\n",
    "output_starts = Dense(max_len, activation=None)(output_starts)\n",
    "output_starts = Activation(\"relu\")(output_starts)\n",
    "\n",
    "output_stops = Dense(max_len, activation=None)(concat_layer)\n",
    "output_stops = BatchNormalization()(output_stops)\n",
    "output_stops = Activation(\"relu\")(output_stops)\n",
    "output_stops = Dropout(DROPOUT)(output_stops)\n",
    "\n",
    "output_stops = Dense(max_len, activation=None)(output_stops)\n",
    "output_stops = Activation(\"relu\")(output_stops)\n",
    "\n",
    "output_starts = Dense(max_len, activation='softmax', name=\"starts\")(output_starts)\n",
    "output_stops = Dense(max_len, activation='softmax', name=\"stops\")(output_stops)"
   ]
  },
  {
   "cell_type": "code",
   "execution_count": 43,
   "metadata": {
    "scrolled": true
   },
   "outputs": [
    {
     "name": "stdout",
     "output_type": "stream",
     "text": [
      "Model: \"model\"\n",
      "__________________________________________________________________________________________________\n",
      "Layer (type)                    Output Shape         Param #     Connected to                     \n",
      "==================================================================================================\n",
      "words (InputLayer)              [(None, 108)]        0                                            \n",
      "__________________________________________________________________________________________________\n",
      "embedding (Embedding)           (None, 108, 64)      929088      words[0][0]                      \n",
      "__________________________________________________________________________________________________\n",
      "conv1d (Conv1D)                 (None, 108, 32)      16416       embedding[0][0]                  \n",
      "__________________________________________________________________________________________________\n",
      "batch_normalization_5 (BatchNor (None, 108, 32)      128         conv1d[0][0]                     \n",
      "__________________________________________________________________________________________________\n",
      "activation_3 (Activation)       (None, 108, 32)      0           batch_normalization_5[0][0]      \n",
      "__________________________________________________________________________________________________\n",
      "max_pooling1d (MaxPooling1D)    (None, 107, 32)      0           activation_3[0][0]               \n",
      "__________________________________________________________________________________________________\n",
      "dropout_5 (Dropout)             (None, 107, 32)      0           max_pooling1d[0][0]              \n",
      "__________________________________________________________________________________________________\n",
      "conv1d_1 (Conv1D)               (None, 107, 32)      8224        dropout_5[0][0]                  \n",
      "__________________________________________________________________________________________________\n",
      "bidirectional (Bidirectional)   (None, 108, 64)      24832       embedding[0][0]                  \n",
      "__________________________________________________________________________________________________\n",
      "batch_normalization_6 (BatchNor (None, 107, 32)      128         conv1d_1[0][0]                   \n",
      "__________________________________________________________________________________________________\n",
      "batch_normalization (BatchNorma (None, 108, 64)      256         bidirectional[0][0]              \n",
      "__________________________________________________________________________________________________\n",
      "activation_4 (Activation)       (None, 107, 32)      0           batch_normalization_6[0][0]      \n",
      "__________________________________________________________________________________________________\n",
      "activation (Activation)         (None, 108, 64)      0           batch_normalization[0][0]        \n",
      "__________________________________________________________________________________________________\n",
      "max_pooling1d_1 (MaxPooling1D)  (None, 106, 32)      0           activation_4[0][0]               \n",
      "__________________________________________________________________________________________________\n",
      "dropout (Dropout)               (None, 108, 64)      0           activation[0][0]                 \n",
      "__________________________________________________________________________________________________\n",
      "dropout_6 (Dropout)             (None, 106, 32)      0           max_pooling1d_1[0][0]            \n",
      "__________________________________________________________________________________________________\n",
      "bidirectional_1 (Bidirectional) (None, 108, 64)      24832       dropout[0][0]                    \n",
      "__________________________________________________________________________________________________\n",
      "conv1d_2 (Conv1D)               (None, 106, 32)      8224        dropout_6[0][0]                  \n",
      "__________________________________________________________________________________________________\n",
      "batch_normalization_1 (BatchNor (None, 108, 64)      256         bidirectional_1[0][0]            \n",
      "__________________________________________________________________________________________________\n",
      "batch_normalization_7 (BatchNor (None, 106, 32)      128         conv1d_2[0][0]                   \n",
      "__________________________________________________________________________________________________\n",
      "activation_1 (Activation)       (None, 108, 64)      0           batch_normalization_1[0][0]      \n",
      "__________________________________________________________________________________________________\n",
      "activation_5 (Activation)       (None, 106, 32)      0           batch_normalization_7[0][0]      \n",
      "__________________________________________________________________________________________________\n",
      "dropout_1 (Dropout)             (None, 108, 64)      0           activation_1[0][0]               \n",
      "__________________________________________________________________________________________________\n",
      "max_pooling1d_2 (MaxPooling1D)  (None, 105, 32)      0           activation_5[0][0]               \n",
      "__________________________________________________________________________________________________\n",
      "bidirectional_2 (Bidirectional) (None, 64)           24832       dropout_1[0][0]                  \n",
      "__________________________________________________________________________________________________\n",
      "dropout_7 (Dropout)             (None, 105, 32)      0           max_pooling1d_2[0][0]            \n",
      "__________________________________________________________________________________________________\n",
      "batch_normalization_2 (BatchNor (None, 64)           256         bidirectional_2[0][0]            \n",
      "__________________________________________________________________________________________________\n",
      "flatten (Flatten)               (None, 3360)         0           dropout_7[0][0]                  \n",
      "__________________________________________________________________________________________________\n",
      "activation_2 (Activation)       (None, 64)           0           batch_normalization_2[0][0]      \n",
      "__________________________________________________________________________________________________\n",
      "att_flags (InputLayer)          [(None, 108)]        0                                            \n",
      "__________________________________________________________________________________________________\n",
      "dense_2 (Dense)                 (None, 108)          362988      flatten[0][0]                    \n",
      "__________________________________________________________________________________________________\n",
      "dropout_2 (Dropout)             (None, 64)           0           activation_2[0][0]               \n",
      "__________________________________________________________________________________________________\n",
      "dense_1 (Dense)                 (None, 108)          11772       att_flags[0][0]                  \n",
      "__________________________________________________________________________________________________\n",
      "batch_normalization_8 (BatchNor (None, 108)          432         dense_2[0][0]                    \n",
      "__________________________________________________________________________________________________\n",
      "dense (Dense)                   (None, 108)          7020        dropout_2[0][0]                  \n",
      "__________________________________________________________________________________________________\n",
      "batch_normalization_4 (BatchNor (None, 108)          432         dense_1[0][0]                    \n",
      "__________________________________________________________________________________________________\n",
      "activation_6 (Activation)       (None, 108)          0           batch_normalization_8[0][0]      \n",
      "__________________________________________________________________________________________________\n",
      "batch_normalization_3 (BatchNor (None, 108)          432         dense[0][0]                      \n",
      "__________________________________________________________________________________________________\n",
      "dropout_4 (Dropout)             (None, 108)          0           batch_normalization_4[0][0]      \n",
      "__________________________________________________________________________________________________\n",
      "dropout_8 (Dropout)             (None, 108)          0           activation_6[0][0]               \n",
      "__________________________________________________________________________________________________\n",
      "dropout_3 (Dropout)             (None, 108)          0           batch_normalization_3[0][0]      \n",
      "__________________________________________________________________________________________________\n",
      "multiply (Multiply)             (None, 108)          0           dropout_4[0][0]                  \n",
      "                                                                 dropout_8[0][0]                  \n",
      "__________________________________________________________________________________________________\n",
      "multiply_1 (Multiply)           (None, 108)          0           dropout_4[0][0]                  \n",
      "                                                                 dropout_3[0][0]                  \n",
      "__________________________________________________________________________________________________\n",
      "concatenate (Concatenate)       (None, 216)          0           multiply[0][0]                   \n",
      "                                                                 multiply_1[0][0]                 \n",
      "__________________________________________________________________________________________________\n",
      "dense_3 (Dense)                 (None, 108)          23436       concatenate[0][0]                \n",
      "__________________________________________________________________________________________________\n",
      "dense_5 (Dense)                 (None, 108)          23436       concatenate[0][0]                \n",
      "__________________________________________________________________________________________________\n",
      "batch_normalization_9 (BatchNor (None, 108)          432         dense_3[0][0]                    \n",
      "__________________________________________________________________________________________________\n",
      "batch_normalization_10 (BatchNo (None, 108)          432         dense_5[0][0]                    \n",
      "__________________________________________________________________________________________________\n",
      "activation_7 (Activation)       (None, 108)          0           batch_normalization_9[0][0]      \n",
      "__________________________________________________________________________________________________\n",
      "activation_9 (Activation)       (None, 108)          0           batch_normalization_10[0][0]     \n",
      "__________________________________________________________________________________________________\n",
      "dropout_9 (Dropout)             (None, 108)          0           activation_7[0][0]               \n",
      "__________________________________________________________________________________________________\n",
      "dropout_10 (Dropout)            (None, 108)          0           activation_9[0][0]               \n",
      "__________________________________________________________________________________________________\n",
      "dense_4 (Dense)                 (None, 108)          11772       dropout_9[0][0]                  \n",
      "__________________________________________________________________________________________________\n",
      "dense_6 (Dense)                 (None, 108)          11772       dropout_10[0][0]                 \n",
      "__________________________________________________________________________________________________\n",
      "activation_8 (Activation)       (None, 108)          0           dense_4[0][0]                    \n",
      "__________________________________________________________________________________________________\n",
      "activation_10 (Activation)      (None, 108)          0           dense_6[0][0]                    \n",
      "__________________________________________________________________________________________________\n",
      "starts (Dense)                  (None, 108)          11772       activation_8[0][0]               \n",
      "__________________________________________________________________________________________________\n",
      "stops (Dense)                   (None, 108)          11772       activation_10[0][0]              \n",
      "==================================================================================================\n",
      "Total params: 1,515,500\n",
      "Trainable params: 1,513,844\n",
      "Non-trainable params: 1,656\n",
      "__________________________________________________________________________________________________\n"
     ]
    }
   ],
   "source": [
    "model = Model([input_att_flags, input_sequences], [output_starts, output_stops])\n",
    "model.summary()"
   ]
  },
  {
   "cell_type": "code",
   "execution_count": 44,
   "metadata": {},
   "outputs": [],
   "source": [
    "adam = Adam(learning_rate=MIN_LR)\n",
    "\n",
    "model.compile(loss='sparse_categorical_crossentropy',\n",
    "              optimizer=adam , metrics=['accuracy'])"
   ]
  },
  {
   "cell_type": "code",
   "execution_count": 45,
   "metadata": {},
   "outputs": [],
   "source": [
    "#callbacks\n",
    "mcp = ModelCheckpoint(filepath=\"../results/\"+MODEL_PREFIX+\"BestCheckpoint.h5\",\n",
    "                      monitor='val_loss',\n",
    "                      mode=\"auto\",\n",
    "                      save_weights_only=False,\n",
    "                      save_best_only=True)\n",
    "\n",
    "clr = CyclicLR(mode=CLR_METHOD,\n",
    "               base_lr=MIN_LR,\n",
    "               max_lr=MAX_LR,\n",
    "               step_size= STEP_SIZE * (X_train.shape[0] // BATCH_SIZE))"
   ]
  },
  {
   "cell_type": "code",
   "execution_count": 46,
   "metadata": {
    "scrolled": true
   },
   "outputs": [
    {
     "name": "stdout",
     "output_type": "stream",
     "text": [
      "Train on 19890 samples, validate on 4973 samples\n",
      "Epoch 1/300\n",
      "19890/19890 [==============================] - 33s 2ms/sample - loss: 9.3577 - starts_loss: 4.5575 - stops_loss: 4.7979 - starts_accuracy: 0.0762 - stops_accuracy: 0.0138 - val_loss: 9.3318 - val_starts_loss: 4.6548 - val_stops_loss: 4.6770 - val_starts_accuracy: 0.2286 - val_stops_accuracy: 0.0205\n",
      "Epoch 2/300\n",
      "19890/19890 [==============================] - 17s 848us/sample - loss: 9.0100 - starts_loss: 4.3396 - stops_loss: 4.6629 - starts_accuracy: 0.1553 - stops_accuracy: 0.0210 - val_loss: 9.2580 - val_starts_loss: 4.6007 - val_stops_loss: 4.6573 - val_starts_accuracy: 0.2737 - val_stops_accuracy: 0.0326\n",
      "Epoch 3/300\n",
      "19890/19890 [==============================] - 17s 838us/sample - loss: 8.2374 - starts_loss: 3.8241 - stops_loss: 4.3933 - starts_accuracy: 0.2777 - stops_accuracy: 0.0471 - val_loss: 9.0713 - val_starts_loss: 4.4658 - val_stops_loss: 4.6055 - val_starts_accuracy: 0.2972 - val_stops_accuracy: 0.0993\n",
      "Epoch 4/300\n",
      "19890/19890 [==============================] - 17s 837us/sample - loss: 7.0341 - starts_loss: 3.0809 - stops_loss: 3.9338 - starts_accuracy: 0.3162 - stops_accuracy: 0.0944 - val_loss: 8.5662 - val_starts_loss: 4.1028 - val_stops_loss: 4.4634 - val_starts_accuracy: 0.3085 - val_stops_accuracy: 0.1287\n",
      "Epoch 5/300\n",
      "19890/19890 [==============================] - 17s 836us/sample - loss: 5.8035 - starts_loss: 2.4971 - stops_loss: 3.2950 - starts_accuracy: 0.3324 - stops_accuracy: 0.1730 - val_loss: 7.7905 - val_starts_loss: 3.6103 - val_stops_loss: 4.1801 - val_starts_accuracy: 0.3638 - val_stops_accuracy: 0.1516\n",
      "Epoch 6/300\n",
      "19890/19890 [==============================] - 17s 842us/sample - loss: 5.0646 - starts_loss: 2.2549 - stops_loss: 2.8047 - starts_accuracy: 0.3366 - stops_accuracy: 0.2834 - val_loss: 7.1289 - val_starts_loss: 3.2692 - val_stops_loss: 3.8594 - val_starts_accuracy: 0.3648 - val_stops_accuracy: 0.1663\n",
      "Epoch 7/300\n",
      "19890/19890 [==============================] - 23s 1ms/sample - loss: 4.6056 - starts_loss: 2.1478 - stops_loss: 2.4522 - starts_accuracy: 0.3385 - stops_accuracy: 0.3756 - val_loss: 6.5632 - val_starts_loss: 2.9788 - val_stops_loss: 3.5839 - val_starts_accuracy: 0.3648 - val_stops_accuracy: 0.1942\n",
      "Epoch 8/300\n",
      "19890/19890 [==============================] - 17s 857us/sample - loss: 4.3117 - starts_loss: 2.0799 - stops_loss: 2.2267 - starts_accuracy: 0.3450 - stops_accuracy: 0.4244 - val_loss: 6.1471 - val_starts_loss: 2.7465 - val_stops_loss: 3.3997 - val_starts_accuracy: 0.3648 - val_stops_accuracy: 0.2455\n",
      "Epoch 9/300\n",
      "19890/19890 [==============================] - 17s 840us/sample - loss: 4.1355 - starts_loss: 2.0392 - stops_loss: 2.0952 - starts_accuracy: 0.3443 - stops_accuracy: 0.4517 - val_loss: 5.8723 - val_starts_loss: 2.5754 - val_stops_loss: 3.2956 - val_starts_accuracy: 0.3648 - val_stops_accuracy: 0.2689\n",
      "Epoch 10/300\n",
      "19890/19890 [==============================] - 16s 829us/sample - loss: 4.0066 - starts_loss: 2.0142 - stops_loss: 1.9896 - starts_accuracy: 0.3483 - stops_accuracy: 0.4761 - val_loss: 5.7197 - val_starts_loss: 2.4588 - val_stops_loss: 3.2592 - val_starts_accuracy: 0.3648 - val_stops_accuracy: 0.2238\n",
      "Epoch 11/300\n",
      "19890/19890 [==============================] - 17s 847us/sample - loss: 3.8981 - starts_loss: 1.9798 - stops_loss: 1.9211 - starts_accuracy: 0.3513 - stops_accuracy: 0.4940 - val_loss: 5.6692 - val_starts_loss: 2.3951 - val_stops_loss: 3.2721 - val_starts_accuracy: 0.3648 - val_stops_accuracy: 0.2240\n",
      "Epoch 12/300\n",
      "19890/19890 [==============================] - 17s 838us/sample - loss: 3.8403 - starts_loss: 1.9641 - stops_loss: 1.8784 - starts_accuracy: 0.3460 - stops_accuracy: 0.5082 - val_loss: 5.6596 - val_starts_loss: 2.3929 - val_stops_loss: 3.2645 - val_starts_accuracy: 0.3648 - val_stops_accuracy: 0.1786\n",
      "Epoch 13/300\n",
      "19890/19890 [==============================] - 17s 838us/sample - loss: 3.7987 - starts_loss: 1.9533 - stops_loss: 1.8428 - starts_accuracy: 0.3525 - stops_accuracy: 0.5229 - val_loss: 5.6489 - val_starts_loss: 2.3889 - val_stops_loss: 3.2579 - val_starts_accuracy: 0.3648 - val_stops_accuracy: 0.2276\n",
      "Epoch 14/300\n",
      "19890/19890 [==============================] - 17s 844us/sample - loss: 3.7639 - starts_loss: 1.9477 - stops_loss: 1.8149 - starts_accuracy: 0.3518 - stops_accuracy: 0.5262 - val_loss: 5.6174 - val_starts_loss: 2.3785 - val_stops_loss: 3.2364 - val_starts_accuracy: 0.3648 - val_stops_accuracy: 0.2349\n",
      "Epoch 15/300\n",
      "19890/19890 [==============================] - 17s 850us/sample - loss: 3.7311 - starts_loss: 1.9367 - stops_loss: 1.7892 - starts_accuracy: 0.3522 - stops_accuracy: 0.5392 - val_loss: 5.5719 - val_starts_loss: 2.3802 - val_stops_loss: 3.1891 - val_starts_accuracy: 0.3648 - val_stops_accuracy: 0.2393\n",
      "Epoch 16/300\n",
      "19890/19890 [==============================] - 17s 837us/sample - loss: 3.7101 - starts_loss: 1.9376 - stops_loss: 1.7745 - starts_accuracy: 0.3572 - stops_accuracy: 0.5406 - val_loss: 5.5008 - val_starts_loss: 2.3821 - val_stops_loss: 3.1160 - val_starts_accuracy: 0.3648 - val_stops_accuracy: 0.2443\n",
      "Epoch 17/300\n",
      "19890/19890 [==============================] - 17s 840us/sample - loss: 3.7081 - starts_loss: 1.9354 - stops_loss: 1.7709 - starts_accuracy: 0.3531 - stops_accuracy: 0.5445 - val_loss: 5.4057 - val_starts_loss: 2.3751 - val_stops_loss: 3.0279 - val_starts_accuracy: 0.3632 - val_stops_accuracy: 0.2697\n",
      "Epoch 18/300\n",
      "19890/19890 [==============================] - 17s 831us/sample - loss: 3.6890 - starts_loss: 1.9291 - stops_loss: 1.7655 - starts_accuracy: 0.3594 - stops_accuracy: 0.5516 - val_loss: 5.3257 - val_starts_loss: 2.3772 - val_stops_loss: 2.9457 - val_starts_accuracy: 0.3451 - val_stops_accuracy: 0.2896\n",
      "Epoch 19/300\n",
      "19890/19890 [==============================] - 16s 825us/sample - loss: 3.6821 - starts_loss: 1.9261 - stops_loss: 1.7561 - starts_accuracy: 0.3529 - stops_accuracy: 0.5457 - val_loss: 5.2095 - val_starts_loss: 2.3688 - val_stops_loss: 2.8379 - val_starts_accuracy: 0.3529 - val_stops_accuracy: 0.2998\n",
      "Epoch 20/300\n",
      "19890/19890 [==============================] - 17s 834us/sample - loss: 3.6741 - starts_loss: 1.9264 - stops_loss: 1.7534 - starts_accuracy: 0.3550 - stops_accuracy: 0.5512 - val_loss: 5.0848 - val_starts_loss: 2.3569 - val_stops_loss: 2.7250 - val_starts_accuracy: 0.3563 - val_stops_accuracy: 0.3424\n",
      "Epoch 21/300\n",
      "19890/19890 [==============================] - 17s 834us/sample - loss: 3.6646 - starts_loss: 1.9222 - stops_loss: 1.7446 - starts_accuracy: 0.3606 - stops_accuracy: 0.5512 - val_loss: 4.9634 - val_starts_loss: 2.3415 - val_stops_loss: 2.6190 - val_starts_accuracy: 0.3583 - val_stops_accuracy: 0.3939\n",
      "Epoch 22/300\n",
      "19890/19890 [==============================] - 19s 943us/sample - loss: 3.6635 - starts_loss: 1.9177 - stops_loss: 1.7439 - starts_accuracy: 0.3541 - stops_accuracy: 0.5544 - val_loss: 4.8469 - val_starts_loss: 2.3271 - val_stops_loss: 2.5169 - val_starts_accuracy: 0.3591 - val_stops_accuracy: 0.4655\n",
      "Epoch 23/300\n",
      "19890/19890 [==============================] - 23s 1ms/sample - loss: 3.6677 - starts_loss: 1.9277 - stops_loss: 1.7387 - starts_accuracy: 0.3541 - stops_accuracy: 0.5514 - val_loss: 4.7216 - val_starts_loss: 2.2977 - val_stops_loss: 2.4210 - val_starts_accuracy: 0.3642 - val_stops_accuracy: 0.4792\n",
      "Epoch 24/300\n",
      "19890/19890 [==============================] - 19s 951us/sample - loss: 3.6452 - starts_loss: 1.9207 - stops_loss: 1.7279 - starts_accuracy: 0.3539 - stops_accuracy: 0.5597 - val_loss: 4.5807 - val_starts_loss: 2.2788 - val_stops_loss: 2.2990 - val_starts_accuracy: 0.3326 - val_stops_accuracy: 0.5019\n",
      "Epoch 25/300\n",
      "19890/19890 [==============================] - 17s 865us/sample - loss: 3.6427 - starts_loss: 1.9183 - stops_loss: 1.7210 - starts_accuracy: 0.3538 - stops_accuracy: 0.5613 - val_loss: 4.4801 - val_starts_loss: 2.2508 - val_stops_loss: 2.2260 - val_starts_accuracy: 0.3585 - val_stops_accuracy: 0.5049\n",
      "Epoch 26/300\n",
      "19890/19890 [==============================] - 17s 868us/sample - loss: 3.6214 - starts_loss: 1.9192 - stops_loss: 1.7056 - starts_accuracy: 0.3570 - stops_accuracy: 0.5631 - val_loss: 4.3013 - val_starts_loss: 2.2059 - val_stops_loss: 2.0923 - val_starts_accuracy: 0.3338 - val_stops_accuracy: 0.5309\n"
     ]
    },
    {
     "name": "stdout",
     "output_type": "stream",
     "text": [
      "Epoch 27/300\n",
      "19890/19890 [==============================] - 17s 874us/sample - loss: 3.5985 - starts_loss: 1.9100 - stops_loss: 1.6895 - starts_accuracy: 0.3550 - stops_accuracy: 0.5662 - val_loss: 4.2790 - val_starts_loss: 2.2206 - val_stops_loss: 2.0554 - val_starts_accuracy: 0.3235 - val_stops_accuracy: 0.5317\n",
      "Epoch 28/300\n",
      "19890/19890 [==============================] - 17s 876us/sample - loss: 3.5829 - starts_loss: 1.9032 - stops_loss: 1.6771 - starts_accuracy: 0.3558 - stops_accuracy: 0.5713 - val_loss: 4.1746 - val_starts_loss: 2.2299 - val_stops_loss: 1.9421 - val_starts_accuracy: 0.3515 - val_stops_accuracy: 0.5443\n",
      "Epoch 29/300\n",
      "19890/19890 [==============================] - 17s 858us/sample - loss: 3.5905 - starts_loss: 1.9125 - stops_loss: 1.6761 - starts_accuracy: 0.3555 - stops_accuracy: 0.5731 - val_loss: 3.7645 - val_starts_loss: 2.0353 - val_stops_loss: 1.7267 - val_starts_accuracy: 0.3648 - val_stops_accuracy: 0.5771\n",
      "Epoch 30/300\n",
      "19890/19890 [==============================] - 17s 834us/sample - loss: 3.5562 - starts_loss: 1.8987 - stops_loss: 1.6560 - starts_accuracy: 0.3591 - stops_accuracy: 0.5776 - val_loss: 3.6677 - val_starts_loss: 1.9854 - val_stops_loss: 1.6802 - val_starts_accuracy: 0.3599 - val_stops_accuracy: 0.5747\n",
      "Epoch 31/300\n",
      "19890/19890 [==============================] - 17s 839us/sample - loss: 3.5397 - starts_loss: 1.8958 - stops_loss: 1.6463 - starts_accuracy: 0.3569 - stops_accuracy: 0.5795 - val_loss: 3.5921 - val_starts_loss: 1.9604 - val_stops_loss: 1.6294 - val_starts_accuracy: 0.3507 - val_stops_accuracy: 0.5840\n",
      "Epoch 32/300\n",
      "19890/19890 [==============================] - 16s 824us/sample - loss: 3.5222 - starts_loss: 1.8907 - stops_loss: 1.6320 - starts_accuracy: 0.3589 - stops_accuracy: 0.5813 - val_loss: 3.6550 - val_starts_loss: 1.9905 - val_stops_loss: 1.6624 - val_starts_accuracy: 0.3573 - val_stops_accuracy: 0.5741\n",
      "Epoch 33/300\n",
      "19890/19890 [==============================] - 16s 820us/sample - loss: 3.4916 - starts_loss: 1.8814 - stops_loss: 1.6142 - starts_accuracy: 0.3583 - stops_accuracy: 0.5853 - val_loss: 3.6185 - val_starts_loss: 1.9674 - val_stops_loss: 1.6482 - val_starts_accuracy: 0.3569 - val_stops_accuracy: 0.5773\n",
      "Epoch 34/300\n",
      "19890/19890 [==============================] - 17s 840us/sample - loss: 3.4843 - starts_loss: 1.8791 - stops_loss: 1.6093 - starts_accuracy: 0.3601 - stops_accuracy: 0.5881 - val_loss: 3.6852 - val_starts_loss: 2.0251 - val_stops_loss: 1.6581 - val_starts_accuracy: 0.3593 - val_stops_accuracy: 0.5948\n",
      "Epoch 35/300\n",
      "19890/19890 [==============================] - 17s 844us/sample - loss: 3.4761 - starts_loss: 1.8797 - stops_loss: 1.6035 - starts_accuracy: 0.3640 - stops_accuracy: 0.5857 - val_loss: 3.5996 - val_starts_loss: 1.9627 - val_stops_loss: 1.6341 - val_starts_accuracy: 0.3704 - val_stops_accuracy: 0.5797\n",
      "Epoch 36/300\n",
      "19890/19890 [==============================] - 16s 824us/sample - loss: 3.4556 - starts_loss: 1.8697 - stops_loss: 1.5929 - starts_accuracy: 0.3663 - stops_accuracy: 0.5920 - val_loss: 3.5383 - val_starts_loss: 1.9422 - val_stops_loss: 1.5937 - val_starts_accuracy: 0.3614 - val_stops_accuracy: 0.5932\n",
      "Epoch 37/300\n",
      "19890/19890 [==============================] - 16s 828us/sample - loss: 3.4532 - starts_loss: 1.8672 - stops_loss: 1.5876 - starts_accuracy: 0.3664 - stops_accuracy: 0.5898 - val_loss: 3.5200 - val_starts_loss: 1.9334 - val_stops_loss: 1.5843 - val_starts_accuracy: 0.3658 - val_stops_accuracy: 0.5942\n",
      "Epoch 38/300\n",
      "19890/19890 [==============================] - 17s 853us/sample - loss: 3.4408 - starts_loss: 1.8624 - stops_loss: 1.5795 - starts_accuracy: 0.3658 - stops_accuracy: 0.5935 - val_loss: 3.4999 - val_starts_loss: 1.9217 - val_stops_loss: 1.5759 - val_starts_accuracy: 0.3628 - val_stops_accuracy: 0.5972\n",
      "Epoch 39/300\n",
      "19890/19890 [==============================] - 17s 832us/sample - loss: 3.4406 - starts_loss: 1.8660 - stops_loss: 1.5779 - starts_accuracy: 0.3637 - stops_accuracy: 0.5944 - val_loss: 3.4814 - val_starts_loss: 1.9134 - val_stops_loss: 1.5659 - val_starts_accuracy: 0.3654 - val_stops_accuracy: 0.6016\n",
      "Epoch 40/300\n",
      "19890/19890 [==============================] - 17s 855us/sample - loss: 3.4502 - starts_loss: 1.8720 - stops_loss: 1.5811 - starts_accuracy: 0.3634 - stops_accuracy: 0.5939 - val_loss: 3.4590 - val_starts_loss: 1.9036 - val_stops_loss: 1.5534 - val_starts_accuracy: 0.3622 - val_stops_accuracy: 0.6049\n",
      "Epoch 41/300\n",
      "19890/19890 [==============================] - 17s 833us/sample - loss: 3.4460 - starts_loss: 1.8672 - stops_loss: 1.5811 - starts_accuracy: 0.3701 - stops_accuracy: 0.5937 - val_loss: 3.4574 - val_starts_loss: 1.9006 - val_stops_loss: 1.5549 - val_starts_accuracy: 0.3676 - val_stops_accuracy: 0.6067\n",
      "Epoch 42/300\n",
      "19890/19890 [==============================] - 16s 818us/sample - loss: 3.4376 - starts_loss: 1.8658 - stops_loss: 1.5783 - starts_accuracy: 0.3635 - stops_accuracy: 0.5948 - val_loss: 3.4748 - val_starts_loss: 1.9003 - val_stops_loss: 1.5722 - val_starts_accuracy: 0.3591 - val_stops_accuracy: 0.5996\n",
      "Epoch 43/300\n",
      "19890/19890 [==============================] - 17s 844us/sample - loss: 3.4243 - starts_loss: 1.8532 - stops_loss: 1.5703 - starts_accuracy: 0.3688 - stops_accuracy: 0.5919 - val_loss: 3.4330 - val_starts_loss: 1.8901 - val_stops_loss: 1.5408 - val_starts_accuracy: 0.3618 - val_stops_accuracy: 0.6091\n",
      "Epoch 44/300\n",
      "19890/19890 [==============================] - 17s 839us/sample - loss: 3.4207 - starts_loss: 1.8570 - stops_loss: 1.5647 - starts_accuracy: 0.3705 - stops_accuracy: 0.5975 - val_loss: 3.4432 - val_starts_loss: 1.8892 - val_stops_loss: 1.5518 - val_starts_accuracy: 0.3638 - val_stops_accuracy: 0.6043\n",
      "Epoch 45/300\n",
      "19890/19890 [==============================] - 18s 886us/sample - loss: 3.4098 - starts_loss: 1.8467 - stops_loss: 1.5620 - starts_accuracy: 0.3734 - stops_accuracy: 0.5954 - val_loss: 3.4247 - val_starts_loss: 1.8784 - val_stops_loss: 1.5443 - val_starts_accuracy: 0.3917 - val_stops_accuracy: 0.6063\n",
      "Epoch 46/300\n",
      "19890/19890 [==============================] - 18s 919us/sample - loss: 3.3925 - starts_loss: 1.8408 - stops_loss: 1.5523 - starts_accuracy: 0.3844 - stops_accuracy: 0.5965 - val_loss: 3.4562 - val_starts_loss: 1.8959 - val_stops_loss: 1.5578 - val_starts_accuracy: 0.4044 - val_stops_accuracy: 0.5996\n",
      "Epoch 47/300\n",
      "19890/19890 [==============================] - 17s 880us/sample - loss: 3.3788 - starts_loss: 1.8246 - stops_loss: 1.5524 - starts_accuracy: 0.3972 - stops_accuracy: 0.5945 - val_loss: 3.3852 - val_starts_loss: 1.8394 - val_stops_loss: 1.5431 - val_starts_accuracy: 0.4374 - val_stops_accuracy: 0.6105\n",
      "Epoch 48/300\n",
      "19890/19890 [==============================] - 17s 852us/sample - loss: 3.3442 - starts_loss: 1.7863 - stops_loss: 1.5612 - starts_accuracy: 0.4431 - stops_accuracy: 0.5930 - val_loss: 3.3573 - val_starts_loss: 1.7983 - val_stops_loss: 1.5566 - val_starts_accuracy: 0.4840 - val_stops_accuracy: 0.6061\n",
      "Epoch 49/300\n",
      "19890/19890 [==============================] - 17s 840us/sample - loss: 3.2741 - starts_loss: 1.7207 - stops_loss: 1.5584 - starts_accuracy: 0.4956 - stops_accuracy: 0.5927 - val_loss: 3.3221 - val_starts_loss: 1.7683 - val_stops_loss: 1.5515 - val_starts_accuracy: 0.4782 - val_stops_accuracy: 0.6103\n",
      "Epoch 50/300\n",
      "19890/19890 [==============================] - 17s 833us/sample - loss: 3.2111 - starts_loss: 1.6581 - stops_loss: 1.5517 - starts_accuracy: 0.5420 - stops_accuracy: 0.5907 - val_loss: 3.2890 - val_starts_loss: 1.7245 - val_stops_loss: 1.5616 - val_starts_accuracy: 0.5053 - val_stops_accuracy: 0.6095\n",
      "Epoch 51/300\n",
      "19890/19890 [==============================] - 17s 850us/sample - loss: 3.1473 - starts_loss: 1.6095 - stops_loss: 1.5351 - starts_accuracy: 0.5628 - stops_accuracy: 0.5933 - val_loss: 3.1533 - val_starts_loss: 1.6006 - val_stops_loss: 1.5502 - val_starts_accuracy: 0.5628 - val_stops_accuracy: 0.6119\n",
      "Epoch 52/300\n",
      "19890/19890 [==============================] - 17s 837us/sample - loss: 3.0992 - starts_loss: 1.5723 - stops_loss: 1.5265 - starts_accuracy: 0.5741 - stops_accuracy: 0.5957 - val_loss: 3.1184 - val_starts_loss: 1.5676 - val_stops_loss: 1.5483 - val_starts_accuracy: 0.5862 - val_stops_accuracy: 0.6097\n",
      "Epoch 53/300\n"
     ]
    },
    {
     "name": "stdout",
     "output_type": "stream",
     "text": [
      "19890/19890 [==============================] - 17s 843us/sample - loss: 3.0827 - starts_loss: 1.5652 - stops_loss: 1.5224 - starts_accuracy: 0.5811 - stops_accuracy: 0.5955 - val_loss: 3.1217 - val_starts_loss: 1.5724 - val_stops_loss: 1.5469 - val_starts_accuracy: 0.5874 - val_stops_accuracy: 0.6117\n",
      "Epoch 54/300\n",
      "19890/19890 [==============================] - 17s 853us/sample - loss: 3.0481 - starts_loss: 1.5448 - stops_loss: 1.5010 - starts_accuracy: 0.5849 - stops_accuracy: 0.5983 - val_loss: 3.0975 - val_starts_loss: 1.5560 - val_stops_loss: 1.5390 - val_starts_accuracy: 0.5998 - val_stops_accuracy: 0.6119\n",
      "Epoch 55/300\n",
      "19890/19890 [==============================] - 17s 876us/sample - loss: 3.0080 - starts_loss: 1.5221 - stops_loss: 1.4869 - starts_accuracy: 0.5891 - stops_accuracy: 0.6005 - val_loss: 3.1028 - val_starts_loss: 1.5594 - val_stops_loss: 1.5408 - val_starts_accuracy: 0.5996 - val_stops_accuracy: 0.6095\n",
      "Epoch 56/300\n",
      "19890/19890 [==============================] - 18s 907us/sample - loss: 3.0138 - starts_loss: 1.5173 - stops_loss: 1.4915 - starts_accuracy: 0.5903 - stops_accuracy: 0.5997 - val_loss: 3.0998 - val_starts_loss: 1.5583 - val_stops_loss: 1.5389 - val_starts_accuracy: 0.6035 - val_stops_accuracy: 0.6107\n",
      "Epoch 57/300\n",
      "19890/19890 [==============================] - 18s 908us/sample - loss: 2.9989 - starts_loss: 1.5213 - stops_loss: 1.4825 - starts_accuracy: 0.5893 - stops_accuracy: 0.6019 - val_loss: 3.0956 - val_starts_loss: 1.5558 - val_stops_loss: 1.5373 - val_starts_accuracy: 0.6045 - val_stops_accuracy: 0.6093\n",
      "Epoch 58/300\n",
      "19890/19890 [==============================] - 17s 873us/sample - loss: 2.9896 - starts_loss: 1.5113 - stops_loss: 1.4769 - starts_accuracy: 0.5916 - stops_accuracy: 0.6049 - val_loss: 3.0866 - val_starts_loss: 1.5474 - val_stops_loss: 1.5366 - val_starts_accuracy: 0.6073 - val_stops_accuracy: 0.6103\n",
      "Epoch 59/300\n",
      "19890/19890 [==============================] - 17s 845us/sample - loss: 2.9891 - starts_loss: 1.5111 - stops_loss: 1.4771 - starts_accuracy: 0.5920 - stops_accuracy: 0.6016 - val_loss: 3.0859 - val_starts_loss: 1.5472 - val_stops_loss: 1.5362 - val_starts_accuracy: 0.6089 - val_stops_accuracy: 0.6115\n",
      "Epoch 60/300\n",
      "19890/19890 [==============================] - 17s 846us/sample - loss: 2.9967 - starts_loss: 1.5130 - stops_loss: 1.4825 - starts_accuracy: 0.5926 - stops_accuracy: 0.6025 - val_loss: 3.0827 - val_starts_loss: 1.5430 - val_stops_loss: 1.5371 - val_starts_accuracy: 0.6075 - val_stops_accuracy: 0.6091\n",
      "Epoch 61/300\n",
      "19890/19890 [==============================] - 17s 832us/sample - loss: 2.9941 - starts_loss: 1.5063 - stops_loss: 1.4891 - starts_accuracy: 0.5903 - stops_accuracy: 0.6002 - val_loss: 3.0886 - val_starts_loss: 1.5410 - val_stops_loss: 1.5449 - val_starts_accuracy: 0.6089 - val_stops_accuracy: 0.6105\n",
      "Epoch 62/300\n",
      "19890/19890 [==============================] - 17s 834us/sample - loss: 2.9730 - starts_loss: 1.4974 - stops_loss: 1.4825 - starts_accuracy: 0.5942 - stops_accuracy: 0.6014 - val_loss: 3.0832 - val_starts_loss: 1.5392 - val_stops_loss: 1.5414 - val_starts_accuracy: 0.6073 - val_stops_accuracy: 0.6113\n",
      "Epoch 63/300\n",
      "19890/19890 [==============================] - 17s 870us/sample - loss: 2.9659 - starts_loss: 1.4887 - stops_loss: 1.4763 - starts_accuracy: 0.5951 - stops_accuracy: 0.6012 - val_loss: 3.0774 - val_starts_loss: 1.5290 - val_stops_loss: 1.5457 - val_starts_accuracy: 0.6075 - val_stops_accuracy: 0.6105\n",
      "Epoch 64/300\n",
      "19890/19890 [==============================] - 17s 852us/sample - loss: 2.9552 - starts_loss: 1.4852 - stops_loss: 1.4692 - starts_accuracy: 0.5972 - stops_accuracy: 0.6044 - val_loss: 3.0873 - val_starts_loss: 1.5348 - val_stops_loss: 1.5498 - val_starts_accuracy: 0.6089 - val_stops_accuracy: 0.6121\n",
      "Epoch 65/300\n",
      "19890/19890 [==============================] - 17s 832us/sample - loss: 2.9318 - starts_loss: 1.4688 - stops_loss: 1.4610 - starts_accuracy: 0.5988 - stops_accuracy: 0.6019 - val_loss: 3.0849 - val_starts_loss: 1.5304 - val_stops_loss: 1.5522 - val_starts_accuracy: 0.6045 - val_stops_accuracy: 0.6091\n",
      "Epoch 66/300\n",
      "19890/19890 [==============================] - 17s 835us/sample - loss: 2.9292 - starts_loss: 1.4670 - stops_loss: 1.4588 - starts_accuracy: 0.5997 - stops_accuracy: 0.6043 - val_loss: 3.1081 - val_starts_loss: 1.5417 - val_stops_loss: 1.5639 - val_starts_accuracy: 0.6037 - val_stops_accuracy: 0.6097\n",
      "Epoch 67/300\n",
      "19890/19890 [==============================] - 16s 824us/sample - loss: 2.8954 - starts_loss: 1.4530 - stops_loss: 1.4390 - starts_accuracy: 0.6031 - stops_accuracy: 0.6071 - val_loss: 3.1210 - val_starts_loss: 1.5491 - val_stops_loss: 1.5688 - val_starts_accuracy: 0.6057 - val_stops_accuracy: 0.6004\n",
      "Epoch 68/300\n",
      "19890/19890 [==============================] - 17s 837us/sample - loss: 2.8832 - starts_loss: 1.4460 - stops_loss: 1.4366 - starts_accuracy: 0.6032 - stops_accuracy: 0.6075 - val_loss: 3.1104 - val_starts_loss: 1.5444 - val_stops_loss: 1.5631 - val_starts_accuracy: 0.6006 - val_stops_accuracy: 0.6103\n",
      "Epoch 69/300\n",
      "19890/19890 [==============================] - 16s 824us/sample - loss: 2.8548 - starts_loss: 1.4285 - stops_loss: 1.4224 - starts_accuracy: 0.6062 - stops_accuracy: 0.6070 - val_loss: 3.1446 - val_starts_loss: 1.5468 - val_stops_loss: 1.5955 - val_starts_accuracy: 0.6029 - val_stops_accuracy: 0.6095\n",
      "Epoch 70/300\n",
      "19890/19890 [==============================] - 18s 887us/sample - loss: 2.8297 - starts_loss: 1.4120 - stops_loss: 1.4099 - starts_accuracy: 0.6050 - stops_accuracy: 0.6070 - val_loss: 3.1175 - val_starts_loss: 1.5259 - val_stops_loss: 1.5887 - val_starts_accuracy: 0.6047 - val_stops_accuracy: 0.6067\n",
      "Epoch 71/300\n",
      "19890/19890 [==============================] - 17s 877us/sample - loss: 2.8099 - starts_loss: 1.4062 - stops_loss: 1.3971 - starts_accuracy: 0.6066 - stops_accuracy: 0.6093 - val_loss: 3.1201 - val_starts_loss: 1.5273 - val_stops_loss: 1.5899 - val_starts_accuracy: 0.6055 - val_stops_accuracy: 0.6105\n",
      "Epoch 72/300\n",
      "19890/19890 [==============================] - 17s 838us/sample - loss: 2.7876 - starts_loss: 1.4022 - stops_loss: 1.3955 - starts_accuracy: 0.6080 - stops_accuracy: 0.6127 - val_loss: 3.1116 - val_starts_loss: 1.5182 - val_stops_loss: 1.5903 - val_starts_accuracy: 0.6065 - val_stops_accuracy: 0.6085\n",
      "Epoch 73/300\n",
      "19890/19890 [==============================] - 17s 840us/sample - loss: 2.7794 - starts_loss: 1.3990 - stops_loss: 1.3901 - starts_accuracy: 0.6089 - stops_accuracy: 0.6110 - val_loss: 3.1050 - val_starts_loss: 1.5208 - val_stops_loss: 1.5812 - val_starts_accuracy: 0.6065 - val_stops_accuracy: 0.6083\n",
      "Epoch 74/300\n",
      "19890/19890 [==============================] - 18s 912us/sample - loss: 2.7588 - starts_loss: 1.3849 - stops_loss: 1.3704 - starts_accuracy: 0.6082 - stops_accuracy: 0.6144 - val_loss: 3.1092 - val_starts_loss: 1.5258 - val_stops_loss: 1.5803 - val_starts_accuracy: 0.6045 - val_stops_accuracy: 0.6119\n",
      "Epoch 75/300\n",
      "19890/19890 [==============================] - 18s 892us/sample - loss: 2.7364 - starts_loss: 1.3700 - stops_loss: 1.3650 - starts_accuracy: 0.6130 - stops_accuracy: 0.6163 - val_loss: 3.1154 - val_starts_loss: 1.5297 - val_stops_loss: 1.5826 - val_starts_accuracy: 0.6039 - val_stops_accuracy: 0.6101\n",
      "Epoch 76/300\n",
      "19890/19890 [==============================] - 18s 913us/sample - loss: 2.7367 - starts_loss: 1.3835 - stops_loss: 1.3647 - starts_accuracy: 0.6082 - stops_accuracy: 0.6178 - val_loss: 3.1082 - val_starts_loss: 1.5272 - val_stops_loss: 1.5778 - val_starts_accuracy: 0.6039 - val_stops_accuracy: 0.6081\n",
      "Epoch 77/300\n",
      "19890/19890 [==============================] - 18s 905us/sample - loss: 2.7255 - starts_loss: 1.3644 - stops_loss: 1.3580 - starts_accuracy: 0.6102 - stops_accuracy: 0.6196 - val_loss: 3.1097 - val_starts_loss: 1.5257 - val_stops_loss: 1.5809 - val_starts_accuracy: 0.6041 - val_stops_accuracy: 0.6093\n",
      "Epoch 78/300\n",
      "19890/19890 [==============================] - 18s 918us/sample - loss: 2.7244 - starts_loss: 1.3706 - stops_loss: 1.3563 - starts_accuracy: 0.6103 - stops_accuracy: 0.6197 - val_loss: 3.1083 - val_starts_loss: 1.5275 - val_stops_loss: 1.5774 - val_starts_accuracy: 0.6053 - val_stops_accuracy: 0.6075\n",
      "Epoch 79/300\n"
     ]
    },
    {
     "name": "stdout",
     "output_type": "stream",
     "text": [
      "19890/19890 [==============================] - 17s 878us/sample - loss: 2.7382 - starts_loss: 1.3795 - stops_loss: 1.3598 - starts_accuracy: 0.6095 - stops_accuracy: 0.6167 - val_loss: 3.1145 - val_starts_loss: 1.5344 - val_stops_loss: 1.5766 - val_starts_accuracy: 0.6081 - val_stops_accuracy: 0.6051\n",
      "Epoch 80/300\n",
      "19890/19890 [==============================] - 17s 856us/sample - loss: 2.7258 - starts_loss: 1.3723 - stops_loss: 1.3541 - starts_accuracy: 0.6100 - stops_accuracy: 0.6164 - val_loss: 3.1115 - val_starts_loss: 1.5342 - val_stops_loss: 1.5739 - val_starts_accuracy: 0.6077 - val_stops_accuracy: 0.6077\n",
      "Epoch 81/300\n",
      "19890/19890 [==============================] - 17s 861us/sample - loss: 2.7216 - starts_loss: 1.3644 - stops_loss: 1.3568 - starts_accuracy: 0.6114 - stops_accuracy: 0.6175 - val_loss: 3.1266 - val_starts_loss: 1.5369 - val_stops_loss: 1.5864 - val_starts_accuracy: 0.6077 - val_stops_accuracy: 0.6043\n",
      "Epoch 82/300\n",
      "19890/19890 [==============================] - 16s 825us/sample - loss: 2.7337 - starts_loss: 1.3791 - stops_loss: 1.3607 - starts_accuracy: 0.6076 - stops_accuracy: 0.6194 - val_loss: 3.1228 - val_starts_loss: 1.5232 - val_stops_loss: 1.5962 - val_starts_accuracy: 0.6123 - val_stops_accuracy: 0.6023\n",
      "Epoch 83/300\n",
      "19890/19890 [==============================] - 17s 831us/sample - loss: 2.7123 - starts_loss: 1.3628 - stops_loss: 1.3495 - starts_accuracy: 0.6111 - stops_accuracy: 0.6171 - val_loss: 3.1167 - val_starts_loss: 1.5248 - val_stops_loss: 1.5885 - val_starts_accuracy: 0.6047 - val_stops_accuracy: 0.6035\n",
      "Epoch 84/300\n",
      "19890/19890 [==============================] - 16s 830us/sample - loss: 2.7073 - starts_loss: 1.3568 - stops_loss: 1.3493 - starts_accuracy: 0.6129 - stops_accuracy: 0.6187 - val_loss: 3.1159 - val_starts_loss: 1.5162 - val_stops_loss: 1.5971 - val_starts_accuracy: 0.6071 - val_stops_accuracy: 0.6075\n",
      "Epoch 85/300\n",
      "19890/19890 [==============================] - 17s 831us/sample - loss: 2.7102 - starts_loss: 1.3718 - stops_loss: 1.3413 - starts_accuracy: 0.6092 - stops_accuracy: 0.6170 - val_loss: 3.1476 - val_starts_loss: 1.5357 - val_stops_loss: 1.6088 - val_starts_accuracy: 0.6069 - val_stops_accuracy: 0.6008\n",
      "Epoch 86/300\n",
      "19890/19890 [==============================] - 16s 825us/sample - loss: 2.7100 - starts_loss: 1.3643 - stops_loss: 1.3450 - starts_accuracy: 0.6115 - stops_accuracy: 0.6189 - val_loss: 3.1607 - val_starts_loss: 1.5443 - val_stops_loss: 1.6136 - val_starts_accuracy: 0.6059 - val_stops_accuracy: 0.6010\n",
      "Epoch 87/300\n",
      "19890/19890 [==============================] - 16s 828us/sample - loss: 2.6860 - starts_loss: 1.3513 - stops_loss: 1.3367 - starts_accuracy: 0.6119 - stops_accuracy: 0.6222 - val_loss: 3.1626 - val_starts_loss: 1.5483 - val_stops_loss: 1.6106 - val_starts_accuracy: 0.6012 - val_stops_accuracy: 0.5988\n",
      "Epoch 88/300\n",
      "19890/19890 [==============================] - 16s 829us/sample - loss: 2.6782 - starts_loss: 1.3442 - stops_loss: 1.3329 - starts_accuracy: 0.6133 - stops_accuracy: 0.6223 - val_loss: 3.2402 - val_starts_loss: 1.5956 - val_stops_loss: 1.6401 - val_starts_accuracy: 0.6093 - val_stops_accuracy: 0.5922\n",
      "Epoch 89/300\n",
      "19890/19890 [==============================] - 16s 828us/sample - loss: 2.6488 - starts_loss: 1.3336 - stops_loss: 1.3110 - starts_accuracy: 0.6108 - stops_accuracy: 0.6237 - val_loss: 3.2506 - val_starts_loss: 1.5957 - val_stops_loss: 1.6501 - val_starts_accuracy: 0.6093 - val_stops_accuracy: 0.5854\n",
      "Epoch 90/300\n",
      "19890/19890 [==============================] - 16s 823us/sample - loss: 2.6492 - starts_loss: 1.3284 - stops_loss: 1.3156 - starts_accuracy: 0.6151 - stops_accuracy: 0.6233 - val_loss: 3.2097 - val_starts_loss: 1.5810 - val_stops_loss: 1.6238 - val_starts_accuracy: 0.6057 - val_stops_accuracy: 0.5910\n",
      "Epoch 91/300\n",
      "19890/19890 [==============================] - 17s 831us/sample - loss: 2.6183 - starts_loss: 1.3208 - stops_loss: 1.2926 - starts_accuracy: 0.6138 - stops_accuracy: 0.6277 - val_loss: 3.1517 - val_starts_loss: 1.5485 - val_stops_loss: 1.5991 - val_starts_accuracy: 0.6037 - val_stops_accuracy: 0.6010\n",
      "Epoch 92/300\n",
      "19890/19890 [==============================] - 17s 836us/sample - loss: 2.5983 - starts_loss: 1.3074 - stops_loss: 1.2884 - starts_accuracy: 0.6159 - stops_accuracy: 0.6301 - val_loss: 3.1718 - val_starts_loss: 1.5614 - val_stops_loss: 1.6064 - val_starts_accuracy: 0.6006 - val_stops_accuracy: 0.5974\n",
      "Epoch 93/300\n",
      "19890/19890 [==============================] - 17s 833us/sample - loss: 2.5986 - starts_loss: 1.3173 - stops_loss: 1.2871 - starts_accuracy: 0.6155 - stops_accuracy: 0.6312 - val_loss: 3.1958 - val_starts_loss: 1.5783 - val_stops_loss: 1.6135 - val_starts_accuracy: 0.6035 - val_stops_accuracy: 0.5920\n",
      "Epoch 94/300\n",
      "19890/19890 [==============================] - 17s 854us/sample - loss: 2.5840 - starts_loss: 1.3046 - stops_loss: 1.2801 - starts_accuracy: 0.6188 - stops_accuracy: 0.6265 - val_loss: 3.1975 - val_starts_loss: 1.5760 - val_stops_loss: 1.6175 - val_starts_accuracy: 0.6037 - val_stops_accuracy: 0.5932\n",
      "Epoch 95/300\n",
      "19890/19890 [==============================] - 19s 976us/sample - loss: 2.5796 - starts_loss: 1.3088 - stops_loss: 1.2768 - starts_accuracy: 0.6159 - stops_accuracy: 0.6339 - val_loss: 3.1978 - val_starts_loss: 1.5748 - val_stops_loss: 1.6189 - val_starts_accuracy: 0.6029 - val_stops_accuracy: 0.5928\n",
      "Epoch 96/300\n",
      "19890/19890 [==============================] - 17s 866us/sample - loss: 2.5763 - starts_loss: 1.3013 - stops_loss: 1.2719 - starts_accuracy: 0.6169 - stops_accuracy: 0.6317 - val_loss: 3.1894 - val_starts_loss: 1.5679 - val_stops_loss: 1.6175 - val_starts_accuracy: 0.6033 - val_stops_accuracy: 0.5948\n",
      "Epoch 97/300\n",
      "19890/19890 [==============================] - 17s 855us/sample - loss: 2.5694 - starts_loss: 1.2982 - stops_loss: 1.2656 - starts_accuracy: 0.6168 - stops_accuracy: 0.6329 - val_loss: 3.1906 - val_starts_loss: 1.5672 - val_stops_loss: 1.6195 - val_starts_accuracy: 0.6018 - val_stops_accuracy: 0.5978\n",
      "Epoch 98/300\n",
      "19890/19890 [==============================] - 17s 832us/sample - loss: 2.5580 - starts_loss: 1.2965 - stops_loss: 1.2597 - starts_accuracy: 0.6190 - stops_accuracy: 0.6342 - val_loss: 3.2270 - val_starts_loss: 1.5894 - val_stops_loss: 1.6337 - val_starts_accuracy: 0.6002 - val_stops_accuracy: 0.5942\n",
      "Epoch 99/300\n",
      "19890/19890 [==============================] - 17s 870us/sample - loss: 2.5666 - starts_loss: 1.2974 - stops_loss: 1.2680 - starts_accuracy: 0.6139 - stops_accuracy: 0.6325 - val_loss: 3.2455 - val_starts_loss: 1.6132 - val_stops_loss: 1.6285 - val_starts_accuracy: 0.5922 - val_stops_accuracy: 0.5930\n",
      "Epoch 100/300\n",
      "19890/19890 [==============================] - 17s 860us/sample - loss: 2.5629 - starts_loss: 1.2965 - stops_loss: 1.2732 - starts_accuracy: 0.6176 - stops_accuracy: 0.6311 - val_loss: 3.2308 - val_starts_loss: 1.5938 - val_stops_loss: 1.6326 - val_starts_accuracy: 0.5990 - val_stops_accuracy: 0.5886\n",
      "Epoch 101/300\n",
      "19890/19890 [==============================] - 17s 861us/sample - loss: 2.5650 - starts_loss: 1.2993 - stops_loss: 1.2652 - starts_accuracy: 0.6167 - stops_accuracy: 0.6302 - val_loss: 3.1931 - val_starts_loss: 1.5612 - val_stops_loss: 1.6284 - val_starts_accuracy: 0.6008 - val_stops_accuracy: 0.5996\n",
      "Epoch 102/300\n",
      "19890/19890 [==============================] - 17s 872us/sample - loss: 2.5614 - starts_loss: 1.2992 - stops_loss: 1.2627 - starts_accuracy: 0.6167 - stops_accuracy: 0.6326 - val_loss: 3.1770 - val_starts_loss: 1.5495 - val_stops_loss: 1.6237 - val_starts_accuracy: 0.6047 - val_stops_accuracy: 0.6006\n",
      "Epoch 103/300\n",
      "19890/19890 [==============================] - 17s 856us/sample - loss: 2.5593 - starts_loss: 1.2887 - stops_loss: 1.2732 - starts_accuracy: 0.6183 - stops_accuracy: 0.6321 - val_loss: 3.1761 - val_starts_loss: 1.5359 - val_stops_loss: 1.6364 - val_starts_accuracy: 0.6077 - val_stops_accuracy: 0.6059\n",
      "Epoch 104/300\n",
      "19890/19890 [==============================] - 17s 876us/sample - loss: 2.5695 - starts_loss: 1.2966 - stops_loss: 1.2721 - starts_accuracy: 0.6169 - stops_accuracy: 0.6337 - val_loss: 3.2261 - val_starts_loss: 1.5360 - val_stops_loss: 1.6866 - val_starts_accuracy: 0.6113 - val_stops_accuracy: 0.6123\n",
      "Epoch 105/300\n"
     ]
    },
    {
     "name": "stdout",
     "output_type": "stream",
     "text": [
      "19890/19890 [==============================] - 17s 867us/sample - loss: 2.5702 - starts_loss: 1.2966 - stops_loss: 1.2721 - starts_accuracy: 0.6160 - stops_accuracy: 0.6280 - val_loss: 3.4798 - val_starts_loss: 1.7129 - val_stops_loss: 1.7644 - val_starts_accuracy: 0.6043 - val_stops_accuracy: 0.6113\n",
      "Epoch 106/300\n",
      "19890/19890 [==============================] - 17s 855us/sample - loss: 2.5771 - starts_loss: 1.2989 - stops_loss: 1.2780 - starts_accuracy: 0.6161 - stops_accuracy: 0.6290 - val_loss: 3.2309 - val_starts_loss: 1.5370 - val_stops_loss: 1.6905 - val_starts_accuracy: 0.6055 - val_stops_accuracy: 0.6127\n",
      "Epoch 107/300\n",
      "19890/19890 [==============================] - 17s 852us/sample - loss: 2.5525 - starts_loss: 1.2920 - stops_loss: 1.2577 - starts_accuracy: 0.6187 - stops_accuracy: 0.6361 - val_loss: 3.2028 - val_starts_loss: 1.5432 - val_stops_loss: 1.6561 - val_starts_accuracy: 0.5974 - val_stops_accuracy: 0.6073\n",
      "Epoch 108/300\n",
      "19890/19890 [==============================] - 17s 855us/sample - loss: 2.5361 - starts_loss: 1.2812 - stops_loss: 1.2480 - starts_accuracy: 0.6223 - stops_accuracy: 0.6351 - val_loss: 3.1863 - val_starts_loss: 1.5355 - val_stops_loss: 1.6472 - val_starts_accuracy: 0.5988 - val_stops_accuracy: 0.6065\n",
      "Epoch 109/300\n",
      "19890/19890 [==============================] - 17s 835us/sample - loss: 2.5104 - starts_loss: 1.2733 - stops_loss: 1.2398 - starts_accuracy: 0.6224 - stops_accuracy: 0.6377 - val_loss: 3.2071 - val_starts_loss: 1.5464 - val_stops_loss: 1.6568 - val_starts_accuracy: 0.5984 - val_stops_accuracy: 0.6053\n",
      "Epoch 110/300\n",
      "19890/19890 [==============================] - 17s 831us/sample - loss: 2.4996 - starts_loss: 1.2667 - stops_loss: 1.2318 - starts_accuracy: 0.6237 - stops_accuracy: 0.6385 - val_loss: 3.2083 - val_starts_loss: 1.5522 - val_stops_loss: 1.6520 - val_starts_accuracy: 0.5956 - val_stops_accuracy: 0.6089\n",
      "Epoch 111/300\n",
      "19890/19890 [==============================] - 17s 837us/sample - loss: 2.4870 - starts_loss: 1.2661 - stops_loss: 1.2221 - starts_accuracy: 0.6207 - stops_accuracy: 0.6384 - val_loss: 3.2110 - val_starts_loss: 1.5567 - val_stops_loss: 1.6501 - val_starts_accuracy: 0.5996 - val_stops_accuracy: 0.6051\n",
      "Epoch 112/300\n",
      "19890/19890 [==============================] - 17s 839us/sample - loss: 2.4770 - starts_loss: 1.2617 - stops_loss: 1.2118 - starts_accuracy: 0.6217 - stops_accuracy: 0.6408 - val_loss: 3.2071 - val_starts_loss: 1.5534 - val_stops_loss: 1.6496 - val_starts_accuracy: 0.5976 - val_stops_accuracy: 0.6085\n",
      "Epoch 113/300\n",
      "19890/19890 [==============================] - 18s 883us/sample - loss: 2.4608 - starts_loss: 1.2547 - stops_loss: 1.2048 - starts_accuracy: 0.6235 - stops_accuracy: 0.6429 - val_loss: 3.2087 - val_starts_loss: 1.5595 - val_stops_loss: 1.6449 - val_starts_accuracy: 0.5976 - val_stops_accuracy: 0.6027\n",
      "Epoch 114/300\n",
      "19890/19890 [==============================] - 17s 849us/sample - loss: 2.4365 - starts_loss: 1.2406 - stops_loss: 1.1943 - starts_accuracy: 0.6253 - stops_accuracy: 0.6454 - val_loss: 3.2120 - val_starts_loss: 1.5596 - val_stops_loss: 1.6480 - val_starts_accuracy: 0.5980 - val_stops_accuracy: 0.6023\n",
      "Epoch 115/300\n",
      "19890/19890 [==============================] - 17s 842us/sample - loss: 2.4486 - starts_loss: 1.2467 - stops_loss: 1.2020 - starts_accuracy: 0.6250 - stops_accuracy: 0.6418 - val_loss: 3.2096 - val_starts_loss: 1.5573 - val_stops_loss: 1.6480 - val_starts_accuracy: 0.6004 - val_stops_accuracy: 0.6027\n",
      "Epoch 116/300\n",
      "19890/19890 [==============================] - 17s 849us/sample - loss: 2.4468 - starts_loss: 1.2454 - stops_loss: 1.2033 - starts_accuracy: 0.6218 - stops_accuracy: 0.6433 - val_loss: 3.2172 - val_starts_loss: 1.5655 - val_stops_loss: 1.6472 - val_starts_accuracy: 0.5996 - val_stops_accuracy: 0.6012\n",
      "Epoch 117/300\n",
      "19890/19890 [==============================] - 17s 854us/sample - loss: 2.4548 - starts_loss: 1.2469 - stops_loss: 1.2075 - starts_accuracy: 0.6237 - stops_accuracy: 0.6384 - val_loss: 3.2030 - val_starts_loss: 1.5627 - val_stops_loss: 1.6364 - val_starts_accuracy: 0.6027 - val_stops_accuracy: 0.6014\n",
      "Epoch 118/300\n",
      "19890/19890 [==============================] - 17s 844us/sample - loss: 2.4587 - starts_loss: 1.2557 - stops_loss: 1.2054 - starts_accuracy: 0.6214 - stops_accuracy: 0.6429 - val_loss: 3.2165 - val_starts_loss: 1.5675 - val_stops_loss: 1.6453 - val_starts_accuracy: 0.6018 - val_stops_accuracy: 0.6027\n",
      "Epoch 119/300\n",
      "19890/19890 [==============================] - 17s 834us/sample - loss: 2.4593 - starts_loss: 1.2504 - stops_loss: 1.2037 - starts_accuracy: 0.6238 - stops_accuracy: 0.6432 - val_loss: 3.2238 - val_starts_loss: 1.5718 - val_stops_loss: 1.6480 - val_starts_accuracy: 0.5984 - val_stops_accuracy: 0.6016\n",
      "Epoch 120/300\n",
      "19890/19890 [==============================] - 17s 846us/sample - loss: 2.4520 - starts_loss: 1.2462 - stops_loss: 1.2033 - starts_accuracy: 0.6242 - stops_accuracy: 0.6450 - val_loss: 3.2302 - val_starts_loss: 1.5772 - val_stops_loss: 1.6491 - val_starts_accuracy: 0.5964 - val_stops_accuracy: 0.6000\n",
      "Epoch 121/300\n",
      "19890/19890 [==============================] - 16s 826us/sample - loss: 2.4625 - starts_loss: 1.2527 - stops_loss: 1.2136 - starts_accuracy: 0.6242 - stops_accuracy: 0.6427 - val_loss: 3.1797 - val_starts_loss: 1.5589 - val_stops_loss: 1.6171 - val_starts_accuracy: 0.5958 - val_stops_accuracy: 0.6002\n",
      "Epoch 122/300\n",
      "19890/19890 [==============================] - 17s 858us/sample - loss: 2.4741 - starts_loss: 1.2588 - stops_loss: 1.2153 - starts_accuracy: 0.6225 - stops_accuracy: 0.6425 - val_loss: 3.2452 - val_starts_loss: 1.5885 - val_stops_loss: 1.6521 - val_starts_accuracy: 0.5950 - val_stops_accuracy: 0.6014\n",
      "Epoch 123/300\n",
      "19890/19890 [==============================] - 17s 834us/sample - loss: 2.4546 - starts_loss: 1.2458 - stops_loss: 1.2093 - starts_accuracy: 0.6232 - stops_accuracy: 0.6443 - val_loss: 3.2467 - val_starts_loss: 1.5843 - val_stops_loss: 1.6580 - val_starts_accuracy: 0.5976 - val_stops_accuracy: 0.5992\n",
      "Epoch 124/300\n",
      "19890/19890 [==============================] - 17s 834us/sample - loss: 2.4742 - starts_loss: 1.2563 - stops_loss: 1.2209 - starts_accuracy: 0.6242 - stops_accuracy: 0.6395 - val_loss: 3.2884 - val_starts_loss: 1.6223 - val_stops_loss: 1.6615 - val_starts_accuracy: 0.5807 - val_stops_accuracy: 0.5948\n",
      "Epoch 125/300\n",
      "19890/19890 [==============================] - 17s 835us/sample - loss: 2.4632 - starts_loss: 1.2587 - stops_loss: 1.2065 - starts_accuracy: 0.6236 - stops_accuracy: 0.6424 - val_loss: 3.2900 - val_starts_loss: 1.6148 - val_stops_loss: 1.6706 - val_starts_accuracy: 0.5986 - val_stops_accuracy: 0.5904\n",
      "Epoch 126/300\n",
      "19890/19890 [==============================] - 17s 834us/sample - loss: 2.4677 - starts_loss: 1.2581 - stops_loss: 1.2175 - starts_accuracy: 0.6235 - stops_accuracy: 0.6407 - val_loss: 3.2662 - val_starts_loss: 1.6053 - val_stops_loss: 1.6566 - val_starts_accuracy: 0.5984 - val_stops_accuracy: 0.5940\n",
      "Epoch 127/300\n",
      "19890/19890 [==============================] - 17s 830us/sample - loss: 2.4404 - starts_loss: 1.2407 - stops_loss: 1.1966 - starts_accuracy: 0.6242 - stops_accuracy: 0.6435 - val_loss: 3.2846 - val_starts_loss: 1.6213 - val_stops_loss: 1.6593 - val_starts_accuracy: 0.5954 - val_stops_accuracy: 0.5914\n",
      "Epoch 128/300\n",
      "19890/19890 [==============================] - 17s 843us/sample - loss: 2.4092 - starts_loss: 1.2325 - stops_loss: 1.1818 - starts_accuracy: 0.6245 - stops_accuracy: 0.6473 - val_loss: 3.3053 - val_starts_loss: 1.6224 - val_stops_loss: 1.6785 - val_starts_accuracy: 0.6004 - val_stops_accuracy: 0.5856\n",
      "Epoch 129/300\n",
      "19890/19890 [==============================] - 17s 837us/sample - loss: 2.4230 - starts_loss: 1.2353 - stops_loss: 1.1858 - starts_accuracy: 0.6285 - stops_accuracy: 0.6438 - val_loss: 3.2716 - val_starts_loss: 1.6000 - val_stops_loss: 1.6673 - val_starts_accuracy: 0.6027 - val_stops_accuracy: 0.5930\n",
      "Epoch 130/300\n",
      "19890/19890 [==============================] - 17s 845us/sample - loss: 2.3987 - starts_loss: 1.2312 - stops_loss: 1.1723 - starts_accuracy: 0.6257 - stops_accuracy: 0.6487 - val_loss: 3.2919 - val_starts_loss: 1.6172 - val_stops_loss: 1.6701 - val_starts_accuracy: 0.5982 - val_stops_accuracy: 0.5890\n"
     ]
    },
    {
     "name": "stdout",
     "output_type": "stream",
     "text": [
      "Epoch 131/300\n",
      "19890/19890 [==============================] - 17s 843us/sample - loss: 2.3883 - starts_loss: 1.2148 - stops_loss: 1.1698 - starts_accuracy: 0.6284 - stops_accuracy: 0.6452 - val_loss: 3.2838 - val_starts_loss: 1.6220 - val_stops_loss: 1.6573 - val_starts_accuracy: 0.5974 - val_stops_accuracy: 0.5898\n",
      "Epoch 132/300\n",
      "19890/19890 [==============================] - 17s 838us/sample - loss: 2.3682 - starts_loss: 1.2120 - stops_loss: 1.1499 - starts_accuracy: 0.6290 - stops_accuracy: 0.6545 - val_loss: 3.2532 - val_starts_loss: 1.5911 - val_stops_loss: 1.6578 - val_starts_accuracy: 0.5976 - val_stops_accuracy: 0.6004\n",
      "Epoch 133/300\n",
      "19890/19890 [==============================] - 17s 838us/sample - loss: 2.3655 - starts_loss: 1.2204 - stops_loss: 1.1515 - starts_accuracy: 0.6292 - stops_accuracy: 0.6503 - val_loss: 3.2502 - val_starts_loss: 1.5875 - val_stops_loss: 1.6583 - val_starts_accuracy: 0.5984 - val_stops_accuracy: 0.6008\n",
      "Epoch 134/300\n",
      "19890/19890 [==============================] - 16s 826us/sample - loss: 2.3534 - starts_loss: 1.2072 - stops_loss: 1.1421 - starts_accuracy: 0.6291 - stops_accuracy: 0.6514 - val_loss: 3.2562 - val_starts_loss: 1.5903 - val_stops_loss: 1.6616 - val_starts_accuracy: 0.5992 - val_stops_accuracy: 0.6002\n",
      "Epoch 135/300\n",
      "19890/19890 [==============================] - 17s 855us/sample - loss: 2.3503 - starts_loss: 1.2092 - stops_loss: 1.1407 - starts_accuracy: 0.6303 - stops_accuracy: 0.6557 - val_loss: 3.2635 - val_starts_loss: 1.5952 - val_stops_loss: 1.6639 - val_starts_accuracy: 0.5986 - val_stops_accuracy: 0.5994\n",
      "Epoch 136/300\n",
      "19890/19890 [==============================] - 17s 856us/sample - loss: 2.3605 - starts_loss: 1.2157 - stops_loss: 1.1485 - starts_accuracy: 0.6277 - stops_accuracy: 0.6522 - val_loss: 3.2611 - val_starts_loss: 1.5900 - val_stops_loss: 1.6666 - val_starts_accuracy: 0.6008 - val_stops_accuracy: 0.6010\n",
      "Epoch 137/300\n",
      "19890/19890 [==============================] - 17s 859us/sample - loss: 2.3655 - starts_loss: 1.2139 - stops_loss: 1.1529 - starts_accuracy: 0.6280 - stops_accuracy: 0.6505 - val_loss: 3.2646 - val_starts_loss: 1.5926 - val_stops_loss: 1.6678 - val_starts_accuracy: 0.6002 - val_stops_accuracy: 0.6006\n",
      "Epoch 138/300\n",
      "19890/19890 [==============================] - 17s 834us/sample - loss: 2.3601 - starts_loss: 1.2116 - stops_loss: 1.1483 - starts_accuracy: 0.6297 - stops_accuracy: 0.6522 - val_loss: 3.3012 - val_starts_loss: 1.6241 - val_stops_loss: 1.6724 - val_starts_accuracy: 0.5914 - val_stops_accuracy: 0.5926\n",
      "Epoch 139/300\n",
      "19890/19890 [==============================] - 17s 837us/sample - loss: 2.3758 - starts_loss: 1.2126 - stops_loss: 1.1644 - starts_accuracy: 0.6287 - stops_accuracy: 0.6502 - val_loss: 3.2878 - val_starts_loss: 1.6108 - val_stops_loss: 1.6720 - val_starts_accuracy: 0.5940 - val_stops_accuracy: 0.5962\n",
      "Epoch 140/300\n",
      "19890/19890 [==============================] - 17s 833us/sample - loss: 2.3808 - starts_loss: 1.2227 - stops_loss: 1.1576 - starts_accuracy: 0.6280 - stops_accuracy: 0.6486 - val_loss: 3.2617 - val_starts_loss: 1.5954 - val_stops_loss: 1.6624 - val_starts_accuracy: 0.5964 - val_stops_accuracy: 0.6049\n",
      "Epoch 141/300\n",
      "19890/19890 [==============================] - 17s 845us/sample - loss: 2.3805 - starts_loss: 1.2213 - stops_loss: 1.1611 - starts_accuracy: 0.6265 - stops_accuracy: 0.6512 - val_loss: 3.2814 - val_starts_loss: 1.5817 - val_stops_loss: 1.6959 - val_starts_accuracy: 0.5912 - val_stops_accuracy: 0.6041\n",
      "Epoch 142/300\n",
      "19890/19890 [==============================] - 17s 851us/sample - loss: 2.3861 - starts_loss: 1.2186 - stops_loss: 1.1673 - starts_accuracy: 0.6253 - stops_accuracy: 0.6513 - val_loss: 3.2752 - val_starts_loss: 1.5996 - val_stops_loss: 1.6714 - val_starts_accuracy: 0.5994 - val_stops_accuracy: 0.5948\n",
      "Epoch 143/300\n",
      "19890/19890 [==============================] - 17s 837us/sample - loss: 2.3999 - starts_loss: 1.2263 - stops_loss: 1.1696 - starts_accuracy: 0.6264 - stops_accuracy: 0.6478 - val_loss: 3.2835 - val_starts_loss: 1.6055 - val_stops_loss: 1.6732 - val_starts_accuracy: 0.5908 - val_stops_accuracy: 0.5986\n",
      "Epoch 144/300\n",
      "19890/19890 [==============================] - 17s 851us/sample - loss: 2.4000 - starts_loss: 1.2292 - stops_loss: 1.1688 - starts_accuracy: 0.6274 - stops_accuracy: 0.6445 - val_loss: 3.3565 - val_starts_loss: 1.6453 - val_stops_loss: 1.7060 - val_starts_accuracy: 0.5918 - val_stops_accuracy: 0.5793\n",
      "Epoch 145/300\n",
      "19890/19890 [==============================] - 17s 836us/sample - loss: 2.3798 - starts_loss: 1.2199 - stops_loss: 1.1588 - starts_accuracy: 0.6291 - stops_accuracy: 0.6511 - val_loss: 3.2953 - val_starts_loss: 1.6134 - val_stops_loss: 1.6773 - val_starts_accuracy: 0.5938 - val_stops_accuracy: 0.5928\n",
      "Epoch 146/300\n",
      "19890/19890 [==============================] - 17s 839us/sample - loss: 2.3738 - starts_loss: 1.2156 - stops_loss: 1.1579 - starts_accuracy: 0.6274 - stops_accuracy: 0.6518 - val_loss: 3.2951 - val_starts_loss: 1.6293 - val_stops_loss: 1.6612 - val_starts_accuracy: 0.5916 - val_stops_accuracy: 0.5936\n",
      "Epoch 147/300\n",
      "19890/19890 [==============================] - 17s 845us/sample - loss: 2.3608 - starts_loss: 1.2088 - stops_loss: 1.1507 - starts_accuracy: 0.6296 - stops_accuracy: 0.6525 - val_loss: 3.2903 - val_starts_loss: 1.6166 - val_stops_loss: 1.6694 - val_starts_accuracy: 0.5950 - val_stops_accuracy: 0.5924\n",
      "Epoch 148/300\n",
      "19890/19890 [==============================] - 17s 834us/sample - loss: 2.3378 - starts_loss: 1.2074 - stops_loss: 1.1362 - starts_accuracy: 0.6297 - stops_accuracy: 0.6533 - val_loss: 3.2896 - val_starts_loss: 1.6134 - val_stops_loss: 1.6720 - val_starts_accuracy: 0.5934 - val_stops_accuracy: 0.5976\n",
      "Epoch 149/300\n",
      "19890/19890 [==============================] - 17s 862us/sample - loss: 2.3194 - starts_loss: 1.1977 - stops_loss: 1.1263 - starts_accuracy: 0.6320 - stops_accuracy: 0.6566 - val_loss: 3.3424 - val_starts_loss: 1.6613 - val_stops_loss: 1.6762 - val_starts_accuracy: 0.5932 - val_stops_accuracy: 0.5801\n",
      "Epoch 150/300\n",
      "19890/19890 [==============================] - 17s 865us/sample - loss: 2.3060 - starts_loss: 1.1903 - stops_loss: 1.1171 - starts_accuracy: 0.6343 - stops_accuracy: 0.6559 - val_loss: 3.3226 - val_starts_loss: 1.6411 - val_stops_loss: 1.6766 - val_starts_accuracy: 0.5974 - val_stops_accuracy: 0.5840\n",
      "Epoch 151/300\n",
      "19890/19890 [==============================] - 17s 848us/sample - loss: 2.3074 - starts_loss: 1.1874 - stops_loss: 1.1164 - starts_accuracy: 0.6323 - stops_accuracy: 0.6572 - val_loss: 3.2907 - val_starts_loss: 1.6104 - val_stops_loss: 1.6755 - val_starts_accuracy: 0.5950 - val_stops_accuracy: 0.5942\n",
      "Epoch 152/300\n",
      "19890/19890 [==============================] - 17s 835us/sample - loss: 2.3001 - starts_loss: 1.1858 - stops_loss: 1.1154 - starts_accuracy: 0.6348 - stops_accuracy: 0.6602 - val_loss: 3.3104 - val_starts_loss: 1.6264 - val_stops_loss: 1.6792 - val_starts_accuracy: 0.5938 - val_stops_accuracy: 0.5936\n",
      "Epoch 153/300\n",
      "19890/19890 [==============================] - 17s 851us/sample - loss: 2.2983 - starts_loss: 1.1837 - stops_loss: 1.1176 - starts_accuracy: 0.6342 - stops_accuracy: 0.6581 - val_loss: 3.3079 - val_starts_loss: 1.6215 - val_stops_loss: 1.6816 - val_starts_accuracy: 0.5928 - val_stops_accuracy: 0.5926\n",
      "Epoch 154/300\n",
      "19890/19890 [==============================] - 17s 846us/sample - loss: 2.2795 - starts_loss: 1.1728 - stops_loss: 1.1043 - starts_accuracy: 0.6356 - stops_accuracy: 0.6608 - val_loss: 3.3208 - val_starts_loss: 1.6333 - val_stops_loss: 1.6829 - val_starts_accuracy: 0.5922 - val_stops_accuracy: 0.5926\n",
      "Epoch 155/300\n",
      "19890/19890 [==============================] - 17s 836us/sample - loss: 2.2979 - starts_loss: 1.1888 - stops_loss: 1.1123 - starts_accuracy: 0.6308 - stops_accuracy: 0.6613 - val_loss: 3.2907 - val_starts_loss: 1.6036 - val_stops_loss: 1.6825 - val_starts_accuracy: 0.5974 - val_stops_accuracy: 0.5924\n",
      "Epoch 156/300\n",
      "19890/19890 [==============================] - 17s 863us/sample - loss: 2.3154 - starts_loss: 1.1939 - stops_loss: 1.1194 - starts_accuracy: 0.6322 - stops_accuracy: 0.6582 - val_loss: 3.2755 - val_starts_loss: 1.5902 - val_stops_loss: 1.6810 - val_starts_accuracy: 0.5992 - val_stops_accuracy: 0.6012\n"
     ]
    },
    {
     "name": "stdout",
     "output_type": "stream",
     "text": [
      "Epoch 157/300\n",
      "19890/19890 [==============================] - 17s 858us/sample - loss: 2.3019 - starts_loss: 1.1849 - stops_loss: 1.1147 - starts_accuracy: 0.6357 - stops_accuracy: 0.6631 - val_loss: 3.2803 - val_starts_loss: 1.6026 - val_stops_loss: 1.6737 - val_starts_accuracy: 0.5928 - val_stops_accuracy: 0.5966\n",
      "Epoch 158/300\n",
      "19890/19890 [==============================] - 17s 850us/sample - loss: 2.3002 - starts_loss: 1.1825 - stops_loss: 1.1171 - starts_accuracy: 0.6346 - stops_accuracy: 0.6570 - val_loss: 3.2838 - val_starts_loss: 1.6040 - val_stops_loss: 1.6758 - val_starts_accuracy: 0.5968 - val_stops_accuracy: 0.5962\n",
      "Epoch 159/300\n",
      "19890/19890 [==============================] - 17s 846us/sample - loss: 2.3238 - starts_loss: 1.1972 - stops_loss: 1.1255 - starts_accuracy: 0.6317 - stops_accuracy: 0.6530 - val_loss: 3.2593 - val_starts_loss: 1.5935 - val_stops_loss: 1.6622 - val_starts_accuracy: 0.6075 - val_stops_accuracy: 0.5990\n",
      "Epoch 160/300\n",
      "19890/19890 [==============================] - 17s 866us/sample - loss: 2.3255 - starts_loss: 1.1921 - stops_loss: 1.1353 - starts_accuracy: 0.6319 - stops_accuracy: 0.6544 - val_loss: 3.2723 - val_starts_loss: 1.5884 - val_stops_loss: 1.6807 - val_starts_accuracy: 0.5916 - val_stops_accuracy: 0.6039\n",
      "Epoch 161/300\n",
      "19890/19890 [==============================] - 17s 848us/sample - loss: 2.3132 - starts_loss: 1.1875 - stops_loss: 1.1290 - starts_accuracy: 0.6327 - stops_accuracy: 0.6544 - val_loss: 3.3039 - val_starts_loss: 1.6032 - val_stops_loss: 1.6975 - val_starts_accuracy: 0.5898 - val_stops_accuracy: 0.6045\n",
      "Epoch 162/300\n",
      "19890/19890 [==============================] - 17s 844us/sample - loss: 2.3295 - starts_loss: 1.1968 - stops_loss: 1.1333 - starts_accuracy: 0.6313 - stops_accuracy: 0.6568 - val_loss: 3.2978 - val_starts_loss: 1.5967 - val_stops_loss: 1.6984 - val_starts_accuracy: 0.5926 - val_stops_accuracy: 0.6075\n",
      "Epoch 163/300\n",
      "19890/19890 [==============================] - 17s 847us/sample - loss: 2.3360 - starts_loss: 1.2020 - stops_loss: 1.1395 - starts_accuracy: 0.6319 - stops_accuracy: 0.6549 - val_loss: 3.2859 - val_starts_loss: 1.5841 - val_stops_loss: 1.6989 - val_starts_accuracy: 0.5934 - val_stops_accuracy: 0.6031\n",
      "Epoch 164/300\n",
      "19890/19890 [==============================] - 17s 840us/sample - loss: 2.3186 - starts_loss: 1.1894 - stops_loss: 1.1288 - starts_accuracy: 0.6344 - stops_accuracy: 0.6579 - val_loss: 3.2942 - val_starts_loss: 1.5983 - val_stops_loss: 1.6925 - val_starts_accuracy: 0.5896 - val_stops_accuracy: 0.6016\n",
      "Epoch 165/300\n",
      "19890/19890 [==============================] - 17s 831us/sample - loss: 2.3015 - starts_loss: 1.1848 - stops_loss: 1.1165 - starts_accuracy: 0.6310 - stops_accuracy: 0.6593 - val_loss: 3.2817 - val_starts_loss: 1.5857 - val_stops_loss: 1.6923 - val_starts_accuracy: 0.6067 - val_stops_accuracy: 0.6027\n",
      "Epoch 166/300\n",
      "19890/19890 [==============================] - 17s 838us/sample - loss: 2.2988 - starts_loss: 1.1936 - stops_loss: 1.1049 - starts_accuracy: 0.6343 - stops_accuracy: 0.6612 - val_loss: 3.2712 - val_starts_loss: 1.5871 - val_stops_loss: 1.6805 - val_starts_accuracy: 0.6137 - val_stops_accuracy: 0.6027\n",
      "Epoch 167/300\n",
      "19890/19890 [==============================] - 17s 858us/sample - loss: 2.2758 - starts_loss: 1.1688 - stops_loss: 1.1053 - starts_accuracy: 0.6344 - stops_accuracy: 0.6603 - val_loss: 3.2738 - val_starts_loss: 1.5848 - val_stops_loss: 1.6856 - val_starts_accuracy: 0.6097 - val_stops_accuracy: 0.6006\n",
      "Epoch 168/300\n",
      "19890/19890 [==============================] - 16s 827us/sample - loss: 2.2747 - starts_loss: 1.1715 - stops_loss: 1.1039 - starts_accuracy: 0.6348 - stops_accuracy: 0.6618 - val_loss: 3.3073 - val_starts_loss: 1.6031 - val_stops_loss: 1.7003 - val_starts_accuracy: 0.5906 - val_stops_accuracy: 0.6018\n",
      "Epoch 169/300\n",
      "19890/19890 [==============================] - 17s 850us/sample - loss: 2.2665 - starts_loss: 1.1728 - stops_loss: 1.0961 - starts_accuracy: 0.6358 - stops_accuracy: 0.6632 - val_loss: 3.3032 - val_starts_loss: 1.6049 - val_stops_loss: 1.6944 - val_starts_accuracy: 0.5980 - val_stops_accuracy: 0.6002\n",
      "Epoch 170/300\n",
      "19890/19890 [==============================] - 17s 845us/sample - loss: 2.2455 - starts_loss: 1.1573 - stops_loss: 1.0871 - starts_accuracy: 0.6372 - stops_accuracy: 0.6612 - val_loss: 3.3217 - val_starts_loss: 1.6122 - val_stops_loss: 1.7055 - val_starts_accuracy: 0.5926 - val_stops_accuracy: 0.5994\n",
      "Epoch 171/300\n",
      "19890/19890 [==============================] - 17s 837us/sample - loss: 2.2383 - starts_loss: 1.1583 - stops_loss: 1.0799 - starts_accuracy: 0.6368 - stops_accuracy: 0.6645 - val_loss: 3.3270 - val_starts_loss: 1.6119 - val_stops_loss: 1.7112 - val_starts_accuracy: 0.5896 - val_stops_accuracy: 0.6012\n",
      "Epoch 172/300\n",
      "19890/19890 [==============================] - 17s 860us/sample - loss: 2.2370 - starts_loss: 1.1569 - stops_loss: 1.0777 - starts_accuracy: 0.6366 - stops_accuracy: 0.6666 - val_loss: 3.3257 - val_starts_loss: 1.6084 - val_stops_loss: 1.7134 - val_starts_accuracy: 0.5900 - val_stops_accuracy: 0.6016\n",
      "Epoch 173/300\n",
      "19890/19890 [==============================] - 17s 862us/sample - loss: 2.2465 - starts_loss: 1.1543 - stops_loss: 1.0869 - starts_accuracy: 0.6362 - stops_accuracy: 0.6625 - val_loss: 3.3229 - val_starts_loss: 1.6112 - val_stops_loss: 1.7076 - val_starts_accuracy: 0.5926 - val_stops_accuracy: 0.5992\n",
      "Epoch 174/300\n",
      "19890/19890 [==============================] - 17s 850us/sample - loss: 2.2366 - starts_loss: 1.1612 - stops_loss: 1.0816 - starts_accuracy: 0.6359 - stops_accuracy: 0.6667 - val_loss: 3.3214 - val_starts_loss: 1.6102 - val_stops_loss: 1.7073 - val_starts_accuracy: 0.5910 - val_stops_accuracy: 0.5978\n",
      "Epoch 175/300\n",
      "19890/19890 [==============================] - 17s 845us/sample - loss: 2.2377 - starts_loss: 1.1572 - stops_loss: 1.0844 - starts_accuracy: 0.6394 - stops_accuracy: 0.6663 - val_loss: 3.3147 - val_starts_loss: 1.5999 - val_stops_loss: 1.7107 - val_starts_accuracy: 0.5970 - val_stops_accuracy: 0.5962\n",
      "Epoch 176/300\n",
      "19890/19890 [==============================] - 17s 841us/sample - loss: 2.2668 - starts_loss: 1.1654 - stops_loss: 1.1029 - starts_accuracy: 0.6345 - stops_accuracy: 0.6598 - val_loss: 3.3350 - val_starts_loss: 1.6076 - val_stops_loss: 1.7237 - val_starts_accuracy: 0.5898 - val_stops_accuracy: 0.6000\n",
      "Epoch 177/300\n",
      "19890/19890 [==============================] - 19s 940us/sample - loss: 2.2597 - starts_loss: 1.1672 - stops_loss: 1.0902 - starts_accuracy: 0.6340 - stops_accuracy: 0.6637 - val_loss: 3.3355 - val_starts_loss: 1.6054 - val_stops_loss: 1.7264 - val_starts_accuracy: 0.5896 - val_stops_accuracy: 0.6021\n",
      "Epoch 178/300\n",
      "19890/19890 [==============================] - 17s 850us/sample - loss: 2.2637 - starts_loss: 1.1656 - stops_loss: 1.1036 - starts_accuracy: 0.6372 - stops_accuracy: 0.6622 - val_loss: 3.3277 - val_starts_loss: 1.6152 - val_stops_loss: 1.7084 - val_starts_accuracy: 0.5958 - val_stops_accuracy: 0.5980\n",
      "Epoch 179/300\n",
      "19890/19890 [==============================] - 16s 829us/sample - loss: 2.2719 - starts_loss: 1.1763 - stops_loss: 1.0993 - starts_accuracy: 0.6362 - stops_accuracy: 0.6647 - val_loss: 3.3180 - val_starts_loss: 1.6028 - val_stops_loss: 1.7109 - val_starts_accuracy: 0.5904 - val_stops_accuracy: 0.5990\n",
      "Epoch 180/300\n",
      "19890/19890 [==============================] - 17s 846us/sample - loss: 2.2979 - starts_loss: 1.1814 - stops_loss: 1.1181 - starts_accuracy: 0.6324 - stops_accuracy: 0.6579 - val_loss: 3.3479 - val_starts_loss: 1.6400 - val_stops_loss: 1.7031 - val_starts_accuracy: 0.5892 - val_stops_accuracy: 0.5918\n",
      "Epoch 181/300\n",
      "19890/19890 [==============================] - 17s 837us/sample - loss: 2.4632 - starts_loss: 1.2565 - stops_loss: 1.2081 - starts_accuracy: 0.6266 - stops_accuracy: 0.6463 - val_loss: 3.2832 - val_starts_loss: 1.6066 - val_stops_loss: 1.6706 - val_starts_accuracy: 0.6014 - val_stops_accuracy: 0.5886\n",
      "Epoch 182/300\n",
      "19890/19890 [==============================] - 17s 845us/sample - loss: 2.4335 - starts_loss: 1.2413 - stops_loss: 1.1943 - starts_accuracy: 0.6267 - stops_accuracy: 0.6489 - val_loss: 3.2384 - val_starts_loss: 1.5684 - val_stops_loss: 1.6650 - val_starts_accuracy: 0.5982 - val_stops_accuracy: 0.6029\n"
     ]
    },
    {
     "name": "stdout",
     "output_type": "stream",
     "text": [
      "Epoch 183/300\n",
      "19890/19890 [==============================] - 17s 845us/sample - loss: 2.3997 - starts_loss: 1.2217 - stops_loss: 1.1796 - starts_accuracy: 0.6320 - stops_accuracy: 0.6489 - val_loss: 3.2240 - val_starts_loss: 1.5645 - val_stops_loss: 1.6553 - val_starts_accuracy: 0.5994 - val_stops_accuracy: 0.6002\n",
      "Epoch 184/300\n",
      "19890/19890 [==============================] - 17s 837us/sample - loss: 2.3670 - starts_loss: 1.2043 - stops_loss: 1.1622 - starts_accuracy: 0.6320 - stops_accuracy: 0.6509 - val_loss: 3.2312 - val_starts_loss: 1.5696 - val_stops_loss: 1.6575 - val_starts_accuracy: 0.5940 - val_stops_accuracy: 0.6016\n",
      "Epoch 185/300\n",
      "19890/19890 [==============================] - 17s 842us/sample - loss: 2.3508 - starts_loss: 1.1952 - stops_loss: 1.1519 - starts_accuracy: 0.6314 - stops_accuracy: 0.6551 - val_loss: 3.2455 - val_starts_loss: 1.5749 - val_stops_loss: 1.6665 - val_starts_accuracy: 0.5972 - val_stops_accuracy: 0.6000\n",
      "Epoch 186/300\n",
      "19890/19890 [==============================] - 17s 845us/sample - loss: 2.3291 - starts_loss: 1.1895 - stops_loss: 1.1381 - starts_accuracy: 0.6345 - stops_accuracy: 0.6616 - val_loss: 3.2413 - val_starts_loss: 1.5803 - val_stops_loss: 1.6569 - val_starts_accuracy: 0.5950 - val_stops_accuracy: 0.6021\n",
      "Epoch 187/300\n",
      "19890/19890 [==============================] - 17s 837us/sample - loss: 2.3102 - starts_loss: 1.1753 - stops_loss: 1.1304 - starts_accuracy: 0.6359 - stops_accuracy: 0.6567 - val_loss: 3.2097 - val_starts_loss: 1.5739 - val_stops_loss: 1.6309 - val_starts_accuracy: 0.6027 - val_stops_accuracy: 0.5988\n",
      "Epoch 188/300\n",
      "19890/19890 [==============================] - 17s 836us/sample - loss: 2.2956 - starts_loss: 1.1791 - stops_loss: 1.1196 - starts_accuracy: 0.6350 - stops_accuracy: 0.6606 - val_loss: 3.2285 - val_starts_loss: 1.5818 - val_stops_loss: 1.6423 - val_starts_accuracy: 0.5946 - val_stops_accuracy: 0.6037\n",
      "Epoch 189/300\n",
      "19890/19890 [==============================] - 17s 858us/sample - loss: 2.2881 - starts_loss: 1.1760 - stops_loss: 1.1177 - starts_accuracy: 0.6372 - stops_accuracy: 0.6578 - val_loss: 3.2156 - val_starts_loss: 1.5717 - val_stops_loss: 1.6395 - val_starts_accuracy: 0.5950 - val_stops_accuracy: 0.6010\n",
      "Epoch 190/300\n",
      "19890/19890 [==============================] - 17s 838us/sample - loss: 2.2802 - starts_loss: 1.1684 - stops_loss: 1.1122 - starts_accuracy: 0.6368 - stops_accuracy: 0.6606 - val_loss: 3.2302 - val_starts_loss: 1.5813 - val_stops_loss: 1.6442 - val_starts_accuracy: 0.5958 - val_stops_accuracy: 0.5996\n",
      "Epoch 191/300\n",
      "19890/19890 [==============================] - 17s 833us/sample - loss: 2.2698 - starts_loss: 1.1673 - stops_loss: 1.1038 - starts_accuracy: 0.6363 - stops_accuracy: 0.6628 - val_loss: 3.2341 - val_starts_loss: 1.5835 - val_stops_loss: 1.6459 - val_starts_accuracy: 0.5942 - val_stops_accuracy: 0.5998\n",
      "Epoch 192/300\n",
      "19890/19890 [==============================] - 17s 846us/sample - loss: 2.2678 - starts_loss: 1.1615 - stops_loss: 1.1005 - starts_accuracy: 0.6377 - stops_accuracy: 0.6600 - val_loss: 3.2301 - val_starts_loss: 1.5797 - val_stops_loss: 1.6460 - val_starts_accuracy: 0.5934 - val_stops_accuracy: 0.6031\n",
      "Epoch 193/300\n",
      "19890/19890 [==============================] - 17s 838us/sample - loss: 2.2616 - starts_loss: 1.1553 - stops_loss: 1.0991 - starts_accuracy: 0.6382 - stops_accuracy: 0.6657 - val_loss: 3.2385 - val_starts_loss: 1.5916 - val_stops_loss: 1.6420 - val_starts_accuracy: 0.5954 - val_stops_accuracy: 0.6006\n",
      "Epoch 194/300\n",
      "19890/19890 [==============================] - 16s 829us/sample - loss: 2.2669 - starts_loss: 1.1742 - stops_loss: 1.0987 - starts_accuracy: 0.6365 - stops_accuracy: 0.6683 - val_loss: 3.2421 - val_starts_loss: 1.5915 - val_stops_loss: 1.6457 - val_starts_accuracy: 0.5948 - val_stops_accuracy: 0.6008\n",
      "Epoch 195/300\n",
      "19890/19890 [==============================] - 17s 836us/sample - loss: 2.2934 - starts_loss: 1.1750 - stops_loss: 1.1156 - starts_accuracy: 0.6374 - stops_accuracy: 0.6607 - val_loss: 3.2294 - val_starts_loss: 1.5703 - val_stops_loss: 1.6547 - val_starts_accuracy: 0.5962 - val_stops_accuracy: 0.6027\n",
      "Epoch 196/300\n",
      "19890/19890 [==============================] - 17s 837us/sample - loss: 2.2875 - starts_loss: 1.1635 - stops_loss: 1.1220 - starts_accuracy: 0.6361 - stops_accuracy: 0.6598 - val_loss: 3.2255 - val_starts_loss: 1.5569 - val_stops_loss: 1.6648 - val_starts_accuracy: 0.5998 - val_stops_accuracy: 0.6067\n",
      "Epoch 197/300\n",
      "19890/19890 [==============================] - 17s 843us/sample - loss: 2.2990 - starts_loss: 1.1824 - stops_loss: 1.1196 - starts_accuracy: 0.6348 - stops_accuracy: 0.6611 - val_loss: 3.2322 - val_starts_loss: 1.5630 - val_stops_loss: 1.6648 - val_starts_accuracy: 0.6006 - val_stops_accuracy: 0.6039\n",
      "Epoch 198/300\n",
      "19890/19890 [==============================] - 16s 829us/sample - loss: 2.3046 - starts_loss: 1.1766 - stops_loss: 1.1275 - starts_accuracy: 0.6340 - stops_accuracy: 0.6592 - val_loss: 3.2309 - val_starts_loss: 1.5645 - val_stops_loss: 1.6619 - val_starts_accuracy: 0.6035 - val_stops_accuracy: 0.5998\n",
      "Epoch 199/300\n",
      "19890/19890 [==============================] - 17s 838us/sample - loss: 2.3196 - starts_loss: 1.1864 - stops_loss: 1.1329 - starts_accuracy: 0.6348 - stops_accuracy: 0.6542 - val_loss: 3.2470 - val_starts_loss: 1.5823 - val_stops_loss: 1.6608 - val_starts_accuracy: 0.5948 - val_stops_accuracy: 0.6012\n",
      "Epoch 200/300\n",
      "19890/19890 [==============================] - 17s 838us/sample - loss: 2.3087 - starts_loss: 1.1800 - stops_loss: 1.1242 - starts_accuracy: 0.6351 - stops_accuracy: 0.6573 - val_loss: 3.2408 - val_starts_loss: 1.5716 - val_stops_loss: 1.6657 - val_starts_accuracy: 0.5918 - val_stops_accuracy: 0.6053\n",
      "Epoch 201/300\n",
      "19890/19890 [==============================] - 17s 837us/sample - loss: 2.2951 - starts_loss: 1.1759 - stops_loss: 1.1260 - starts_accuracy: 0.6385 - stops_accuracy: 0.6569 - val_loss: 3.2470 - val_starts_loss: 1.5848 - val_stops_loss: 1.6589 - val_starts_accuracy: 0.5950 - val_stops_accuracy: 0.6023\n",
      "Epoch 202/300\n",
      "19890/19890 [==============================] - 17s 847us/sample - loss: 2.2947 - starts_loss: 1.1734 - stops_loss: 1.1255 - starts_accuracy: 0.6374 - stops_accuracy: 0.6597 - val_loss: 3.2443 - val_starts_loss: 1.5888 - val_stops_loss: 1.6519 - val_starts_accuracy: 0.5920 - val_stops_accuracy: 0.6049\n",
      "Epoch 203/300\n",
      "19890/19890 [==============================] - 17s 859us/sample - loss: 2.2776 - starts_loss: 1.1735 - stops_loss: 1.1035 - starts_accuracy: 0.6389 - stops_accuracy: 0.6615 - val_loss: 3.2498 - val_starts_loss: 1.5968 - val_stops_loss: 1.6486 - val_starts_accuracy: 0.5904 - val_stops_accuracy: 0.6002\n",
      "Epoch 204/300\n",
      "19890/19890 [==============================] - 17s 834us/sample - loss: 2.2698 - starts_loss: 1.1641 - stops_loss: 1.1049 - starts_accuracy: 0.6378 - stops_accuracy: 0.6600 - val_loss: 3.2401 - val_starts_loss: 1.5885 - val_stops_loss: 1.6474 - val_starts_accuracy: 0.5922 - val_stops_accuracy: 0.6029\n",
      "Epoch 205/300\n",
      "19890/19890 [==============================] - 17s 845us/sample - loss: 2.2453 - starts_loss: 1.1554 - stops_loss: 1.0853 - starts_accuracy: 0.6376 - stops_accuracy: 0.6653 - val_loss: 3.2527 - val_starts_loss: 1.6061 - val_stops_loss: 1.6425 - val_starts_accuracy: 0.5872 - val_stops_accuracy: 0.6016\n",
      "Epoch 206/300\n",
      "19890/19890 [==============================] - 17s 844us/sample - loss: 2.2404 - starts_loss: 1.1573 - stops_loss: 1.0870 - starts_accuracy: 0.6385 - stops_accuracy: 0.6679 - val_loss: 3.2425 - val_starts_loss: 1.5888 - val_stops_loss: 1.6501 - val_starts_accuracy: 0.5898 - val_stops_accuracy: 0.6033\n",
      "Epoch 207/300\n",
      "19890/19890 [==============================] - 17s 852us/sample - loss: 2.2258 - starts_loss: 1.1425 - stops_loss: 1.0802 - starts_accuracy: 0.6415 - stops_accuracy: 0.6686 - val_loss: 3.2587 - val_starts_loss: 1.6011 - val_stops_loss: 1.6532 - val_starts_accuracy: 0.5938 - val_stops_accuracy: 0.6018\n",
      "Epoch 208/300\n",
      "19890/19890 [==============================] - 17s 837us/sample - loss: 2.2017 - starts_loss: 1.1362 - stops_loss: 1.0666 - starts_accuracy: 0.6457 - stops_accuracy: 0.6689 - val_loss: 3.2586 - val_starts_loss: 1.5928 - val_stops_loss: 1.6613 - val_starts_accuracy: 0.5936 - val_stops_accuracy: 0.6008\n"
     ]
    },
    {
     "name": "stdout",
     "output_type": "stream",
     "text": [
      "Epoch 209/300\n",
      "19890/19890 [==============================] - 17s 836us/sample - loss: 2.2078 - starts_loss: 1.1333 - stops_loss: 1.0727 - starts_accuracy: 0.6430 - stops_accuracy: 0.6661 - val_loss: 3.2556 - val_starts_loss: 1.5882 - val_stops_loss: 1.6632 - val_starts_accuracy: 0.5944 - val_stops_accuracy: 0.6027\n",
      "Epoch 210/300\n",
      "19890/19890 [==============================] - 17s 844us/sample - loss: 2.1973 - starts_loss: 1.1311 - stops_loss: 1.0628 - starts_accuracy: 0.6435 - stops_accuracy: 0.6680 - val_loss: 3.2612 - val_starts_loss: 1.5950 - val_stops_loss: 1.6618 - val_starts_accuracy: 0.5936 - val_stops_accuracy: 0.6008\n",
      "Epoch 211/300\n",
      "19890/19890 [==============================] - 17s 833us/sample - loss: 2.2119 - starts_loss: 1.1437 - stops_loss: 1.0709 - starts_accuracy: 0.6433 - stops_accuracy: 0.6689 - val_loss: 3.2446 - val_starts_loss: 1.5895 - val_stops_loss: 1.6512 - val_starts_accuracy: 0.5858 - val_stops_accuracy: 0.6049\n",
      "Epoch 212/300\n",
      "19890/19890 [==============================] - 17s 851us/sample - loss: 2.2032 - starts_loss: 1.1340 - stops_loss: 1.0673 - starts_accuracy: 0.6421 - stops_accuracy: 0.6693 - val_loss: 3.2674 - val_starts_loss: 1.5914 - val_stops_loss: 1.6717 - val_starts_accuracy: 0.5928 - val_stops_accuracy: 0.6047\n",
      "Epoch 213/300\n",
      "19890/19890 [==============================] - 17s 843us/sample - loss: 2.2043 - starts_loss: 1.1360 - stops_loss: 1.0626 - starts_accuracy: 0.6422 - stops_accuracy: 0.6682 - val_loss: 3.2638 - val_starts_loss: 1.5927 - val_stops_loss: 1.6666 - val_starts_accuracy: 0.5944 - val_stops_accuracy: 0.6035\n",
      "Epoch 214/300\n",
      "19890/19890 [==============================] - 17s 841us/sample - loss: 2.2201 - starts_loss: 1.1452 - stops_loss: 1.0716 - starts_accuracy: 0.6393 - stops_accuracy: 0.6664 - val_loss: 3.2733 - val_starts_loss: 1.5887 - val_stops_loss: 1.6809 - val_starts_accuracy: 0.5896 - val_stops_accuracy: 0.6037\n",
      "Epoch 215/300\n",
      "19890/19890 [==============================] - 16s 829us/sample - loss: 2.2117 - starts_loss: 1.1407 - stops_loss: 1.0726 - starts_accuracy: 0.6421 - stops_accuracy: 0.6699 - val_loss: 3.2715 - val_starts_loss: 1.5872 - val_stops_loss: 1.6797 - val_starts_accuracy: 0.5964 - val_stops_accuracy: 0.5966\n",
      "Epoch 216/300\n",
      "19890/19890 [==============================] - 17s 836us/sample - loss: 2.2272 - starts_loss: 1.1488 - stops_loss: 1.0791 - starts_accuracy: 0.6431 - stops_accuracy: 0.6639 - val_loss: 3.2847 - val_starts_loss: 1.5979 - val_stops_loss: 1.6823 - val_starts_accuracy: 0.5920 - val_stops_accuracy: 0.5988\n",
      "Epoch 217/300\n",
      "19890/19890 [==============================] - 17s 833us/sample - loss: 2.2370 - starts_loss: 1.1491 - stops_loss: 1.0884 - starts_accuracy: 0.6413 - stops_accuracy: 0.6616 - val_loss: 3.2794 - val_starts_loss: 1.5685 - val_stops_loss: 1.7081 - val_starts_accuracy: 0.5988 - val_stops_accuracy: 0.6085\n",
      "Epoch 218/300\n",
      "19890/19890 [==============================] - 17s 837us/sample - loss: 2.2448 - starts_loss: 1.1516 - stops_loss: 1.0899 - starts_accuracy: 0.6390 - stops_accuracy: 0.6674 - val_loss: 3.2650 - val_starts_loss: 1.5774 - val_stops_loss: 1.6828 - val_starts_accuracy: 0.6031 - val_stops_accuracy: 0.6033\n",
      "Epoch 219/300\n",
      "19890/19890 [==============================] - 17s 864us/sample - loss: 2.2545 - starts_loss: 1.1569 - stops_loss: 1.0945 - starts_accuracy: 0.6363 - stops_accuracy: 0.6639 - val_loss: 3.3435 - val_starts_loss: 1.6439 - val_stops_loss: 1.6945 - val_starts_accuracy: 0.5795 - val_stops_accuracy: 0.5910\n",
      "Epoch 220/300\n",
      "19890/19890 [==============================] - 17s 845us/sample - loss: 2.2540 - starts_loss: 1.1634 - stops_loss: 1.0917 - starts_accuracy: 0.6374 - stops_accuracy: 0.6633 - val_loss: 3.2332 - val_starts_loss: 1.5850 - val_stops_loss: 1.6444 - val_starts_accuracy: 0.5898 - val_stops_accuracy: 0.6000\n",
      "Epoch 221/300\n",
      "19890/19890 [==============================] - 17s 842us/sample - loss: 2.2287 - starts_loss: 1.1449 - stops_loss: 1.0787 - starts_accuracy: 0.6422 - stops_accuracy: 0.6668 - val_loss: 3.2135 - val_starts_loss: 1.5684 - val_stops_loss: 1.6411 - val_starts_accuracy: 0.6025 - val_stops_accuracy: 0.5962\n",
      "Epoch 222/300\n",
      "19890/19890 [==============================] - 17s 840us/sample - loss: 2.2416 - starts_loss: 1.1622 - stops_loss: 1.0838 - starts_accuracy: 0.6390 - stops_accuracy: 0.6667 - val_loss: 3.2224 - val_starts_loss: 1.5754 - val_stops_loss: 1.6439 - val_starts_accuracy: 0.6004 - val_stops_accuracy: 0.6012\n",
      "Epoch 223/300\n",
      "19890/19890 [==============================] - 17s 831us/sample - loss: 2.2246 - starts_loss: 1.1389 - stops_loss: 1.0857 - starts_accuracy: 0.6415 - stops_accuracy: 0.6680 - val_loss: 3.2648 - val_starts_loss: 1.5962 - val_stops_loss: 1.6646 - val_starts_accuracy: 0.5994 - val_stops_accuracy: 0.6023\n",
      "Epoch 224/300\n",
      "19890/19890 [==============================] - 17s 844us/sample - loss: 2.1941 - starts_loss: 1.1337 - stops_loss: 1.0657 - starts_accuracy: 0.6424 - stops_accuracy: 0.6687 - val_loss: 3.2377 - val_starts_loss: 1.5789 - val_stops_loss: 1.6547 - val_starts_accuracy: 0.6014 - val_stops_accuracy: 0.6051\n",
      "Epoch 225/300\n",
      "19890/19890 [==============================] - 17s 842us/sample - loss: 2.1778 - starts_loss: 1.1221 - stops_loss: 1.0510 - starts_accuracy: 0.6454 - stops_accuracy: 0.6709 - val_loss: 3.2559 - val_starts_loss: 1.5866 - val_stops_loss: 1.6660 - val_starts_accuracy: 0.5980 - val_stops_accuracy: 0.6045\n",
      "Epoch 226/300\n",
      "19890/19890 [==============================] - 17s 840us/sample - loss: 2.1729 - starts_loss: 1.1230 - stops_loss: 1.0523 - starts_accuracy: 0.6426 - stops_accuracy: 0.6729 - val_loss: 3.2906 - val_starts_loss: 1.5957 - val_stops_loss: 1.6911 - val_starts_accuracy: 0.5984 - val_stops_accuracy: 0.6055\n",
      "Epoch 227/300\n",
      "19890/19890 [==============================] - 17s 846us/sample - loss: 2.1553 - starts_loss: 1.1193 - stops_loss: 1.0381 - starts_accuracy: 0.6463 - stops_accuracy: 0.6728 - val_loss: 3.2875 - val_starts_loss: 1.5941 - val_stops_loss: 1.6899 - val_starts_accuracy: 0.5962 - val_stops_accuracy: 0.6057\n",
      "Epoch 228/300\n",
      "19890/19890 [==============================] - 17s 870us/sample - loss: 2.1522 - starts_loss: 1.1175 - stops_loss: 1.0341 - starts_accuracy: 0.6474 - stops_accuracy: 0.6767 - val_loss: 3.2942 - val_starts_loss: 1.6036 - val_stops_loss: 1.6868 - val_starts_accuracy: 0.5958 - val_stops_accuracy: 0.6027\n",
      "Epoch 229/300\n",
      "19890/19890 [==============================] - 17s 863us/sample - loss: 2.1700 - starts_loss: 1.1246 - stops_loss: 1.0494 - starts_accuracy: 0.6447 - stops_accuracy: 0.6745 - val_loss: 3.2930 - val_starts_loss: 1.6005 - val_stops_loss: 1.6888 - val_starts_accuracy: 0.5942 - val_stops_accuracy: 0.6047\n",
      "Epoch 230/300\n",
      "19890/19890 [==============================] - 17s 847us/sample - loss: 2.1506 - starts_loss: 1.1150 - stops_loss: 1.0349 - starts_accuracy: 0.6474 - stops_accuracy: 0.6762 - val_loss: 3.2906 - val_starts_loss: 1.5981 - val_stops_loss: 1.6885 - val_starts_accuracy: 0.5930 - val_stops_accuracy: 0.6043\n",
      "Epoch 231/300\n",
      "19890/19890 [==============================] - 17s 846us/sample - loss: 2.1614 - starts_loss: 1.1239 - stops_loss: 1.0369 - starts_accuracy: 0.6442 - stops_accuracy: 0.6726 - val_loss: 3.2932 - val_starts_loss: 1.5930 - val_stops_loss: 1.6967 - val_starts_accuracy: 0.5920 - val_stops_accuracy: 0.6063\n",
      "Epoch 232/300\n",
      "19890/19890 [==============================] - 17s 858us/sample - loss: 2.1664 - starts_loss: 1.1246 - stops_loss: 1.0478 - starts_accuracy: 0.6446 - stops_accuracy: 0.6724 - val_loss: 3.3009 - val_starts_loss: 1.6063 - val_stops_loss: 1.6909 - val_starts_accuracy: 0.5914 - val_stops_accuracy: 0.5992\n",
      "Epoch 233/300\n",
      "19890/19890 [==============================] - 17s 834us/sample - loss: 2.1777 - starts_loss: 1.1241 - stops_loss: 1.0506 - starts_accuracy: 0.6445 - stops_accuracy: 0.6691 - val_loss: 3.2907 - val_starts_loss: 1.5955 - val_stops_loss: 1.6918 - val_starts_accuracy: 0.5936 - val_stops_accuracy: 0.6063\n",
      "Epoch 234/300\n",
      "19890/19890 [==============================] - 17s 844us/sample - loss: 2.1856 - starts_loss: 1.1334 - stops_loss: 1.0576 - starts_accuracy: 0.6435 - stops_accuracy: 0.6716 - val_loss: 3.2995 - val_starts_loss: 1.6101 - val_stops_loss: 1.6847 - val_starts_accuracy: 0.5928 - val_stops_accuracy: 0.6002\n"
     ]
    },
    {
     "name": "stdout",
     "output_type": "stream",
     "text": [
      "Epoch 235/300\n",
      "19890/19890 [==============================] - 17s 841us/sample - loss: 2.1659 - starts_loss: 1.1246 - stops_loss: 1.0424 - starts_accuracy: 0.6444 - stops_accuracy: 0.6718 - val_loss: 3.3083 - val_starts_loss: 1.6176 - val_stops_loss: 1.6858 - val_starts_accuracy: 0.5952 - val_stops_accuracy: 0.5966\n",
      "Epoch 236/300\n",
      "19890/19890 [==============================] - 17s 836us/sample - loss: 2.1915 - starts_loss: 1.1274 - stops_loss: 1.0680 - starts_accuracy: 0.6427 - stops_accuracy: 0.6694 - val_loss: 3.3346 - val_starts_loss: 1.6312 - val_stops_loss: 1.6984 - val_starts_accuracy: 0.5840 - val_stops_accuracy: 0.5962\n",
      "Epoch 237/300\n",
      "19890/19890 [==============================] - 17s 842us/sample - loss: 2.2478 - starts_loss: 1.1614 - stops_loss: 1.0882 - starts_accuracy: 0.6386 - stops_accuracy: 0.6652 - val_loss: 3.3123 - val_starts_loss: 1.6243 - val_stops_loss: 1.6825 - val_starts_accuracy: 0.5896 - val_stops_accuracy: 0.5966\n",
      "Epoch 238/300\n",
      "19890/19890 [==============================] - 17s 837us/sample - loss: 2.2476 - starts_loss: 1.1593 - stops_loss: 1.0932 - starts_accuracy: 0.6404 - stops_accuracy: 0.6661 - val_loss: 3.3367 - val_starts_loss: 1.6492 - val_stops_loss: 1.6813 - val_starts_accuracy: 0.5892 - val_stops_accuracy: 0.5900\n",
      "Epoch 239/300\n",
      "19890/19890 [==============================] - 17s 849us/sample - loss: 2.2427 - starts_loss: 1.1527 - stops_loss: 1.0945 - starts_accuracy: 0.6392 - stops_accuracy: 0.6656 - val_loss: 3.3251 - val_starts_loss: 1.6407 - val_stops_loss: 1.6784 - val_starts_accuracy: 0.5920 - val_stops_accuracy: 0.5928\n",
      "Epoch 240/300\n",
      "19890/19890 [==============================] - 17s 834us/sample - loss: 2.2368 - starts_loss: 1.1474 - stops_loss: 1.0889 - starts_accuracy: 0.6404 - stops_accuracy: 0.6668 - val_loss: 3.2998 - val_starts_loss: 1.6307 - val_stops_loss: 1.6636 - val_starts_accuracy: 0.5886 - val_stops_accuracy: 0.5934\n",
      "Epoch 241/300\n",
      "19890/19890 [==============================] - 17s 841us/sample - loss: 2.2156 - starts_loss: 1.1426 - stops_loss: 1.0728 - starts_accuracy: 0.6385 - stops_accuracy: 0.6681 - val_loss: 3.2853 - val_starts_loss: 1.6094 - val_stops_loss: 1.6705 - val_starts_accuracy: 0.5908 - val_stops_accuracy: 0.5974\n",
      "Epoch 242/300\n",
      "19890/19890 [==============================] - 17s 834us/sample - loss: 2.2031 - starts_loss: 1.1318 - stops_loss: 1.0711 - starts_accuracy: 0.6423 - stops_accuracy: 0.6673 - val_loss: 3.2814 - val_starts_loss: 1.6198 - val_stops_loss: 1.6572 - val_starts_accuracy: 0.5908 - val_stops_accuracy: 0.5918\n",
      "Epoch 243/300\n",
      "19890/19890 [==============================] - 17s 837us/sample - loss: 2.1783 - starts_loss: 1.1285 - stops_loss: 1.0485 - starts_accuracy: 0.6413 - stops_accuracy: 0.6727 - val_loss: 3.2740 - val_starts_loss: 1.6135 - val_stops_loss: 1.6558 - val_starts_accuracy: 0.5864 - val_stops_accuracy: 0.5974\n",
      "Epoch 244/300\n",
      "19890/19890 [==============================] - 17s 832us/sample - loss: 2.1682 - starts_loss: 1.1164 - stops_loss: 1.0550 - starts_accuracy: 0.6463 - stops_accuracy: 0.6725 - val_loss: 3.2878 - val_starts_loss: 1.6241 - val_stops_loss: 1.6588 - val_starts_accuracy: 0.5862 - val_stops_accuracy: 0.5964\n",
      "Epoch 245/300\n",
      "19890/19890 [==============================] - 17s 841us/sample - loss: 2.1799 - starts_loss: 1.1322 - stops_loss: 1.0542 - starts_accuracy: 0.6455 - stops_accuracy: 0.6749 - val_loss: 3.2719 - val_starts_loss: 1.6052 - val_stops_loss: 1.6622 - val_starts_accuracy: 0.5894 - val_stops_accuracy: 0.6016\n",
      "Epoch 246/300\n",
      "19890/19890 [==============================] - 17s 851us/sample - loss: 2.1684 - starts_loss: 1.1193 - stops_loss: 1.0466 - starts_accuracy: 0.6445 - stops_accuracy: 0.6753 - val_loss: 3.2723 - val_starts_loss: 1.6014 - val_stops_loss: 1.6664 - val_starts_accuracy: 0.5886 - val_stops_accuracy: 0.6031\n",
      "Epoch 247/300\n",
      "19890/19890 [==============================] - 17s 872us/sample - loss: 2.1622 - starts_loss: 1.1190 - stops_loss: 1.0454 - starts_accuracy: 0.6460 - stops_accuracy: 0.6718 - val_loss: 3.2796 - val_starts_loss: 1.6045 - val_stops_loss: 1.6703 - val_starts_accuracy: 0.5894 - val_stops_accuracy: 0.6002\n",
      "Epoch 248/300\n",
      "19890/19890 [==============================] - 17s 850us/sample - loss: 2.1466 - starts_loss: 1.1136 - stops_loss: 1.0352 - starts_accuracy: 0.6486 - stops_accuracy: 0.6788 - val_loss: 3.2850 - val_starts_loss: 1.6056 - val_stops_loss: 1.6747 - val_starts_accuracy: 0.5904 - val_stops_accuracy: 0.6000\n",
      "Epoch 249/300\n",
      "19890/19890 [==============================] - 17s 866us/sample - loss: 2.1570 - starts_loss: 1.1206 - stops_loss: 1.0383 - starts_accuracy: 0.6462 - stops_accuracy: 0.6753 - val_loss: 3.2906 - val_starts_loss: 1.6067 - val_stops_loss: 1.6794 - val_starts_accuracy: 0.5910 - val_stops_accuracy: 0.6037\n",
      "Epoch 250/300\n",
      "19890/19890 [==============================] - 17s 851us/sample - loss: 2.1646 - starts_loss: 1.1168 - stops_loss: 1.0472 - starts_accuracy: 0.6466 - stops_accuracy: 0.6770 - val_loss: 3.2799 - val_starts_loss: 1.6003 - val_stops_loss: 1.6750 - val_starts_accuracy: 0.5950 - val_stops_accuracy: 0.6023\n",
      "Epoch 251/300\n",
      "19890/19890 [==============================] - 17s 846us/sample - loss: 2.1638 - starts_loss: 1.1228 - stops_loss: 1.0456 - starts_accuracy: 0.6478 - stops_accuracy: 0.6751 - val_loss: 3.2885 - val_starts_loss: 1.6050 - val_stops_loss: 1.6789 - val_starts_accuracy: 0.5926 - val_stops_accuracy: 0.5988\n",
      "Epoch 252/300\n",
      "19890/19890 [==============================] - 17s 844us/sample - loss: 2.1562 - starts_loss: 1.1129 - stops_loss: 1.0442 - starts_accuracy: 0.6472 - stops_accuracy: 0.6748 - val_loss: 3.2795 - val_starts_loss: 1.5959 - val_stops_loss: 1.6790 - val_starts_accuracy: 0.5934 - val_stops_accuracy: 0.6025\n",
      "Epoch 253/300\n",
      "19890/19890 [==============================] - 17s 835us/sample - loss: 2.1667 - starts_loss: 1.1275 - stops_loss: 1.0448 - starts_accuracy: 0.6436 - stops_accuracy: 0.6721 - val_loss: 3.2906 - val_starts_loss: 1.5948 - val_stops_loss: 1.6916 - val_starts_accuracy: 0.5866 - val_stops_accuracy: 0.6037\n",
      "Epoch 254/300\n",
      "19890/19890 [==============================] - 17s 854us/sample - loss: 2.1837 - starts_loss: 1.1328 - stops_loss: 1.0505 - starts_accuracy: 0.6434 - stops_accuracy: 0.6723 - val_loss: 3.2726 - val_starts_loss: 1.5974 - val_stops_loss: 1.6712 - val_starts_accuracy: 0.5930 - val_stops_accuracy: 0.5984\n",
      "Epoch 255/300\n",
      "19890/19890 [==============================] - 17s 838us/sample - loss: 2.2032 - starts_loss: 1.1387 - stops_loss: 1.0625 - starts_accuracy: 0.6422 - stops_accuracy: 0.6734 - val_loss: 3.3015 - val_starts_loss: 1.6117 - val_stops_loss: 1.6854 - val_starts_accuracy: 0.5807 - val_stops_accuracy: 0.5984\n",
      "Epoch 256/300\n",
      "19890/19890 [==============================] - 17s 846us/sample - loss: 2.1950 - starts_loss: 1.1363 - stops_loss: 1.0615 - starts_accuracy: 0.6430 - stops_accuracy: 0.6658 - val_loss: 3.2811 - val_starts_loss: 1.5919 - val_stops_loss: 1.6846 - val_starts_accuracy: 0.5916 - val_stops_accuracy: 0.5998\n",
      "Epoch 257/300\n",
      "19890/19890 [==============================] - 17s 847us/sample - loss: 2.2165 - starts_loss: 1.1413 - stops_loss: 1.0753 - starts_accuracy: 0.6409 - stops_accuracy: 0.6682 - val_loss: 3.3280 - val_starts_loss: 1.6291 - val_stops_loss: 1.6932 - val_starts_accuracy: 0.5910 - val_stops_accuracy: 0.5922\n",
      "Epoch 258/300\n",
      "19890/19890 [==============================] - 17s 855us/sample - loss: 2.2112 - starts_loss: 1.1432 - stops_loss: 1.0709 - starts_accuracy: 0.6424 - stops_accuracy: 0.6680 - val_loss: 3.3067 - val_starts_loss: 1.6048 - val_stops_loss: 1.6970 - val_starts_accuracy: 0.5914 - val_stops_accuracy: 0.5962\n",
      "Epoch 259/300\n",
      "19890/19890 [==============================] - 17s 851us/sample - loss: 2.2828 - starts_loss: 1.1799 - stops_loss: 1.1094 - starts_accuracy: 0.6354 - stops_accuracy: 0.6635 - val_loss: 3.2893 - val_starts_loss: 1.5901 - val_stops_loss: 1.6944 - val_starts_accuracy: 0.5840 - val_stops_accuracy: 0.5978\n",
      "Epoch 260/300\n",
      "19890/19890 [==============================] - 17s 832us/sample - loss: 2.2934 - starts_loss: 1.1834 - stops_loss: 1.1087 - starts_accuracy: 0.6357 - stops_accuracy: 0.6599 - val_loss: 3.2799 - val_starts_loss: 1.5949 - val_stops_loss: 1.6795 - val_starts_accuracy: 0.5920 - val_stops_accuracy: 0.5942\n"
     ]
    },
    {
     "name": "stdout",
     "output_type": "stream",
     "text": [
      "Epoch 261/300\n",
      "19890/19890 [==============================] - 17s 833us/sample - loss: 2.2550 - starts_loss: 1.1632 - stops_loss: 1.0960 - starts_accuracy: 0.6381 - stops_accuracy: 0.6645 - val_loss: 3.2629 - val_starts_loss: 1.5930 - val_stops_loss: 1.6649 - val_starts_accuracy: 0.5898 - val_stops_accuracy: 0.5910\n",
      "Epoch 262/300\n",
      "19890/19890 [==============================] - 17s 835us/sample - loss: 2.2491 - starts_loss: 1.1543 - stops_loss: 1.0900 - starts_accuracy: 0.6391 - stops_accuracy: 0.6661 - val_loss: 3.2677 - val_starts_loss: 1.5980 - val_stops_loss: 1.6639 - val_starts_accuracy: 0.5954 - val_stops_accuracy: 0.5930\n",
      "Epoch 263/300\n",
      "19890/19890 [==============================] - 17s 848us/sample - loss: 2.2130 - starts_loss: 1.1497 - stops_loss: 1.0667 - starts_accuracy: 0.6419 - stops_accuracy: 0.6702 - val_loss: 3.2634 - val_starts_loss: 1.5930 - val_stops_loss: 1.6650 - val_starts_accuracy: 0.5894 - val_stops_accuracy: 0.5938\n",
      "Epoch 264/300\n",
      "19890/19890 [==============================] - 17s 847us/sample - loss: 2.1993 - starts_loss: 1.1307 - stops_loss: 1.0613 - starts_accuracy: 0.6434 - stops_accuracy: 0.6705 - val_loss: 3.2586 - val_starts_loss: 1.5935 - val_stops_loss: 1.6600 - val_starts_accuracy: 0.5872 - val_stops_accuracy: 0.5968\n",
      "Epoch 265/300\n",
      "19890/19890 [==============================] - 16s 829us/sample - loss: 2.1787 - starts_loss: 1.1279 - stops_loss: 1.0506 - starts_accuracy: 0.6436 - stops_accuracy: 0.6712 - val_loss: 3.2555 - val_starts_loss: 1.5893 - val_stops_loss: 1.6610 - val_starts_accuracy: 0.5898 - val_stops_accuracy: 0.5958\n",
      "Epoch 266/300\n",
      "19890/19890 [==============================] - 17s 844us/sample - loss: 2.1926 - starts_loss: 1.1301 - stops_loss: 1.0611 - starts_accuracy: 0.6431 - stops_accuracy: 0.6709 - val_loss: 3.2507 - val_starts_loss: 1.5843 - val_stops_loss: 1.6611 - val_starts_accuracy: 0.5894 - val_stops_accuracy: 0.5954\n",
      "Epoch 267/300\n",
      "19890/19890 [==============================] - 17s 839us/sample - loss: 2.1798 - starts_loss: 1.1278 - stops_loss: 1.0475 - starts_accuracy: 0.6431 - stops_accuracy: 0.6735 - val_loss: 3.2471 - val_starts_loss: 1.5805 - val_stops_loss: 1.6616 - val_starts_accuracy: 0.5906 - val_stops_accuracy: 0.5980\n",
      "Epoch 268/300\n",
      "19890/19890 [==============================] - 17s 835us/sample - loss: 2.1717 - starts_loss: 1.1198 - stops_loss: 1.0507 - starts_accuracy: 0.6454 - stops_accuracy: 0.6709 - val_loss: 3.2510 - val_starts_loss: 1.5833 - val_stops_loss: 1.6626 - val_starts_accuracy: 0.5910 - val_stops_accuracy: 0.5990\n",
      "Epoch 269/300\n",
      "19890/19890 [==============================] - 17s 837us/sample - loss: 2.1765 - starts_loss: 1.1286 - stops_loss: 1.0475 - starts_accuracy: 0.6448 - stops_accuracy: 0.6733 - val_loss: 3.2503 - val_starts_loss: 1.5831 - val_stops_loss: 1.6626 - val_starts_accuracy: 0.5926 - val_stops_accuracy: 0.5998\n",
      "Epoch 270/300\n",
      "19890/19890 [==============================] - 16s 825us/sample - loss: 2.1686 - starts_loss: 1.1197 - stops_loss: 1.0469 - starts_accuracy: 0.6455 - stops_accuracy: 0.6751 - val_loss: 3.2614 - val_starts_loss: 1.5932 - val_stops_loss: 1.6629 - val_starts_accuracy: 0.5878 - val_stops_accuracy: 0.5996\n",
      "Epoch 271/300\n",
      "19890/19890 [==============================] - 16s 828us/sample - loss: 2.1883 - starts_loss: 1.1347 - stops_loss: 1.0553 - starts_accuracy: 0.6392 - stops_accuracy: 0.6729 - val_loss: 3.2580 - val_starts_loss: 1.5802 - val_stops_loss: 1.6733 - val_starts_accuracy: 0.5932 - val_stops_accuracy: 0.5994\n",
      "Epoch 272/300\n",
      "19890/19890 [==============================] - 17s 837us/sample - loss: 2.1863 - starts_loss: 1.1318 - stops_loss: 1.0574 - starts_accuracy: 0.6440 - stops_accuracy: 0.6731 - val_loss: 3.2451 - val_starts_loss: 1.5693 - val_stops_loss: 1.6718 - val_starts_accuracy: 0.5914 - val_stops_accuracy: 0.6010\n",
      "Epoch 273/300\n",
      "19890/19890 [==============================] - 17s 845us/sample - loss: 2.1883 - starts_loss: 1.1324 - stops_loss: 1.0583 - starts_accuracy: 0.6442 - stops_accuracy: 0.6723 - val_loss: 3.2435 - val_starts_loss: 1.5768 - val_stops_loss: 1.6626 - val_starts_accuracy: 0.5924 - val_stops_accuracy: 0.6059\n",
      "Epoch 274/300\n",
      "19890/19890 [==============================] - 17s 837us/sample - loss: 2.1929 - starts_loss: 1.1375 - stops_loss: 1.0546 - starts_accuracy: 0.6415 - stops_accuracy: 0.6736 - val_loss: 3.2811 - val_starts_loss: 1.5766 - val_stops_loss: 1.7012 - val_starts_accuracy: 0.5890 - val_stops_accuracy: 0.6059\n",
      "Epoch 275/300\n",
      "19890/19890 [==============================] - 17s 845us/sample - loss: 2.2007 - starts_loss: 1.1361 - stops_loss: 1.0614 - starts_accuracy: 0.6407 - stops_accuracy: 0.6698 - val_loss: 3.2796 - val_starts_loss: 1.5869 - val_stops_loss: 1.6892 - val_starts_accuracy: 0.5836 - val_stops_accuracy: 0.6045\n",
      "Epoch 276/300\n",
      "19890/19890 [==============================] - 17s 838us/sample - loss: 2.2092 - starts_loss: 1.1388 - stops_loss: 1.0713 - starts_accuracy: 0.6421 - stops_accuracy: 0.6690 - val_loss: 3.2578 - val_starts_loss: 1.5549 - val_stops_loss: 1.6992 - val_starts_accuracy: 0.5946 - val_stops_accuracy: 0.6057\n",
      "Epoch 277/300\n",
      "19890/19890 [==============================] - 17s 849us/sample - loss: 2.2032 - starts_loss: 1.1352 - stops_loss: 1.0625 - starts_accuracy: 0.6455 - stops_accuracy: 0.6697 - val_loss: 3.2363 - val_starts_loss: 1.5615 - val_stops_loss: 1.6706 - val_starts_accuracy: 0.5930 - val_stops_accuracy: 0.6041\n",
      "Epoch 278/300\n",
      "19890/19890 [==============================] - 17s 836us/sample - loss: 2.1933 - starts_loss: 1.1317 - stops_loss: 1.0608 - starts_accuracy: 0.6448 - stops_accuracy: 0.6691 - val_loss: 3.2361 - val_starts_loss: 1.5676 - val_stops_loss: 1.6641 - val_starts_accuracy: 0.5860 - val_stops_accuracy: 0.6053\n",
      "Epoch 279/300\n",
      "19890/19890 [==============================] - 17s 841us/sample - loss: 2.1882 - starts_loss: 1.1296 - stops_loss: 1.0581 - starts_accuracy: 0.6419 - stops_accuracy: 0.6721 - val_loss: 3.2302 - val_starts_loss: 1.5682 - val_stops_loss: 1.6582 - val_starts_accuracy: 0.5938 - val_stops_accuracy: 0.6016\n",
      "Epoch 280/300\n",
      "19890/19890 [==============================] - 17s 834us/sample - loss: 2.1590 - starts_loss: 1.1175 - stops_loss: 1.0385 - starts_accuracy: 0.6468 - stops_accuracy: 0.6755 - val_loss: 3.2341 - val_starts_loss: 1.5756 - val_stops_loss: 1.6542 - val_starts_accuracy: 0.5932 - val_stops_accuracy: 0.6027\n",
      "Epoch 281/300\n",
      "19890/19890 [==============================] - 17s 834us/sample - loss: 2.1603 - starts_loss: 1.1139 - stops_loss: 1.0463 - starts_accuracy: 0.6488 - stops_accuracy: 0.6731 - val_loss: 3.2421 - val_starts_loss: 1.5840 - val_stops_loss: 1.6532 - val_starts_accuracy: 0.5920 - val_stops_accuracy: 0.6008\n",
      "Epoch 282/300\n",
      "19890/19890 [==============================] - 16s 829us/sample - loss: 2.1465 - starts_loss: 1.1143 - stops_loss: 1.0331 - starts_accuracy: 0.6455 - stops_accuracy: 0.6733 - val_loss: 3.2502 - val_starts_loss: 1.5945 - val_stops_loss: 1.6513 - val_starts_accuracy: 0.5858 - val_stops_accuracy: 0.6004\n",
      "Epoch 283/300\n",
      "19890/19890 [==============================] - 17s 844us/sample - loss: 2.1307 - starts_loss: 1.1081 - stops_loss: 1.0226 - starts_accuracy: 0.6449 - stops_accuracy: 0.6785 - val_loss: 3.2521 - val_starts_loss: 1.5870 - val_stops_loss: 1.6609 - val_starts_accuracy: 0.5896 - val_stops_accuracy: 0.6023\n",
      "Epoch 284/300\n",
      "19890/19890 [==============================] - 17s 833us/sample - loss: 2.1244 - starts_loss: 1.0989 - stops_loss: 1.0269 - starts_accuracy: 0.6507 - stops_accuracy: 0.6783 - val_loss: 3.2534 - val_starts_loss: 1.5868 - val_stops_loss: 1.6622 - val_starts_accuracy: 0.5890 - val_stops_accuracy: 0.6016\n",
      "Epoch 285/300\n",
      "19890/19890 [==============================] - 19s 943us/sample - loss: 2.1261 - starts_loss: 1.1036 - stops_loss: 1.0224 - starts_accuracy: 0.6489 - stops_accuracy: 0.6762 - val_loss: 3.2533 - val_starts_loss: 1.5847 - val_stops_loss: 1.6642 - val_starts_accuracy: 0.5896 - val_stops_accuracy: 0.6016\n",
      "Epoch 286/300\n",
      "19890/19890 [==============================] - 17s 838us/sample - loss: 2.1047 - starts_loss: 1.0936 - stops_loss: 1.0143 - starts_accuracy: 0.6531 - stops_accuracy: 0.6809 - val_loss: 3.2545 - val_starts_loss: 1.5879 - val_stops_loss: 1.6621 - val_starts_accuracy: 0.5926 - val_stops_accuracy: 0.6012\n"
     ]
    },
    {
     "name": "stdout",
     "output_type": "stream",
     "text": [
      "Epoch 287/300\n",
      "19890/19890 [==============================] - 17s 838us/sample - loss: 2.1145 - starts_loss: 1.1034 - stops_loss: 1.0169 - starts_accuracy: 0.6498 - stops_accuracy: 0.6790 - val_loss: 3.2603 - val_starts_loss: 1.5935 - val_stops_loss: 1.6621 - val_starts_accuracy: 0.5888 - val_stops_accuracy: 0.5990\n",
      "Epoch 288/300\n",
      "19890/19890 [==============================] - 16s 823us/sample - loss: 2.1094 - starts_loss: 1.1008 - stops_loss: 1.0129 - starts_accuracy: 0.6503 - stops_accuracy: 0.6800 - val_loss: 3.2665 - val_starts_loss: 1.6013 - val_stops_loss: 1.6601 - val_starts_accuracy: 0.5912 - val_stops_accuracy: 0.5990\n",
      "Epoch 289/300\n",
      "19890/19890 [==============================] - 17s 832us/sample - loss: 2.1140 - starts_loss: 1.0972 - stops_loss: 1.0181 - starts_accuracy: 0.6498 - stops_accuracy: 0.6807 - val_loss: 3.2944 - val_starts_loss: 1.6157 - val_stops_loss: 1.6729 - val_starts_accuracy: 0.5882 - val_stops_accuracy: 0.5962\n",
      "Epoch 290/300\n",
      "19890/19890 [==============================] - 17s 835us/sample - loss: 2.1296 - starts_loss: 1.1057 - stops_loss: 1.0225 - starts_accuracy: 0.6478 - stops_accuracy: 0.6802 - val_loss: 3.2882 - val_starts_loss: 1.6030 - val_stops_loss: 1.6803 - val_starts_accuracy: 0.5882 - val_stops_accuracy: 0.5992\n",
      "Epoch 291/300\n",
      "19890/19890 [==============================] - 17s 850us/sample - loss: 2.1317 - starts_loss: 1.1066 - stops_loss: 1.0259 - starts_accuracy: 0.6484 - stops_accuracy: 0.6752 - val_loss: 3.3013 - val_starts_loss: 1.6162 - val_stops_loss: 1.6795 - val_starts_accuracy: 0.5916 - val_stops_accuracy: 0.5980\n",
      "Epoch 292/300\n",
      "19890/19890 [==============================] - 17s 838us/sample - loss: 2.1490 - starts_loss: 1.1144 - stops_loss: 1.0355 - starts_accuracy: 0.6468 - stops_accuracy: 0.6747 - val_loss: 3.3045 - val_starts_loss: 1.6012 - val_stops_loss: 1.6989 - val_starts_accuracy: 0.5860 - val_stops_accuracy: 0.5986\n",
      "Epoch 293/300\n",
      "19890/19890 [==============================] - 17s 845us/sample - loss: 2.1436 - starts_loss: 1.1126 - stops_loss: 1.0321 - starts_accuracy: 0.6471 - stops_accuracy: 0.6749 - val_loss: 3.2950 - val_starts_loss: 1.6082 - val_stops_loss: 1.6809 - val_starts_accuracy: 0.5829 - val_stops_accuracy: 0.5980\n",
      "Epoch 294/300\n",
      "19890/19890 [==============================] - 16s 827us/sample - loss: 2.1460 - starts_loss: 1.1182 - stops_loss: 1.0294 - starts_accuracy: 0.6480 - stops_accuracy: 0.6763 - val_loss: 3.2763 - val_starts_loss: 1.5889 - val_stops_loss: 1.6820 - val_starts_accuracy: 0.5916 - val_stops_accuracy: 0.6008\n",
      "Epoch 295/300\n",
      "19890/19890 [==============================] - 17s 833us/sample - loss: 2.1532 - starts_loss: 1.1139 - stops_loss: 1.0417 - starts_accuracy: 0.6480 - stops_accuracy: 0.6718 - val_loss: 3.2571 - val_starts_loss: 1.5791 - val_stops_loss: 1.6738 - val_starts_accuracy: 0.5968 - val_stops_accuracy: 0.6069\n",
      "Epoch 296/300\n",
      "19890/19890 [==============================] - 17s 832us/sample - loss: 2.1661 - starts_loss: 1.1218 - stops_loss: 1.0461 - starts_accuracy: 0.6469 - stops_accuracy: 0.6739 - val_loss: 3.2696 - val_starts_loss: 1.5796 - val_stops_loss: 1.6849 - val_starts_accuracy: 0.5946 - val_stops_accuracy: 0.6061\n",
      "Epoch 297/300\n",
      "19890/19890 [==============================] - 16s 829us/sample - loss: 2.1543 - starts_loss: 1.1160 - stops_loss: 1.0419 - starts_accuracy: 0.6485 - stops_accuracy: 0.6729 - val_loss: 3.2860 - val_starts_loss: 1.5896 - val_stops_loss: 1.6912 - val_starts_accuracy: 0.5908 - val_stops_accuracy: 0.5996\n",
      "Epoch 298/300\n",
      "19890/19890 [==============================] - 17s 847us/sample - loss: 2.1444 - starts_loss: 1.1089 - stops_loss: 1.0340 - starts_accuracy: 0.6448 - stops_accuracy: 0.6738 - val_loss: 3.2722 - val_starts_loss: 1.5882 - val_stops_loss: 1.6791 - val_starts_accuracy: 0.5944 - val_stops_accuracy: 0.6041\n",
      "Epoch 299/300\n",
      "19890/19890 [==============================] - 17s 851us/sample - loss: 2.1318 - starts_loss: 1.1085 - stops_loss: 1.0230 - starts_accuracy: 0.6465 - stops_accuracy: 0.6768 - val_loss: 3.2727 - val_starts_loss: 1.5891 - val_stops_loss: 1.6792 - val_starts_accuracy: 0.5825 - val_stops_accuracy: 0.6031\n",
      "Epoch 300/300\n",
      "19890/19890 [==============================] - 17s 839us/sample - loss: 2.1181 - starts_loss: 1.0974 - stops_loss: 1.0151 - starts_accuracy: 0.6480 - stops_accuracy: 0.6795 - val_loss: 3.3034 - val_starts_loss: 1.6010 - val_stops_loss: 1.6981 - val_starts_accuracy: 0.5777 - val_stops_accuracy: 0.6057\n"
     ]
    }
   ],
   "source": [
    "history = model.fit(x={\"att_flags\":X_att_train,\n",
    "                       \"words\":X_train},\n",
    "                    y={\"starts\":Y_starts_train.argmax(axis=1),\n",
    "                       \"stops\":Y_stops_train.argmax(axis=1)},\n",
    "                    shuffle=True,\n",
    "                    batch_size=BATCH_SIZE,\n",
    "                    epochs=NUM_EPOCHS,\n",
    "                    validation_data=({\"att_flags\":X_att_val, \"words\":X_val},\n",
    "                                     {\"starts\":Y_starts_val.argmax(axis=1), \"stops\":Y_stops_val.argmax(axis=1)}),\n",
    "                    verbose=1,\n",
    "                    callbacks=[clr, mcp]) #es, rlrop, tb, mcp,"
   ]
  },
  {
   "cell_type": "code",
   "execution_count": 47,
   "metadata": {},
   "outputs": [
    {
     "data": {
      "image/png": "[encoded data removed]",
      "text/plain": [
       "<Figure size 432x288 with 1 Axes>"
      ]
     },
     "metadata": {
      "needs_background": "light"
     },
     "output_type": "display_data"
    },
    {
     "data": {
      "image/png": "[encoded data removed]",
      "text/plain": [
       "<Figure size 432x288 with 1 Axes>"
      ]
     },
     "metadata": {
      "needs_background": "light"
     },
     "output_type": "display_data"
    },
    {
     "data": {
      "image/png": "[encoded data removed]",
      "text/plain": [
       "<Figure size 432x288 with 1 Axes>"
      ]
     },
     "metadata": {
      "needs_background": "light"
     },
     "output_type": "display_data"
    },
    {
     "data": {
      "image/png": "[encoded data removed]",
      "text/plain": [
       "<Figure size 432x288 with 1 Axes>"
      ]
     },
     "metadata": {
      "needs_background": "light"
     },
     "output_type": "display_data"
    },
    {
     "data": {
      "image/png": "[encoded data removed]",
      "text/plain": [
       "<Figure size 432x288 with 1 Axes>"
      ]
     },
     "metadata": {
      "needs_background": "light"
     },
     "output_type": "display_data"
    }
   ],
   "source": [
    "#metric_names = ['loss' ,'accuracy']\n",
    "metric_names = [\"loss\", \"starts_loss\", \"stops_loss\", \"starts_accuracy\", \"stops_accuracy\"]\n",
    "\n",
    "for i, j in zip(metric_names, ['val_'+i for i in metric_names]):\n",
    "    plt.plot(history.history[i])\n",
    "    plt.plot(history.history[j])\n",
    "    plt.title('Model '+i)\n",
    "    plt.ylabel(i.upper())\n",
    "    plt.xlabel('Epoch')\n",
    "    plt.legend(['Train', 'Validation'])\n",
    "    plt.show()"
   ]
  },
  {
   "cell_type": "markdown",
   "metadata": {},
   "source": [
    "## Validation"
   ]
  },
  {
   "cell_type": "markdown",
   "metadata": {},
   "source": [
    "#### Inference"
   ]
  },
  {
   "cell_type": "code",
   "execution_count": 48,
   "metadata": {},
   "outputs": [],
   "source": [
    "model.save(\"../results/\"+MODEL_PREFIX+\"EndCheckpoint.h5\")"
   ]
  },
  {
   "cell_type": "code",
   "execution_count": 49,
   "metadata": {},
   "outputs": [],
   "source": [
    "from tensorflow.keras.models import load_model\n",
    "\n",
    "model = tf.keras.models.load_model(\n",
    "    filepath=\"../results/\"+MODEL_PREFIX+\"BestCheckpoint.h5\",\n",
    "    compile=True\n",
    ")"
   ]
  },
  {
   "cell_type": "code",
   "execution_count": 50,
   "metadata": {},
   "outputs": [
    {
     "name": "stdout",
     "output_type": "stream",
     "text": [
      "4973/4973 [==============================] - 2s 371us/sample - loss: 3.0774 - starts_loss: 1.5199 - stops_loss: 1.5401 - starts_accuracy: 0.6075 - stops_accuracy: 0.6105\n"
     ]
    },
    {
     "data": {
      "text/plain": [
       "[3.0773680700086956, 1.5198622, 1.5400939, 0.6074804, 0.6104967]"
      ]
     },
     "execution_count": 50,
     "metadata": {},
     "output_type": "execute_result"
    }
   ],
   "source": [
    "model.evaluate(x = {\"att_flags\":X_att_val, \"words\":X_val},\n",
    "               y={\"starts\":Y_starts_val.argmax(axis=1), \"stops\":Y_stops_val.argmax(axis=1)},\n",
    "               batch_size=PREDICT_BATCH_SIZE)"
   ]
  },
  {
   "cell_type": "code",
   "execution_count": 51,
   "metadata": {},
   "outputs": [],
   "source": [
    "pred_train = model.predict(x = {\"att_flags\":X_att_train, \"words\":X_train},\n",
    "                           batch_size=PREDICT_BATCH_SIZE)\n",
    "pred_val = model.predict(x = {\"att_flags\":X_att_val, \"words\":X_val},\n",
    "                         batch_size=PREDICT_BATCH_SIZE)\n",
    "pred_test = model.predict(x = {\"att_flags\":X_att_test, \"words\":X_test},\n",
    "                          batch_size=PREDICT_BATCH_SIZE)"
   ]
  },
  {
   "cell_type": "code",
   "execution_count": 52,
   "metadata": {},
   "outputs": [],
   "source": [
    "pred_starts_train, pred_stops_train = pred_train[0], pred_train[1]\n",
    "pred_starts_val, pred_stops_val = pred_val[0], pred_val[1]\n",
    "pred_starts_test, pred_stops_test = pred_test[0], pred_test[1]"
   ]
  },
  {
   "cell_type": "code",
   "execution_count": 53,
   "metadata": {},
   "outputs": [
    {
     "name": "stdout",
     "output_type": "stream",
     "text": [
      "(19890, 108) (19890, 108)\n",
      "(4973, 108) (4973, 108)\n",
      "(3534, 108) (3534, 108)\n"
     ]
    }
   ],
   "source": [
    "print(pred_starts_train.shape, pred_stops_train.shape)\n",
    "print(pred_starts_val.shape, pred_stops_val.shape)\n",
    "print(pred_starts_test.shape, pred_stops_test.shape)"
   ]
  },
  {
   "cell_type": "code",
   "execution_count": 54,
   "metadata": {},
   "outputs": [],
   "source": [
    "preds = {\n",
    "    \"train\":{\n",
    "        \"starts\":{\n",
    "            \"y_true\":Y_starts_train.argmax(axis=1),\n",
    "            \"y_pred\":pred_starts_train.argmax(axis=1)\n",
    "        },\n",
    "        \"stops\":{\n",
    "            \"y_true\":Y_stops_train.argmax(axis=1),\n",
    "            \"y_pred\":pred_stops_train.argmax(axis=1)\n",
    "        }\n",
    "    },\n",
    "    \"valid\":{\n",
    "        \"starts\":{\n",
    "            \"y_true\":Y_starts_val.argmax(axis=1),\n",
    "            \"y_pred\":pred_starts_val.argmax(axis=1)\n",
    "        },\n",
    "        \"stops\":{\n",
    "            \"y_true\":Y_stops_train.argmax(axis=1),\n",
    "            \"y_pred\":pred_stops_train.argmax(axis=1)\n",
    "        }        \n",
    "    }\n",
    "}"
   ]
  },
  {
   "cell_type": "code",
   "execution_count": 55,
   "metadata": {},
   "outputs": [
    {
     "name": "stdout",
     "output_type": "stream",
     "text": [
      "61.85 \t|| train \t|| starts \t|| accuracy_score\n",
      "64.14 \t|| train \t|| stops \t|| accuracy_score\n",
      "60.75 \t|| valid \t|| starts \t|| accuracy_score\n",
      "64.14 \t|| valid \t|| stops \t|| accuracy_score\n",
      "================================================================\n",
      "6.14 \t|| train \t|| starts \t|| f1_score\n",
      "54.61 \t|| train \t|| stops \t|| f1_score\n",
      "5.46 \t|| valid \t|| starts \t|| f1_score\n",
      "54.61 \t|| valid \t|| stops \t|| f1_score\n",
      "================================================================\n",
      "7.83 \t|| train \t|| starts \t|| precision_score\n",
      "54.92 \t|| train \t|| stops \t|| precision_score\n",
      "5.65 \t|| valid \t|| starts \t|| precision_score\n",
      "54.92 \t|| valid \t|| stops \t|| precision_score\n",
      "================================================================\n",
      "6.60 \t|| train \t|| starts \t|| recall_score\n",
      "58.50 \t|| train \t|| stops \t|| recall_score\n",
      "6.11 \t|| valid \t|| starts \t|| recall_score\n",
      "58.50 \t|| valid \t|| stops \t|| recall_score\n",
      "================================================================\n"
     ]
    },
    {
     "name": "stderr",
     "output_type": "stream",
     "text": [
      "c:\\users\\deepak\\miniconda3\\envs\\dev\\lib\\site-packages\\sklearn\\metrics\\_classification.py:1272: UndefinedMetricWarning: Precision is ill-defined and being set to 0.0 in labels with no predicted samples. Use `zero_division` parameter to control this behavior.\n",
      "  _warn_prf(average, modifier, msg_start, len(result))\n"
     ]
    },
    {
     "name": "stdout",
     "output_type": "stream",
     "text": [
      "\t|| train \t|| starts \t|| confusion_matrix \t|| ../results/ConfusionMatrix_V15_train_starts.csv\n",
      "\t|| train \t|| stops \t|| confusion_matrix \t|| ../results/ConfusionMatrix_V15_train_stops.csv\n",
      "\t|| valid \t|| starts \t|| confusion_matrix \t|| ../results/ConfusionMatrix_V15_valid_starts.csv\n",
      "\t|| valid \t|| stops \t|| confusion_matrix \t|| ../results/ConfusionMatrix_V15_valid_stops.csv\n",
      "================================================================\n"
     ]
    }
   ],
   "source": [
    "def print_metrics():\n",
    "    funcs = [accuracy_score, f1_score, precision_score, recall_score, confusion_matrix]\n",
    "    for f in funcs:\n",
    "        for data_set in [\"train\",\"valid\"]:\n",
    "            for var in [\"starts\", \"stops\"]:\n",
    "                if f in [accuracy_score]:\n",
    "                    res = f(**preds[data_set][var])\n",
    "                    print(\"{:.2f}\".format(100 * res), \"\\t||\", data_set, \"\\t||\", var, \"\\t||\", f.__name__)\n",
    "                elif f in [confusion_matrix]:\n",
    "                    res = f(**preds[data_set][var], labels = np.arange(max_len))\n",
    "                    np.savetxt(X=res, fmt='%i', delimiter=\",\",\n",
    "                               fname=\"../results/ConfusionMatrix_\"+MODEL_PREFIX+\"_\"+data_set+\"_\"+var+\".csv\")\n",
    "                    print(\"\\t||\", data_set, \"\\t||\", var, \"\\t||\", f.__name__, \"\\t||\", \n",
    "                          \"../results/ConfusionMatrix_\"+MODEL_PREFIX+\"_\"+data_set+\"_\"+var+\".csv\")\n",
    "                else:\n",
    "                    res = f(**preds[data_set][var], average=\"macro\")\n",
    "                    print(\"{:.2f}\".format(100 * res), \"\\t||\", data_set, \"\\t||\", var, \"\\t||\", f.__name__)\n",
    "        print(\"================================================================\")\n",
    "\n",
    "print_metrics()"
   ]
  },
  {
   "cell_type": "markdown",
   "metadata": {},
   "source": [
    "#### Postprocessing"
   ]
  },
  {
   "cell_type": "code",
   "execution_count": 56,
   "metadata": {},
   "outputs": [],
   "source": [
    "Y_words_train = [tokenizer.decode(i) for i in Y_train]\n",
    "Y_words_val = [tokenizer.decode(i) for i in Y_val]"
   ]
  },
  {
   "cell_type": "code",
   "execution_count": 57,
   "metadata": {},
   "outputs": [
    {
     "name": "stdout",
     "output_type": "stream",
     "text": [
      "19890 19780\n",
      "4973 4956\n",
      "3534 3520\n"
     ]
    }
   ],
   "source": [
    "print(pred_starts_train.shape[0],\n",
    "      sum([s<e for s,e in zip(pred_starts_train.argmax(axis=1),\n",
    "                              pred_stops_train.argmax(axis=1))]))\n",
    "print(pred_starts_val.shape[0],\n",
    "      sum([s<e for s,e in zip(pred_starts_val.argmax(axis=1),\n",
    "                              pred_stops_val.argmax(axis=1))]))\n",
    "print(pred_starts_test.shape[0],\n",
    "      sum([s<e for s,e in zip(pred_starts_test.argmax(axis=1),\n",
    "                              pred_stops_test.argmax(axis=1))]))"
   ]
  },
  {
   "cell_type": "code",
   "execution_count": 58,
   "metadata": {},
   "outputs": [],
   "source": [
    "def post_process(string):\n",
    "    string = re.sub(pattern=\" (negative|positive|neutral)[ ]+$\", repl=\"\", string=string)\n",
    "    string = re.sub(pattern=\" +\", repl=\" \", string=string.strip())\n",
    "    return string"
   ]
  },
  {
   "cell_type": "code",
   "execution_count": 59,
   "metadata": {},
   "outputs": [],
   "source": [
    "pred_words_train = [post_process(tokenizer.decode(t[s:e])) if s<e else post_process(tokenizer.decode(t[e:])) for t, s,e in zip(X_train, pred_starts_train.argmax(axis=1), pred_stops_train.argmax(axis=1))]\n",
    "pred_words_val = [post_process(tokenizer.decode(t[s:e])) if s<e else post_process(tokenizer.decode(t[e:])) for t, s,e in zip(X_val, pred_starts_val.argmax(axis=1), pred_stops_val.argmax(axis=1))]\n",
    "pred_words_test = [post_process(tokenizer.decode(t[s:e])) if s<e else post_process(tokenizer.decode(t[e:])) for t, s,e in zip(X_test, pred_starts_test.argmax(axis=1), pred_stops_test.argmax(axis=1))]"
   ]
  },
  {
   "cell_type": "code",
   "execution_count": 60,
   "metadata": {},
   "outputs": [],
   "source": [
    "def jaccard(str1, str2):\n",
    "    a = set(str1)\n",
    "    b = set(str2)\n",
    "    c = a.intersection(b)\n",
    "    return float(len(c)) / (len(a) + len(b) - len(c))"
   ]
  },
  {
   "cell_type": "code",
   "execution_count": 61,
   "metadata": {},
   "outputs": [
    {
     "name": "stdout",
     "output_type": "stream",
     "text": [
      "Training Jaccard Score 0.703761448202351\n",
      "Validation Jaccard Score 0.6879099603285186\n"
     ]
    }
   ],
   "source": [
    "print(\"Training Jaccard Score\", np.mean([jaccard(str1=i, str2=j) for i,j in zip(Y_words_train, pred_words_train)]))\n",
    "print(\"Validation Jaccard Score\", np.mean([jaccard(str1=i, str2=j) for i,j in zip(Y_words_val, pred_words_val)]))"
   ]
  },
  {
   "cell_type": "code",
   "execution_count": 62,
   "metadata": {},
   "outputs": [],
   "source": [
    "sent_labels = {i:j for i,j in enumerate(df.sentiment_code.cat.categories)}"
   ]
  },
  {
   "cell_type": "markdown",
   "metadata": {},
   "source": [
    "## Submission"
   ]
  },
  {
   "cell_type": "code",
   "execution_count": 63,
   "metadata": {},
   "outputs": [],
   "source": [
    "test_df['selected_text'] = pred_words_test"
   ]
  },
  {
   "cell_type": "code",
   "execution_count": 64,
   "metadata": {},
   "outputs": [
    {
     "data": {
      "text/html": [
       "<div>\n",
       "<style scoped>\n",
       "    .dataframe tbody tr th:only-of-type {\n",
       "        vertical-align: middle;\n",
       "    }\n",
       "\n",
       "    .dataframe tbody tr th {\n",
       "        vertical-align: top;\n",
       "    }\n",
       "\n",
       "    .dataframe thead th {\n",
       "        text-align: right;\n",
       "    }\n",
       "</style>\n",
       "<table border=\"1\" class=\"dataframe\">\n",
       "  <thead>\n",
       "    <tr style=\"text-align: right;\">\n",
       "      <th></th>\n",
       "      <th>text</th>\n",
       "      <th>sentiment</th>\n",
       "      <th>selected_text</th>\n",
       "    </tr>\n",
       "  </thead>\n",
       "  <tbody>\n",
       "    <tr>\n",
       "      <th>0</th>\n",
       "      <td>Last session of the day  http://twitpic.com/67ezh</td>\n",
       "      <td>neutral</td>\n",
       "      <td>last session of the day http://twitpic.com/67ez</td>\n",
       "    </tr>\n",
       "    <tr>\n",
       "      <th>1</th>\n",
       "      <td>Shanghai is also really exciting (precisely -- skyscrapers galore). Good tweeps in China:  (SH)  (BJ).</td>\n",
       "      <td>positive</td>\n",
       "      <td>shanghai is also really exciting (precisely -- skyscrapers galore). good tweeps in china: (sh) (bj</td>\n",
       "    </tr>\n",
       "    <tr>\n",
       "      <th>2</th>\n",
       "      <td>Recession hit Veronique Branquinho, she has to quit her company, such a shame!</td>\n",
       "      <td>negative</td>\n",
       "      <td>recession hit veronique branquinho, she has to quit her company, such a shame</td>\n",
       "    </tr>\n",
       "    <tr>\n",
       "      <th>3</th>\n",
       "      <td>happy bday!</td>\n",
       "      <td>positive</td>\n",
       "      <td>happy bday</td>\n",
       "    </tr>\n",
       "    <tr>\n",
       "      <th>4</th>\n",
       "      <td>http://twitpic.com/4w75p - I like it!!</td>\n",
       "      <td>positive</td>\n",
       "      <td>i like it</td>\n",
       "    </tr>\n",
       "    <tr>\n",
       "      <th>5</th>\n",
       "      <td>that`s great!! weee!! visitors!</td>\n",
       "      <td>positive</td>\n",
       "      <td>that`s great!! weee!! visitors</td>\n",
       "    </tr>\n",
       "    <tr>\n",
       "      <th>6</th>\n",
       "      <td>I THINK EVERYONE HATES ME ON HERE   lol</td>\n",
       "      <td>negative</td>\n",
       "      <td>i think everyone hates me on here</td>\n",
       "    </tr>\n",
       "    <tr>\n",
       "      <th>7</th>\n",
       "      <td>soooooo wish i could, but im in school and myspace is completely blocked</td>\n",
       "      <td>negative</td>\n",
       "      <td>soooooo wish i could, but im in school and myspace is completely</td>\n",
       "    </tr>\n",
       "    <tr>\n",
       "      <th>8</th>\n",
       "      <td>and within a short time of the last clue all of them</td>\n",
       "      <td>neutral</td>\n",
       "      <td>and within a short time of the last clue all of</td>\n",
       "    </tr>\n",
       "    <tr>\n",
       "      <th>9</th>\n",
       "      <td>What did you get?  My day is alright.. haven`t done anything yet. leaving soon to my stepsister though!</td>\n",
       "      <td>neutral</td>\n",
       "      <td>what did you get? my day is alright.. haven`t done anything yet. leaving soon to my stepsister though</td>\n",
       "    </tr>\n",
       "    <tr>\n",
       "      <th>10</th>\n",
       "      <td>My bike was put on hold...should have known that.... argh total bummer</td>\n",
       "      <td>negative</td>\n",
       "      <td>.... argh total</td>\n",
       "    </tr>\n",
       "    <tr>\n",
       "      <th>11</th>\n",
       "      <td>I checked.  We didn`t win</td>\n",
       "      <td>neutral</td>\n",
       "      <td>i checked. we didn`t</td>\n",
       "    </tr>\n",
       "    <tr>\n",
       "      <th>12</th>\n",
       "      <td>.. and you`re on twitter! Did the tavern bore you that much?</td>\n",
       "      <td>neutral</td>\n",
       "      <td>.. and you`re on twitter! did the tavern bore you that much</td>\n",
       "    </tr>\n",
       "    <tr>\n",
       "      <th>13</th>\n",
       "      <td>I`m in VA for the weekend, my youngest son turns 2 tomorrow......it makes me kinda sad, he is getting so big, check out my twipics</td>\n",
       "      <td>negative</td>\n",
       "      <td>i`m in va for the weekend, my youngest son turns 2 tomorrow......it makes me kinda sad, he is getting</td>\n",
       "    </tr>\n",
       "    <tr>\n",
       "      <th>14</th>\n",
       "      <td>Its coming out the socket  I feel like my phones hole is not a virgin. That`s how loose it is... :`(</td>\n",
       "      <td>negative</td>\n",
       "      <td>its coming out the socket i feel like my phones hole is not a virgin. that`s how loose it is...</td>\n",
       "    </tr>\n",
       "  </tbody>\n",
       "</table>\n",
       "</div>"
      ],
      "text/plain": [
       "                                                                                                                                  text  \\\n",
       "0   Last session of the day  http://twitpic.com/67ezh                                                                                    \n",
       "1    Shanghai is also really exciting (precisely -- skyscrapers galore). Good tweeps in China:  (SH)  (BJ).                              \n",
       "2   Recession hit Veronique Branquinho, she has to quit her company, such a shame!                                                       \n",
       "3    happy bday!                                                                                                                         \n",
       "4    http://twitpic.com/4w75p - I like it!!                                                                                              \n",
       "5    that`s great!! weee!! visitors!                                                                                                     \n",
       "6   I THINK EVERYONE HATES ME ON HERE   lol                                                                                              \n",
       "7    soooooo wish i could, but im in school and myspace is completely blocked                                                            \n",
       "8    and within a short time of the last clue all of them                                                                                \n",
       "9    What did you get?  My day is alright.. haven`t done anything yet. leaving soon to my stepsister though!                             \n",
       "10  My bike was put on hold...should have known that.... argh total bummer                                                               \n",
       "11   I checked.  We didn`t win                                                                                                           \n",
       "12   .. and you`re on twitter! Did the tavern bore you that much?                                                                        \n",
       "13  I`m in VA for the weekend, my youngest son turns 2 tomorrow......it makes me kinda sad, he is getting so big, check out my twipics   \n",
       "14  Its coming out the socket  I feel like my phones hole is not a virgin. That`s how loose it is... :`(                                 \n",
       "\n",
       "   sentiment  \\\n",
       "0   neutral    \n",
       "1   positive   \n",
       "2   negative   \n",
       "3   positive   \n",
       "4   positive   \n",
       "5   positive   \n",
       "6   negative   \n",
       "7   negative   \n",
       "8   neutral    \n",
       "9   neutral    \n",
       "10  negative   \n",
       "11  neutral    \n",
       "12  neutral    \n",
       "13  negative   \n",
       "14  negative   \n",
       "\n",
       "                                                                                            selected_text  \n",
       "0   last session of the day http://twitpic.com/67ez                                                        \n",
       "1   shanghai is also really exciting (precisely -- skyscrapers galore). good tweeps in china: (sh) (bj     \n",
       "2   recession hit veronique branquinho, she has to quit her company, such a shame                          \n",
       "3   happy bday                                                                                             \n",
       "4   i like it                                                                                              \n",
       "5   that`s great!! weee!! visitors                                                                         \n",
       "6   i think everyone hates me on here                                                                      \n",
       "7   soooooo wish i could, but im in school and myspace is completely                                       \n",
       "8   and within a short time of the last clue all of                                                        \n",
       "9   what did you get? my day is alright.. haven`t done anything yet. leaving soon to my stepsister though  \n",
       "10  .... argh total                                                                                        \n",
       "11  i checked. we didn`t                                                                                   \n",
       "12  .. and you`re on twitter! did the tavern bore you that much                                            \n",
       "13  i`m in va for the weekend, my youngest son turns 2 tomorrow......it makes me kinda sad, he is getting  \n",
       "14  its coming out the socket i feel like my phones hole is not a virgin. that`s how loose it is...        "
      ]
     },
     "execution_count": 64,
     "metadata": {},
     "output_type": "execute_result"
    }
   ],
   "source": [
    "test_df[[\"text\", \"sentiment\",\"selected_text\"]].head(15)"
   ]
  },
  {
   "cell_type": "code",
   "execution_count": 65,
   "metadata": {},
   "outputs": [],
   "source": [
    "test_df[[\"textID\", \"selected_text\"]].to_csv(\"../results/submission_\"+MODEL_PREFIX+\".csv\", index=False)"
   ]
  },
  {
   "cell_type": "code",
   "execution_count": 66,
   "metadata": {},
   "outputs": [
    {
     "name": "stdout",
     "output_type": "stream",
     "text": [
      "Tue Apr 28 12:41:59 2020\n"
     ]
    }
   ],
   "source": [
    "print(ctime(time()))"
   ]
  },
  {
   "cell_type": "markdown",
   "metadata": {},
   "source": [
    "#### Spot Checks"
   ]
  },
  {
   "cell_type": "code",
   "execution_count": null,
   "metadata": {},
   "outputs": [],
   "source": [
    "def spot_check(index_to_check, mode):\n",
    "    print(\"================== Sample #\", index_to_check, \"==================\")\n",
    "    if mode == \"train\":\n",
    "        print(\"Selected_text:\")\n",
    "        print('\\t', Y_words[train_idx[index_to_check]])\n",
    "        print(\"Predicted_text:\")\n",
    "        print('\\t', pred_words_train[index_to_check])\n",
    "        print(\"Predictions:\")\n",
    "        print('\\t',*[[\"%.2f\"%j, \n",
    "                      \"%.2f\"%k,\n",
    "                      i,\n",
    "                      X_words[train_idx[index_to_check]][num]] for num, (i,j,k) in enumerate(zip(X_train[index_to_check].tolist(),\n",
    "                                                                                               pred_starts_train[index_to_check].tolist(),\n",
    "                                                                                               pred_stops_train[index_to_check].tolist())) if i!=0], sep=\"\\n\\t\")\n",
    "        \n",
    "    elif mode == \"validation\":\n",
    "        print(\"Selected_text:\")\n",
    "        print('\\t', Y_words[val_idx[index_to_check]])\n",
    "        print(\"Predicted_text:\")\n",
    "        print('\\t', pred_words_val[index_to_check])\n",
    "        print(\"Predictions:\")\n",
    "        print('\\t',*[[\"%.2f\"%j, \n",
    "                      \"%.2f\"%k,\n",
    "                      i,\n",
    "                      X_words[val_idx[index_to_check]][num]] for num, (i,j,k) in enumerate(zip(X_val[index_to_check].tolist(),\n",
    "                                                                                               pred_starts_val[index_to_check].tolist(),\n",
    "                                                                                               pred_stops_val[index_to_check].tolist())) if i!=0], sep=\"\\n\\t\")\n",
    "        \n",
    "    else:\n",
    "        print(\"Selected_text:\")\n",
    "        print('\\t', \"Not Available\")\n",
    "        print(\"Predicted_text:\")\n",
    "        print('\\t', pred_words_test[index_to_check])\n",
    "        print(\"Predictions:\")\n",
    "        print('\\t',*[[\"%.2f\"%j, \n",
    "                      \"%.2f\"%k,\n",
    "                      i,\n",
    "                      X_words_test[index_to_check][num]] for num, (i,j,k) in enumerate(zip(X_test[index_to_check].tolist(),\n",
    "                                                                                               pred_starts_test[index_to_check].tolist(),\n",
    "                                                                                               pred_stops_test[index_to_check].tolist())) if i!=0], sep=\"\\n\\t\")"
   ]
  },
  {
   "cell_type": "code",
   "execution_count": null,
   "metadata": {},
   "outputs": [],
   "source": [
    "for i in range(10,20):\n",
    "    spot_check(i, mode=\"train\")"
   ]
  },
  {
   "cell_type": "code",
   "execution_count": null,
   "metadata": {},
   "outputs": [],
   "source": [
    "for i in range(200,210):\n",
    "    spot_check(i, mode=\"validation\")"
   ]
  },
  {
   "cell_type": "code",
   "execution_count": null,
   "metadata": {},
   "outputs": [],
   "source": [
    "for i in range(0,20):\n",
    "    spot_check(i, mode=\"test\")"
   ]
  }
 ],
 "metadata": {
  "kernelspec": {
   "display_name": "Python 3",
   "language": "python",
   "name": "python3"
  },
  "language_info": {
   "codemirror_mode": {
    "name": "ipython",
    "version": 3
   },
   "file_extension": ".py",
   "mimetype": "text/x-python",
   "name": "python",
   "nbconvert_exporter": "python",
   "pygments_lexer": "ipython3",
   "version": "3.7.7"
  }
 },
 "nbformat": 4,
 "nbformat_minor": 2
}

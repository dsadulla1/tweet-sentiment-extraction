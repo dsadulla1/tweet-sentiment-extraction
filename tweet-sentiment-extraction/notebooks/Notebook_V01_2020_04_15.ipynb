{
 "cells": [
  {
   "cell_type": "markdown",
   "metadata": {},
   "source": [
    "## Settings"
   ]
  },
  {
   "cell_type": "code",
   "execution_count": 55,
   "metadata": {},
   "outputs": [],
   "source": [
    "# CONTROLS\n",
    "MODEL_PREFIX = \"V01\"\n",
    "MODEL_NUMBER = MODEL_PREFIX[-2:]\n",
    "TRAIN_SPLIT_RATIO = 0.8\n",
    "\n",
    "DROPOUT = 0.1\n",
    "MIN_LR = 1e-4\n",
    "MAX_LR = 1e-1\n",
    "BATCH_SIZE = 128\n",
    "PREDICT_BATCH_SIZE = 4096\n",
    "STEP_SIZE = 20\n",
    "CLR_METHOD = \"triangular2\" # exp_range, triangular, triangular2\n",
    "NUM_EPOCHS = 60"
   ]
  },
  {
   "cell_type": "markdown",
   "metadata": {},
   "source": [
    "## Libraries"
   ]
  },
  {
   "cell_type": "code",
   "execution_count": 56,
   "metadata": {},
   "outputs": [],
   "source": [
    "import numpy as np\n",
    "import pandas as pd\n",
    "from matplotlib import pyplot as plt\n",
    "\n",
    "from sklearn.preprocessing import MinMaxScaler, LabelBinarizer\n",
    "from sklearn.metrics import confusion_matrix, accuracy_score, f1_score\n",
    "from sklearn.utils import class_weight\n",
    "\n",
    "import pickle, os, sys\n",
    "\n",
    "import tensorflow as tf\n",
    "from tensorflow.keras import Model, Input\n",
    "from tensorflow.keras.layers import Conv1D, Conv2D, LSTM, Embedding, Dense, concatenate, MaxPooling2D\n",
    "from tensorflow.keras.layers import BatchNormalization, Dropout, Flatten, Reshape, Activation, Bidirectional\n",
    "from tensorflow.keras.optimizers import Adam\n",
    "\n",
    "def signaltonoise(a, axis=0, ddof=0):\n",
    "    a = np.asanyarray(a)\n",
    "    m = a.mean(axis)\n",
    "    sd = a.std(axis=axis, ddof=ddof)\n",
    "    return np.where(sd == 0, 0, m/sd)\n",
    "\n",
    "%matplotlib inline"
   ]
  },
  {
   "cell_type": "code",
   "execution_count": 57,
   "metadata": {},
   "outputs": [],
   "source": [
    "from tensorflow.keras.callbacks import *\n",
    "import tensorflow.keras.backend as K\n",
    "\n",
    "class CyclicLR(Callback):\n",
    "    \"\"\"This callback implements a cyclical learning rate policy (CLR).\n",
    "    The method cycles the learning rate between two boundaries with\n",
    "    some constant frequency, as detailed in this paper (https://arxiv.org/abs/1506.01186).\n",
    "    The amplitude of the cycle can be scaled on a per-iteration or \n",
    "    per-cycle basis.\n",
    "    This class has three built-in policies, as put forth in the paper.\n",
    "    \"triangular\":\n",
    "        A basic triangular cycle w/ no amplitude scaling.\n",
    "    \"triangular2\":\n",
    "        A basic triangular cycle that scales initial amplitude by half each cycle.\n",
    "    \"exp_range\":\n",
    "        A cycle that scales initial amplitude by gamma**(cycle iterations) at each \n",
    "        cycle iteration.\n",
    "    For more detail, please see paper.\n",
    "    \n",
    "    # Example\n",
    "        ```python\n",
    "            clr = CyclicLR(base_lr=0.001, max_lr=0.006,\n",
    "                                step_size=2000., mode='triangular')\n",
    "            model.fit(X_train, Y_train, callbacks=[clr])\n",
    "        ```\n",
    "    \n",
    "    Class also supports custom scaling functions:\n",
    "        ```python\n",
    "            clr_fn = lambda x: 0.5*(1+np.sin(x*np.pi/2.))\n",
    "            clr = CyclicLR(base_lr=0.001, max_lr=0.006,\n",
    "                                step_size=2000., scale_fn=clr_fn,\n",
    "                                scale_mode='cycle')\n",
    "            model.fit(X_train, Y_train, callbacks=[clr])\n",
    "        ```    \n",
    "    # Arguments\n",
    "        base_lr: initial learning rate which is the\n",
    "            lower boundary in the cycle.\n",
    "        max_lr: upper boundary in the cycle. Functionally,\n",
    "            it defines the cycle amplitude (max_lr - base_lr).\n",
    "            The lr at any cycle is the sum of base_lr\n",
    "            and some scaling of the amplitude; therefore \n",
    "            max_lr may not actually be reached depending on\n",
    "            scaling function.\n",
    "        step_size: number of training iterations per\n",
    "            half cycle. Authors suggest setting step_size\n",
    "            2-8 x training iterations in epoch.\n",
    "        mode: one of {triangular, triangular2, exp_range}.\n",
    "            Default 'triangular'.\n",
    "            Values correspond to policies detailed above.\n",
    "            If scale_fn is not None, this argument is ignored.\n",
    "        gamma: constant in 'exp_range' scaling function:\n",
    "            gamma**(cycle iterations)\n",
    "        scale_fn: Custom scaling policy defined by a single\n",
    "            argument lambda function, where \n",
    "            0 <= scale_fn(x) <= 1 for all x >= 0.\n",
    "            mode paramater is ignored \n",
    "        scale_mode: {'cycle', 'iterations'}.\n",
    "            Defines whether scale_fn is evaluated on \n",
    "            cycle number or cycle iterations (training\n",
    "            iterations since start of cycle). Default is 'cycle'.\n",
    "    \"\"\"\n",
    "\n",
    "    def __init__(self, base_lr=0.001, max_lr=0.006, step_size=2000., mode='triangular',\n",
    "                 gamma=1., scale_fn=None, scale_mode='cycle'):\n",
    "        super(CyclicLR, self).__init__()\n",
    "\n",
    "        self.base_lr = base_lr\n",
    "        self.max_lr = max_lr\n",
    "        self.step_size = step_size\n",
    "        self.mode = mode\n",
    "        self.gamma = gamma\n",
    "        if scale_fn == None:\n",
    "            if self.mode == 'triangular':\n",
    "                self.scale_fn = lambda x: 1.\n",
    "                self.scale_mode = 'cycle'\n",
    "            elif self.mode == 'triangular2':\n",
    "                self.scale_fn = lambda x: 1/(2.**(x-1))\n",
    "                self.scale_mode = 'cycle'\n",
    "            elif self.mode == 'exp_range':\n",
    "                self.scale_fn = lambda x: gamma**(x)\n",
    "                self.scale_mode = 'iterations'\n",
    "        else:\n",
    "            self.scale_fn = scale_fn\n",
    "            self.scale_mode = scale_mode\n",
    "        self.clr_iterations = 0.\n",
    "        self.trn_iterations = 0.\n",
    "        self.history = {}\n",
    "\n",
    "        self._reset()\n",
    "\n",
    "    def _reset(self, new_base_lr=None, new_max_lr=None,\n",
    "               new_step_size=None):\n",
    "        \"\"\"Resets cycle iterations.\n",
    "        Optional boundary/step size adjustment.\n",
    "        \"\"\"\n",
    "        if new_base_lr != None:\n",
    "            self.base_lr = new_base_lr\n",
    "        if new_max_lr != None:\n",
    "            self.max_lr = new_max_lr\n",
    "        if new_step_size != None:\n",
    "            self.step_size = new_step_size\n",
    "        self.clr_iterations = 0.\n",
    "        \n",
    "    def clr(self):\n",
    "        cycle = np.floor(1+self.clr_iterations/(2*self.step_size))\n",
    "        x = np.abs(self.clr_iterations/self.step_size - 2*cycle + 1)\n",
    "        if self.scale_mode == 'cycle':\n",
    "            return self.base_lr + (self.max_lr-self.base_lr)*np.maximum(0, (1-x))*self.scale_fn(cycle)\n",
    "        else:\n",
    "            return self.base_lr + (self.max_lr-self.base_lr)*np.maximum(0, (1-x))*self.scale_fn(self.clr_iterations)\n",
    "        \n",
    "    def on_train_begin(self, logs={}):\n",
    "        logs = logs or {}\n",
    "\n",
    "        if self.clr_iterations == 0:\n",
    "            K.set_value(self.model.optimizer.lr, self.base_lr)\n",
    "        else:\n",
    "            K.set_value(self.model.optimizer.lr, self.clr())        \n",
    "            \n",
    "    def on_batch_end(self, epoch, logs=None):\n",
    "        \n",
    "        logs = logs or {}\n",
    "        self.trn_iterations += 1\n",
    "        self.clr_iterations += 1\n",
    "\n",
    "        self.history.setdefault('lr', []).append(K.get_value(self.model.optimizer.lr))\n",
    "        self.history.setdefault('iterations', []).append(self.trn_iterations)\n",
    "\n",
    "        for k, v in logs.items():\n",
    "            self.history.setdefault(k, []).append(v)\n",
    "        \n",
    "        K.set_value(self.model.optimizer.lr, self.clr())"
   ]
  },
  {
   "cell_type": "markdown",
   "metadata": {},
   "source": [
    "## Import Data"
   ]
  },
  {
   "cell_type": "code",
   "execution_count": 58,
   "metadata": {},
   "outputs": [
    {
     "name": "stdout",
     "output_type": "stream",
     "text": [
      "                    0  1\n",
      "textID         object  0\n",
      "text           object  1\n",
      "selected_text  object  1\n",
      "sentiment      object  0\n",
      "(27481, 4)\n",
      "{'textID': 27481, 'text': 27480, 'selected_text': 22463, 'sentiment': 3}\n",
      "            textID                                               text  \\\n",
      "count        27481                                              27480   \n",
      "unique       27481                                              27480   \n",
      "top     fc0c7d4636  _starr Yep, the Hawkesbury Classic starts at W...   \n",
      "freq             1                                                  1   \n",
      "\n",
      "       selected_text sentiment  \n",
      "count          27480     27481  \n",
      "unique         22463         3  \n",
      "top             good   neutral  \n",
      "freq             199     11118  \n"
     ]
    },
    {
     "data": {
      "text/html": [
       "<div>\n",
       "<style scoped>\n",
       "    .dataframe tbody tr th:only-of-type {\n",
       "        vertical-align: middle;\n",
       "    }\n",
       "\n",
       "    .dataframe tbody tr th {\n",
       "        vertical-align: top;\n",
       "    }\n",
       "\n",
       "    .dataframe thead th {\n",
       "        text-align: right;\n",
       "    }\n",
       "</style>\n",
       "<table border=\"1\" class=\"dataframe\">\n",
       "  <thead>\n",
       "    <tr style=\"text-align: right;\">\n",
       "      <th></th>\n",
       "      <th>textID</th>\n",
       "      <th>text</th>\n",
       "      <th>selected_text</th>\n",
       "      <th>sentiment</th>\n",
       "    </tr>\n",
       "  </thead>\n",
       "  <tbody>\n",
       "    <tr>\n",
       "      <th>0</th>\n",
       "      <td>cb774db0d1</td>\n",
       "      <td>I`d have responded, if I were going</td>\n",
       "      <td>I`d have responded, if I were going</td>\n",
       "      <td>neutral</td>\n",
       "    </tr>\n",
       "    <tr>\n",
       "      <th>1</th>\n",
       "      <td>549e992a42</td>\n",
       "      <td>Sooo SAD I will miss you here in San Diego!!!</td>\n",
       "      <td>Sooo SAD</td>\n",
       "      <td>negative</td>\n",
       "    </tr>\n",
       "    <tr>\n",
       "      <th>2</th>\n",
       "      <td>088c60f138</td>\n",
       "      <td>my boss is bullying me...</td>\n",
       "      <td>bullying me</td>\n",
       "      <td>negative</td>\n",
       "    </tr>\n",
       "    <tr>\n",
       "      <th>3</th>\n",
       "      <td>9642c003ef</td>\n",
       "      <td>what interview! leave me alone</td>\n",
       "      <td>leave me alone</td>\n",
       "      <td>negative</td>\n",
       "    </tr>\n",
       "    <tr>\n",
       "      <th>4</th>\n",
       "      <td>358bd9e861</td>\n",
       "      <td>Sons of ****, why couldn`t they put them on t...</td>\n",
       "      <td>Sons of ****,</td>\n",
       "      <td>negative</td>\n",
       "    </tr>\n",
       "  </tbody>\n",
       "</table>\n",
       "</div>"
      ],
      "text/plain": [
       "       textID                                               text  \\\n",
       "0  cb774db0d1                I`d have responded, if I were going   \n",
       "1  549e992a42      Sooo SAD I will miss you here in San Diego!!!   \n",
       "2  088c60f138                          my boss is bullying me...   \n",
       "3  9642c003ef                     what interview! leave me alone   \n",
       "4  358bd9e861   Sons of ****, why couldn`t they put them on t...   \n",
       "\n",
       "                         selected_text sentiment  \n",
       "0  I`d have responded, if I were going   neutral  \n",
       "1                             Sooo SAD  negative  \n",
       "2                          bullying me  negative  \n",
       "3                       leave me alone  negative  \n",
       "4                        Sons of ****,  negative  "
      ]
     },
     "execution_count": 58,
     "metadata": {},
     "output_type": "execute_result"
    }
   ],
   "source": [
    "df = pd.read_csv(\"../data/train.csv\", dtype={\"time\":np.float64,\"signal\":np.float64,\"open_channels\":np.int16})\n",
    "print(pd.concat((df.dtypes, df.isna().sum()), axis=1))\n",
    "print(df.shape)\n",
    "\n",
    "# Counts of various columns\n",
    "print({i:df[i].nunique() for i in df.columns})\n",
    "print(df.describe()) #.astype(int)\n",
    "df.head(5)"
   ]
  },
  {
   "cell_type": "code",
   "execution_count": 59,
   "metadata": {},
   "outputs": [
    {
     "name": "stdout",
     "output_type": "stream",
     "text": [
      "                0  1\n",
      "textID     object  0\n",
      "text       object  0\n",
      "sentiment  object  0\n",
      "(3534, 3)\n",
      "{'textID': 3534, 'text': 3534, 'sentiment': 3}\n",
      "            textID                                               text  \\\n",
      "count         3534                                               3534   \n",
      "unique        3534                                               3534   \n",
      "top     a769b2340c  Well, my dog still isn`t at the shelter. I hop...   \n",
      "freq             1                                                  1   \n",
      "\n",
      "       sentiment  \n",
      "count       3534  \n",
      "unique         3  \n",
      "top      neutral  \n",
      "freq        1430  \n"
     ]
    },
    {
     "data": {
      "text/html": [
       "<div>\n",
       "<style scoped>\n",
       "    .dataframe tbody tr th:only-of-type {\n",
       "        vertical-align: middle;\n",
       "    }\n",
       "\n",
       "    .dataframe tbody tr th {\n",
       "        vertical-align: top;\n",
       "    }\n",
       "\n",
       "    .dataframe thead th {\n",
       "        text-align: right;\n",
       "    }\n",
       "</style>\n",
       "<table border=\"1\" class=\"dataframe\">\n",
       "  <thead>\n",
       "    <tr style=\"text-align: right;\">\n",
       "      <th></th>\n",
       "      <th>textID</th>\n",
       "      <th>text</th>\n",
       "      <th>sentiment</th>\n",
       "    </tr>\n",
       "  </thead>\n",
       "  <tbody>\n",
       "    <tr>\n",
       "      <th>0</th>\n",
       "      <td>f87dea47db</td>\n",
       "      <td>Last session of the day  http://twitpic.com/67ezh</td>\n",
       "      <td>neutral</td>\n",
       "    </tr>\n",
       "    <tr>\n",
       "      <th>1</th>\n",
       "      <td>96d74cb729</td>\n",
       "      <td>Shanghai is also really exciting (precisely -...</td>\n",
       "      <td>positive</td>\n",
       "    </tr>\n",
       "    <tr>\n",
       "      <th>2</th>\n",
       "      <td>eee518ae67</td>\n",
       "      <td>Recession hit Veronique Branquinho, she has to...</td>\n",
       "      <td>negative</td>\n",
       "    </tr>\n",
       "    <tr>\n",
       "      <th>3</th>\n",
       "      <td>01082688c6</td>\n",
       "      <td>happy bday!</td>\n",
       "      <td>positive</td>\n",
       "    </tr>\n",
       "    <tr>\n",
       "      <th>4</th>\n",
       "      <td>33987a8ee5</td>\n",
       "      <td>http://twitpic.com/4w75p - I like it!!</td>\n",
       "      <td>positive</td>\n",
       "    </tr>\n",
       "  </tbody>\n",
       "</table>\n",
       "</div>"
      ],
      "text/plain": [
       "       textID                                               text sentiment\n",
       "0  f87dea47db  Last session of the day  http://twitpic.com/67ezh   neutral\n",
       "1  96d74cb729   Shanghai is also really exciting (precisely -...  positive\n",
       "2  eee518ae67  Recession hit Veronique Branquinho, she has to...  negative\n",
       "3  01082688c6                                        happy bday!  positive\n",
       "4  33987a8ee5             http://twitpic.com/4w75p - I like it!!  positive"
      ]
     },
     "execution_count": 59,
     "metadata": {},
     "output_type": "execute_result"
    }
   ],
   "source": [
    "test_df = pd.read_csv(\"../data/test.csv\", dtype={\"time\":np.float64,\"signal\":np.float64})\n",
    "print(pd.concat((test_df.dtypes, test_df.isna().sum()), axis=1))\n",
    "print(test_df.shape)\n",
    "\n",
    "# Counts of various columns\n",
    "print({i:test_df[i].nunique() for i in test_df.columns})\n",
    "print(test_df.describe())\n",
    "test_df.head(5)"
   ]
  },
  {
   "cell_type": "code",
   "execution_count": 60,
   "metadata": {},
   "outputs": [],
   "source": [
    "df[\"original_index\"] = df.index"
   ]
  },
  {
   "cell_type": "markdown",
   "metadata": {},
   "source": [
    "## Exploration"
   ]
  },
  {
   "cell_type": "markdown",
   "metadata": {},
   "source": [
    "#### Sentiment count in training"
   ]
  },
  {
   "cell_type": "code",
   "execution_count": 61,
   "metadata": {},
   "outputs": [
    {
     "data": {
      "text/html": [
       "<div>\n",
       "<style scoped>\n",
       "    .dataframe tbody tr th:only-of-type {\n",
       "        vertical-align: middle;\n",
       "    }\n",
       "\n",
       "    .dataframe tbody tr th {\n",
       "        vertical-align: top;\n",
       "    }\n",
       "\n",
       "    .dataframe thead th {\n",
       "        text-align: right;\n",
       "    }\n",
       "</style>\n",
       "<table border=\"1\" class=\"dataframe\">\n",
       "  <thead>\n",
       "    <tr style=\"text-align: right;\">\n",
       "      <th></th>\n",
       "      <th>text</th>\n",
       "      <th>text</th>\n",
       "    </tr>\n",
       "    <tr>\n",
       "      <th>sentiment</th>\n",
       "      <th></th>\n",
       "      <th></th>\n",
       "    </tr>\n",
       "  </thead>\n",
       "  <tbody>\n",
       "    <tr>\n",
       "      <th>negative</th>\n",
       "      <td>7781</td>\n",
       "      <td>1001</td>\n",
       "    </tr>\n",
       "    <tr>\n",
       "      <th>neutral</th>\n",
       "      <td>11117</td>\n",
       "      <td>1430</td>\n",
       "    </tr>\n",
       "    <tr>\n",
       "      <th>positive</th>\n",
       "      <td>8582</td>\n",
       "      <td>1103</td>\n",
       "    </tr>\n",
       "  </tbody>\n",
       "</table>\n",
       "</div>"
      ],
      "text/plain": [
       "            text  text\n",
       "sentiment             \n",
       "negative    7781  1001\n",
       "neutral    11117  1430\n",
       "positive    8582  1103"
      ]
     },
     "execution_count": 61,
     "metadata": {},
     "output_type": "execute_result"
    }
   ],
   "source": [
    "pd.concat([df.groupby(\"sentiment\")[[\"text\"]].count(), test_df.groupby(\"sentiment\")[[\"text\"]].count()], axis=1)"
   ]
  },
  {
   "cell_type": "code",
   "execution_count": 62,
   "metadata": {},
   "outputs": [],
   "source": [
    "import spacy\n",
    "import en_core_web_sm\n",
    "nlp = en_core_web_sm.load()"
   ]
  },
  {
   "cell_type": "markdown",
   "metadata": {},
   "source": [
    "## Preprocessing"
   ]
  },
  {
   "cell_type": "code",
   "execution_count": 63,
   "metadata": {},
   "outputs": [],
   "source": [
    "from tensorflow.keras.preprocessing.text import Tokenizer"
   ]
  },
  {
   "cell_type": "code",
   "execution_count": 64,
   "metadata": {},
   "outputs": [],
   "source": [
    "df[\"sentiment_code\"] = df[\"sentiment\"].astype(\"category\")\n",
    "X_sentiments = df[\"sentiment_code\"].cat.codes.values\n",
    "\n",
    "test_df[\"sentiment_code\"] = test_df[\"sentiment\"].astype(\"category\")\n",
    "X_sentiments_test = test_df[\"sentiment_code\"].cat.codes.values"
   ]
  },
  {
   "cell_type": "markdown",
   "metadata": {},
   "source": [
    "#### Tokenization"
   ]
  },
  {
   "cell_type": "code",
   "execution_count": 65,
   "metadata": {},
   "outputs": [],
   "source": [
    "df[\"text\"] = df[\"text\"].astype(str)\n",
    "df[\"selected_text\"] = df[\"selected_text\"].astype(str)\n",
    "test_df[\"text\"] = test_df[\"text\"].astype(str)"
   ]
  },
  {
   "cell_type": "code",
   "execution_count": 66,
   "metadata": {},
   "outputs": [],
   "source": [
    "texts = df[\"text\"].tolist()"
   ]
  },
  {
   "cell_type": "code",
   "execution_count": 67,
   "metadata": {},
   "outputs": [],
   "source": [
    "max_len = max([len(i.split(\" \")) for i in texts])"
   ]
  },
  {
   "cell_type": "code",
   "execution_count": 68,
   "metadata": {},
   "outputs": [],
   "source": [
    "Tkn = Tokenizer() # num_words=\n",
    "Tkn.fit_on_texts(texts)\n",
    "X = Tkn.texts_to_sequences(texts)"
   ]
  },
  {
   "cell_type": "code",
   "execution_count": 69,
   "metadata": {},
   "outputs": [],
   "source": [
    "selected_texts = df[\"selected_text\"].tolist()\n",
    "Y = Tkn.texts_to_sequences(selected_texts)\n",
    "Y2 = [[1 if j in y else 0 for j in X[i]] for i,y in enumerate(Y)]"
   ]
  },
  {
   "cell_type": "code",
   "execution_count": 70,
   "metadata": {},
   "outputs": [],
   "source": [
    "test_texts = test_df[\"text\"].tolist()\n",
    "X_test = Tkn.texts_to_sequences(test_texts)"
   ]
  },
  {
   "cell_type": "code",
   "execution_count": 71,
   "metadata": {},
   "outputs": [],
   "source": [
    "max_len_y = max([len(i) for i in Y2])"
   ]
  },
  {
   "cell_type": "code",
   "execution_count": 72,
   "metadata": {},
   "outputs": [
    {
     "name": "stdout",
     "output_type": "stream",
     "text": [
      "101 35\n"
     ]
    }
   ],
   "source": [
    "print(max_len, max_len_y)"
   ]
  },
  {
   "cell_type": "markdown",
   "metadata": {},
   "source": [
    "#### Test Train split"
   ]
  },
  {
   "cell_type": "code",
   "execution_count": 73,
   "metadata": {},
   "outputs": [
    {
     "name": "stdout",
     "output_type": "stream",
     "text": [
      "27481 21985 5496 27481\n"
     ]
    }
   ],
   "source": [
    "np.random.seed(100)\n",
    "idx = [i for i in np.arange(len(Y))]\n",
    "np.random.shuffle(idx)\n",
    "train_idx, val_idx = idx[:round(TRAIN_SPLIT_RATIO*len(Y))], idx[round(TRAIN_SPLIT_RATIO*len(Y)):]\n",
    "\n",
    "print(len(idx), len(train_idx), len(val_idx), len(train_idx) + len(val_idx))"
   ]
  },
  {
   "cell_type": "code",
   "execution_count": 74,
   "metadata": {},
   "outputs": [
    {
     "data": {
      "text/plain": [
       "[21985, 5496, 21985, 5496, 21985, 5496, 21985, 5496]"
      ]
     },
     "execution_count": 74,
     "metadata": {},
     "output_type": "execute_result"
    }
   ],
   "source": [
    "X_train, X_val = [X[i] for i in train_idx], [X[i] for i in val_idx]\n",
    "X_sentiments_train, X_sentiments_val = [X_sentiments[i] for i in train_idx], [X_sentiments[i] for i in val_idx]\n",
    "X_sentiments_train, X_sentiments_val = np.array(X_sentiments_train, dtype=np.int32), np.array(X_sentiments_val, dtype=np.int32)\n",
    "Y_train, Y_val = [Y[i] for i in train_idx], [Y[i] for i in val_idx]\n",
    "Y2_train, Y2_val = [Y2[i] for i in train_idx], [Y2[i] for i in val_idx]\n",
    "\n",
    "[len(i) for i in [X_train, X_val, X_sentiments_train, X_sentiments_val, Y_train, Y_val, Y2_train, Y2_val]]"
   ]
  },
  {
   "cell_type": "markdown",
   "metadata": {},
   "source": [
    "#### Padding"
   ]
  },
  {
   "cell_type": "code",
   "execution_count": 75,
   "metadata": {},
   "outputs": [],
   "source": [
    "from tensorflow.keras.preprocessing.sequence import pad_sequences"
   ]
  },
  {
   "cell_type": "code",
   "execution_count": 76,
   "metadata": {},
   "outputs": [],
   "source": [
    "X_train = pad_sequences(X_train, maxlen=max_len + 1, padding=\"post\")\n",
    "Y_train = pad_sequences(Y_train, maxlen=max_len + 1, padding=\"post\")\n",
    "Y2_train = pad_sequences(Y2_train, maxlen=max_len + 1, padding=\"post\")\n",
    "\n",
    "X_val = pad_sequences(X_val, maxlen=max_len + 1, padding=\"post\")\n",
    "Y_val = pad_sequences(Y_val, maxlen=max_len + 1, padding=\"post\")\n",
    "Y2_val = pad_sequences(Y2_val, maxlen=max_len + 1, padding=\"post\")\n",
    "\n",
    "X_test = pad_sequences(X_test, maxlen=max_len + 1, padding=\"post\")"
   ]
  },
  {
   "cell_type": "code",
   "execution_count": 77,
   "metadata": {},
   "outputs": [
    {
     "name": "stdout",
     "output_type": "stream",
     "text": [
      "(21985, 102) (21985,) (5496, 102) (5496,) (3534, 102)\n",
      "(21985, 102) (21985, 102) (5496, 102) (5496, 102)\n"
     ]
    }
   ],
   "source": [
    "print(X_train.shape, X_sentiments_train.shape, X_val.shape, X_sentiments_val.shape, X_test.shape)\n",
    "print(Y_train.shape, Y2_train.shape, Y_val.shape, Y2_val.shape)"
   ]
  },
  {
   "cell_type": "code",
   "execution_count": 78,
   "metadata": {},
   "outputs": [],
   "source": [
    "VOCAB_SIZE = max(Tkn.index_word.keys())"
   ]
  },
  {
   "cell_type": "markdown",
   "metadata": {},
   "source": [
    "## Model"
   ]
  },
  {
   "cell_type": "code",
   "execution_count": 85,
   "metadata": {},
   "outputs": [],
   "source": [
    "from tensorflow.keras.layers import TimeDistributed"
   ]
  },
  {
   "cell_type": "code",
   "execution_count": 86,
   "metadata": {},
   "outputs": [],
   "source": [
    "input_sentiment = Input((1))\n",
    "input_sequences = Input((max_len+1))\n",
    "\n",
    "emb_sequences = Embedding(input_dim=VOCAB_SIZE+1, input_length=max_len+1, output_dim=32, mask_zero=True)(input_sequences)\n",
    "\n",
    "seq = TimeDistributed(Dense(32, activation=\"relu\"))(emb_sequences)\n",
    "seq = BatchNormalization()(seq)\n",
    "seq = Dropout(DROPOUT)(seq)\n",
    "seq = Flatten()(seq)\n",
    "\n",
    "emb_sentiment = Embedding(input_dim=3, input_length=1, output_dim=5)(input_sentiment)\n",
    "senti = Dense(8, activation=\"relu\")(emb_sentiment)\n",
    "senti = BatchNormalization()(senti)\n",
    "senti = Dropout(DROPOUT)(senti)\n",
    "senti = Flatten()(senti)\n",
    "\n",
    "concat_layer = concatenate([senti, seq])\n",
    "output = Dense(max_len+1, activation=\"sigmoid\")(concat_layer)"
   ]
  },
  {
   "cell_type": "code",
   "execution_count": 87,
   "metadata": {},
   "outputs": [
    {
     "name": "stdout",
     "output_type": "stream",
     "text": [
      "Model: \"model_4\"\n",
      "__________________________________________________________________________________________________\n",
      "Layer (type)                    Output Shape         Param #     Connected to                     \n",
      "==================================================================================================\n",
      "input_9 (InputLayer)            [(None, 1)]          0                                            \n",
      "__________________________________________________________________________________________________\n",
      "input_10 (InputLayer)           [(None, 102)]        0                                            \n",
      "__________________________________________________________________________________________________\n",
      "embedding_9 (Embedding)         (None, 1, 5)         15          input_9[0][0]                    \n",
      "__________________________________________________________________________________________________\n",
      "embedding_8 (Embedding)         (None, 102, 32)      851168      input_10[0][0]                   \n",
      "__________________________________________________________________________________________________\n",
      "dense_13 (Dense)                (None, 1, 8)         48          embedding_9[0][0]                \n",
      "__________________________________________________________________________________________________\n",
      "time_distributed_4 (TimeDistrib (None, 102, 32)      1056        embedding_8[0][0]                \n",
      "__________________________________________________________________________________________________\n",
      "batch_normalization_9 (BatchNor (None, 1, 8)         32          dense_13[0][0]                   \n",
      "__________________________________________________________________________________________________\n",
      "batch_normalization_8 (BatchNor (None, 102, 32)      128         time_distributed_4[0][0]         \n",
      "__________________________________________________________________________________________________\n",
      "dropout_9 (Dropout)             (None, 1, 8)         0           batch_normalization_9[0][0]      \n",
      "__________________________________________________________________________________________________\n",
      "dropout_8 (Dropout)             (None, 102, 32)      0           batch_normalization_8[0][0]      \n",
      "__________________________________________________________________________________________________\n",
      "flatten_9 (Flatten)             (None, 8)            0           dropout_9[0][0]                  \n",
      "__________________________________________________________________________________________________\n",
      "flatten_8 (Flatten)             (None, 3264)         0           dropout_8[0][0]                  \n",
      "__________________________________________________________________________________________________\n",
      "concatenate_4 (Concatenate)     (None, 3272)         0           flatten_9[0][0]                  \n",
      "                                                                 flatten_8[0][0]                  \n",
      "__________________________________________________________________________________________________\n",
      "dense_14 (Dense)                (None, 102)          333846      concatenate_4[0][0]              \n",
      "==================================================================================================\n",
      "Total params: 1,186,293\n",
      "Trainable params: 1,186,213\n",
      "Non-trainable params: 80\n",
      "__________________________________________________________________________________________________\n"
     ]
    }
   ],
   "source": [
    "model = Model([input_sentiment, input_sequences], output)\n",
    "model.summary()"
   ]
  },
  {
   "cell_type": "code",
   "execution_count": 88,
   "metadata": {},
   "outputs": [],
   "source": [
    "adam = Adam(learning_rate=MIN_LR)\n",
    "\n",
    "model.compile(loss='binary_crossentropy', # sparse_categorical_crossentropy\n",
    "              optimizer=adam, metrics=['accuracy']) # "
   ]
  },
  {
   "cell_type": "code",
   "execution_count": 89,
   "metadata": {},
   "outputs": [],
   "source": [
    "#callbacks\n",
    "mcp = ModelCheckpoint(filepath=\"../results/\"+MODEL_PREFIX+\"Checkpoint.h5\",\n",
    "                      monitor='val_loss',\n",
    "                      mode=\"auto\",\n",
    "                      save_weights_only=False,\n",
    "                      save_best_only=True)\n",
    "\n",
    "clr = CyclicLR(mode=CLR_METHOD,\n",
    "               base_lr=MIN_LR,\n",
    "               max_lr=MAX_LR,\n",
    "               step_size= STEP_SIZE * (X_train.shape[0] // BATCH_SIZE))"
   ]
  },
  {
   "cell_type": "code",
   "execution_count": 90,
   "metadata": {},
   "outputs": [
    {
     "name": "stdout",
     "output_type": "stream",
     "text": [
      "Train on 21985 samples, validate on 5496 samples\n",
      "Epoch 1/60\n",
      "21985/21985 [==============================] - 5s 234us/sample - loss: 0.1216 - accuracy: 0.9434 - val_loss: 0.2043 - val_accuracy: 0.9346\n",
      "Epoch 2/60\n",
      "21985/21985 [==============================] - 3s 154us/sample - loss: 0.0563 - accuracy: 0.9757 - val_loss: 0.1440 - val_accuracy: 0.9363\n",
      "Epoch 3/60\n",
      "21985/21985 [==============================] - 3s 151us/sample - loss: 0.0466 - accuracy: 0.9801 - val_loss: 0.2723 - val_accuracy: 0.9361\n",
      "Epoch 4/60\n",
      "21985/21985 [==============================] - 3s 150us/sample - loss: 0.0386 - accuracy: 0.9839 - val_loss: 0.2872 - val_accuracy: 0.9383\n",
      "Epoch 5/60\n",
      "21985/21985 [==============================] - 3s 150us/sample - loss: 0.0339 - accuracy: 0.9862 - val_loss: 0.2686 - val_accuracy: 0.9441\n",
      "Epoch 6/60\n",
      "21985/21985 [==============================] - 3s 153us/sample - loss: 0.0323 - accuracy: 0.9870 - val_loss: 0.3341 - val_accuracy: 0.9399\n",
      "Epoch 7/60\n",
      "21985/21985 [==============================] - 3s 149us/sample - loss: 0.0296 - accuracy: 0.9882 - val_loss: 0.3153 - val_accuracy: 0.9418\n",
      "Epoch 8/60\n",
      "21985/21985 [==============================] - 3s 158us/sample - loss: 0.0287 - accuracy: 0.9888 - val_loss: 0.2805 - val_accuracy: 0.9481\n",
      "Epoch 9/60\n",
      "21985/21985 [==============================] - 4s 168us/sample - loss: 0.0276 - accuracy: 0.9892 - val_loss: 0.1570 - val_accuracy: 0.9599\n",
      "Epoch 10/60\n",
      "21985/21985 [==============================] - 4s 162us/sample - loss: 0.0269 - accuracy: 0.9895 - val_loss: 0.1842 - val_accuracy: 0.9583\n",
      "Epoch 11/60\n",
      "21985/21985 [==============================] - 3s 149us/sample - loss: 0.0267 - accuracy: 0.9898 - val_loss: 0.1582 - val_accuracy: 0.9633\n",
      "Epoch 12/60\n",
      "21985/21985 [==============================] - 3s 154us/sample - loss: 0.0282 - accuracy: 0.9894 - val_loss: 0.1645 - val_accuracy: 0.9652\n",
      "Epoch 13/60\n",
      "21985/21985 [==============================] - 4s 164us/sample - loss: 0.0330 - accuracy: 0.9883 - val_loss: 0.2082 - val_accuracy: 0.9634\n",
      "Epoch 14/60\n",
      "21985/21985 [==============================] - 3s 148us/sample - loss: 0.0316 - accuracy: 0.9886 - val_loss: 0.1644 - val_accuracy: 0.9625\n",
      "Epoch 15/60\n",
      "21985/21985 [==============================] - 3s 150us/sample - loss: 0.0300 - accuracy: 0.9892 - val_loss: 0.1745 - val_accuracy: 0.9604\n",
      "Epoch 16/60\n",
      "21985/21985 [==============================] - 4s 159us/sample - loss: 0.0540 - accuracy: 0.9863 - val_loss: 0.3268 - val_accuracy: 0.9592\n",
      "Epoch 17/60\n",
      "21985/21985 [==============================] - 4s 162us/sample - loss: 0.0422 - accuracy: 0.9864 - val_loss: 0.1538 - val_accuracy: 0.9640\n",
      "Epoch 18/60\n",
      "21985/21985 [==============================] - 4s 165us/sample - loss: 0.0301 - accuracy: 0.9894 - val_loss: 0.1284 - val_accuracy: 0.9663\n",
      "Epoch 19/60\n",
      "21985/21985 [==============================] - 3s 157us/sample - loss: 0.0287 - accuracy: 0.9900 - val_loss: 0.1543 - val_accuracy: 0.9658\n",
      "Epoch 20/60\n",
      "21985/21985 [==============================] - 3s 147us/sample - loss: 0.0306 - accuracy: 0.9899 - val_loss: 0.1936 - val_accuracy: 0.9602\n",
      "Epoch 21/60\n",
      "21985/21985 [==============================] - 3s 149us/sample - loss: 0.0316 - accuracy: 0.9895 - val_loss: 0.1904 - val_accuracy: 0.9623\n",
      "Epoch 22/60\n",
      "21985/21985 [==============================] - 3s 152us/sample - loss: 0.0271 - accuracy: 0.9906 - val_loss: 0.1760 - val_accuracy: 0.9663\n",
      "Epoch 23/60\n",
      "21985/21985 [==============================] - 3s 147us/sample - loss: 0.0258 - accuracy: 0.9912 - val_loss: 0.1870 - val_accuracy: 0.9642\n",
      "Epoch 24/60\n",
      "21985/21985 [==============================] - 3s 147us/sample - loss: 0.0242 - accuracy: 0.9916 - val_loss: 0.1650 - val_accuracy: 0.9645\n",
      "Epoch 25/60\n",
      "21985/21985 [==============================] - 3s 150us/sample - loss: 0.0201 - accuracy: 0.9926 - val_loss: 0.1504 - val_accuracy: 0.9639\n",
      "Epoch 26/60\n",
      "21985/21985 [==============================] - 3s 150us/sample - loss: 0.0176 - accuracy: 0.9934 - val_loss: 0.2050 - val_accuracy: 0.9598\n",
      "Epoch 27/60\n",
      "21985/21985 [==============================] - 3s 154us/sample - loss: 0.0168 - accuracy: 0.9936 - val_loss: 0.1930 - val_accuracy: 0.9610\n",
      "Epoch 28/60\n",
      "21985/21985 [==============================] - 3s 155us/sample - loss: 0.0161 - accuracy: 0.9939 - val_loss: 0.1689 - val_accuracy: 0.9623\n",
      "Epoch 29/60\n",
      "21985/21985 [==============================] - 3s 153us/sample - loss: 0.0146 - accuracy: 0.9944 - val_loss: 0.1872 - val_accuracy: 0.9620\n",
      "Epoch 30/60\n",
      "21985/21985 [==============================] - 3s 152us/sample - loss: 0.0142 - accuracy: 0.9945 - val_loss: 0.1869 - val_accuracy: 0.9615\n",
      "Epoch 31/60\n",
      "21985/21985 [==============================] - 3s 151us/sample - loss: 0.0135 - accuracy: 0.9948 - val_loss: 0.2085 - val_accuracy: 0.9614\n",
      "Epoch 32/60\n",
      "21985/21985 [==============================] - 3s 158us/sample - loss: 0.0126 - accuracy: 0.9950 - val_loss: 0.1697 - val_accuracy: 0.9634\n",
      "Epoch 33/60\n",
      "21985/21985 [==============================] - 4s 164us/sample - loss: 0.0117 - accuracy: 0.9953 - val_loss: 0.1880 - val_accuracy: 0.9610\n",
      "Epoch 34/60\n",
      "21985/21985 [==============================] - 3s 156us/sample - loss: 0.0110 - accuracy: 0.9956 - val_loss: 0.1979 - val_accuracy: 0.9609\n",
      "Epoch 35/60\n",
      "21985/21985 [==============================] - 3s 151us/sample - loss: 0.0108 - accuracy: 0.9957 - val_loss: 0.2023 - val_accuracy: 0.9615\n",
      "Epoch 36/60\n",
      "21985/21985 [==============================] - 3s 153us/sample - loss: 0.0099 - accuracy: 0.9960 - val_loss: 0.1837 - val_accuracy: 0.9626\n",
      "Epoch 37/60\n",
      "21985/21985 [==============================] - 3s 158us/sample - loss: 0.0092 - accuracy: 0.9963 - val_loss: 0.1976 - val_accuracy: 0.9617\n",
      "Epoch 38/60\n",
      "21985/21985 [==============================] - 3s 156us/sample - loss: 0.0089 - accuracy: 0.9964 - val_loss: 0.1920 - val_accuracy: 0.9615\n",
      "Epoch 39/60\n",
      "21985/21985 [==============================] - 3s 156us/sample - loss: 0.0084 - accuracy: 0.9966 - val_loss: 0.1976 - val_accuracy: 0.9614\n",
      "Epoch 40/60\n",
      "21985/21985 [==============================] - 4s 167us/sample - loss: 0.0079 - accuracy: 0.9968 - val_loss: 0.1988 - val_accuracy: 0.9613\n",
      "Epoch 41/60\n",
      "21985/21985 [==============================] - 3s 155us/sample - loss: 0.0079 - accuracy: 0.9968 - val_loss: 0.2030 - val_accuracy: 0.9609\n",
      "Epoch 42/60\n",
      "21985/21985 [==============================] - 3s 154us/sample - loss: 0.0081 - accuracy: 0.9967 - val_loss: 0.2039 - val_accuracy: 0.9614\n",
      "Epoch 43/60\n",
      "21985/21985 [==============================] - 3s 152us/sample - loss: 0.0082 - accuracy: 0.9967 - val_loss: 0.2061 - val_accuracy: 0.9614\n",
      "Epoch 44/60\n",
      "21985/21985 [==============================] - 3s 149us/sample - loss: 0.0086 - accuracy: 0.9965 - val_loss: 0.2042 - val_accuracy: 0.9615\n",
      "Epoch 45/60\n",
      "21985/21985 [==============================] - 3s 156us/sample - loss: 0.0087 - accuracy: 0.9965 - val_loss: 0.2117 - val_accuracy: 0.9609\n",
      "Epoch 46/60\n",
      "21985/21985 [==============================] - 3s 149us/sample - loss: 0.0092 - accuracy: 0.9963 - val_loss: 0.2205 - val_accuracy: 0.9599\n",
      "Epoch 47/60\n",
      "21985/21985 [==============================] - 3s 159us/sample - loss: 0.0100 - accuracy: 0.9960 - val_loss: 0.2160 - val_accuracy: 0.9601\n",
      "Epoch 48/60\n",
      "21985/21985 [==============================] - 3s 153us/sample - loss: 0.0105 - accuracy: 0.9958 - val_loss: 0.2147 - val_accuracy: 0.9600\n",
      "Epoch 49/60\n",
      "21985/21985 [==============================] - 3s 158us/sample - loss: 0.0111 - accuracy: 0.9956 - val_loss: 0.2457 - val_accuracy: 0.9587\n",
      "Epoch 50/60\n",
      "21985/21985 [==============================] - 3s 152us/sample - loss: 0.0124 - accuracy: 0.9953 - val_loss: 0.2325 - val_accuracy: 0.9591\n",
      "Epoch 51/60\n",
      "21985/21985 [==============================] - 3s 158us/sample - loss: 0.0138 - accuracy: 0.9948 - val_loss: 0.2381 - val_accuracy: 0.9607\n",
      "Epoch 52/60\n",
      "21985/21985 [==============================] - 3s 156us/sample - loss: 0.0144 - accuracy: 0.9947 - val_loss: 0.2561 - val_accuracy: 0.9607\n",
      "Epoch 53/60\n",
      "21985/21985 [==============================] - 3s 153us/sample - loss: 0.0153 - accuracy: 0.9944 - val_loss: 0.2597 - val_accuracy: 0.9586\n",
      "Epoch 54/60\n",
      "21985/21985 [==============================] - 3s 159us/sample - loss: 0.0167 - accuracy: 0.9941 - val_loss: 0.2552 - val_accuracy: 0.9602\n"
     ]
    },
    {
     "name": "stdout",
     "output_type": "stream",
     "text": [
      "Epoch 55/60\n",
      "21985/21985 [==============================] - 3s 146us/sample - loss: 0.0203 - accuracy: 0.9935 - val_loss: 0.2814 - val_accuracy: 0.9599\n",
      "Epoch 56/60\n",
      "21985/21985 [==============================] - 3s 148us/sample - loss: 0.0188 - accuracy: 0.9935 - val_loss: 0.2146 - val_accuracy: 0.9610\n",
      "Epoch 57/60\n",
      "21985/21985 [==============================] - 3s 150us/sample - loss: 0.0185 - accuracy: 0.9937 - val_loss: 0.2265 - val_accuracy: 0.9611\n",
      "Epoch 58/60\n",
      "21985/21985 [==============================] - 3s 153us/sample - loss: 0.0183 - accuracy: 0.9937 - val_loss: 0.2474 - val_accuracy: 0.9620\n",
      "Epoch 59/60\n",
      "21985/21985 [==============================] - 3s 147us/sample - loss: 0.0201 - accuracy: 0.9933 - val_loss: 0.2496 - val_accuracy: 0.9602\n",
      "Epoch 60/60\n",
      "21985/21985 [==============================] - 3s 147us/sample - loss: 0.0197 - accuracy: 0.9934 - val_loss: 0.2505 - val_accuracy: 0.9608\n"
     ]
    }
   ],
   "source": [
    "history = model.fit(x=[X_sentiments_train, X_train],\n",
    "                    y=Y2_train,\n",
    "                    shuffle=True,\n",
    "                    batch_size=BATCH_SIZE,\n",
    "                    epochs=NUM_EPOCHS,\n",
    "                    validation_data=([X_sentiments_val, X_val], Y2_val),\n",
    "                    verbose=1,\n",
    "                    callbacks=[clr, mcp]) #es, rlrop, tb, mcp, "
   ]
  },
  {
   "cell_type": "markdown",
   "metadata": {},
   "source": [
    "## Validation"
   ]
  },
  {
   "cell_type": "code",
   "execution_count": 91,
   "metadata": {},
   "outputs": [
    {
     "data": {
      "image/png": "[encoded data removed]",
      "text/plain": [
       "<Figure size 432x288 with 1 Axes>"
      ]
     },
     "metadata": {
      "needs_background": "light"
     },
     "output_type": "display_data"
    },
    {
     "data": {
      "image/png": "[encoded data removed]",
      "text/plain": [
       "<Figure size 432x288 with 1 Axes>"
      ]
     },
     "metadata": {
      "needs_background": "light"
     },
     "output_type": "display_data"
    }
   ],
   "source": [
    "metric_names = ['loss' ,'accuracy']\n",
    "\n",
    "for i, j in zip(metric_names, ['val_'+i for i in metric_names]):\n",
    "    plt.plot(history.history[i])\n",
    "    plt.plot(history.history[j])\n",
    "    plt.title('Model '+i)\n",
    "    plt.ylabel(i.upper())\n",
    "    plt.xlabel('Epoch')\n",
    "    plt.legend(['Train', 'Validation'])\n",
    "    plt.show()"
   ]
  },
  {
   "cell_type": "markdown",
   "metadata": {},
   "source": [
    "#### Inference"
   ]
  },
  {
   "cell_type": "code",
   "execution_count": 92,
   "metadata": {},
   "outputs": [],
   "source": [
    "pred_train = model.predict(x = [X_sentiments_train, X_train], batch_size=PREDICT_BATCH_SIZE)\n",
    "pred_val = model.predict(x = [X_sentiments_val, X_val], batch_size=PREDICT_BATCH_SIZE)\n",
    "pred_test = model.predict(x = [X_sentiments_test, X_test], batch_size=PREDICT_BATCH_SIZE)"
   ]
  },
  {
   "cell_type": "code",
   "execution_count": 93,
   "metadata": {},
   "outputs": [
    {
     "data": {
      "text/plain": [
       "((21985, 102), (21985, 102), (21985, 102))"
      ]
     },
     "execution_count": 93,
     "metadata": {},
     "output_type": "execute_result"
    }
   ],
   "source": [
    "X_train.shape, Y_train.shape, pred_train.shape"
   ]
  },
  {
   "cell_type": "markdown",
   "metadata": {},
   "source": [
    "#### Postprocessing"
   ]
  },
  {
   "cell_type": "code",
   "execution_count": 94,
   "metadata": {},
   "outputs": [],
   "source": [
    "pred_train_words = [i[j>0.5].tolist() for i,j in zip(X_train, pred_train)]\n",
    "pred_val_words = [i[j>0.5].tolist() for i,j in zip(X_val, pred_val)]\n",
    "pred_test_words = [i[j>0.5].tolist() for i,j in zip(X_test, pred_test)]"
   ]
  },
  {
   "cell_type": "code",
   "execution_count": 95,
   "metadata": {},
   "outputs": [],
   "source": [
    "pred_train_words = Tkn.sequences_to_texts(pred_train_words)\n",
    "pred_val_words = Tkn.sequences_to_texts(pred_val_words)\n",
    "pred_test_words = Tkn.sequences_to_texts(pred_test_words)"
   ]
  },
  {
   "cell_type": "code",
   "execution_count": 104,
   "metadata": {},
   "outputs": [],
   "source": [
    "from sklearn.metrics import jaccard_score"
   ]
  },
  {
   "cell_type": "code",
   "execution_count": 132,
   "metadata": {},
   "outputs": [],
   "source": [
    "def jaccard(str1, str2):\n",
    "    a = set(str1.lower().split()) \n",
    "    b = set(str2.lower().split())\n",
    "    c = a.intersection(b)\n",
    "    return float(len(c)) / (len(a) + len(b) - len(c))"
   ]
  },
  {
   "cell_type": "code",
   "execution_count": 118,
   "metadata": {},
   "outputs": [],
   "source": [
    "predictions = pd.DataFrame({\n",
    "    \"pred_selected_text\" : pred_train_words + pred_val_words,\n",
    "    \"original_index\" : train_idx + val_idx,\n",
    "    \"set\" : [\"train\" for i in range(len(train_idx))] + [\"val\" for i in range(len(val_idx))]\n",
    "})"
   ]
  },
  {
   "cell_type": "code",
   "execution_count": 119,
   "metadata": {},
   "outputs": [],
   "source": [
    "assert (predictions.original_index.min(), predictions.original_index.max()) == (df.original_index.min(), df.original_index.max())"
   ]
  },
  {
   "cell_type": "code",
   "execution_count": 120,
   "metadata": {},
   "outputs": [
    {
     "name": "stdout",
     "output_type": "stream",
     "text": [
      "(27481, 6) (27481, 3)\n",
      "(27481, 6) (27481, 3) (27481, 8)\n"
     ]
    }
   ],
   "source": [
    "print(df.shape, predictions.shape)\n",
    "results = pd.merge(df, predictions, on = \"original_index\", how=\"inner\")\n",
    "print(df.shape, predictions.shape, results.shape)"
   ]
  },
  {
   "cell_type": "code",
   "execution_count": 136,
   "metadata": {},
   "outputs": [
    {
     "data": {
      "text/html": [
       "<div>\n",
       "<style scoped>\n",
       "    .dataframe tbody tr th:only-of-type {\n",
       "        vertical-align: middle;\n",
       "    }\n",
       "\n",
       "    .dataframe tbody tr th {\n",
       "        vertical-align: top;\n",
       "    }\n",
       "\n",
       "    .dataframe thead th {\n",
       "        text-align: right;\n",
       "    }\n",
       "</style>\n",
       "<table border=\"1\" class=\"dataframe\">\n",
       "  <thead>\n",
       "    <tr style=\"text-align: right;\">\n",
       "      <th></th>\n",
       "      <th>textID</th>\n",
       "      <th>text</th>\n",
       "      <th>selected_text</th>\n",
       "      <th>sentiment</th>\n",
       "      <th>original_index</th>\n",
       "      <th>sentiment_code</th>\n",
       "      <th>pred_selected_text</th>\n",
       "      <th>set</th>\n",
       "    </tr>\n",
       "  </thead>\n",
       "  <tbody>\n",
       "    <tr>\n",
       "      <th>9</th>\n",
       "      <td>fc2cbefa9d</td>\n",
       "      <td>Journey!? Wow... u just became cooler.  hehe....</td>\n",
       "      <td>Wow... u just became cooler.</td>\n",
       "      <td>positive</td>\n",
       "      <td>9</td>\n",
       "      <td>positive</td>\n",
       "      <td></td>\n",
       "      <td>val</td>\n",
       "    </tr>\n",
       "    <tr>\n",
       "      <th>17</th>\n",
       "      <td>919fa93391</td>\n",
       "      <td>i`ve been sick for the past few days  and thus...</td>\n",
       "      <td>sick</td>\n",
       "      <td>negative</td>\n",
       "      <td>17</td>\n",
       "      <td>negative</td>\n",
       "      <td>i didnt</td>\n",
       "      <td>val</td>\n",
       "    </tr>\n",
       "    <tr>\n",
       "      <th>27</th>\n",
       "      <td>bdc32ea43c</td>\n",
       "      <td>On the way to Malaysia...no internet access to...</td>\n",
       "      <td>.no internet</td>\n",
       "      <td>negative</td>\n",
       "      <td>27</td>\n",
       "      <td>negative</td>\n",
       "      <td>the</td>\n",
       "      <td>val</td>\n",
       "    </tr>\n",
       "    <tr>\n",
       "      <th>28</th>\n",
       "      <td>6ce4a4954b</td>\n",
       "      <td>juss came backk from Berkeleyy ; omg its madd ...</td>\n",
       "      <td>fun</td>\n",
       "      <td>positive</td>\n",
       "      <td>28</td>\n",
       "      <td>positive</td>\n",
       "      <td></td>\n",
       "      <td>val</td>\n",
       "    </tr>\n",
       "    <tr>\n",
       "      <th>39</th>\n",
       "      <td>2863f435bd</td>\n",
       "      <td>A little happy for the wine jeje ok it`sm my f...</td>\n",
       "      <td>A little happy fo</td>\n",
       "      <td>positive</td>\n",
       "      <td>39</td>\n",
       "      <td>positive</td>\n",
       "      <td>my who cares love</td>\n",
       "      <td>val</td>\n",
       "    </tr>\n",
       "    <tr>\n",
       "      <th>40</th>\n",
       "      <td>d93afa85cf</td>\n",
       "      <td>Car not happy, big big dent in boot! Hoping t...</td>\n",
       "      <td>Car not happy, big big dent in boot! Hoping th...</td>\n",
       "      <td>neutral</td>\n",
       "      <td>40</td>\n",
       "      <td>neutral</td>\n",
       "      <td>car happy big not it fingers and waiting</td>\n",
       "      <td>val</td>\n",
       "    </tr>\n",
       "    <tr>\n",
       "      <th>44</th>\n",
       "      <td>c77717b103</td>\n",
       "      <td>I love to! But I`m only available from 5pm.  ...</td>\n",
       "      <td>I love to!</td>\n",
       "      <td>positive</td>\n",
       "      <td>44</td>\n",
       "      <td>positive</td>\n",
       "      <td>i love but from love to help vids</td>\n",
       "      <td>val</td>\n",
       "    </tr>\n",
       "    <tr>\n",
       "      <th>45</th>\n",
       "      <td>a9d499e123</td>\n",
       "      <td>The girl in the hair salon asked me 'Shall I t...</td>\n",
       "      <td>The girl in the hair salon asked me 'Shall I t...</td>\n",
       "      <td>neutral</td>\n",
       "      <td>45</td>\n",
       "      <td>neutral</td>\n",
       "      <td>the girl in the asked me 'shall i trim your ey...</td>\n",
       "      <td>val</td>\n",
       "    </tr>\n",
       "    <tr>\n",
       "      <th>60</th>\n",
       "      <td>52483f7da8</td>\n",
       "      <td>i lost all my friends, i`m alone and sleepy..i...</td>\n",
       "      <td>i lost all my friends, i`m alone and sleepy..</td>\n",
       "      <td>negative</td>\n",
       "      <td>60</td>\n",
       "      <td>negative</td>\n",
       "      <td>wanna go home</td>\n",
       "      <td>val</td>\n",
       "    </tr>\n",
       "    <tr>\n",
       "      <th>63</th>\n",
       "      <td>90a2cdb657</td>\n",
       "      <td>What better way to spoil mum than to let her k...</td>\n",
       "      <td>favorite</td>\n",
       "      <td>positive</td>\n",
       "      <td>63</td>\n",
       "      <td>positive</td>\n",
       "      <td>what better way to spoil mum than to let kick ...</td>\n",
       "      <td>val</td>\n",
       "    </tr>\n",
       "  </tbody>\n",
       "</table>\n",
       "</div>"
      ],
      "text/plain": [
       "        textID                                               text  \\\n",
       "9   fc2cbefa9d   Journey!? Wow... u just became cooler.  hehe....   \n",
       "17  919fa93391  i`ve been sick for the past few days  and thus...   \n",
       "27  bdc32ea43c  On the way to Malaysia...no internet access to...   \n",
       "28  6ce4a4954b  juss came backk from Berkeleyy ; omg its madd ...   \n",
       "39  2863f435bd  A little happy for the wine jeje ok it`sm my f...   \n",
       "40  d93afa85cf   Car not happy, big big dent in boot! Hoping t...   \n",
       "44  c77717b103   I love to! But I`m only available from 5pm.  ...   \n",
       "45  a9d499e123  The girl in the hair salon asked me 'Shall I t...   \n",
       "60  52483f7da8  i lost all my friends, i`m alone and sleepy..i...   \n",
       "63  90a2cdb657  What better way to spoil mum than to let her k...   \n",
       "\n",
       "                                        selected_text sentiment  \\\n",
       "9                        Wow... u just became cooler.  positive   \n",
       "17                                               sick  negative   \n",
       "27                                       .no internet  negative   \n",
       "28                                                fun  positive   \n",
       "39                                  A little happy fo  positive   \n",
       "40  Car not happy, big big dent in boot! Hoping th...   neutral   \n",
       "44                                         I love to!  positive   \n",
       "45  The girl in the hair salon asked me 'Shall I t...   neutral   \n",
       "60      i lost all my friends, i`m alone and sleepy..  negative   \n",
       "63                                           favorite  positive   \n",
       "\n",
       "    original_index sentiment_code  \\\n",
       "9                9       positive   \n",
       "17              17       negative   \n",
       "27              27       negative   \n",
       "28              28       positive   \n",
       "39              39       positive   \n",
       "40              40        neutral   \n",
       "44              44       positive   \n",
       "45              45        neutral   \n",
       "60              60       negative   \n",
       "63              63       positive   \n",
       "\n",
       "                                   pred_selected_text  set  \n",
       "9                                                      val  \n",
       "17                                            i didnt  val  \n",
       "27                                                the  val  \n",
       "28                                                     val  \n",
       "39                                  my who cares love  val  \n",
       "40           car happy big not it fingers and waiting  val  \n",
       "44                  i love but from love to help vids  val  \n",
       "45  the girl in the asked me 'shall i trim your ey...  val  \n",
       "60                                      wanna go home  val  \n",
       "63  what better way to spoil mum than to let kick ...  val  "
      ]
     },
     "execution_count": 136,
     "metadata": {},
     "output_type": "execute_result"
    }
   ],
   "source": [
    "results.loc[results.set==\"val\"].head(10)"
   ]
  },
  {
   "cell_type": "code",
   "execution_count": 137,
   "metadata": {},
   "outputs": [
    {
     "data": {
      "text/html": [
       "<div>\n",
       "<style scoped>\n",
       "    .dataframe tbody tr th:only-of-type {\n",
       "        vertical-align: middle;\n",
       "    }\n",
       "\n",
       "    .dataframe tbody tr th {\n",
       "        vertical-align: top;\n",
       "    }\n",
       "\n",
       "    .dataframe thead th {\n",
       "        text-align: right;\n",
       "    }\n",
       "</style>\n",
       "<table border=\"1\" class=\"dataframe\">\n",
       "  <thead>\n",
       "    <tr style=\"text-align: right;\">\n",
       "      <th></th>\n",
       "      <th>textID</th>\n",
       "      <th>text</th>\n",
       "      <th>selected_text</th>\n",
       "      <th>sentiment</th>\n",
       "      <th>original_index</th>\n",
       "      <th>sentiment_code</th>\n",
       "      <th>pred_selected_text</th>\n",
       "      <th>set</th>\n",
       "    </tr>\n",
       "  </thead>\n",
       "  <tbody>\n",
       "    <tr>\n",
       "      <th>0</th>\n",
       "      <td>cb774db0d1</td>\n",
       "      <td>I`d have responded, if I were going</td>\n",
       "      <td>I`d have responded, if I were going</td>\n",
       "      <td>neutral</td>\n",
       "      <td>0</td>\n",
       "      <td>neutral</td>\n",
       "      <td>i d have responded if i were going</td>\n",
       "      <td>train</td>\n",
       "    </tr>\n",
       "    <tr>\n",
       "      <th>1</th>\n",
       "      <td>549e992a42</td>\n",
       "      <td>Sooo SAD I will miss you here in San Diego!!!</td>\n",
       "      <td>Sooo SAD</td>\n",
       "      <td>negative</td>\n",
       "      <td>1</td>\n",
       "      <td>negative</td>\n",
       "      <td>sooo sad</td>\n",
       "      <td>train</td>\n",
       "    </tr>\n",
       "    <tr>\n",
       "      <th>2</th>\n",
       "      <td>088c60f138</td>\n",
       "      <td>my boss is bullying me...</td>\n",
       "      <td>bullying me</td>\n",
       "      <td>negative</td>\n",
       "      <td>2</td>\n",
       "      <td>negative</td>\n",
       "      <td>bullying me</td>\n",
       "      <td>train</td>\n",
       "    </tr>\n",
       "    <tr>\n",
       "      <th>3</th>\n",
       "      <td>9642c003ef</td>\n",
       "      <td>what interview! leave me alone</td>\n",
       "      <td>leave me alone</td>\n",
       "      <td>negative</td>\n",
       "      <td>3</td>\n",
       "      <td>negative</td>\n",
       "      <td>alone</td>\n",
       "      <td>train</td>\n",
       "    </tr>\n",
       "    <tr>\n",
       "      <th>4</th>\n",
       "      <td>358bd9e861</td>\n",
       "      <td>Sons of ****, why couldn`t they put them on t...</td>\n",
       "      <td>Sons of ****,</td>\n",
       "      <td>negative</td>\n",
       "      <td>4</td>\n",
       "      <td>negative</td>\n",
       "      <td>sons of</td>\n",
       "      <td>train</td>\n",
       "    </tr>\n",
       "    <tr>\n",
       "      <th>5</th>\n",
       "      <td>28b57f3990</td>\n",
       "      <td>http://www.dothebouncy.com/smf - some shameles...</td>\n",
       "      <td>http://www.dothebouncy.com/smf - some shameles...</td>\n",
       "      <td>neutral</td>\n",
       "      <td>5</td>\n",
       "      <td>neutral</td>\n",
       "      <td>http www dothebouncy com smf some shameless pl...</td>\n",
       "      <td>train</td>\n",
       "    </tr>\n",
       "    <tr>\n",
       "      <th>6</th>\n",
       "      <td>6e0c6d75b1</td>\n",
       "      <td>2am feedings for the baby are fun when he is a...</td>\n",
       "      <td>fun</td>\n",
       "      <td>positive</td>\n",
       "      <td>6</td>\n",
       "      <td>positive</td>\n",
       "      <td>fun</td>\n",
       "      <td>train</td>\n",
       "    </tr>\n",
       "    <tr>\n",
       "      <th>7</th>\n",
       "      <td>50e14c0bb8</td>\n",
       "      <td>Soooo high</td>\n",
       "      <td>Soooo high</td>\n",
       "      <td>neutral</td>\n",
       "      <td>7</td>\n",
       "      <td>neutral</td>\n",
       "      <td>soooo high</td>\n",
       "      <td>train</td>\n",
       "    </tr>\n",
       "    <tr>\n",
       "      <th>8</th>\n",
       "      <td>e050245fbd</td>\n",
       "      <td>Both of you</td>\n",
       "      <td>Both of you</td>\n",
       "      <td>neutral</td>\n",
       "      <td>8</td>\n",
       "      <td>neutral</td>\n",
       "      <td>both of you</td>\n",
       "      <td>train</td>\n",
       "    </tr>\n",
       "    <tr>\n",
       "      <th>10</th>\n",
       "      <td>2339a9b08b</td>\n",
       "      <td>as much as i love to be hopeful, i reckon the...</td>\n",
       "      <td>as much as i love to be hopeful, i reckon the ...</td>\n",
       "      <td>neutral</td>\n",
       "      <td>10</td>\n",
       "      <td>neutral</td>\n",
       "      <td>as much as i love to be hopeful i reckon the c...</td>\n",
       "      <td>train</td>\n",
       "    </tr>\n",
       "  </tbody>\n",
       "</table>\n",
       "</div>"
      ],
      "text/plain": [
       "        textID                                               text  \\\n",
       "0   cb774db0d1                I`d have responded, if I were going   \n",
       "1   549e992a42      Sooo SAD I will miss you here in San Diego!!!   \n",
       "2   088c60f138                          my boss is bullying me...   \n",
       "3   9642c003ef                     what interview! leave me alone   \n",
       "4   358bd9e861   Sons of ****, why couldn`t they put them on t...   \n",
       "5   28b57f3990  http://www.dothebouncy.com/smf - some shameles...   \n",
       "6   6e0c6d75b1  2am feedings for the baby are fun when he is a...   \n",
       "7   50e14c0bb8                                         Soooo high   \n",
       "8   e050245fbd                                        Both of you   \n",
       "10  2339a9b08b   as much as i love to be hopeful, i reckon the...   \n",
       "\n",
       "                                        selected_text sentiment  \\\n",
       "0                 I`d have responded, if I were going   neutral   \n",
       "1                                            Sooo SAD  negative   \n",
       "2                                         bullying me  negative   \n",
       "3                                      leave me alone  negative   \n",
       "4                                       Sons of ****,  negative   \n",
       "5   http://www.dothebouncy.com/smf - some shameles...   neutral   \n",
       "6                                                 fun  positive   \n",
       "7                                          Soooo high   neutral   \n",
       "8                                         Both of you   neutral   \n",
       "10  as much as i love to be hopeful, i reckon the ...   neutral   \n",
       "\n",
       "    original_index sentiment_code  \\\n",
       "0                0        neutral   \n",
       "1                1       negative   \n",
       "2                2       negative   \n",
       "3                3       negative   \n",
       "4                4       negative   \n",
       "5                5        neutral   \n",
       "6                6       positive   \n",
       "7                7        neutral   \n",
       "8                8        neutral   \n",
       "10              10        neutral   \n",
       "\n",
       "                                   pred_selected_text    set  \n",
       "0                  i d have responded if i were going  train  \n",
       "1                                            sooo sad  train  \n",
       "2                                         bullying me  train  \n",
       "3                                               alone  train  \n",
       "4                                             sons of  train  \n",
       "5   http www dothebouncy com smf some shameless pl...  train  \n",
       "6                                                 fun  train  \n",
       "7                                          soooo high  train  \n",
       "8                                         both of you  train  \n",
       "10  as much as i love to be hopeful i reckon the c...  train  "
      ]
     },
     "execution_count": 137,
     "metadata": {},
     "output_type": "execute_result"
    }
   ],
   "source": [
    "results.loc[results.set==\"train\"].head(10)"
   ]
  },
  {
   "cell_type": "code",
   "execution_count": null,
   "metadata": {},
   "outputs": [],
   "source": []
  },
  {
   "cell_type": "code",
   "execution_count": null,
   "metadata": {},
   "outputs": [],
   "source": []
  },
  {
   "cell_type": "code",
   "execution_count": null,
   "metadata": {},
   "outputs": [],
   "source": [
    "conf_mat_train = confusion_matrix(Y_train.argmax(axis=1).reshape(-1), pred_train.reshape(-1))\n",
    "conf_mat_val = confusion_matrix(Y_val.argmax(axis=1).reshape(-1), pred_val.reshape(-1))\n",
    "print(\"The train accuracy is\\t\",np.round(100 * np.sum(np.diag(conf_mat_train)) / np.sum(conf_mat_train),2))\n",
    "print(\"The valid accuracy is\\t\",np.round(100 * np.sum(np.diag(conf_mat_val)) / np.sum(conf_mat_val),2))\n",
    "\n",
    "np.savetxt(X=conf_mat_train, fname=\"../results/ConfMatrix_train_\" + MODEL_PREFIX + \".txt\")\n",
    "np.savetxt(X=conf_mat_val, fname=\"../results/ConfMatrix_val_\" + MODEL_PREFIX + \".txt\")\n",
    "\n",
    "f1_train = f1_score(Y_train.argmax(axis=1).reshape(-1), pred_train.reshape(-1), average='macro')\n",
    "f1_val = f1_score(Y_val.argmax(axis=1).reshape(-1), pred_val.reshape(-1), average='macro')\n",
    "print(\"The train macro f1score is\\t\",np.round(f1_train,2))\n",
    "print(\"The valid macro f1score is\\t\",np.round(f1_val,2))"
   ]
  },
  {
   "cell_type": "code",
   "execution_count": null,
   "metadata": {},
   "outputs": [],
   "source": [
    "submission = pd.DataFrame({'time':test_df['time'],'open_channels':pred_test.reshape(-1)})\n",
    "submission.to_csv(\"../results/submission_20200412V\"+MODEL_NUMBER+\".csv\", index=False, float_format='%.4f')"
   ]
  },
  {
   "cell_type": "code",
   "execution_count": null,
   "metadata": {},
   "outputs": [],
   "source": [
    "from tensorflow.keras.models import load_model\n",
    "\n",
    "best_model = tf.keras.models.load_model(\n",
    "    filepath=\"../results/\"+MODEL_PREFIX+\"Checkpoint.h5\",\n",
    "    compile=True,\n",
    "    custom_objects = {'macro_soft_f1':macro_soft_f1, 'macro_f1':macro_f1}\n",
    ")"
   ]
  },
  {
   "cell_type": "code",
   "execution_count": null,
   "metadata": {},
   "outputs": [],
   "source": [
    "pred_train = best_model.predict(x = X_train, batch_size=PREDICT_BATCH_SIZE)\n",
    "pred_val = best_model.predict(x = X_val, batch_size=PREDICT_BATCH_SIZE)\n",
    "pred_test = best_model.predict(x = X_test, batch_size=PREDICT_BATCH_SIZE)"
   ]
  },
  {
   "cell_type": "code",
   "execution_count": null,
   "metadata": {},
   "outputs": [],
   "source": [
    "pred_train = pred_train.argmax(axis=1)\n",
    "pred_val = pred_val.argmax(axis=1)\n",
    "pred_test = pred_test.argmax(axis=1)"
   ]
  },
  {
   "cell_type": "code",
   "execution_count": null,
   "metadata": {},
   "outputs": [],
   "source": [
    "conf_mat_train = confusion_matrix(Y_train.argmax(axis=1).reshape(-1), pred_train.reshape(-1))\n",
    "conf_mat_val = confusion_matrix(Y_val.argmax(axis=1).reshape(-1), pred_val.reshape(-1))\n",
    "\n",
    "print(\"The train accuracy is\\t\",np.round(100 * np.sum(np.diag(conf_mat_train)) / np.sum(conf_mat_train),2))\n",
    "print(\"The valid accuracy is\\t\",np.round(100 * np.sum(np.diag(conf_mat_val)) / np.sum(conf_mat_val),2))\n",
    "\n",
    "np.savetxt(X=conf_mat_train, fname=\"../results/BestConfMatrix_train_\" + MODEL_PREFIX + \".txt\")\n",
    "np.savetxt(X=conf_mat_val, fname=\"../results/BestConfMatrix_val_\" + MODEL_PREFIX + \".txt\")\n",
    "\n",
    "f1_train = f1_score(Y_train.argmax(axis=1).reshape(-1), pred_train.reshape(-1), average='macro')\n",
    "f1_val = f1_score(Y_train.argmax(axis=1).reshape(-1), pred_train.reshape(-1), average='macro')\n",
    "print(\"The train macro f1score is\\t\",np.round(f1_train,2))\n",
    "print(\"The valid macro f1score is\\t\",np.round(f1_val,2))"
   ]
  },
  {
   "cell_type": "code",
   "execution_count": null,
   "metadata": {},
   "outputs": [],
   "source": [
    "submission = pd.DataFrame({'time':test_df['time'],'open_channels':pred_test.reshape(-1)})\n",
    "submission.to_csv(\"../results/best_submission_20200412V\"+MODEL_NUMBER+\".csv\", index=False, float_format='%.4f')"
   ]
  }
 ],
 "metadata": {
  "kernelspec": {
   "display_name": "Python 3",
   "language": "python",
   "name": "python3"
  },
  "language_info": {
   "codemirror_mode": {
    "name": "ipython",
    "version": 3
   },
   "file_extension": ".py",
   "mimetype": "text/x-python",
   "name": "python",
   "nbconvert_exporter": "python",
   "pygments_lexer": "ipython3",
   "version": "3.7.5"
  }
 },
 "nbformat": 4,
 "nbformat_minor": 2
}

{
 "cells": [
  {
   "cell_type": "markdown",
   "metadata": {},
   "source": [
    "# You might need a token for space itself?"
   ]
  },
  {
   "cell_type": "markdown",
   "metadata": {},
   "source": [
    "# Do you need psuedo labels?"
   ]
  },
  {
   "cell_type": "markdown",
   "metadata": {},
   "source": [
    "# Classification model with test as well in train? Will increase the vocab size as well?"
   ]
  },
  {
   "cell_type": "markdown",
   "metadata": {},
   "source": [
    "## Settings"
   ]
  },
  {
   "cell_type": "code",
   "execution_count": 38,
   "metadata": {},
   "outputs": [],
   "source": [
    "# CONTROLS\n",
    "MODEL_PREFIX = \"V04\"\n",
    "MODEL_NUMBER = MODEL_PREFIX[-2:]\n",
    "TRAIN_SPLIT_RATIO = 0.8\n",
    "\n",
    "DROPOUT = 0.1\n",
    "MIN_LR = 1e-5\n",
    "MAX_LR = 1e-3\n",
    "BATCH_SIZE = 512\n",
    "PREDICT_BATCH_SIZE = 2048\n",
    "STEP_SIZE = 20\n",
    "CLR_METHOD = \"triangular2\" # exp_range, triangular, triangular2\n",
    "NUM_EPOCHS = 40"
   ]
  },
  {
   "cell_type": "markdown",
   "metadata": {},
   "source": [
    "## Libraries"
   ]
  },
  {
   "cell_type": "code",
   "execution_count": 39,
   "metadata": {},
   "outputs": [],
   "source": [
    "import numpy as np\n",
    "import pandas as pd\n",
    "from matplotlib import pyplot as plt\n",
    "\n",
    "from sklearn.preprocessing import MinMaxScaler, LabelBinarizer\n",
    "from sklearn.metrics import confusion_matrix, accuracy_score, f1_score\n",
    "from sklearn.utils import class_weight\n",
    "\n",
    "import pickle, os, sys\n",
    "\n",
    "import tensorflow as tf\n",
    "from tensorflow.keras import Model, Input\n",
    "from tensorflow.keras.layers import Conv1D, Conv2D, LSTM, Embedding, Dense, concatenate, MaxPooling2D\n",
    "from tensorflow.keras.layers import BatchNormalization, Dropout, Flatten, Reshape, Activation, Bidirectional\n",
    "from tensorflow.keras.optimizers import Adam\n",
    "from tensorflow.keras.preprocessing.text import Tokenizer\n",
    "\n",
    "def signaltonoise(a, axis=0, ddof=0):\n",
    "    a = np.asanyarray(a)\n",
    "    m = a.mean(axis)\n",
    "    sd = a.std(axis=axis, ddof=ddof)\n",
    "    return np.where(sd == 0, 0, m/sd)\n",
    "\n",
    "%matplotlib inline"
   ]
  },
  {
   "cell_type": "code",
   "execution_count": 40,
   "metadata": {},
   "outputs": [],
   "source": [
    "import spacy"
   ]
  },
  {
   "cell_type": "code",
   "execution_count": 41,
   "metadata": {},
   "outputs": [],
   "source": [
    "#import os\n",
    "#os.environ[\"TF_FORCE_GPU_ALLOW_GROWTH\"]=\"true\""
   ]
  },
  {
   "cell_type": "code",
   "execution_count": 42,
   "metadata": {},
   "outputs": [],
   "source": [
    "from tensorflow.keras.callbacks import *\n",
    "import tensorflow.keras.backend as K\n",
    "\n",
    "class CyclicLR(Callback):\n",
    "    \"\"\"This callback implements a cyclical learning rate policy (CLR).\n",
    "    The method cycles the learning rate between two boundaries with\n",
    "    some constant frequency, as detailed in this paper (https://arxiv.org/abs/1506.01186).\n",
    "    The amplitude of the cycle can be scaled on a per-iteration or \n",
    "    per-cycle basis.\n",
    "    This class has three built-in policies, as put forth in the paper.\n",
    "    \"triangular\":\n",
    "        A basic triangular cycle w/ no amplitude scaling.\n",
    "    \"triangular2\":\n",
    "        A basic triangular cycle that scales initial amplitude by half each cycle.\n",
    "    \"exp_range\":\n",
    "        A cycle that scales initial amplitude by gamma**(cycle iterations) at each \n",
    "        cycle iteration.\n",
    "    For more detail, please see paper.\n",
    "    \n",
    "    # Example\n",
    "        ```python\n",
    "            clr = CyclicLR(base_lr=0.001, max_lr=0.006,\n",
    "                                step_size=2000., mode='triangular')\n",
    "            model.fit(X_train, Y_train, callbacks=[clr])\n",
    "        ```\n",
    "    \n",
    "    Class also supports custom scaling functions:\n",
    "        ```python\n",
    "            clr_fn = lambda x: 0.5*(1+np.sin(x*np.pi/2.))\n",
    "            clr = CyclicLR(base_lr=0.001, max_lr=0.006,\n",
    "                                step_size=2000., scale_fn=clr_fn,\n",
    "                                scale_mode='cycle')\n",
    "            model.fit(X_train, Y_train, callbacks=[clr])\n",
    "        ```    \n",
    "    # Arguments\n",
    "        base_lr: initial learning rate which is the\n",
    "            lower boundary in the cycle.\n",
    "        max_lr: upper boundary in the cycle. Functionally,\n",
    "            it defines the cycle amplitude (max_lr - base_lr).\n",
    "            The lr at any cycle is the sum of base_lr\n",
    "            and some scaling of the amplitude; therefore \n",
    "            max_lr may not actually be reached depending on\n",
    "            scaling function.\n",
    "        step_size: number of training iterations per\n",
    "            half cycle. Authors suggest setting step_size\n",
    "            2-8 x training iterations in epoch.\n",
    "        mode: one of {triangular, triangular2, exp_range}.\n",
    "            Default 'triangular'.\n",
    "            Values correspond to policies detailed above.\n",
    "            If scale_fn is not None, this argument is ignored.\n",
    "        gamma: constant in 'exp_range' scaling function:\n",
    "            gamma**(cycle iterations)\n",
    "        scale_fn: Custom scaling policy defined by a single\n",
    "            argument lambda function, where \n",
    "            0 <= scale_fn(x) <= 1 for all x >= 0.\n",
    "            mode paramater is ignored \n",
    "        scale_mode: {'cycle', 'iterations'}.\n",
    "            Defines whether scale_fn is evaluated on \n",
    "            cycle number or cycle iterations (training\n",
    "            iterations since start of cycle). Default is 'cycle'.\n",
    "    \"\"\"\n",
    "\n",
    "    def __init__(self, base_lr=0.001, max_lr=0.006, step_size=2000., mode='triangular',\n",
    "                 gamma=1., scale_fn=None, scale_mode='cycle'):\n",
    "        super(CyclicLR, self).__init__()\n",
    "\n",
    "        self.base_lr = base_lr\n",
    "        self.max_lr = max_lr\n",
    "        self.step_size = step_size\n",
    "        self.mode = mode\n",
    "        self.gamma = gamma\n",
    "        if scale_fn == None:\n",
    "            if self.mode == 'triangular':\n",
    "                self.scale_fn = lambda x: 1.\n",
    "                self.scale_mode = 'cycle'\n",
    "            elif self.mode == 'triangular2':\n",
    "                self.scale_fn = lambda x: 1/(2.**(x-1))\n",
    "                self.scale_mode = 'cycle'\n",
    "            elif self.mode == 'exp_range':\n",
    "                self.scale_fn = lambda x: gamma**(x)\n",
    "                self.scale_mode = 'iterations'\n",
    "        else:\n",
    "            self.scale_fn = scale_fn\n",
    "            self.scale_mode = scale_mode\n",
    "        self.clr_iterations = 0.\n",
    "        self.trn_iterations = 0.\n",
    "        self.history = {}\n",
    "\n",
    "        self._reset()\n",
    "\n",
    "    def _reset(self, new_base_lr=None, new_max_lr=None,\n",
    "               new_step_size=None):\n",
    "        \"\"\"Resets cycle iterations.\n",
    "        Optional boundary/step size adjustment.\n",
    "        \"\"\"\n",
    "        if new_base_lr != None:\n",
    "            self.base_lr = new_base_lr\n",
    "        if new_max_lr != None:\n",
    "            self.max_lr = new_max_lr\n",
    "        if new_step_size != None:\n",
    "            self.step_size = new_step_size\n",
    "        self.clr_iterations = 0.\n",
    "        \n",
    "    def clr(self):\n",
    "        cycle = np.floor(1+self.clr_iterations/(2*self.step_size))\n",
    "        x = np.abs(self.clr_iterations/self.step_size - 2*cycle + 1)\n",
    "        if self.scale_mode == 'cycle':\n",
    "            return self.base_lr + (self.max_lr-self.base_lr)*np.maximum(0, (1-x))*self.scale_fn(cycle)\n",
    "        else:\n",
    "            return self.base_lr + (self.max_lr-self.base_lr)*np.maximum(0, (1-x))*self.scale_fn(self.clr_iterations)\n",
    "        \n",
    "    def on_train_begin(self, logs={}):\n",
    "        logs = logs or {}\n",
    "\n",
    "        if self.clr_iterations == 0:\n",
    "            K.set_value(self.model.optimizer.lr, self.base_lr)\n",
    "        else:\n",
    "            K.set_value(self.model.optimizer.lr, self.clr())        \n",
    "            \n",
    "    def on_batch_end(self, epoch, logs=None):\n",
    "        \n",
    "        logs = logs or {}\n",
    "        self.trn_iterations += 1\n",
    "        self.clr_iterations += 1\n",
    "\n",
    "        self.history.setdefault('lr', []).append(K.get_value(self.model.optimizer.lr))\n",
    "        self.history.setdefault('iterations', []).append(self.trn_iterations)\n",
    "\n",
    "        for k, v in logs.items():\n",
    "            self.history.setdefault(k, []).append(v)\n",
    "        \n",
    "        K.set_value(self.model.optimizer.lr, self.clr())"
   ]
  },
  {
   "cell_type": "markdown",
   "metadata": {},
   "source": [
    "## Import Data"
   ]
  },
  {
   "cell_type": "code",
   "execution_count": 43,
   "metadata": {},
   "outputs": [
    {
     "name": "stdout",
     "output_type": "stream",
     "text": [
      "                    0  1\n",
      "textID         object  0\n",
      "text           object  1\n",
      "selected_text  object  1\n",
      "sentiment      object  0\n",
      "(27481, 4)\n",
      "{'textID': 27481, 'text': 27480, 'selected_text': 22463, 'sentiment': 3}\n",
      "            textID                                               text  \\\n",
      "count        27481                                              27480   \n",
      "unique       27481                                              27480   \n",
      "top     6bf46b99ce  is wondering y Mother Nature is making my life...   \n",
      "freq             1                                                  1   \n",
      "\n",
      "       selected_text sentiment  \n",
      "count          27480     27481  \n",
      "unique         22463         3  \n",
      "top             good   neutral  \n",
      "freq             199     11118  \n"
     ]
    },
    {
     "data": {
      "text/html": [
       "<div>\n",
       "<style scoped>\n",
       "    .dataframe tbody tr th:only-of-type {\n",
       "        vertical-align: middle;\n",
       "    }\n",
       "\n",
       "    .dataframe tbody tr th {\n",
       "        vertical-align: top;\n",
       "    }\n",
       "\n",
       "    .dataframe thead th {\n",
       "        text-align: right;\n",
       "    }\n",
       "</style>\n",
       "<table border=\"1\" class=\"dataframe\">\n",
       "  <thead>\n",
       "    <tr style=\"text-align: right;\">\n",
       "      <th></th>\n",
       "      <th>textID</th>\n",
       "      <th>text</th>\n",
       "      <th>selected_text</th>\n",
       "      <th>sentiment</th>\n",
       "    </tr>\n",
       "  </thead>\n",
       "  <tbody>\n",
       "    <tr>\n",
       "      <th>0</th>\n",
       "      <td>cb774db0d1</td>\n",
       "      <td>I`d have responded, if I were going</td>\n",
       "      <td>I`d have responded, if I were going</td>\n",
       "      <td>neutral</td>\n",
       "    </tr>\n",
       "    <tr>\n",
       "      <th>1</th>\n",
       "      <td>549e992a42</td>\n",
       "      <td>Sooo SAD I will miss you here in San Diego!!!</td>\n",
       "      <td>Sooo SAD</td>\n",
       "      <td>negative</td>\n",
       "    </tr>\n",
       "    <tr>\n",
       "      <th>2</th>\n",
       "      <td>088c60f138</td>\n",
       "      <td>my boss is bullying me...</td>\n",
       "      <td>bullying me</td>\n",
       "      <td>negative</td>\n",
       "    </tr>\n",
       "    <tr>\n",
       "      <th>3</th>\n",
       "      <td>9642c003ef</td>\n",
       "      <td>what interview! leave me alone</td>\n",
       "      <td>leave me alone</td>\n",
       "      <td>negative</td>\n",
       "    </tr>\n",
       "    <tr>\n",
       "      <th>4</th>\n",
       "      <td>358bd9e861</td>\n",
       "      <td>Sons of ****, why couldn`t they put them on t...</td>\n",
       "      <td>Sons of ****,</td>\n",
       "      <td>negative</td>\n",
       "    </tr>\n",
       "  </tbody>\n",
       "</table>\n",
       "</div>"
      ],
      "text/plain": [
       "       textID                                               text  \\\n",
       "0  cb774db0d1                I`d have responded, if I were going   \n",
       "1  549e992a42      Sooo SAD I will miss you here in San Diego!!!   \n",
       "2  088c60f138                          my boss is bullying me...   \n",
       "3  9642c003ef                     what interview! leave me alone   \n",
       "4  358bd9e861   Sons of ****, why couldn`t they put them on t...   \n",
       "\n",
       "                         selected_text sentiment  \n",
       "0  I`d have responded, if I were going   neutral  \n",
       "1                             Sooo SAD  negative  \n",
       "2                          bullying me  negative  \n",
       "3                       leave me alone  negative  \n",
       "4                        Sons of ****,  negative  "
      ]
     },
     "execution_count": 43,
     "metadata": {},
     "output_type": "execute_result"
    }
   ],
   "source": [
    "df = pd.read_csv(\"../data/train.csv\", dtype={\"time\":np.float64,\"signal\":np.float64,\"open_channels\":np.int16})\n",
    "print(pd.concat((df.dtypes, df.isna().sum()), axis=1))\n",
    "print(df.shape)\n",
    "\n",
    "# Counts of various columns\n",
    "print({i:df[i].nunique() for i in df.columns})\n",
    "print(df.describe()) #.astype(int)\n",
    "df.head(5)"
   ]
  },
  {
   "cell_type": "code",
   "execution_count": 44,
   "metadata": {},
   "outputs": [
    {
     "name": "stdout",
     "output_type": "stream",
     "text": [
      "                0  1\n",
      "textID     object  0\n",
      "text       object  0\n",
      "sentiment  object  0\n",
      "(3534, 3)\n",
      "{'textID': 3534, 'text': 3534, 'sentiment': 3}\n",
      "            textID         text sentiment\n",
      "count         3534         3534      3534\n",
      "unique        3534         3534         3\n",
      "top     fec3cae0c2   Great idea   neutral\n",
      "freq             1            1      1430\n"
     ]
    },
    {
     "data": {
      "text/html": [
       "<div>\n",
       "<style scoped>\n",
       "    .dataframe tbody tr th:only-of-type {\n",
       "        vertical-align: middle;\n",
       "    }\n",
       "\n",
       "    .dataframe tbody tr th {\n",
       "        vertical-align: top;\n",
       "    }\n",
       "\n",
       "    .dataframe thead th {\n",
       "        text-align: right;\n",
       "    }\n",
       "</style>\n",
       "<table border=\"1\" class=\"dataframe\">\n",
       "  <thead>\n",
       "    <tr style=\"text-align: right;\">\n",
       "      <th></th>\n",
       "      <th>textID</th>\n",
       "      <th>text</th>\n",
       "      <th>sentiment</th>\n",
       "    </tr>\n",
       "  </thead>\n",
       "  <tbody>\n",
       "    <tr>\n",
       "      <th>0</th>\n",
       "      <td>f87dea47db</td>\n",
       "      <td>Last session of the day  http://twitpic.com/67ezh</td>\n",
       "      <td>neutral</td>\n",
       "    </tr>\n",
       "    <tr>\n",
       "      <th>1</th>\n",
       "      <td>96d74cb729</td>\n",
       "      <td>Shanghai is also really exciting (precisely -...</td>\n",
       "      <td>positive</td>\n",
       "    </tr>\n",
       "    <tr>\n",
       "      <th>2</th>\n",
       "      <td>eee518ae67</td>\n",
       "      <td>Recession hit Veronique Branquinho, she has to...</td>\n",
       "      <td>negative</td>\n",
       "    </tr>\n",
       "    <tr>\n",
       "      <th>3</th>\n",
       "      <td>01082688c6</td>\n",
       "      <td>happy bday!</td>\n",
       "      <td>positive</td>\n",
       "    </tr>\n",
       "    <tr>\n",
       "      <th>4</th>\n",
       "      <td>33987a8ee5</td>\n",
       "      <td>http://twitpic.com/4w75p - I like it!!</td>\n",
       "      <td>positive</td>\n",
       "    </tr>\n",
       "  </tbody>\n",
       "</table>\n",
       "</div>"
      ],
      "text/plain": [
       "       textID                                               text sentiment\n",
       "0  f87dea47db  Last session of the day  http://twitpic.com/67ezh   neutral\n",
       "1  96d74cb729   Shanghai is also really exciting (precisely -...  positive\n",
       "2  eee518ae67  Recession hit Veronique Branquinho, she has to...  negative\n",
       "3  01082688c6                                        happy bday!  positive\n",
       "4  33987a8ee5             http://twitpic.com/4w75p - I like it!!  positive"
      ]
     },
     "execution_count": 44,
     "metadata": {},
     "output_type": "execute_result"
    }
   ],
   "source": [
    "test_df = pd.read_csv(\"../data/test.csv\", dtype={\"time\":np.float64,\"signal\":np.float64})\n",
    "print(pd.concat((test_df.dtypes, test_df.isna().sum()), axis=1))\n",
    "print(test_df.shape)\n",
    "\n",
    "# Counts of various columns\n",
    "print({i:test_df[i].nunique() for i in test_df.columns})\n",
    "print(test_df.describe())\n",
    "test_df.head(5)"
   ]
  },
  {
   "cell_type": "markdown",
   "metadata": {},
   "source": [
    "## Exploration"
   ]
  },
  {
   "cell_type": "markdown",
   "metadata": {},
   "source": [
    "#### Sentiment count in training"
   ]
  },
  {
   "cell_type": "code",
   "execution_count": 46,
   "metadata": {},
   "outputs": [
    {
     "data": {
      "text/html": [
       "<div>\n",
       "<style scoped>\n",
       "    .dataframe tbody tr th:only-of-type {\n",
       "        vertical-align: middle;\n",
       "    }\n",
       "\n",
       "    .dataframe tbody tr th {\n",
       "        vertical-align: top;\n",
       "    }\n",
       "\n",
       "    .dataframe thead th {\n",
       "        text-align: right;\n",
       "    }\n",
       "</style>\n",
       "<table border=\"1\" class=\"dataframe\">\n",
       "  <thead>\n",
       "    <tr style=\"text-align: right;\">\n",
       "      <th></th>\n",
       "      <th>text</th>\n",
       "      <th>text</th>\n",
       "    </tr>\n",
       "    <tr>\n",
       "      <th>sentiment</th>\n",
       "      <th></th>\n",
       "      <th></th>\n",
       "    </tr>\n",
       "  </thead>\n",
       "  <tbody>\n",
       "    <tr>\n",
       "      <th>negative</th>\n",
       "      <td>7781</td>\n",
       "      <td>1001</td>\n",
       "    </tr>\n",
       "    <tr>\n",
       "      <th>neutral</th>\n",
       "      <td>11117</td>\n",
       "      <td>1430</td>\n",
       "    </tr>\n",
       "    <tr>\n",
       "      <th>positive</th>\n",
       "      <td>8582</td>\n",
       "      <td>1103</td>\n",
       "    </tr>\n",
       "  </tbody>\n",
       "</table>\n",
       "</div>"
      ],
      "text/plain": [
       "            text  text\n",
       "sentiment             \n",
       "negative    7781  1001\n",
       "neutral    11117  1430\n",
       "positive    8582  1103"
      ]
     },
     "execution_count": 46,
     "metadata": {},
     "output_type": "execute_result"
    }
   ],
   "source": [
    "pd.concat([df.groupby(\"sentiment\")[[\"text\"]].count(), test_df.groupby(\"sentiment\")[[\"text\"]].count()], axis=1)"
   ]
  },
  {
   "cell_type": "markdown",
   "metadata": {},
   "source": [
    "## Preprocessing"
   ]
  },
  {
   "cell_type": "markdown",
   "metadata": {},
   "source": [
    "#### Cleaning"
   ]
  },
  {
   "cell_type": "code",
   "execution_count": 47,
   "metadata": {},
   "outputs": [],
   "source": [
    "anomalous_idxs = [27302, 18, 27, 149, 160, 251, 295, 309, 398, 458, 492, 581, 637, 639, 678, 757, 787, 863, 1077, 1096, 1157, 1376, 1393, 1420, 1515, 1518, 1693, 1696, 1728, 1754, 1798, 1929, 2008, 2056, 2124, 2136, 2187, 2213, 2324, 2364, 2392, 2401, 2439, 2440, 2785, 2787, 2986, 3319, 3363, 3369, 3399, 3400, 3411, 3473, 4148, 4369, 4404, 4576, 4639, 4654, 4747, 5167, 5189, 5196, 5213, 5241, 5358, 5361, 5510, 5530, 5560, 5687, 5697, 5712, 5751, 6113, 6131, 6230, 6261, 6360, 6528, 6540, 6627, 6686, 6724, 6759, 6804, 6859, 6948, 6987, 7024, 7040, 7331, 7409, 7438, 7442, 7506, 7513, 7530, 7642, 7663, 7818, 7837, 8005, 8049, 8052, 8153, 8161, 8235, 8249, 8497, 8569, 8594, 8624, 8691, 8706, 8720, 8749, 8803, 8999, 9113, 9190, 9374, 9442, 9449, 9496, 9535, 9539, 9594, 9631, 9696, 9882, 10007, 10050, 10070, 10164, 10293, 10411, 10492, 10508, 10521, 10530, 10672, 10747, 10813, 10935, 10968, 10981, 10986, 11176, 11228, 11300, 11323, 11349, 11353, 11480, 11588, 11643, 11698, 11706, 11745, 11861, 11963, 11985, 12138, 12205, 12283, 12356, 12397, 12416, 12474, 12522, 12563, 12576, 12662, 12736, 12803, 12843, 12972, 12977, 13004, 13124, 13237, 13365, 13379, 13605, 13637, 13704, 13796, 13803, 13907, 13965, 13975, 14058, 14213, 14230, 14257, 14275, 14571, 14611, 14779, 14855, 14880, 15010, 15056, 15165, 15207, 15372, 15462, 15528, 15562, 15660, 15998, 16117, 16175, 16352, 16372, 16391, 16423, 16493, 16500, 16570, 16643, 16665, 16720, 16726, 16876, 16915, 17013, 17029, 17062, 17160, 17404, 17412, 17417, 17513, 17530, 17531, 17600, 17627, 17729, 17762, 17893, 17945, 17986, 18003, 18086, 18099, 18314, 18342, 18355, 18375, 18536, 18616, 18778, 18862, 18908, 18912, 18930, 18997, 19028, 19057, 19162, 19213, 19239, 19274, 19279, 19405, 19431, 19481, 19486, 19536, 19562, 19634, 19651, 19754, 19963, 19985, 19988, 20014, 20216, 20299, 20394, 20440, 20451, 20506, 20644, 20865, 20895, 21013, 21018, 21114, 21205, 21316, 21331, 21349, 21376, 21556, 21737, 21755, 21876, 21923, 22117, 22205, 22234, 22280, 22363, 22365, 22378, 22383, 22387, 22536, 22588, 22717, 22744, 22768, 22769, 22836, 22864, 22938, 23081, 23108, 23145, 23199, 23205, 23290, 23352, 23372, 23528, 23617, 23630, 23680, 23690, 23733, 23746, 23784, 23842, 23959, 24026, 24046, 24274, 24378, 24476, 24490, 24502, 24504, 24597, 24682, 24753, 24766, 24886, 24909, 24996, 25104, 25267, 25338, 25380, 25422, 25446, 25486, 25499, 25601, 25691, 25712, 25732, 25760, 25908, 25947, 25996, 26017, 26025, 26256, 26268, 26625, 26643, 26677, 26687, 26762, 26781, 26830, 26870, 26882, 26927, 27067, 27121, 27209, 27229, 27280, 27349, 27362, 27386, 27401]"
   ]
  },
  {
   "cell_type": "code",
   "execution_count": 48,
   "metadata": {},
   "outputs": [],
   "source": [
    "df = df[(~df.index.isin(anomalous_idxs)) & (~df.selected_text.isna())].copy()"
   ]
  },
  {
   "cell_type": "code",
   "execution_count": 45,
   "metadata": {},
   "outputs": [],
   "source": [
    "df[\"original_index\"] = df.index\n",
    "test_df[\"original_index\"] = test_df.index"
   ]
  },
  {
   "cell_type": "code",
   "execution_count": 49,
   "metadata": {},
   "outputs": [],
   "source": [
    "df[\"sentiment_code\"] = df[\"sentiment\"].astype(\"category\")\n",
    "X_sentiments = df[\"sentiment_code\"].cat.codes.values\n",
    "\n",
    "test_df[\"sentiment_code\"] = test_df[\"sentiment\"].astype(\"category\")\n",
    "X_sentiments_test = test_df[\"sentiment_code\"].cat.codes.values"
   ]
  },
  {
   "cell_type": "markdown",
   "metadata": {},
   "source": [
    "#### Tokenization"
   ]
  },
  {
   "cell_type": "code",
   "execution_count": 50,
   "metadata": {},
   "outputs": [],
   "source": [
    "import re"
   ]
  },
  {
   "cell_type": "code",
   "execution_count": 51,
   "metadata": {},
   "outputs": [],
   "source": [
    "from spacy.lang.en import English\n",
    "nlp = English()\n",
    "tokenizer = nlp.Defaults.create_tokenizer(nlp)"
   ]
  },
  {
   "cell_type": "code",
   "execution_count": 52,
   "metadata": {},
   "outputs": [],
   "source": [
    "#nlp = spacy.load('en_core_web_sm')"
   ]
  },
  {
   "cell_type": "code",
   "execution_count": 53,
   "metadata": {},
   "outputs": [],
   "source": [
    "df[\"text\"] = df[\"text\"].astype(str)\n",
    "df[\"selected_text\"] = df[\"selected_text\"].astype(str)\n",
    "test_df[\"text\"] = test_df[\"text\"].astype(str)"
   ]
  },
  {
   "cell_type": "code",
   "execution_count": 54,
   "metadata": {},
   "outputs": [],
   "source": [
    "df['text'] = df['text'].apply(lambda x: re.sub(pattern=\"`\", repl=\" ` \", string=x))\n",
    "df['selected_text'] = df['selected_text'].apply(lambda x: re.sub(pattern=\"`\", repl=\" ` \", string=x))\n",
    "test_df['text'] = test_df['text'].apply(lambda x: re.sub(pattern=\"`\", repl=\" ` \", string=x))"
   ]
  },
  {
   "cell_type": "code",
   "execution_count": 55,
   "metadata": {},
   "outputs": [],
   "source": [
    "df['text_t'] = df['text'].apply(lambda x: tokenizer(x))\n",
    "df['selected_text_t'] = df['selected_text'].apply(lambda x: tokenizer(x))\n",
    "test_df['text_t'] = test_df['text'].apply(lambda x: tokenizer(x))"
   ]
  },
  {
   "cell_type": "code",
   "execution_count": 56,
   "metadata": {},
   "outputs": [
    {
     "name": "stdout",
     "output_type": "stream",
     "text": [
      "27088 27088 3534\n"
     ]
    }
   ],
   "source": [
    "X_words = [[word.orth_ if not word.like_url else 'xxxURL' for word in row] for row in df['text_t']]\n",
    "Y_words = [[word.orth_ if not word.like_url else 'xxxURL' for word in row] for row in df['selected_text_t']]\n",
    "X_test_words = [[word.orth_ if not word.like_url else 'xxxURL' for word in row] for row in test_df['text_t']]\n",
    "\n",
    "print(len(X_words), len(Y_words), len(X_test_words))"
   ]
  },
  {
   "cell_type": "code",
   "execution_count": 57,
   "metadata": {},
   "outputs": [],
   "source": [
    "list_of_words = set(sorted([j for i in X_words for j in i]))\n",
    "Y_list_of_words = set(sorted([j for i in Y_words for j in i]))"
   ]
  },
  {
   "cell_type": "code",
   "execution_count": 58,
   "metadata": {},
   "outputs": [],
   "source": [
    "vocab_itos = {i+1:j for i,j in enumerate(list_of_words)}\n",
    "vocab_stoi = {j:i+1 for i,j in enumerate(list_of_words)}\n",
    "\n",
    "vocab_stoi[\"xxxUNK\"] = 0\n",
    "vocab_itos[0] = \"xxxUNK\""
   ]
  },
  {
   "cell_type": "code",
   "execution_count": 59,
   "metadata": {},
   "outputs": [],
   "source": [
    "def get_from_vocab(vocab, word):\n",
    "    try:\n",
    "        value = vocab[word]\n",
    "    except KeyError as k:\n",
    "        value = 0\n",
    "    return value"
   ]
  },
  {
   "cell_type": "code",
   "execution_count": 60,
   "metadata": {},
   "outputs": [],
   "source": [
    "X = [[get_from_vocab(vocab_stoi,j) for j in i] for i in X_words]\n",
    "Y = [[get_from_vocab(vocab_stoi,j) for j in i] for i in Y_words]\n",
    "Y2 = [[1 if j in y else 0 for j in X[i]] for i,y in enumerate(Y)]\n",
    "X_test = [[get_from_vocab(vocab_stoi,j) for j in i] for i in X_test_words]"
   ]
  },
  {
   "cell_type": "code",
   "execution_count": 61,
   "metadata": {},
   "outputs": [
    {
     "name": "stdout",
     "output_type": "stream",
     "text": [
      "106 106\n"
     ]
    }
   ],
   "source": [
    "max_len = max([len(i) for i in X])\n",
    "max_len_y = max([len(i) for i in Y2])\n",
    "print(max_len, max_len_y)"
   ]
  },
  {
   "cell_type": "markdown",
   "metadata": {},
   "source": [
    "#### Test Train split"
   ]
  },
  {
   "cell_type": "code",
   "execution_count": 62,
   "metadata": {},
   "outputs": [
    {
     "name": "stdout",
     "output_type": "stream",
     "text": [
      "27088 21670 5418 27088\n"
     ]
    }
   ],
   "source": [
    "np.random.seed(100)\n",
    "idx = [i for i in np.arange(len(Y))]\n",
    "np.random.shuffle(idx)\n",
    "train_idx, val_idx = idx[:round(TRAIN_SPLIT_RATIO*len(Y))], idx[round(TRAIN_SPLIT_RATIO*len(Y)):]\n",
    "\n",
    "print(len(idx), len(train_idx), len(val_idx), len(train_idx) + len(val_idx))"
   ]
  },
  {
   "cell_type": "code",
   "execution_count": 63,
   "metadata": {},
   "outputs": [
    {
     "data": {
      "text/plain": [
       "[21670, 5418, 21670, 5418, 21670, 5418, 21670, 5418]"
      ]
     },
     "execution_count": 63,
     "metadata": {},
     "output_type": "execute_result"
    }
   ],
   "source": [
    "X_train, X_val = [X[i] for i in train_idx], [X[i] for i in val_idx]\n",
    "X_sentiments_train, X_sentiments_val = [X_sentiments[i] for i in train_idx], [X_sentiments[i] for i in val_idx]\n",
    "X_sentiments_train, X_sentiments_val = np.array(X_sentiments_train, dtype=np.int32), np.array(X_sentiments_val, dtype=np.int32)\n",
    "Y_train, Y_val = [Y[i] for i in train_idx], [Y[i] for i in val_idx]\n",
    "Y2_train, Y2_val = [Y2[i] for i in train_idx], [Y2[i] for i in val_idx]\n",
    "\n",
    "[len(i) for i in [X_train, X_val, X_sentiments_train, X_sentiments_val, Y_train, Y_val, Y2_train, Y2_val]]"
   ]
  },
  {
   "cell_type": "markdown",
   "metadata": {},
   "source": [
    "#### Padding"
   ]
  },
  {
   "cell_type": "code",
   "execution_count": 64,
   "metadata": {},
   "outputs": [],
   "source": [
    "from tensorflow.keras.preprocessing.sequence import pad_sequences"
   ]
  },
  {
   "cell_type": "code",
   "execution_count": 65,
   "metadata": {},
   "outputs": [],
   "source": [
    "X_train = pad_sequences(X_train, maxlen=max_len + 1, padding=\"post\")\n",
    "Y_train = pad_sequences(Y_train, maxlen=max_len + 1, padding=\"post\")\n",
    "Y2_train = pad_sequences(Y2_train, maxlen=max_len + 1, padding=\"post\")\n",
    "\n",
    "X_val = pad_sequences(X_val, maxlen=max_len + 1, padding=\"post\")\n",
    "Y_val = pad_sequences(Y_val, maxlen=max_len + 1, padding=\"post\")\n",
    "Y2_val = pad_sequences(Y2_val, maxlen=max_len + 1, padding=\"post\")\n",
    "\n",
    "X_test = pad_sequences(X_test, maxlen=max_len + 1, padding=\"post\")"
   ]
  },
  {
   "cell_type": "code",
   "execution_count": 66,
   "metadata": {},
   "outputs": [
    {
     "name": "stdout",
     "output_type": "stream",
     "text": [
      "(21670, 107) (21670,) (5418, 107) (5418,) (3534, 107)\n",
      "(21670, 107) (21670, 107) (5418, 107) (5418, 107)\n"
     ]
    }
   ],
   "source": [
    "print(X_train.shape, X_sentiments_train.shape, X_val.shape, X_sentiments_val.shape, X_test.shape)\n",
    "print(Y_train.shape, Y2_train.shape, Y_val.shape, Y2_val.shape)"
   ]
  },
  {
   "cell_type": "code",
   "execution_count": 67,
   "metadata": {},
   "outputs": [],
   "source": [
    "VOCAB_SIZE = len(vocab_stoi)"
   ]
  },
  {
   "cell_type": "markdown",
   "metadata": {},
   "source": [
    "#### Checking for zero input vectors"
   ]
  },
  {
   "cell_type": "code",
   "execution_count": 68,
   "metadata": {},
   "outputs": [],
   "source": [
    "keep_x_train = X_train.sum(axis=1) > 0\n",
    "X_train, Y_train = X_train[keep_x_train], Y_train[keep_x_train]\n",
    "X_sentiments_train, Y2_train = X_sentiments_train[keep_x_train], Y2_train[keep_x_train]\n",
    "\n",
    "keep_x_val = X_val.sum(axis=1) > 0\n",
    "X_val, Y_val = X_val[keep_x_val], Y_val[keep_x_val]\n",
    "X_sentiments_val, Y2_val = X_sentiments_val[keep_x_val], Y2_val[keep_x_val]\n",
    "\n",
    "keep_x_test = X_test.sum(axis=1) > 0\n",
    "test_df[\"kept\"] = keep_x_test\n",
    "X_test, X_sentiments_test = X_test[keep_x_test], X_sentiments_test[keep_x_test]"
   ]
  },
  {
   "cell_type": "code",
   "execution_count": 69,
   "metadata": {},
   "outputs": [
    {
     "name": "stdout",
     "output_type": "stream",
     "text": [
      "0 1824\n",
      "0 3262\n"
     ]
    }
   ],
   "source": [
    "print(np.argmax([X_train.sum(axis=1)==0]), np.min([X_train.sum(axis=1)]))\n",
    "print(np.argmax([X_val.sum(axis=1)==0]), np.min([X_val.sum(axis=1)]))"
   ]
  },
  {
   "cell_type": "markdown",
   "metadata": {},
   "source": [
    "## Model"
   ]
  },
  {
   "cell_type": "code",
   "execution_count": 70,
   "metadata": {},
   "outputs": [],
   "source": [
    "from tensorflow.keras.layers import TimeDistributed"
   ]
  },
  {
   "cell_type": "code",
   "execution_count": 75,
   "metadata": {},
   "outputs": [],
   "source": [
    "input_sentiment = Input((1))\n",
    "input_sequences = Input((max_len+1))\n",
    "\n",
    "emb_sequences = Embedding(input_dim=VOCAB_SIZE+1, input_length=max_len+1, output_dim=32, mask_zero=True)(input_sequences)\n",
    "\n",
    "seq = Bidirectional(LSTM(16, activation='relu', return_sequences=True))(emb_sequences)\n",
    "seq = BatchNormalization()(seq)\n",
    "seq = Dropout(DROPOUT)(seq)\n",
    "\n",
    "seq = Bidirectional(LSTM(16, activation='relu', return_sequences=True))(seq)\n",
    "seq = BatchNormalization()(seq)\n",
    "seq = Dropout(DROPOUT)(seq)\n",
    "\n",
    "seq = TimeDistributed(Dense(16, activation=\"relu\"))(seq)\n",
    "seq = BatchNormalization()(seq)\n",
    "seq = Dropout(DROPOUT)(seq)\n",
    "\n",
    "seq = Flatten()(seq)\n",
    "\n",
    "emb_sentiment = Embedding(input_dim=3, input_length=1, output_dim=5)(input_sentiment)\n",
    "senti = Dense(8, activation=\"relu\")(emb_sentiment)\n",
    "senti = BatchNormalization()(senti)\n",
    "senti = Dropout(DROPOUT)(senti)\n",
    "senti = Flatten()(senti)\n",
    "\n",
    "concat_layer = concatenate([senti, seq])\n",
    "output = Dense(max_len+1, activation=\"sigmoid\")(concat_layer)"
   ]
  },
  {
   "cell_type": "code",
   "execution_count": 76,
   "metadata": {},
   "outputs": [
    {
     "name": "stdout",
     "output_type": "stream",
     "text": [
      "Model: \"model_2\"\n",
      "__________________________________________________________________________________________________\n",
      "Layer (type)                    Output Shape         Param #     Connected to                     \n",
      "==================================================================================================\n",
      "input_6 (InputLayer)            [(None, 107)]        0                                            \n",
      "__________________________________________________________________________________________________\n",
      "embedding_4 (Embedding)         (None, 107, 32)      1017152     input_6[0][0]                    \n",
      "__________________________________________________________________________________________________\n",
      "bidirectional_4 (Bidirectional) (None, 107, 32)      6272        embedding_4[0][0]                \n",
      "__________________________________________________________________________________________________\n",
      "batch_normalization_8 (BatchNor (None, 107, 32)      128         bidirectional_4[0][0]            \n",
      "__________________________________________________________________________________________________\n",
      "dropout_8 (Dropout)             (None, 107, 32)      0           batch_normalization_8[0][0]      \n",
      "__________________________________________________________________________________________________\n",
      "bidirectional_5 (Bidirectional) (None, 107, 32)      6272        dropout_8[0][0]                  \n",
      "__________________________________________________________________________________________________\n",
      "input_5 (InputLayer)            [(None, 1)]          0                                            \n",
      "__________________________________________________________________________________________________\n",
      "batch_normalization_9 (BatchNor (None, 107, 32)      128         bidirectional_5[0][0]            \n",
      "__________________________________________________________________________________________________\n",
      "embedding_5 (Embedding)         (None, 1, 5)         15          input_5[0][0]                    \n",
      "__________________________________________________________________________________________________\n",
      "dropout_9 (Dropout)             (None, 107, 32)      0           batch_normalization_9[0][0]      \n",
      "__________________________________________________________________________________________________\n",
      "dense_7 (Dense)                 (None, 1, 8)         48          embedding_5[0][0]                \n",
      "__________________________________________________________________________________________________\n",
      "time_distributed_2 (TimeDistrib (None, 107, 16)      528         dropout_9[0][0]                  \n",
      "__________________________________________________________________________________________________\n",
      "batch_normalization_11 (BatchNo (None, 1, 8)         32          dense_7[0][0]                    \n",
      "__________________________________________________________________________________________________\n",
      "batch_normalization_10 (BatchNo (None, 107, 16)      64          time_distributed_2[0][0]         \n",
      "__________________________________________________________________________________________________\n",
      "dropout_11 (Dropout)            (None, 1, 8)         0           batch_normalization_11[0][0]     \n",
      "__________________________________________________________________________________________________\n",
      "dropout_10 (Dropout)            (None, 107, 16)      0           batch_normalization_10[0][0]     \n",
      "__________________________________________________________________________________________________\n",
      "flatten_5 (Flatten)             (None, 8)            0           dropout_11[0][0]                 \n",
      "__________________________________________________________________________________________________\n",
      "flatten_4 (Flatten)             (None, 1712)         0           dropout_10[0][0]                 \n",
      "__________________________________________________________________________________________________\n",
      "concatenate_2 (Concatenate)     (None, 1720)         0           flatten_5[0][0]                  \n",
      "                                                                 flatten_4[0][0]                  \n",
      "__________________________________________________________________________________________________\n",
      "dense_8 (Dense)                 (None, 107)          184147      concatenate_2[0][0]              \n",
      "==================================================================================================\n",
      "Total params: 1,214,786\n",
      "Trainable params: 1,214,610\n",
      "Non-trainable params: 176\n",
      "__________________________________________________________________________________________________\n"
     ]
    }
   ],
   "source": [
    "model = Model([input_sentiment, input_sequences], output)\n",
    "model.summary()"
   ]
  },
  {
   "cell_type": "code",
   "execution_count": 77,
   "metadata": {},
   "outputs": [],
   "source": [
    "adam = Adam(learning_rate=MIN_LR)\n",
    "\n",
    "model.compile(loss='binary_crossentropy',\n",
    "              optimizer=adam, metrics=['accuracy'])\n",
    "\n",
    "#model.compile(loss='sparse_categorical_crossentropy',\n",
    "#              optimizer=adam) #, metrics=['accuracy']"
   ]
  },
  {
   "cell_type": "code",
   "execution_count": 78,
   "metadata": {},
   "outputs": [],
   "source": [
    "#callbacks\n",
    "mcp = ModelCheckpoint(filepath=\"../results/\"+MODEL_PREFIX+\"Checkpoint.h5\",\n",
    "                      monitor='val_loss',\n",
    "                      mode=\"auto\",\n",
    "                      save_weights_only=False,\n",
    "                      save_best_only=True)\n",
    "\n",
    "clr = CyclicLR(mode=CLR_METHOD,\n",
    "               base_lr=MIN_LR,\n",
    "               max_lr=MAX_LR,\n",
    "               step_size= STEP_SIZE * (X_train.shape[0] // BATCH_SIZE))"
   ]
  },
  {
   "cell_type": "code",
   "execution_count": 79,
   "metadata": {
    "scrolled": true
   },
   "outputs": [
    {
     "name": "stdout",
     "output_type": "stream",
     "text": [
      "Train on 21670 samples, validate on 5418 samples\n",
      "Epoch 1/40\n",
      "21670/21670 [==============================] - 33s 2ms/sample - loss: 0.7786 - accuracy: 0.5750 - val_loss: 0.6721 - val_accuracy: 0.6873\n",
      "Epoch 2/40\n",
      "21670/21670 [==============================] - 26s 1ms/sample - loss: 0.4154 - accuracy: 0.8229 - val_loss: 0.5797 - val_accuracy: 0.8785\n",
      "Epoch 3/40\n",
      "21670/21670 [==============================] - 25s 1ms/sample - loss: 0.2049 - accuracy: 0.9192 - val_loss: 0.4612 - val_accuracy: 0.9183\n",
      "Epoch 4/40\n",
      "21670/21670 [==============================] - 25s 1ms/sample - loss: 0.1525 - accuracy: 0.9259 - val_loss: 0.3693 - val_accuracy: 0.9183\n",
      "Epoch 5/40\n",
      "21670/21670 [==============================] - 25s 1ms/sample - loss: 0.1305 - accuracy: 0.9323 - val_loss: 0.3068 - val_accuracy: 0.9183\n",
      "Epoch 6/40\n",
      "21670/21670 [==============================] - 25s 1ms/sample - loss: 0.1150 - accuracy: 0.9406 - val_loss: 0.2626 - val_accuracy: 0.9187\n",
      "Epoch 7/40\n",
      "21670/21670 [==============================] - 25s 1ms/sample - loss: 0.1024 - accuracy: 0.9491 - val_loss: 0.2328 - val_accuracy: 0.9202\n",
      "Epoch 8/40\n",
      "21670/21670 [==============================] - 25s 1ms/sample - loss: 0.0910 - accuracy: 0.9571 - val_loss: 0.2101 - val_accuracy: 0.9264\n",
      "Epoch 9/40\n",
      "21670/21670 [==============================] - 25s 1ms/sample - loss: 0.0804 - accuracy: 0.9639 - val_loss: 0.2060 - val_accuracy: 0.9283\n",
      "Epoch 10/40\n",
      "21670/21670 [==============================] - 27s 1ms/sample - loss: 0.0710 - accuracy: 0.9691 - val_loss: 0.1985 - val_accuracy: 0.9283\n",
      "Epoch 11/40\n",
      "21670/21670 [==============================] - 27s 1ms/sample - loss: 0.0629 - accuracy: 0.9731 - val_loss: 0.1674 - val_accuracy: 0.9293\n",
      "Epoch 12/40\n",
      "21670/21670 [==============================] - 26s 1ms/sample - loss: 0.0568 - accuracy: 0.9762 - val_loss: 0.1612 - val_accuracy: 0.9310\n",
      "Epoch 13/40\n",
      "21670/21670 [==============================] - 25s 1ms/sample - loss: 0.0525 - accuracy: 0.9781 - val_loss: 0.1581 - val_accuracy: 0.9339\n",
      "Epoch 14/40\n",
      "21670/21670 [==============================] - 28s 1ms/sample - loss: 0.0483 - accuracy: 0.9802 - val_loss: 0.1344 - val_accuracy: 0.9428\n",
      "Epoch 15/40\n",
      "21670/21670 [==============================] - 27s 1ms/sample - loss: 0.0445 - accuracy: 0.9818 - val_loss: 0.1279 - val_accuracy: 0.9470\n",
      "Epoch 16/40\n",
      "21670/21670 [==============================] - 26s 1ms/sample - loss: 0.0420 - accuracy: 0.9831 - val_loss: 0.1205 - val_accuracy: 0.9510\n",
      "Epoch 17/40\n",
      "21670/21670 [==============================] - 26s 1ms/sample - loss: 0.0399 - accuracy: 0.9838 - val_loss: 0.1238 - val_accuracy: 0.9502\n",
      "Epoch 18/40\n",
      "21670/21670 [==============================] - 25s 1ms/sample - loss: 0.0378 - accuracy: 0.9849 - val_loss: 0.1107 - val_accuracy: 0.9554\n",
      "Epoch 19/40\n",
      "21670/21670 [==============================] - 26s 1ms/sample - loss: 0.0360 - accuracy: 0.9857 - val_loss: 0.1069 - val_accuracy: 0.9564\n",
      "Epoch 20/40\n",
      "21670/21670 [==============================] - 26s 1ms/sample - loss: 0.0349 - accuracy: 0.9862 - val_loss: 0.1031 - val_accuracy: 0.9584\n",
      "Epoch 21/40\n",
      "21670/21670 [==============================] - 25s 1ms/sample - loss: 0.0328 - accuracy: 0.9870 - val_loss: 0.1063 - val_accuracy: 0.9578\n",
      "Epoch 22/40\n",
      "21670/21670 [==============================] - 25s 1ms/sample - loss: 0.0310 - accuracy: 0.9877 - val_loss: 0.1089 - val_accuracy: 0.9579\n",
      "Epoch 23/40\n",
      "21670/21670 [==============================] - 26s 1ms/sample - loss: 0.0295 - accuracy: 0.9884 - val_loss: 0.1123 - val_accuracy: 0.9576\n",
      "Epoch 24/40\n",
      "21670/21670 [==============================] - 26s 1ms/sample - loss: 0.0283 - accuracy: 0.9889 - val_loss: 0.1178 - val_accuracy: 0.9563\n",
      "Epoch 25/40\n",
      "21670/21670 [==============================] - 26s 1ms/sample - loss: 0.0272 - accuracy: 0.9892 - val_loss: 0.1198 - val_accuracy: 0.9564\n",
      "Epoch 26/40\n",
      "21670/21670 [==============================] - 25s 1ms/sample - loss: 0.0268 - accuracy: 0.9895 - val_loss: 0.1191 - val_accuracy: 0.9569\n",
      "Epoch 27/40\n",
      "21670/21670 [==============================] - 25s 1ms/sample - loss: 0.0255 - accuracy: 0.9901 - val_loss: 0.1229 - val_accuracy: 0.9562\n",
      "Epoch 28/40\n",
      "21670/21670 [==============================] - 25s 1ms/sample - loss: 0.0247 - accuracy: 0.9904 - val_loss: 0.1237 - val_accuracy: 0.9563\n",
      "Epoch 29/40\n",
      "21670/21670 [==============================] - 26s 1ms/sample - loss: 0.0240 - accuracy: 0.9906 - val_loss: 0.1252 - val_accuracy: 0.9561\n",
      "Epoch 30/40\n",
      "21670/21670 [==============================] - 25s 1ms/sample - loss: 0.0233 - accuracy: 0.9908 - val_loss: 0.1277 - val_accuracy: 0.9557\n",
      "Epoch 31/40\n",
      "21670/21670 [==============================] - 26s 1ms/sample - loss: 0.0227 - accuracy: 0.9911 - val_loss: 0.1321 - val_accuracy: 0.9555\n",
      "Epoch 32/40\n",
      "21670/21670 [==============================] - 25s 1ms/sample - loss: 0.0221 - accuracy: 0.9914 - val_loss: 0.1319 - val_accuracy: 0.9553\n",
      "Epoch 33/40\n",
      "21670/21670 [==============================] - 26s 1ms/sample - loss: 0.0217 - accuracy: 0.9916 - val_loss: 0.1331 - val_accuracy: 0.9553\n",
      "Epoch 34/40\n",
      "21670/21670 [==============================] - 25s 1ms/sample - loss: 0.0213 - accuracy: 0.9917 - val_loss: 0.1322 - val_accuracy: 0.9554\n",
      "Epoch 35/40\n",
      "21670/21670 [==============================] - 25s 1ms/sample - loss: 0.0208 - accuracy: 0.9919 - val_loss: 0.1349 - val_accuracy: 0.9551\n",
      "Epoch 36/40\n",
      "21670/21670 [==============================] - 26s 1ms/sample - loss: 0.0204 - accuracy: 0.9921 - val_loss: 0.1367 - val_accuracy: 0.9547\n",
      "Epoch 37/40\n",
      "21670/21670 [==============================] - 26s 1ms/sample - loss: 0.0202 - accuracy: 0.9922 - val_loss: 0.1372 - val_accuracy: 0.9545\n",
      "Epoch 38/40\n",
      "21670/21670 [==============================] - 27s 1ms/sample - loss: 0.0200 - accuracy: 0.9922 - val_loss: 0.1369 - val_accuracy: 0.9547\n",
      "Epoch 39/40\n",
      "21670/21670 [==============================] - 26s 1ms/sample - loss: 0.0198 - accuracy: 0.9924 - val_loss: 0.1381 - val_accuracy: 0.9547\n",
      "Epoch 40/40\n",
      "21670/21670 [==============================] - 27s 1ms/sample - loss: 0.0196 - accuracy: 0.9924 - val_loss: 0.1379 - val_accuracy: 0.9546\n"
     ]
    }
   ],
   "source": [
    "history = model.fit(x=[X_sentiments_train, X_train],\n",
    "                    y=Y2_train,\n",
    "                    shuffle=True,\n",
    "                    batch_size=BATCH_SIZE,\n",
    "                    epochs=NUM_EPOCHS,\n",
    "                    validation_data=([X_sentiments_val, X_val], Y2_val),\n",
    "                    verbose=1,\n",
    "                    callbacks=[clr, mcp]) #es, rlrop, tb, mcp, \n",
    "\n",
    "## Might need a callback as described here https://stackoverflow.com/questions/51728648/how-do-masked-values-affect-the-metrics-in-keras\n",
    "#history = model.fit(x=[X_sentiments_train, X_train],\n",
    "#                    y=Y_train,\n",
    "#                    shuffle=True,\n",
    "#                    batch_size=BATCH_SIZE,\n",
    "#                    epochs=NUM_EPOCHS,\n",
    "#                    validation_data=([X_sentiments_val, X_val], Y_val),\n",
    "#                    verbose=1,\n",
    "#                    callbacks=[clr, mcp]) #es, rlrop, tb, mcp, "
   ]
  },
  {
   "cell_type": "markdown",
   "metadata": {},
   "source": [
    "## Validation"
   ]
  },
  {
   "cell_type": "code",
   "execution_count": 80,
   "metadata": {},
   "outputs": [
    {
     "data": {
      "image/png": "[encoded data removed]",
      "text/plain": [
       "<Figure size 432x288 with 1 Axes>"
      ]
     },
     "metadata": {
      "needs_background": "light"
     },
     "output_type": "display_data"
    },
    {
     "data": {
      "image/png": "[encoded data removed]",
      "text/plain": [
       "<Figure size 432x288 with 1 Axes>"
      ]
     },
     "metadata": {
      "needs_background": "light"
     },
     "output_type": "display_data"
    }
   ],
   "source": [
    "metric_names = ['loss' ,'accuracy']\n",
    "\n",
    "for i, j in zip(metric_names, ['val_'+i for i in metric_names]):\n",
    "    plt.plot(history.history[i])\n",
    "    plt.plot(history.history[j])\n",
    "    plt.title('Model '+i)\n",
    "    plt.ylabel(i.upper())\n",
    "    plt.xlabel('Epoch')\n",
    "    plt.legend(['Train', 'Validation'])\n",
    "    plt.show()"
   ]
  },
  {
   "cell_type": "markdown",
   "metadata": {},
   "source": [
    "#### Inference"
   ]
  },
  {
   "cell_type": "code",
   "execution_count": 81,
   "metadata": {},
   "outputs": [],
   "source": [
    "from tensorflow.keras.models import load_model\n",
    "\n",
    "model = tf.keras.models.load_model(\n",
    "    filepath=\"../results/\"+MODEL_PREFIX+\"Checkpoint.h5\",\n",
    "    compile=True\n",
    ")"
   ]
  },
  {
   "cell_type": "code",
   "execution_count": 156,
   "metadata": {},
   "outputs": [
    {
     "name": "stdout",
     "output_type": "stream",
     "text": [
      "5418/5418 [==============================] - 1s 191us/sample - loss: 0.1031 - accuracy: 0.9584\n"
     ]
    },
    {
     "data": {
      "text/plain": [
       "[0.10305292358716153, 0.95842004]"
      ]
     },
     "execution_count": 156,
     "metadata": {},
     "output_type": "execute_result"
    }
   ],
   "source": [
    "model.evaluate(x = [X_sentiments_val, X_val], y=Y2_val, batch_size=PREDICT_BATCH_SIZE)"
   ]
  },
  {
   "cell_type": "code",
   "execution_count": 82,
   "metadata": {},
   "outputs": [],
   "source": [
    "pred_train = model.predict(x = [X_sentiments_train, X_train], batch_size=PREDICT_BATCH_SIZE)\n",
    "pred_val = model.predict(x = [X_sentiments_val, X_val], batch_size=PREDICT_BATCH_SIZE)\n",
    "pred_test = model.predict(x = [X_sentiments_test, X_test], batch_size=PREDICT_BATCH_SIZE)"
   ]
  },
  {
   "cell_type": "code",
   "execution_count": 83,
   "metadata": {},
   "outputs": [
    {
     "data": {
      "text/plain": [
       "((21670, 107), (21670, 107), (21670, 107))"
      ]
     },
     "execution_count": 83,
     "metadata": {},
     "output_type": "execute_result"
    }
   ],
   "source": [
    "X_train.shape, Y_train.shape, pred_train.shape"
   ]
  },
  {
   "cell_type": "markdown",
   "metadata": {},
   "source": [
    "#### Postprocessing"
   ]
  },
  {
   "cell_type": "code",
   "execution_count": 84,
   "metadata": {},
   "outputs": [],
   "source": [
    "pred_train_words = [i[j>0.5].tolist() for i,j in zip(X_train, pred_train)]\n",
    "pred_val_words = [i[j>0.5].tolist() for i,j in zip(X_val, pred_val)]\n",
    "pred_test_words = [i[j>0.5].tolist() for i,j in zip(X_test, pred_test)]"
   ]
  },
  {
   "cell_type": "code",
   "execution_count": 121,
   "metadata": {},
   "outputs": [
    {
     "data": {
      "text/plain": [
       "0.6021665168183049"
      ]
     },
     "execution_count": 121,
     "metadata": {},
     "output_type": "execute_result"
    }
   ],
   "source": [
    "# is it generally predicting words that are in itself??\n",
    "np.mean([sum([1  if (k in j) else 0 for k in i])/len(i) if len(i)!=0 else 0 for i,j in zip(pred_val_words, Y_val)])"
   ]
  },
  {
   "cell_type": "code",
   "execution_count": null,
   "metadata": {},
   "outputs": [],
   "source": [
    "## Eyeball and check if preds make sense\n",
    "#sent_labels = {i:j for i,j in enumerate(df.sentiment_code.cat.categories)}\n",
    "#\n",
    "#[(sent_labels[X_sentiments_val[num]], [get_from_vocab(vocab_itos,j) for j in i]) for num, i in enumerate(pred_val_words)]\n",
    "#[(sent_labels[X_sentiments_test[num]], [get_from_vocab(vocab_itos,j) for j in i]) for num, i in enumerate(pred_test_words)]"
   ]
  },
  {
   "cell_type": "code",
   "execution_count": 142,
   "metadata": {},
   "outputs": [],
   "source": [
    "pred_train_words = [[get_from_vocab(vocab_itos,j) for j in i] for i in pred_train_words]\n",
    "pred_val_words = [[get_from_vocab(vocab_itos,j) for j in i] for i in pred_val_words]\n",
    "pred_test_words = [[get_from_vocab(vocab_itos,j) for j in i] for i in pred_test_words]"
   ]
  },
  {
   "cell_type": "code",
   "execution_count": 143,
   "metadata": {},
   "outputs": [],
   "source": [
    "from sklearn.metrics import jaccard_score"
   ]
  },
  {
   "cell_type": "code",
   "execution_count": 144,
   "metadata": {},
   "outputs": [],
   "source": [
    "def jaccard(str1, str2):\n",
    "    a = set(str1.lower().split()) \n",
    "    b = set(str2.lower().split())\n",
    "    c = a.intersection(b)\n",
    "    return float(len(c)) / (len(a) + len(b) - len(c))"
   ]
  },
  {
   "cell_type": "code",
   "execution_count": 145,
   "metadata": {},
   "outputs": [
    {
     "data": {
      "text/plain": [
       "(21670, (21670,), (21670, 107))"
      ]
     },
     "execution_count": 145,
     "metadata": {},
     "output_type": "execute_result"
    }
   ],
   "source": [
    "len(train_idx), keep_x_train.shape, pred_train.shape"
   ]
  },
  {
   "cell_type": "code",
   "execution_count": 146,
   "metadata": {},
   "outputs": [],
   "source": [
    "predictions = pd.DataFrame({\n",
    "    \"pred_selected_text\" : pred_train_words + pred_val_words,\n",
    "    \"original_index\" : np.concatenate((np.array(train_idx, dtype=np.int64)[keep_x_train],\n",
    "                                       np.array(val_idx, dtype=np.int64)[keep_x_val])),\n",
    "    \"set\" : [\"train\" for i in range(sum(keep_x_train))] + [\"val\" for i in range(sum(keep_x_val))]\n",
    "})"
   ]
  },
  {
   "cell_type": "code",
   "execution_count": 147,
   "metadata": {},
   "outputs": [
    {
     "ename": "AssertionError",
     "evalue": "",
     "output_type": "error",
     "traceback": [
      "\u001b[1;31m---------------------------------------------------------------------------\u001b[0m",
      "\u001b[1;31mAssertionError\u001b[0m                            Traceback (most recent call last)",
      "\u001b[1;32m<ipython-input-147-8f2bdfe0c189>\u001b[0m in \u001b[0;36m<module>\u001b[1;34m\u001b[0m\n\u001b[1;32m----> 1\u001b[1;33m \u001b[1;32massert\u001b[0m \u001b[1;33m(\u001b[0m\u001b[0mpredictions\u001b[0m\u001b[1;33m.\u001b[0m\u001b[0moriginal_index\u001b[0m\u001b[1;33m.\u001b[0m\u001b[0mmin\u001b[0m\u001b[1;33m(\u001b[0m\u001b[1;33m)\u001b[0m\u001b[1;33m,\u001b[0m \u001b[0mpredictions\u001b[0m\u001b[1;33m.\u001b[0m\u001b[0moriginal_index\u001b[0m\u001b[1;33m.\u001b[0m\u001b[0mmax\u001b[0m\u001b[1;33m(\u001b[0m\u001b[1;33m)\u001b[0m\u001b[1;33m)\u001b[0m \u001b[1;33m==\u001b[0m \u001b[1;33m(\u001b[0m\u001b[0mdf\u001b[0m\u001b[1;33m.\u001b[0m\u001b[0moriginal_index\u001b[0m\u001b[1;33m.\u001b[0m\u001b[0mmin\u001b[0m\u001b[1;33m(\u001b[0m\u001b[1;33m)\u001b[0m\u001b[1;33m,\u001b[0m \u001b[0mdf\u001b[0m\u001b[1;33m.\u001b[0m\u001b[0moriginal_index\u001b[0m\u001b[1;33m.\u001b[0m\u001b[0mmax\u001b[0m\u001b[1;33m(\u001b[0m\u001b[1;33m)\u001b[0m\u001b[1;33m)\u001b[0m\u001b[1;33m\u001b[0m\u001b[1;33m\u001b[0m\u001b[0m\n\u001b[0m",
      "\u001b[1;31mAssertionError\u001b[0m: "
     ]
    }
   ],
   "source": [
    "assert (predictions.original_index.min(), predictions.original_index.max()) == (df.original_index.min(), df.original_index.max())"
   ]
  },
  {
   "cell_type": "code",
   "execution_count": 150,
   "metadata": {},
   "outputs": [
    {
     "name": "stdout",
     "output_type": "stream",
     "text": [
      "(27088, 8) (27088, 3)\n",
      "(27088, 8) (27088, 3) (26704, 10)\n"
     ]
    }
   ],
   "source": [
    "print(df.shape, predictions.shape)\n",
    "results = pd.merge(df, predictions, on = \"original_index\", how=\"inner\")\n",
    "print(df.shape, predictions.shape, results.shape)"
   ]
  },
  {
   "cell_type": "code",
   "execution_count": 151,
   "metadata": {},
   "outputs": [
    {
     "data": {
      "text/html": [
       "<div>\n",
       "<style scoped>\n",
       "    .dataframe tbody tr th:only-of-type {\n",
       "        vertical-align: middle;\n",
       "    }\n",
       "\n",
       "    .dataframe tbody tr th {\n",
       "        vertical-align: top;\n",
       "    }\n",
       "\n",
       "    .dataframe thead th {\n",
       "        text-align: right;\n",
       "    }\n",
       "</style>\n",
       "<table border=\"1\" class=\"dataframe\">\n",
       "  <thead>\n",
       "    <tr style=\"text-align: right;\">\n",
       "      <th></th>\n",
       "      <th>textID</th>\n",
       "      <th>text</th>\n",
       "      <th>selected_text</th>\n",
       "      <th>sentiment</th>\n",
       "      <th>original_index</th>\n",
       "      <th>sentiment_code</th>\n",
       "      <th>text_t</th>\n",
       "      <th>selected_text_t</th>\n",
       "      <th>pred_selected_text</th>\n",
       "      <th>set</th>\n",
       "    </tr>\n",
       "  </thead>\n",
       "  <tbody>\n",
       "    <tr>\n",
       "      <th>9</th>\n",
       "      <td>fc2cbefa9d</td>\n",
       "      <td>Journey!? Wow... u just became cooler.  hehe....</td>\n",
       "      <td>Wow... u just became cooler.</td>\n",
       "      <td>positive</td>\n",
       "      <td>9</td>\n",
       "      <td>positive</td>\n",
       "      <td>( , Journey, !, ?, Wow, ..., u, just, became, ...</td>\n",
       "      <td>(Wow, ..., u, just, became, cooler, .)</td>\n",
       "      <td>[]</td>\n",
       "      <td>val</td>\n",
       "    </tr>\n",
       "    <tr>\n",
       "      <th>17</th>\n",
       "      <td>919fa93391</td>\n",
       "      <td>i ` ve been sick for the past few days  and th...</td>\n",
       "      <td>sick</td>\n",
       "      <td>negative</td>\n",
       "      <td>17</td>\n",
       "      <td>negative</td>\n",
       "      <td>(i, `, ve, been, sick, for, the, past, few, da...</td>\n",
       "      <td>(sick)</td>\n",
       "      <td>[]</td>\n",
       "      <td>val</td>\n",
       "    </tr>\n",
       "    <tr>\n",
       "      <th>26</th>\n",
       "      <td>6ce4a4954b</td>\n",
       "      <td>juss came backk from Berkeleyy ; omg its madd ...</td>\n",
       "      <td>fun</td>\n",
       "      <td>positive</td>\n",
       "      <td>28</td>\n",
       "      <td>positive</td>\n",
       "      <td>(juss, came, backk, from, Berkeleyy, ;, omg, i...</td>\n",
       "      <td>(fun)</td>\n",
       "      <td>[I, Quite, ...., heavenly, isn, `, *, *, *, *, ?]</td>\n",
       "      <td>val</td>\n",
       "    </tr>\n",
       "    <tr>\n",
       "      <th>37</th>\n",
       "      <td>2863f435bd</td>\n",
       "      <td>A little happy for the wine jeje ok it ` sm my...</td>\n",
       "      <td>A little happy fo</td>\n",
       "      <td>positive</td>\n",
       "      <td>39</td>\n",
       "      <td>positive</td>\n",
       "      <td>(A, little, happy, for, the, wine, jeje, ok, i...</td>\n",
       "      <td>(A, little, happy, fo)</td>\n",
       "      <td>[m, an, avid, fan, of, *, *, *, *, magazine, a...</td>\n",
       "      <td>val</td>\n",
       "    </tr>\n",
       "    <tr>\n",
       "      <th>38</th>\n",
       "      <td>d93afa85cf</td>\n",
       "      <td>Car not happy, big big dent in boot! Hoping t...</td>\n",
       "      <td>Car not happy, big big dent in boot! Hoping th...</td>\n",
       "      <td>neutral</td>\n",
       "      <td>40</td>\n",
       "      <td>neutral</td>\n",
       "      <td>( , Car, not, happy, ,, big, big, dent, in, bo...</td>\n",
       "      <td>(Car, not, happy, ,, big, big, dent, in, boot,...</td>\n",
       "      <td>[MAYDAY, ?, !]</td>\n",
       "      <td>val</td>\n",
       "    </tr>\n",
       "    <tr>\n",
       "      <th>42</th>\n",
       "      <td>c77717b103</td>\n",
       "      <td>I love to! But I ` m only available from 5pm....</td>\n",
       "      <td>I love to!</td>\n",
       "      <td>positive</td>\n",
       "      <td>44</td>\n",
       "      <td>positive</td>\n",
       "      <td>( , I, love, to, !, But, I, `, m, only, availa...</td>\n",
       "      <td>(I, love, to, !)</td>\n",
       "      <td>[]</td>\n",
       "      <td>val</td>\n",
       "    </tr>\n",
       "    <tr>\n",
       "      <th>43</th>\n",
       "      <td>a9d499e123</td>\n",
       "      <td>The girl in the hair salon asked me 'Shall I t...</td>\n",
       "      <td>The girl in the hair salon asked me 'Shall I t...</td>\n",
       "      <td>neutral</td>\n",
       "      <td>45</td>\n",
       "      <td>neutral</td>\n",
       "      <td>(The, girl, in, the, hair, salon, asked, me, '...</td>\n",
       "      <td>(The, girl, in, the, hair, salon, asked, me, '...</td>\n",
       "      <td>[:, visiting, my, friendster, and, facebook]</td>\n",
       "      <td>val</td>\n",
       "    </tr>\n",
       "    <tr>\n",
       "      <th>58</th>\n",
       "      <td>52483f7da8</td>\n",
       "      <td>i lost all my friends, i ` m alone and sleepy....</td>\n",
       "      <td>i lost all my friends, i ` m alone and sleepy..</td>\n",
       "      <td>negative</td>\n",
       "      <td>60</td>\n",
       "      <td>negative</td>\n",
       "      <td>(i, lost, all, my, friends, ,, i, `, m, alone,...</td>\n",
       "      <td>(i, lost, all, my, friends, ,, i, `, m, alone,...</td>\n",
       "      <td>[]</td>\n",
       "      <td>val</td>\n",
       "    </tr>\n",
       "    <tr>\n",
       "      <th>61</th>\n",
       "      <td>90a2cdb657</td>\n",
       "      <td>What better way to spoil mum than to let her k...</td>\n",
       "      <td>favorite</td>\n",
       "      <td>positive</td>\n",
       "      <td>63</td>\n",
       "      <td>positive</td>\n",
       "      <td>(What, better, way, to, spoil, mum, than, to, ...</td>\n",
       "      <td>(favorite)</td>\n",
       "      <td>[Is, at, a, photoshoot, .]</td>\n",
       "      <td>val</td>\n",
       "    </tr>\n",
       "    <tr>\n",
       "      <th>70</th>\n",
       "      <td>04e2e334de</td>\n",
       "      <td>Anyone have an extra Keane ticket? I promise t...</td>\n",
       "      <td>Anyone have an extra Keane ticket? I promise t...</td>\n",
       "      <td>neutral</td>\n",
       "      <td>72</td>\n",
       "      <td>neutral</td>\n",
       "      <td>(Anyone, have, an, extra, Keane, ticket, ?, I,...</td>\n",
       "      <td>(Anyone, have, an, extra, Keane, ticket, ?, I,...</td>\n",
       "      <td>[she, is, good, !, so, gor, -, juz, yea, i, kn...</td>\n",
       "      <td>val</td>\n",
       "    </tr>\n",
       "  </tbody>\n",
       "</table>\n",
       "</div>"
      ],
      "text/plain": [
       "        textID                                               text  \\\n",
       "9   fc2cbefa9d   Journey!? Wow... u just became cooler.  hehe....   \n",
       "17  919fa93391  i ` ve been sick for the past few days  and th...   \n",
       "26  6ce4a4954b  juss came backk from Berkeleyy ; omg its madd ...   \n",
       "37  2863f435bd  A little happy for the wine jeje ok it ` sm my...   \n",
       "38  d93afa85cf   Car not happy, big big dent in boot! Hoping t...   \n",
       "42  c77717b103   I love to! But I ` m only available from 5pm....   \n",
       "43  a9d499e123  The girl in the hair salon asked me 'Shall I t...   \n",
       "58  52483f7da8  i lost all my friends, i ` m alone and sleepy....   \n",
       "61  90a2cdb657  What better way to spoil mum than to let her k...   \n",
       "70  04e2e334de  Anyone have an extra Keane ticket? I promise t...   \n",
       "\n",
       "                                        selected_text sentiment  \\\n",
       "9                        Wow... u just became cooler.  positive   \n",
       "17                                               sick  negative   \n",
       "26                                                fun  positive   \n",
       "37                                  A little happy fo  positive   \n",
       "38  Car not happy, big big dent in boot! Hoping th...   neutral   \n",
       "42                                         I love to!  positive   \n",
       "43  The girl in the hair salon asked me 'Shall I t...   neutral   \n",
       "58    i lost all my friends, i ` m alone and sleepy..  negative   \n",
       "61                                           favorite  positive   \n",
       "70  Anyone have an extra Keane ticket? I promise t...   neutral   \n",
       "\n",
       "    original_index sentiment_code  \\\n",
       "9                9       positive   \n",
       "17              17       negative   \n",
       "26              28       positive   \n",
       "37              39       positive   \n",
       "38              40        neutral   \n",
       "42              44       positive   \n",
       "43              45        neutral   \n",
       "58              60       negative   \n",
       "61              63       positive   \n",
       "70              72        neutral   \n",
       "\n",
       "                                               text_t  \\\n",
       "9   ( , Journey, !, ?, Wow, ..., u, just, became, ...   \n",
       "17  (i, `, ve, been, sick, for, the, past, few, da...   \n",
       "26  (juss, came, backk, from, Berkeleyy, ;, omg, i...   \n",
       "37  (A, little, happy, for, the, wine, jeje, ok, i...   \n",
       "38  ( , Car, not, happy, ,, big, big, dent, in, bo...   \n",
       "42  ( , I, love, to, !, But, I, `, m, only, availa...   \n",
       "43  (The, girl, in, the, hair, salon, asked, me, '...   \n",
       "58  (i, lost, all, my, friends, ,, i, `, m, alone,...   \n",
       "61  (What, better, way, to, spoil, mum, than, to, ...   \n",
       "70  (Anyone, have, an, extra, Keane, ticket, ?, I,...   \n",
       "\n",
       "                                      selected_text_t  \\\n",
       "9              (Wow, ..., u, just, became, cooler, .)   \n",
       "17                                             (sick)   \n",
       "26                                              (fun)   \n",
       "37                             (A, little, happy, fo)   \n",
       "38  (Car, not, happy, ,, big, big, dent, in, boot,...   \n",
       "42                                   (I, love, to, !)   \n",
       "43  (The, girl, in, the, hair, salon, asked, me, '...   \n",
       "58  (i, lost, all, my, friends, ,, i, `, m, alone,...   \n",
       "61                                         (favorite)   \n",
       "70  (Anyone, have, an, extra, Keane, ticket, ?, I,...   \n",
       "\n",
       "                                   pred_selected_text  set  \n",
       "9                                                  []  val  \n",
       "17                                                 []  val  \n",
       "26  [I, Quite, ...., heavenly, isn, `, *, *, *, *, ?]  val  \n",
       "37  [m, an, avid, fan, of, *, *, *, *, magazine, a...  val  \n",
       "38                                     [MAYDAY, ?, !]  val  \n",
       "42                                                 []  val  \n",
       "43       [:, visiting, my, friendster, and, facebook]  val  \n",
       "58                                                 []  val  \n",
       "61                         [Is, at, a, photoshoot, .]  val  \n",
       "70  [she, is, good, !, so, gor, -, juz, yea, i, kn...  val  "
      ]
     },
     "execution_count": 151,
     "metadata": {},
     "output_type": "execute_result"
    }
   ],
   "source": [
    "results.loc[results.set==\"val\"].head(10)"
   ]
  },
  {
   "cell_type": "code",
   "execution_count": null,
   "metadata": {},
   "outputs": [],
   "source": [
    "results.loc[results.set==\"train\"].head(10)"
   ]
  },
  {
   "cell_type": "code",
   "execution_count": null,
   "metadata": {},
   "outputs": [],
   "source": []
  },
  {
   "cell_type": "code",
   "execution_count": null,
   "metadata": {},
   "outputs": [],
   "source": []
  },
  {
   "cell_type": "code",
   "execution_count": null,
   "metadata": {},
   "outputs": [],
   "source": [
    "conf_mat_train = confusion_matrix(Y_train.argmax(axis=1).reshape(-1), pred_train.reshape(-1))\n",
    "conf_mat_val = confusion_matrix(Y_val.argmax(axis=1).reshape(-1), pred_val.reshape(-1))\n",
    "print(\"The train accuracy is\\t\",np.round(100 * np.sum(np.diag(conf_mat_train)) / np.sum(conf_mat_train),2))\n",
    "print(\"The valid accuracy is\\t\",np.round(100 * np.sum(np.diag(conf_mat_val)) / np.sum(conf_mat_val),2))\n",
    "\n",
    "np.savetxt(X=conf_mat_train, fname=\"../results/ConfMatrix_train_\" + MODEL_PREFIX + \".txt\")\n",
    "np.savetxt(X=conf_mat_val, fname=\"../results/ConfMatrix_val_\" + MODEL_PREFIX + \".txt\")\n",
    "\n",
    "f1_train = f1_score(Y_train.argmax(axis=1).reshape(-1), pred_train.reshape(-1), average='macro')\n",
    "f1_val = f1_score(Y_val.argmax(axis=1).reshape(-1), pred_val.reshape(-1), average='macro')\n",
    "print(\"The train macro f1score is\\t\",np.round(f1_train,2))\n",
    "print(\"The valid macro f1score is\\t\",np.round(f1_val,2))"
   ]
  },
  {
   "cell_type": "code",
   "execution_count": null,
   "metadata": {},
   "outputs": [],
   "source": [
    "submission = pd.DataFrame({'time':test_df['time'],'open_channels':pred_test.reshape(-1)})\n",
    "submission.to_csv(\"../results/submission_20200412V\"+MODEL_NUMBER+\".csv\", index=False, float_format='%.4f')"
   ]
  },
  {
   "cell_type": "code",
   "execution_count": null,
   "metadata": {},
   "outputs": [],
   "source": [
    "from tensorflow.keras.models import load_model\n",
    "\n",
    "best_model = tf.keras.models.load_model(\n",
    "    filepath=\"../results/\"+MODEL_PREFIX+\"Checkpoint.h5\",\n",
    "    compile=True,\n",
    "    custom_objects = {'macro_soft_f1':macro_soft_f1, 'macro_f1':macro_f1}\n",
    ")"
   ]
  },
  {
   "cell_type": "code",
   "execution_count": null,
   "metadata": {},
   "outputs": [],
   "source": [
    "pred_train = best_model.predict(x = X_train, batch_size=PREDICT_BATCH_SIZE)\n",
    "pred_val = best_model.predict(x = X_val, batch_size=PREDICT_BATCH_SIZE)\n",
    "pred_test = best_model.predict(x = X_test, batch_size=PREDICT_BATCH_SIZE)"
   ]
  },
  {
   "cell_type": "code",
   "execution_count": null,
   "metadata": {},
   "outputs": [],
   "source": [
    "pred_train = pred_train.argmax(axis=1)\n",
    "pred_val = pred_val.argmax(axis=1)\n",
    "pred_test = pred_test.argmax(axis=1)"
   ]
  },
  {
   "cell_type": "code",
   "execution_count": null,
   "metadata": {},
   "outputs": [],
   "source": [
    "conf_mat_train = confusion_matrix(Y_train.argmax(axis=1).reshape(-1), pred_train.reshape(-1))\n",
    "conf_mat_val = confusion_matrix(Y_val.argmax(axis=1).reshape(-1), pred_val.reshape(-1))\n",
    "\n",
    "print(\"The train accuracy is\\t\",np.round(100 * np.sum(np.diag(conf_mat_train)) / np.sum(conf_mat_train),2))\n",
    "print(\"The valid accuracy is\\t\",np.round(100 * np.sum(np.diag(conf_mat_val)) / np.sum(conf_mat_val),2))\n",
    "\n",
    "np.savetxt(X=conf_mat_train, fname=\"../results/BestConfMatrix_train_\" + MODEL_PREFIX + \".txt\")\n",
    "np.savetxt(X=conf_mat_val, fname=\"../results/BestConfMatrix_val_\" + MODEL_PREFIX + \".txt\")\n",
    "\n",
    "f1_train = f1_score(Y_train.argmax(axis=1).reshape(-1), pred_train.reshape(-1), average='macro')\n",
    "f1_val = f1_score(Y_train.argmax(axis=1).reshape(-1), pred_train.reshape(-1), average='macro')\n",
    "print(\"The train macro f1score is\\t\",np.round(f1_train,2))\n",
    "print(\"The valid macro f1score is\\t\",np.round(f1_val,2))"
   ]
  },
  {
   "cell_type": "code",
   "execution_count": null,
   "metadata": {},
   "outputs": [],
   "source": [
    "submission = pd.DataFrame({'time':test_df['time'],'open_channels':pred_test.reshape(-1)})\n",
    "submission.to_csv(\"../results/best_submission_20200412V\"+MODEL_NUMBER+\".csv\", index=False, float_format='%.4f')"
   ]
  }
 ],
 "metadata": {
  "kernelspec": {
   "display_name": "Python 3",
   "language": "python",
   "name": "python3"
  },
  "language_info": {
   "codemirror_mode": {
    "name": "ipython",
    "version": 3
   },
   "file_extension": ".py",
   "mimetype": "text/x-python",
   "name": "python",
   "nbconvert_exporter": "python",
   "pygments_lexer": "ipython3",
   "version": "3.7.7"
  }
 },
 "nbformat": 4,
 "nbformat_minor": 2
}

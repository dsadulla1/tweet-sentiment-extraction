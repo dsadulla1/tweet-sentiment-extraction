{
 "cells": [
  {
   "cell_type": "markdown",
   "metadata": {},
   "source": [
    "# Do you need psuedo labels?"
   ]
  },
  {
   "cell_type": "markdown",
   "metadata": {},
   "source": [
    "# You might need a token for space itself? start and stop tokens?"
   ]
  },
  {
   "cell_type": "markdown",
   "metadata": {},
   "source": [
    "# Sentiment Classification model with test as well in train? Will increase the vocab size as well?"
   ]
  },
  {
   "cell_type": "markdown",
   "metadata": {},
   "source": [
    "# * https://www.tensorflow.org/tutorials/text/transformer\n",
    "# * https://pytorch.org/tutorials/beginner/transformer_tutorial.html"
   ]
  },
  {
   "cell_type": "markdown",
   "metadata": {},
   "source": [
    "## Settings"
   ]
  },
  {
   "cell_type": "code",
   "execution_count": 1,
   "metadata": {},
   "outputs": [],
   "source": [
    "# CONTROLS\n",
    "MODEL_PREFIX = \"V08\"\n",
    "MODEL_NUMBER = MODEL_PREFIX[-2:]\n",
    "TRAIN_SPLIT_RATIO = 0.8\n",
    "\n",
    "DROPOUT = 0.1\n",
    "MIN_LR = 1e-5\n",
    "MAX_LR = 1e-2\n",
    "BATCH_SIZE = 1024\n",
    "PREDICT_BATCH_SIZE = 2048\n",
    "STEP_SIZE = 10\n",
    "CLR_METHOD = \"triangular\" # exp_range, triangular, triangular2\n",
    "NUM_EPOCHS = 200"
   ]
  },
  {
   "cell_type": "markdown",
   "metadata": {},
   "source": [
    "## Libraries"
   ]
  },
  {
   "cell_type": "code",
   "execution_count": 2,
   "metadata": {},
   "outputs": [],
   "source": [
    "import numpy as np\n",
    "import pandas as pd\n",
    "from matplotlib import pyplot as plt\n",
    "\n",
    "#from sklearn.preprocessing import MinMaxScaler, LabelBinarizer\n",
    "from sklearn.metrics import confusion_matrix, accuracy_score\n",
    "from sklearn.utils import class_weight\n",
    "\n",
    "import pickle, os, sys, re\n",
    "\n",
    "import spacy\n",
    "from spacy.lang.en import English\n",
    "\n",
    "import tensorflow as tf\n",
    "from tensorflow.keras import Model, Input\n",
    "from tensorflow.keras.layers import Conv1D, Conv2D, LSTM, Embedding, Dense, concatenate, MaxPooling2D, Softmax, Flatten\n",
    "from tensorflow.keras.layers import BatchNormalization, Dropout, Reshape, Activation, Bidirectional, TimeDistributed\n",
    "from tensorflow.keras.layers import RepeatVector, Multiply\n",
    "from tensorflow.keras.activations import softmax\n",
    "from tensorflow.keras.optimizers import Adam\n",
    "from tensorflow.keras.preprocessing.text import Tokenizer\n",
    "\n",
    "def signaltonoise(a, axis=0, ddof=0):\n",
    "    a = np.asanyarray(a)\n",
    "    m = a.mean(axis)\n",
    "    sd = a.std(axis=axis, ddof=ddof)\n",
    "    return np.where(sd == 0, 0, m/sd)\n",
    "\n",
    "%matplotlib inline"
   ]
  },
  {
   "cell_type": "code",
   "execution_count": 3,
   "metadata": {},
   "outputs": [],
   "source": [
    "from tensorflow.keras.callbacks import *\n",
    "import tensorflow.keras.backend as K\n",
    "\n",
    "class CyclicLR(Callback):\n",
    "    \"\"\"This callback implements a cyclical learning rate policy (CLR).\n",
    "    The method cycles the learning rate between two boundaries with\n",
    "    some constant frequency, as detailed in this paper (https://arxiv.org/abs/1506.01186).\n",
    "    The amplitude of the cycle can be scaled on a per-iteration or \n",
    "    per-cycle basis.\n",
    "    This class has three built-in policies, as put forth in the paper.\n",
    "    \"triangular\":\n",
    "        A basic triangular cycle w/ no amplitude scaling.\n",
    "    \"triangular2\":\n",
    "        A basic triangular cycle that scales initial amplitude by half each cycle.\n",
    "    \"exp_range\":\n",
    "        A cycle that scales initial amplitude by gamma**(cycle iterations) at each \n",
    "        cycle iteration.\n",
    "    For more detail, please see paper.\n",
    "    \n",
    "    # Example\n",
    "        ```python\n",
    "            clr = CyclicLR(base_lr=0.001, max_lr=0.006,\n",
    "                                step_size=2000., mode='triangular')\n",
    "            model.fit(X_train, Y_train, callbacks=[clr])\n",
    "        ```\n",
    "    \n",
    "    Class also supports custom scaling functions:\n",
    "        ```python\n",
    "            clr_fn = lambda x: 0.5*(1+np.sin(x*np.pi/2.))\n",
    "            clr = CyclicLR(base_lr=0.001, max_lr=0.006,\n",
    "                                step_size=2000., scale_fn=clr_fn,\n",
    "                                scale_mode='cycle')\n",
    "            model.fit(X_train, Y_train, callbacks=[clr])\n",
    "        ```    \n",
    "    # Arguments\n",
    "        base_lr: initial learning rate which is the\n",
    "            lower boundary in the cycle.\n",
    "        max_lr: upper boundary in the cycle. Functionally,\n",
    "            it defines the cycle amplitude (max_lr - base_lr).\n",
    "            The lr at any cycle is the sum of base_lr\n",
    "            and some scaling of the amplitude; therefore \n",
    "            max_lr may not actually be reached depending on\n",
    "            scaling function.\n",
    "        step_size: number of training iterations per\n",
    "            half cycle. Authors suggest setting step_size\n",
    "            2-8 x training iterations in epoch.\n",
    "        mode: one of {triangular, triangular2, exp_range}.\n",
    "            Default 'triangular'.\n",
    "            Values correspond to policies detailed above.\n",
    "            If scale_fn is not None, this argument is ignored.\n",
    "        gamma: constant in 'exp_range' scaling function:\n",
    "            gamma**(cycle iterations)\n",
    "        scale_fn: Custom scaling policy defined by a single\n",
    "            argument lambda function, where \n",
    "            0 <= scale_fn(x) <= 1 for all x >= 0.\n",
    "            mode paramater is ignored \n",
    "        scale_mode: {'cycle', 'iterations'}.\n",
    "            Defines whether scale_fn is evaluated on \n",
    "            cycle number or cycle iterations (training\n",
    "            iterations since start of cycle). Default is 'cycle'.\n",
    "    \"\"\"\n",
    "\n",
    "    def __init__(self, base_lr=0.001, max_lr=0.006, step_size=2000., mode='triangular',\n",
    "                 gamma=1., scale_fn=None, scale_mode='cycle'):\n",
    "        super(CyclicLR, self).__init__()\n",
    "\n",
    "        self.base_lr = base_lr\n",
    "        self.max_lr = max_lr\n",
    "        self.step_size = step_size\n",
    "        self.mode = mode\n",
    "        self.gamma = gamma\n",
    "        if scale_fn == None:\n",
    "            if self.mode == 'triangular':\n",
    "                self.scale_fn = lambda x: 1.\n",
    "                self.scale_mode = 'cycle'\n",
    "            elif self.mode == 'triangular2':\n",
    "                self.scale_fn = lambda x: 1/(2.**(x-1))\n",
    "                self.scale_mode = 'cycle'\n",
    "            elif self.mode == 'exp_range':\n",
    "                self.scale_fn = lambda x: gamma**(x)\n",
    "                self.scale_mode = 'iterations'\n",
    "        else:\n",
    "            self.scale_fn = scale_fn\n",
    "            self.scale_mode = scale_mode\n",
    "        self.clr_iterations = 0.\n",
    "        self.trn_iterations = 0.\n",
    "        self.history = {}\n",
    "\n",
    "        self._reset()\n",
    "\n",
    "    def _reset(self, new_base_lr=None, new_max_lr=None,\n",
    "               new_step_size=None):\n",
    "        \"\"\"Resets cycle iterations.\n",
    "        Optional boundary/step size adjustment.\n",
    "        \"\"\"\n",
    "        if new_base_lr != None:\n",
    "            self.base_lr = new_base_lr\n",
    "        if new_max_lr != None:\n",
    "            self.max_lr = new_max_lr\n",
    "        if new_step_size != None:\n",
    "            self.step_size = new_step_size\n",
    "        self.clr_iterations = 0.\n",
    "        \n",
    "    def clr(self):\n",
    "        cycle = np.floor(1+self.clr_iterations/(2*self.step_size))\n",
    "        x = np.abs(self.clr_iterations/self.step_size - 2*cycle + 1)\n",
    "        if self.scale_mode == 'cycle':\n",
    "            return self.base_lr + (self.max_lr-self.base_lr)*np.maximum(0, (1-x))*self.scale_fn(cycle)\n",
    "        else:\n",
    "            return self.base_lr + (self.max_lr-self.base_lr)*np.maximum(0, (1-x))*self.scale_fn(self.clr_iterations)\n",
    "        \n",
    "    def on_train_begin(self, logs={}):\n",
    "        logs = logs or {}\n",
    "\n",
    "        if self.clr_iterations == 0:\n",
    "            K.set_value(self.model.optimizer.lr, self.base_lr)\n",
    "        else:\n",
    "            K.set_value(self.model.optimizer.lr, self.clr())        \n",
    "            \n",
    "    def on_batch_end(self, epoch, logs=None):\n",
    "        \n",
    "        logs = logs or {}\n",
    "        self.trn_iterations += 1\n",
    "        self.clr_iterations += 1\n",
    "\n",
    "        self.history.setdefault('lr', []).append(K.get_value(self.model.optimizer.lr))\n",
    "        self.history.setdefault('iterations', []).append(self.trn_iterations)\n",
    "\n",
    "        for k, v in logs.items():\n",
    "            self.history.setdefault(k, []).append(v)\n",
    "        \n",
    "        K.set_value(self.model.optimizer.lr, self.clr())"
   ]
  },
  {
   "cell_type": "code",
   "execution_count": 4,
   "metadata": {},
   "outputs": [
    {
     "name": "stderr",
     "output_type": "stream",
     "text": [
      "c:\\users\\deepak\\miniconda3\\envs\\dev\\lib\\site-packages\\ipykernel_launcher.py:1: FutureWarning: Passing a negative integer is deprecated in version 1.0 and will not be supported in future version. Instead, use None to not limit the column width.\n",
      "  \"\"\"Entry point for launching an IPython kernel.\n"
     ]
    }
   ],
   "source": [
    "pd.set_option('display.max_colwidth', -1)\n",
    "np.random.seed(54321)"
   ]
  },
  {
   "cell_type": "markdown",
   "metadata": {},
   "source": [
    "## Import Data"
   ]
  },
  {
   "cell_type": "code",
   "execution_count": 5,
   "metadata": {},
   "outputs": [
    {
     "name": "stdout",
     "output_type": "stream",
     "text": [
      "                    0  1\n",
      "textID         object  0\n",
      "text           object  1\n",
      "selected_text  object  1\n",
      "sentiment      object  0\n",
      "(27481, 4)\n",
      "{'textID': 27481, 'text': 27480, 'selected_text': 22463, 'sentiment': 3}\n",
      "            textID  \\\n",
      "count   27481        \n",
      "unique  27481        \n",
      "top     d438d00c44   \n",
      "freq    1            \n",
      "\n",
      "                                                                                                   text  \\\n",
      "count   27480                                                                                             \n",
      "unique  27480                                                                                             \n",
      "top     Is up, coffee in hand with laminate floor to lay then Footy to watch and play, living the dream   \n",
      "freq    1                                                                                                 \n",
      "\n",
      "       selected_text sentiment  \n",
      "count   27480         27481     \n",
      "unique  22463         3         \n",
      "top     good          neutral   \n",
      "freq    199           11118     \n"
     ]
    },
    {
     "data": {
      "text/html": [
       "<div>\n",
       "<style scoped>\n",
       "    .dataframe tbody tr th:only-of-type {\n",
       "        vertical-align: middle;\n",
       "    }\n",
       "\n",
       "    .dataframe tbody tr th {\n",
       "        vertical-align: top;\n",
       "    }\n",
       "\n",
       "    .dataframe thead th {\n",
       "        text-align: right;\n",
       "    }\n",
       "</style>\n",
       "<table border=\"1\" class=\"dataframe\">\n",
       "  <thead>\n",
       "    <tr style=\"text-align: right;\">\n",
       "      <th></th>\n",
       "      <th>textID</th>\n",
       "      <th>text</th>\n",
       "      <th>selected_text</th>\n",
       "      <th>sentiment</th>\n",
       "    </tr>\n",
       "  </thead>\n",
       "  <tbody>\n",
       "    <tr>\n",
       "      <th>0</th>\n",
       "      <td>cb774db0d1</td>\n",
       "      <td>I`d have responded, if I were going</td>\n",
       "      <td>I`d have responded, if I were going</td>\n",
       "      <td>neutral</td>\n",
       "    </tr>\n",
       "    <tr>\n",
       "      <th>1</th>\n",
       "      <td>549e992a42</td>\n",
       "      <td>Sooo SAD I will miss you here in San Diego!!!</td>\n",
       "      <td>Sooo SAD</td>\n",
       "      <td>negative</td>\n",
       "    </tr>\n",
       "  </tbody>\n",
       "</table>\n",
       "</div>"
      ],
      "text/plain": [
       "       textID                                            text  \\\n",
       "0  cb774db0d1   I`d have responded, if I were going             \n",
       "1  549e992a42   Sooo SAD I will miss you here in San Diego!!!   \n",
       "\n",
       "                         selected_text sentiment  \n",
       "0  I`d have responded, if I were going  neutral   \n",
       "1  Sooo SAD                             negative  "
      ]
     },
     "execution_count": 5,
     "metadata": {},
     "output_type": "execute_result"
    }
   ],
   "source": [
    "df = pd.read_csv(\"../data/train.csv\",\n",
    "                 dtype={\"time\":np.float64,\"signal\":np.float64,\"open_channels\":np.int16},\n",
    "                 encoding=\"utf8\")\n",
    "\n",
    "df2 = pd.read_csv(\"../data/train.csv\",\n",
    "                 dtype={\"time\":np.float64,\"signal\":np.float64,\"open_channels\":np.int16})\n",
    "\n",
    "print(pd.concat((df.dtypes, df.isna().sum()), axis=1))\n",
    "print(df.shape)\n",
    "\n",
    "# Counts of various columns\n",
    "print({i:df[i].nunique() for i in df.columns})\n",
    "print(df.describe()) #.astype(int)\n",
    "df.head(2)"
   ]
  },
  {
   "cell_type": "code",
   "execution_count": 6,
   "metadata": {},
   "outputs": [
    {
     "name": "stdout",
     "output_type": "stream",
     "text": [
      "                0  1\n",
      "textID     object  0\n",
      "text       object  0\n",
      "sentiment  object  0\n",
      "(3534, 3)\n",
      "{'textID': 3534, 'text': 3534, 'sentiment': 3}\n",
      "            textID  \\\n",
      "count   3534         \n",
      "unique  3534         \n",
      "top     e056f0a268   \n",
      "freq    1            \n",
      "\n",
      "                                                                                                                         text  \\\n",
      "count   3534                                                                                                                    \n",
      "unique  3534                                                                                                                    \n",
      "top     Hey everybody!  hah this day is cool! just got back from walk with the dog...  OMGosh! Send me the link again please!   \n",
      "freq    1                                                                                                                       \n",
      "\n",
      "       sentiment  \n",
      "count   3534      \n",
      "unique  3         \n",
      "top     neutral   \n",
      "freq    1430      \n"
     ]
    },
    {
     "data": {
      "text/html": [
       "<div>\n",
       "<style scoped>\n",
       "    .dataframe tbody tr th:only-of-type {\n",
       "        vertical-align: middle;\n",
       "    }\n",
       "\n",
       "    .dataframe tbody tr th {\n",
       "        vertical-align: top;\n",
       "    }\n",
       "\n",
       "    .dataframe thead th {\n",
       "        text-align: right;\n",
       "    }\n",
       "</style>\n",
       "<table border=\"1\" class=\"dataframe\">\n",
       "  <thead>\n",
       "    <tr style=\"text-align: right;\">\n",
       "      <th></th>\n",
       "      <th>textID</th>\n",
       "      <th>text</th>\n",
       "      <th>sentiment</th>\n",
       "    </tr>\n",
       "  </thead>\n",
       "  <tbody>\n",
       "    <tr>\n",
       "      <th>0</th>\n",
       "      <td>f87dea47db</td>\n",
       "      <td>Last session of the day  http://twitpic.com/67ezh</td>\n",
       "      <td>neutral</td>\n",
       "    </tr>\n",
       "    <tr>\n",
       "      <th>1</th>\n",
       "      <td>96d74cb729</td>\n",
       "      <td>Shanghai is also really exciting (precisely -- skyscrapers galore). Good tweeps in China:  (SH)  (BJ).</td>\n",
       "      <td>positive</td>\n",
       "    </tr>\n",
       "  </tbody>\n",
       "</table>\n",
       "</div>"
      ],
      "text/plain": [
       "       textID  \\\n",
       "0  f87dea47db   \n",
       "1  96d74cb729   \n",
       "\n",
       "                                                                                                      text  \\\n",
       "0  Last session of the day  http://twitpic.com/67ezh                                                         \n",
       "1   Shanghai is also really exciting (precisely -- skyscrapers galore). Good tweeps in China:  (SH)  (BJ).   \n",
       "\n",
       "  sentiment  \n",
       "0  neutral   \n",
       "1  positive  "
      ]
     },
     "execution_count": 6,
     "metadata": {},
     "output_type": "execute_result"
    }
   ],
   "source": [
    "test_df = pd.read_csv(\"../data/test.csv\", dtype={\"time\":np.float64,\"signal\":np.float64})\n",
    "print(pd.concat((test_df.dtypes, test_df.isna().sum()), axis=1))\n",
    "print(test_df.shape)\n",
    "\n",
    "# Counts of various columns\n",
    "print({i:test_df[i].nunique() for i in test_df.columns})\n",
    "print(test_df.describe())\n",
    "test_df.head(2)"
   ]
  },
  {
   "cell_type": "code",
   "execution_count": 7,
   "metadata": {},
   "outputs": [
    {
     "data": {
      "text/html": [
       "<div>\n",
       "<style scoped>\n",
       "    .dataframe tbody tr th:only-of-type {\n",
       "        vertical-align: middle;\n",
       "    }\n",
       "\n",
       "    .dataframe tbody tr th {\n",
       "        vertical-align: top;\n",
       "    }\n",
       "\n",
       "    .dataframe thead th {\n",
       "        text-align: right;\n",
       "    }\n",
       "</style>\n",
       "<table border=\"1\" class=\"dataframe\">\n",
       "  <thead>\n",
       "    <tr style=\"text-align: right;\">\n",
       "      <th></th>\n",
       "      <th>textID</th>\n",
       "      <th>text</th>\n",
       "      <th>selected_text</th>\n",
       "      <th>sentiment</th>\n",
       "    </tr>\n",
       "  </thead>\n",
       "  <tbody>\n",
       "    <tr>\n",
       "      <th>44</th>\n",
       "      <td>c77717b103</td>\n",
       "      <td>I love to! But I`m only available from 5pm.  and where dear? Would love to help  convert her vids.ï¿½</td>\n",
       "      <td>I love to!</td>\n",
       "      <td>positive</td>\n",
       "    </tr>\n",
       "    <tr>\n",
       "      <th>192</th>\n",
       "      <td>28dbada620</td>\n",
       "      <td>*phew*  Will make a note in case anyone else runs into the same issueï¿½</td>\n",
       "      <td>*phew*  Will make a note in case anyone else runs into the same issueï¿½</td>\n",
       "      <td>neutral</td>\n",
       "    </tr>\n",
       "  </tbody>\n",
       "</table>\n",
       "</div>"
      ],
      "text/plain": [
       "         textID  \\\n",
       "44   c77717b103   \n",
       "192  28dbada620   \n",
       "\n",
       "                                                                                                       text  \\\n",
       "44    I love to! But I`m only available from 5pm.  and where dear? Would love to help  convert her vids.ï¿½   \n",
       "192   *phew*  Will make a note in case anyone else runs into the same issueï¿½                                \n",
       "\n",
       "                                                                selected_text  \\\n",
       "44   I love to!                                                                 \n",
       "192  *phew*  Will make a note in case anyone else runs into the same issueï¿½   \n",
       "\n",
       "    sentiment  \n",
       "44   positive  \n",
       "192  neutral   "
      ]
     },
     "execution_count": 7,
     "metadata": {},
     "output_type": "execute_result"
    }
   ],
   "source": [
    "df.loc[df2['text'].astype('str').apply(lambda x : len(re.findall(pattern=\"ï¿½\", string=x))>0)].head(2)"
   ]
  },
  {
   "cell_type": "code",
   "execution_count": 8,
   "metadata": {},
   "outputs": [
    {
     "data": {
      "text/html": [
       "<div>\n",
       "<style scoped>\n",
       "    .dataframe tbody tr th:only-of-type {\n",
       "        vertical-align: middle;\n",
       "    }\n",
       "\n",
       "    .dataframe tbody tr th {\n",
       "        vertical-align: top;\n",
       "    }\n",
       "\n",
       "    .dataframe thead th {\n",
       "        text-align: right;\n",
       "    }\n",
       "</style>\n",
       "<table border=\"1\" class=\"dataframe\">\n",
       "  <thead>\n",
       "    <tr style=\"text-align: right;\">\n",
       "      <th></th>\n",
       "      <th>textID</th>\n",
       "      <th>text</th>\n",
       "      <th>sentiment</th>\n",
       "    </tr>\n",
       "  </thead>\n",
       "  <tbody>\n",
       "    <tr>\n",
       "      <th>145</th>\n",
       "      <td>7223fdccc2</td>\n",
       "      <td>tikcets are only ï¿½91...each...BUT I SO WANT TO GO</td>\n",
       "      <td>positive</td>\n",
       "    </tr>\n",
       "    <tr>\n",
       "      <th>618</th>\n",
       "      <td>43ad351369</td>\n",
       "      <td>AHHH - Whatchu talkinï¿½ baby?  HAHAHA I canï¿½t believe youu:O heh, actually I can. Life is worth taking risks... http://tumblr.com/xs81qy54s</td>\n",
       "      <td>positive</td>\n",
       "    </tr>\n",
       "  </tbody>\n",
       "</table>\n",
       "</div>"
      ],
      "text/plain": [
       "         textID  \\\n",
       "145  7223fdccc2   \n",
       "618  43ad351369   \n",
       "\n",
       "                                                                                                                                               text  \\\n",
       "145  tikcets are only ï¿½91...each...BUT I SO WANT TO GO                                                                                              \n",
       "618  AHHH - Whatchu talkinï¿½ baby?  HAHAHA I canï¿½t believe youu:O heh, actually I can. Life is worth taking risks... http://tumblr.com/xs81qy54s   \n",
       "\n",
       "    sentiment  \n",
       "145  positive  \n",
       "618  positive  "
      ]
     },
     "execution_count": 8,
     "metadata": {},
     "output_type": "execute_result"
    }
   ],
   "source": [
    "test_df.loc[test_df['text'].astype('str').apply(lambda x : len(re.findall(pattern=\"ï¿½\", string=x))>0)].head(2)"
   ]
  },
  {
   "cell_type": "markdown",
   "metadata": {},
   "source": [
    "## Exploration"
   ]
  },
  {
   "cell_type": "markdown",
   "metadata": {},
   "source": [
    "#### Sentiment count in training"
   ]
  },
  {
   "cell_type": "code",
   "execution_count": 9,
   "metadata": {},
   "outputs": [
    {
     "data": {
      "text/html": [
       "<div>\n",
       "<style scoped>\n",
       "    .dataframe tbody tr th:only-of-type {\n",
       "        vertical-align: middle;\n",
       "    }\n",
       "\n",
       "    .dataframe tbody tr th {\n",
       "        vertical-align: top;\n",
       "    }\n",
       "\n",
       "    .dataframe thead th {\n",
       "        text-align: right;\n",
       "    }\n",
       "</style>\n",
       "<table border=\"1\" class=\"dataframe\">\n",
       "  <thead>\n",
       "    <tr style=\"text-align: right;\">\n",
       "      <th></th>\n",
       "      <th>text</th>\n",
       "      <th>text</th>\n",
       "    </tr>\n",
       "    <tr>\n",
       "      <th>sentiment</th>\n",
       "      <th></th>\n",
       "      <th></th>\n",
       "    </tr>\n",
       "  </thead>\n",
       "  <tbody>\n",
       "    <tr>\n",
       "      <th>negative</th>\n",
       "      <td>7781</td>\n",
       "      <td>1001</td>\n",
       "    </tr>\n",
       "    <tr>\n",
       "      <th>neutral</th>\n",
       "      <td>11117</td>\n",
       "      <td>1430</td>\n",
       "    </tr>\n",
       "    <tr>\n",
       "      <th>positive</th>\n",
       "      <td>8582</td>\n",
       "      <td>1103</td>\n",
       "    </tr>\n",
       "  </tbody>\n",
       "</table>\n",
       "</div>"
      ],
      "text/plain": [
       "            text  text\n",
       "sentiment             \n",
       "negative   7781   1001\n",
       "neutral    11117  1430\n",
       "positive   8582   1103"
      ]
     },
     "execution_count": 9,
     "metadata": {},
     "output_type": "execute_result"
    }
   ],
   "source": [
    "pd.concat([df.groupby(\"sentiment\")[[\"text\"]].count(), test_df.groupby(\"sentiment\")[[\"text\"]].count()], axis=1)"
   ]
  },
  {
   "cell_type": "markdown",
   "metadata": {},
   "source": [
    "## Preprocessing"
   ]
  },
  {
   "cell_type": "markdown",
   "metadata": {},
   "source": [
    "#### Cleaning"
   ]
  },
  {
   "cell_type": "code",
   "execution_count": 10,
   "metadata": {},
   "outputs": [],
   "source": [
    "# For traceability\n",
    "df[\"original_index\"] = df.index\n",
    "test_df[\"original_index\"] = test_df.index"
   ]
  },
  {
   "cell_type": "code",
   "execution_count": 11,
   "metadata": {},
   "outputs": [
    {
     "name": "stdout",
     "output_type": "stream",
     "text": [
      "(27481, 5)\n",
      "(27480, 5)\n"
     ]
    }
   ],
   "source": [
    "print(df.shape)\n",
    "df = df[(~df.text.isna())]\n",
    "df = df.reset_index(drop=True)\n",
    "df = df.copy()\n",
    "print(df.shape)"
   ]
  },
  {
   "cell_type": "code",
   "execution_count": 12,
   "metadata": {},
   "outputs": [],
   "source": [
    "df[\"sentiment_code\"] = df[\"sentiment\"].astype(\"category\")\n",
    "X_sentiments = df[\"sentiment_code\"].cat.codes.values\n",
    "\n",
    "test_df[\"sentiment_code\"] = test_df[\"sentiment\"].astype(\"category\")\n",
    "X_sentiments_test = test_df[\"sentiment_code\"].cat.codes.values"
   ]
  },
  {
   "cell_type": "code",
   "execution_count": 13,
   "metadata": {},
   "outputs": [],
   "source": [
    "df[\"text\"] = df[\"text\"].astype(str)\n",
    "df[\"selected_text\"] = df[\"selected_text\"].astype(str)\n",
    "test_df[\"text\"] = test_df[\"text\"].astype(str)"
   ]
  },
  {
   "cell_type": "markdown",
   "metadata": {},
   "source": [
    "#### Tagging"
   ]
  },
  {
   "cell_type": "code",
   "execution_count": 14,
   "metadata": {},
   "outputs": [],
   "source": [
    "def preprocess_text(x, extra_string=None):\n",
    "    x = x.lower()\n",
    "    x = re.sub('([!\"#$%&()*+,-./:;\\'<=>?@[\\\\]^_{|}~\\t\\n])', ' \\\\1 ', x) # Not including ` here since used in couldn`t, isn`t\n",
    "    x = x.strip()\n",
    "    x = re.sub(' +', ' ', x)\n",
    "    x = x.split(\" \")\n",
    "    if extra_string is not None:\n",
    "        x = [\"xxxSTART\"] + x + [\"xxxSENTIMENT\"] + [extra_string] + [\"xxxEND\"]\n",
    "    return x"
   ]
  },
  {
   "cell_type": "code",
   "execution_count": 15,
   "metadata": {},
   "outputs": [],
   "source": [
    "def get_extremities(l_string, s_string, extra_string, print_it=False):\n",
    "    l_string = preprocess_text(l_string, extra_string)\n",
    "    s_string = preprocess_text(s_string, extra_string=None)\n",
    "    \n",
    "    len_l = len(l_string)\n",
    "    len_s = len(s_string)\n",
    "    \n",
    "    for i in range(len_l - len_s + 1):\n",
    "        if (i + len_s) <= len_l:\n",
    "            substring = l_string[i:i+len_s]\n",
    "            if substring == s_string:\n",
    "                if print_it:\n",
    "                    print(l_string)\n",
    "                    print(substring)\n",
    "                    print(i, i+len_s, substring)\n",
    "                \n",
    "                start_vector, end_vector = np.zeros(len_l, dtype=np.int16), np.zeros(len_l, dtype=np.int16)\n",
    "                att_vector = np.ones(len_l, dtype=np.int16)\n",
    "                start_vector[i], end_vector[i+len_s-1] = 1, 1\n",
    "                \n",
    "                return (l_string, s_string, start_vector, end_vector, att_vector)"
   ]
  },
  {
   "cell_type": "code",
   "execution_count": 16,
   "metadata": {},
   "outputs": [
    {
     "data": {
      "text/plain": [
       "(['xxxSTART',\n",
       "  '4am',\n",
       "  '.',\n",
       "  'and',\n",
       "  'im',\n",
       "  'on',\n",
       "  'the',\n",
       "  'beach',\n",
       "  '.',\n",
       "  'pretty',\n",
       "  'xxxSENTIMENT',\n",
       "  'positive',\n",
       "  'xxxEND'],\n",
       " ['pretty'],\n",
       " array([0, 0, 0, 0, 0, 0, 0, 0, 0, 1, 0, 0, 0], dtype=int16),\n",
       " array([0, 0, 0, 0, 0, 0, 0, 0, 0, 1, 0, 0, 0], dtype=int16),\n",
       " array([1, 1, 1, 1, 1, 1, 1, 1, 1, 1, 1, 1, 1], dtype=int16))"
      ]
     },
     "execution_count": 16,
     "metadata": {},
     "output_type": "execute_result"
    }
   ],
   "source": [
    "idx = 100\n",
    "get_extremities(df.text[idx], df.selected_text[idx], df.sentiment[idx], print_it=False)"
   ]
  },
  {
   "cell_type": "code",
   "execution_count": 17,
   "metadata": {},
   "outputs": [],
   "source": [
    "df[[\"text_mod\", \"selected_text_mod\", \"target_start\", \"target_stop\", \"target_atten\"]] = df.apply(lambda x: get_extremities(x.text, x.selected_text, x.sentiment), axis=1).apply(pd.Series)\n",
    "test_df[[\"text_mod\"]] = test_df.apply(lambda x: [preprocess_text(x.text, extra_string = x.sentiment)], axis=1).apply(pd.Series)"
   ]
  },
  {
   "cell_type": "code",
   "execution_count": 18,
   "metadata": {},
   "outputs": [
    {
     "data": {
      "text/plain": [
       "textID               0   \n",
       "text                 0   \n",
       "selected_text        0   \n",
       "sentiment            0   \n",
       "original_index       0   \n",
       "sentiment_code       0   \n",
       "text_mod             1476\n",
       "selected_text_mod    1476\n",
       "target_start         1476\n",
       "target_stop          1476\n",
       "target_atten         1476\n",
       "dtype: int64"
      ]
     },
     "execution_count": 18,
     "metadata": {},
     "output_type": "execute_result"
    }
   ],
   "source": [
    "df.isna().sum()"
   ]
  },
  {
   "cell_type": "code",
   "execution_count": 19,
   "metadata": {},
   "outputs": [
    {
     "data": {
      "text/plain": [
       "textID            0\n",
       "text              0\n",
       "sentiment         0\n",
       "original_index    0\n",
       "sentiment_code    0\n",
       "text_mod          0\n",
       "dtype: int64"
      ]
     },
     "execution_count": 19,
     "metadata": {},
     "output_type": "execute_result"
    }
   ],
   "source": [
    "test_df.isna().sum()"
   ]
  },
  {
   "cell_type": "code",
   "execution_count": 20,
   "metadata": {},
   "outputs": [
    {
     "data": {
      "text/html": [
       "<div>\n",
       "<style scoped>\n",
       "    .dataframe tbody tr th:only-of-type {\n",
       "        vertical-align: middle;\n",
       "    }\n",
       "\n",
       "    .dataframe tbody tr th {\n",
       "        vertical-align: top;\n",
       "    }\n",
       "\n",
       "    .dataframe thead th {\n",
       "        text-align: right;\n",
       "    }\n",
       "</style>\n",
       "<table border=\"1\" class=\"dataframe\">\n",
       "  <thead>\n",
       "    <tr style=\"text-align: right;\">\n",
       "      <th></th>\n",
       "      <th>textID</th>\n",
       "      <th>text</th>\n",
       "      <th>selected_text</th>\n",
       "      <th>sentiment</th>\n",
       "      <th>original_index</th>\n",
       "      <th>sentiment_code</th>\n",
       "      <th>text_mod</th>\n",
       "      <th>selected_text_mod</th>\n",
       "      <th>target_start</th>\n",
       "      <th>target_stop</th>\n",
       "      <th>target_atten</th>\n",
       "    </tr>\n",
       "  </thead>\n",
       "  <tbody>\n",
       "    <tr>\n",
       "      <th>0</th>\n",
       "      <td>cb774db0d1</td>\n",
       "      <td>I`d have responded, if I were going</td>\n",
       "      <td>I`d have responded, if I were going</td>\n",
       "      <td>neutral</td>\n",
       "      <td>0</td>\n",
       "      <td>neutral</td>\n",
       "      <td>[xxxSTART, i`d, have, responded, ,, if, i, were, going, xxxSENTIMENT, neutral, xxxEND]</td>\n",
       "      <td>[i`d, have, responded, ,, if, i, were, going]</td>\n",
       "      <td>[0, 1, 0, 0, 0, 0, 0, 0, 0, 0, 0, 0]</td>\n",
       "      <td>[0, 0, 0, 0, 0, 0, 0, 0, 1, 0, 0, 0]</td>\n",
       "      <td>[1, 1, 1, 1, 1, 1, 1, 1, 1, 1, 1, 1]</td>\n",
       "    </tr>\n",
       "    <tr>\n",
       "      <th>1</th>\n",
       "      <td>549e992a42</td>\n",
       "      <td>Sooo SAD I will miss you here in San Diego!!!</td>\n",
       "      <td>Sooo SAD</td>\n",
       "      <td>negative</td>\n",
       "      <td>1</td>\n",
       "      <td>negative</td>\n",
       "      <td>[xxxSTART, sooo, sad, i, will, miss, you, here, in, san, diego, !, !, !, xxxSENTIMENT, negative, xxxEND]</td>\n",
       "      <td>[sooo, sad]</td>\n",
       "      <td>[0, 1, 0, 0, 0, 0, 0, 0, 0, 0, 0, 0, 0, 0, 0, 0, 0]</td>\n",
       "      <td>[0, 0, 1, 0, 0, 0, 0, 0, 0, 0, 0, 0, 0, 0, 0, 0, 0]</td>\n",
       "      <td>[1, 1, 1, 1, 1, 1, 1, 1, 1, 1, 1, 1, 1, 1, 1, 1, 1]</td>\n",
       "    </tr>\n",
       "  </tbody>\n",
       "</table>\n",
       "</div>"
      ],
      "text/plain": [
       "       textID                                            text  \\\n",
       "0  cb774db0d1   I`d have responded, if I were going             \n",
       "1  549e992a42   Sooo SAD I will miss you here in San Diego!!!   \n",
       "\n",
       "                         selected_text sentiment  original_index  \\\n",
       "0  I`d have responded, if I were going  neutral   0                \n",
       "1  Sooo SAD                             negative  1                \n",
       "\n",
       "  sentiment_code  \\\n",
       "0  neutral         \n",
       "1  negative        \n",
       "\n",
       "                                                                                                   text_mod  \\\n",
       "0  [xxxSTART, i`d, have, responded, ,, if, i, were, going, xxxSENTIMENT, neutral, xxxEND]                     \n",
       "1  [xxxSTART, sooo, sad, i, will, miss, you, here, in, san, diego, !, !, !, xxxSENTIMENT, negative, xxxEND]   \n",
       "\n",
       "                               selected_text_mod  \\\n",
       "0  [i`d, have, responded, ,, if, i, were, going]   \n",
       "1  [sooo, sad]                                     \n",
       "\n",
       "                                          target_start  \\\n",
       "0  [0, 1, 0, 0, 0, 0, 0, 0, 0, 0, 0, 0]                  \n",
       "1  [0, 1, 0, 0, 0, 0, 0, 0, 0, 0, 0, 0, 0, 0, 0, 0, 0]   \n",
       "\n",
       "                                           target_stop  \\\n",
       "0  [0, 0, 0, 0, 0, 0, 0, 0, 1, 0, 0, 0]                  \n",
       "1  [0, 0, 1, 0, 0, 0, 0, 0, 0, 0, 0, 0, 0, 0, 0, 0, 0]   \n",
       "\n",
       "                                          target_atten  \n",
       "0  [1, 1, 1, 1, 1, 1, 1, 1, 1, 1, 1, 1]                 \n",
       "1  [1, 1, 1, 1, 1, 1, 1, 1, 1, 1, 1, 1, 1, 1, 1, 1, 1]  "
      ]
     },
     "execution_count": 20,
     "metadata": {},
     "output_type": "execute_result"
    }
   ],
   "source": [
    "df.head(2)"
   ]
  },
  {
   "cell_type": "code",
   "execution_count": 21,
   "metadata": {},
   "outputs": [
    {
     "data": {
      "text/html": [
       "<div>\n",
       "<style scoped>\n",
       "    .dataframe tbody tr th:only-of-type {\n",
       "        vertical-align: middle;\n",
       "    }\n",
       "\n",
       "    .dataframe tbody tr th {\n",
       "        vertical-align: top;\n",
       "    }\n",
       "\n",
       "    .dataframe thead th {\n",
       "        text-align: right;\n",
       "    }\n",
       "</style>\n",
       "<table border=\"1\" class=\"dataframe\">\n",
       "  <thead>\n",
       "    <tr style=\"text-align: right;\">\n",
       "      <th></th>\n",
       "      <th>textID</th>\n",
       "      <th>text</th>\n",
       "      <th>selected_text</th>\n",
       "      <th>sentiment</th>\n",
       "      <th>original_index</th>\n",
       "      <th>sentiment_code</th>\n",
       "      <th>text_mod</th>\n",
       "      <th>selected_text_mod</th>\n",
       "      <th>target_start</th>\n",
       "      <th>target_stop</th>\n",
       "      <th>target_atten</th>\n",
       "    </tr>\n",
       "  </thead>\n",
       "  <tbody>\n",
       "    <tr>\n",
       "      <th>18</th>\n",
       "      <td>af3fed7fc3</td>\n",
       "      <td>is back home now      gonna miss every one</td>\n",
       "      <td>onna</td>\n",
       "      <td>negative</td>\n",
       "      <td>18</td>\n",
       "      <td>negative</td>\n",
       "      <td>NaN</td>\n",
       "      <td>NaN</td>\n",
       "      <td>NaN</td>\n",
       "      <td>NaN</td>\n",
       "      <td>NaN</td>\n",
       "    </tr>\n",
       "    <tr>\n",
       "      <th>32</th>\n",
       "      <td>1c31703aef</td>\n",
       "      <td>If it is any consolation I got my BMI tested hahaha it says I am obesed  well so much for being unhappy for about 10 minutes.</td>\n",
       "      <td>well so much for being unhappy for about 10 minute</td>\n",
       "      <td>negative</td>\n",
       "      <td>32</td>\n",
       "      <td>negative</td>\n",
       "      <td>NaN</td>\n",
       "      <td>NaN</td>\n",
       "      <td>NaN</td>\n",
       "      <td>NaN</td>\n",
       "      <td>NaN</td>\n",
       "    </tr>\n",
       "  </tbody>\n",
       "</table>\n",
       "</div>"
      ],
      "text/plain": [
       "        textID  \\\n",
       "18  af3fed7fc3   \n",
       "32  1c31703aef   \n",
       "\n",
       "                                                                                                                              text  \\\n",
       "18  is back home now      gonna miss every one                                                                                       \n",
       "32   If it is any consolation I got my BMI tested hahaha it says I am obesed  well so much for being unhappy for about 10 minutes.   \n",
       "\n",
       "                                         selected_text sentiment  \\\n",
       "18  onna                                                negative   \n",
       "32  well so much for being unhappy for about 10 minute  negative   \n",
       "\n",
       "    original_index sentiment_code text_mod selected_text_mod target_start  \\\n",
       "18  18              negative       NaN      NaN               NaN           \n",
       "32  32              negative       NaN      NaN               NaN           \n",
       "\n",
       "   target_stop target_atten  \n",
       "18  NaN         NaN          \n",
       "32  NaN         NaN          "
      ]
     },
     "execution_count": 21,
     "metadata": {},
     "output_type": "execute_result"
    }
   ],
   "source": [
    "df.iloc[df.loc[df['target_start'].isna()].index].head(2)"
   ]
  },
  {
   "cell_type": "code",
   "execution_count": 22,
   "metadata": {},
   "outputs": [
    {
     "data": {
      "text/html": [
       "<div>\n",
       "<style scoped>\n",
       "    .dataframe tbody tr th:only-of-type {\n",
       "        vertical-align: middle;\n",
       "    }\n",
       "\n",
       "    .dataframe tbody tr th {\n",
       "        vertical-align: top;\n",
       "    }\n",
       "\n",
       "    .dataframe thead th {\n",
       "        text-align: right;\n",
       "    }\n",
       "</style>\n",
       "<table border=\"1\" class=\"dataframe\">\n",
       "  <thead>\n",
       "    <tr style=\"text-align: right;\">\n",
       "      <th></th>\n",
       "      <th>textID</th>\n",
       "      <th>text</th>\n",
       "      <th>sentiment</th>\n",
       "      <th>original_index</th>\n",
       "      <th>sentiment_code</th>\n",
       "      <th>text_mod</th>\n",
       "    </tr>\n",
       "  </thead>\n",
       "  <tbody>\n",
       "    <tr>\n",
       "      <th>0</th>\n",
       "      <td>f87dea47db</td>\n",
       "      <td>Last session of the day  http://twitpic.com/67ezh</td>\n",
       "      <td>neutral</td>\n",
       "      <td>0</td>\n",
       "      <td>neutral</td>\n",
       "      <td>[xxxSTART, last, session, of, the, day, http, :, /, /, twitpic, ., com, /, 67ezh, xxxSENTIMENT, neutral, xxxEND]</td>\n",
       "    </tr>\n",
       "    <tr>\n",
       "      <th>1</th>\n",
       "      <td>96d74cb729</td>\n",
       "      <td>Shanghai is also really exciting (precisely -- skyscrapers galore). Good tweeps in China:  (SH)  (BJ).</td>\n",
       "      <td>positive</td>\n",
       "      <td>1</td>\n",
       "      <td>positive</td>\n",
       "      <td>[xxxSTART, shanghai, is, also, really, exciting, (, precisely, -, -, skyscrapers, galore, ), ., good, tweeps, in, china, :, (, sh, ), (, bj, ), ., xxxSENTIMENT, positive, xxxEND]</td>\n",
       "    </tr>\n",
       "  </tbody>\n",
       "</table>\n",
       "</div>"
      ],
      "text/plain": [
       "       textID  \\\n",
       "0  f87dea47db   \n",
       "1  96d74cb729   \n",
       "\n",
       "                                                                                                      text  \\\n",
       "0  Last session of the day  http://twitpic.com/67ezh                                                         \n",
       "1   Shanghai is also really exciting (precisely -- skyscrapers galore). Good tweeps in China:  (SH)  (BJ).   \n",
       "\n",
       "  sentiment  original_index sentiment_code  \\\n",
       "0  neutral   0               neutral         \n",
       "1  positive  1               positive        \n",
       "\n",
       "                                                                                                                                                                             text_mod  \n",
       "0  [xxxSTART, last, session, of, the, day, http, :, /, /, twitpic, ., com, /, 67ezh, xxxSENTIMENT, neutral, xxxEND]                                                                    \n",
       "1  [xxxSTART, shanghai, is, also, really, exciting, (, precisely, -, -, skyscrapers, galore, ), ., good, tweeps, in, china, :, (, sh, ), (, bj, ), ., xxxSENTIMENT, positive, xxxEND]  "
      ]
     },
     "execution_count": 22,
     "metadata": {},
     "output_type": "execute_result"
    }
   ],
   "source": [
    "test_df.head(2)"
   ]
  },
  {
   "cell_type": "code",
   "execution_count": 23,
   "metadata": {},
   "outputs": [],
   "source": [
    "anomalous_idxs = df.loc[df['target_start'].isna()].index.tolist()"
   ]
  },
  {
   "cell_type": "code",
   "execution_count": 24,
   "metadata": {},
   "outputs": [
    {
     "name": "stdout",
     "output_type": "stream",
     "text": [
      "(27480, 11)\n",
      "(26004, 11)\n"
     ]
    }
   ],
   "source": [
    "print(df.shape)\n",
    "df = df[~df.index.isin(anomalous_idxs)]\n",
    "df = df.reset_index(drop=True)\n",
    "df = df.copy()\n",
    "print(df.shape)"
   ]
  },
  {
   "cell_type": "markdown",
   "metadata": {},
   "source": [
    "#### Tokenization"
   ]
  },
  {
   "cell_type": "code",
   "execution_count": 25,
   "metadata": {},
   "outputs": [
    {
     "name": "stdout",
     "output_type": "stream",
     "text": [
      "\n",
      " X_words: \t 26004 \n",
      " X_att: \t 26004 \n",
      " Y_words: \t 26004 \n",
      " Y_starts: \t 26004 \n",
      " Y_stops: \t 26004 \n",
      " X_words_test: \t 3534 \n",
      " X_att_test: \t 3534 \n",
      "\n"
     ]
    }
   ],
   "source": [
    "X_words = df['text_mod'].apply(lambda x:list(x)).tolist()\n",
    "X_att = df['target_atten'].apply(lambda x:list(x)).tolist()\n",
    "\n",
    "X_words_test = test_df['text_mod'].apply(lambda x:list(x)).tolist()\n",
    "X_att_test = [[1 for j in i] for i in X_words_test]\n",
    "\n",
    "Y_words = df['selected_text_mod'].apply(lambda x:list(x)).tolist()\n",
    "Y_starts = df['target_start'].apply(lambda x:list(x)).tolist()\n",
    "Y_stops = df['target_stop'].apply(lambda x:list(x)).tolist()\n",
    "\n",
    "print(\"\\n\",\n",
    "    \"X_words:\",\"\\t\", len(X_words),\"\\n\",\n",
    "    \"X_att:\",\"\\t\", len(X_att),\"\\n\",\n",
    "    \"Y_words:\",\"\\t\", len(Y_words),\"\\n\",\n",
    "    \"Y_starts:\",\"\\t\", len(Y_starts),\"\\n\",\n",
    "    \"Y_stops:\",\"\\t\", len(Y_stops),\"\\n\",\n",
    "    \"X_words_test:\",\"\\t\", len(X_words_test),\"\\n\",\n",
    "    \"X_att_test:\",\"\\t\", len(X_att_test),\"\\n\"\n",
    ")"
   ]
  },
  {
   "cell_type": "code",
   "execution_count": 26,
   "metadata": {},
   "outputs": [
    {
     "name": "stdout",
     "output_type": "stream",
     "text": [
      "3534\n",
      "26004\n"
     ]
    }
   ],
   "source": [
    "print(sum([len(i)==len(j) for i,j in zip(X_att_test, X_words_test)]))\n",
    "print(sum([len(i)==len(j) for i,j in zip(X_att, X_words)]))"
   ]
  },
  {
   "cell_type": "code",
   "execution_count": 27,
   "metadata": {},
   "outputs": [
    {
     "data": {
      "text/plain": [
       "[('.', 33619),\n",
       " ('xxxSTART', 26004),\n",
       " ('xxxSENTIMENT', 26004),\n",
       " ('xxxEND', 26004),\n",
       " ('!', 14379),\n",
       " ('i', 12615),\n",
       " ('neutral', 10941),\n",
       " ('to', 9447),\n",
       " ('the', 8445),\n",
       " (',', 7984)]"
      ]
     },
     "execution_count": 27,
     "metadata": {},
     "output_type": "execute_result"
    }
   ],
   "source": [
    "from collections import Counter\n",
    "word_counts = Counter([j for i in X_words for j in i])\n",
    "\n",
    "X_unique_tokens = len(word_counts)\n",
    "word_counts.most_common(10)"
   ]
  },
  {
   "cell_type": "code",
   "execution_count": 28,
   "metadata": {},
   "outputs": [],
   "source": [
    "MIN_WORD_FREQ = 2"
   ]
  },
  {
   "cell_type": "code",
   "execution_count": 29,
   "metadata": {},
   "outputs": [
    {
     "name": "stdout",
     "output_type": "stream",
     "text": [
      "VOCAB reduced from 25847 to 10178\n"
     ]
    }
   ],
   "source": [
    "word_subset = [i for i,j in word_counts.items() if j >= MIN_WORD_FREQ]\n",
    "print(\"VOCAB reduced from\", len(word_counts), \"to\", len(word_subset))"
   ]
  },
  {
   "cell_type": "code",
   "execution_count": 30,
   "metadata": {},
   "outputs": [],
   "source": [
    "#list_of_words = set(sorted([j for i in X_words for j in i]))\n",
    "#Y_list_of_words = set(sorted([j for i in Y_words for j in i]))"
   ]
  },
  {
   "cell_type": "code",
   "execution_count": 31,
   "metadata": {},
   "outputs": [],
   "source": [
    "vocab_itos = {i+2:j for i,j in enumerate(word_subset)}\n",
    "vocab_stoi = {j:i+2 for i,j in enumerate(word_subset)}\n",
    "\n",
    "vocab_stoi[\"xxxUNK\"] = 1\n",
    "vocab_itos[1] = \"xxxUNK\"\n",
    "\n",
    "vocab_stoi[\"xxxNone\"] = 0\n",
    "vocab_itos[0] = \"xxxNone\""
   ]
  },
  {
   "cell_type": "code",
   "execution_count": 32,
   "metadata": {},
   "outputs": [],
   "source": [
    "def get_from_vocab(vocab, word):\n",
    "    try:\n",
    "        value = vocab[word]\n",
    "    except KeyError as k:\n",
    "        value = vocab_stoi[\"xxxUNK\"]\n",
    "    return value"
   ]
  },
  {
   "cell_type": "code",
   "execution_count": 33,
   "metadata": {},
   "outputs": [],
   "source": [
    "X = [[get_from_vocab(vocab_stoi,j) for j in i] for i in X_words]\n",
    "Y = [[get_from_vocab(vocab_stoi,j) for j in i] for i in Y_words]\n",
    "X_test = [[get_from_vocab(vocab_stoi,j) for j in i] for i in X_words_test]"
   ]
  },
  {
   "cell_type": "code",
   "execution_count": 34,
   "metadata": {},
   "outputs": [
    {
     "name": "stdout",
     "output_type": "stream",
     "text": [
      "10180 110\n"
     ]
    }
   ],
   "source": [
    "max_len = max([len(i) for i in X])\n",
    "VOCAB_SIZE = len(vocab_stoi)\n",
    "print(VOCAB_SIZE, max_len)"
   ]
  },
  {
   "cell_type": "markdown",
   "metadata": {},
   "source": [
    "#### Train Validation  split"
   ]
  },
  {
   "cell_type": "code",
   "execution_count": 35,
   "metadata": {},
   "outputs": [
    {
     "name": "stdout",
     "output_type": "stream",
     "text": [
      "26004 20803 5201 26004\n"
     ]
    }
   ],
   "source": [
    "idx = [i for i in np.arange(len(Y))]\n",
    "np.random.shuffle(idx)\n",
    "train_idx, val_idx = idx[:round(TRAIN_SPLIT_RATIO*len(Y))], idx[round(TRAIN_SPLIT_RATIO * len(Y)):]\n",
    "\n",
    "print(len(idx), len(train_idx), len(val_idx), len(train_idx) + len(val_idx))"
   ]
  },
  {
   "cell_type": "code",
   "execution_count": 36,
   "metadata": {},
   "outputs": [
    {
     "name": "stdout",
     "output_type": "stream",
     "text": [
      "\n",
      " 20803 \t : X_train \n",
      " 20803 \t : X_att_train \n",
      " 20803 \t : Y_train \n",
      " 20803 \t : Y_starts_train \n",
      " 20803 \t : Y_stops_train \n",
      " 5201 \t : X_val \n",
      " 5201 \t : X_att_val \n",
      " 5201 \t : Y_val \n",
      " 5201 \t : Y_starts_val \n",
      " 5201 \t : Y_stops_val \n",
      "\n"
     ]
    }
   ],
   "source": [
    "X_train, X_val = [X[i] for i in train_idx], [X[i] for i in val_idx]\n",
    "X_att_train, X_att_val = [X_att[i] for i in train_idx], [X_att[i] for i in val_idx]\n",
    "\n",
    "Y_train, Y_val = [Y[i] for i in train_idx], [Y[i] for i in val_idx]\n",
    "Y_starts_train, Y_starts_val = [Y_starts[i] for i in train_idx], [Y_starts[i] for i in val_idx]\n",
    "Y_stops_train, Y_stops_val = [Y_stops[i] for i in train_idx], [Y_stops[i] for i in val_idx]\n",
    "\n",
    "print(\"\\n\",\n",
    "    len(X_train),\"\\t\",\": X_train\",\"\\n\",\n",
    "    len(X_att_train),\"\\t\",\": X_att_train\",\"\\n\",\n",
    "    len(Y_train),\"\\t\",\": Y_train\",\"\\n\",\n",
    "    len(Y_starts_train),\"\\t\",\": Y_starts_train\",\"\\n\",\n",
    "    len(Y_stops_train),\"\\t\",\": Y_stops_train\",\"\\n\",\n",
    "    len(X_val),\"\\t\",\": X_val\",\"\\n\",\n",
    "    len(X_att_val),\"\\t\",\": X_att_val\",\"\\n\",\n",
    "    len(Y_val),\"\\t\",\": Y_val\",\"\\n\",\n",
    "    len(Y_starts_val),\"\\t\",\": Y_starts_val\",\"\\n\",\n",
    "    len(Y_stops_val),\"\\t\",\": Y_stops_val\",\"\\n\"\n",
    ")"
   ]
  },
  {
   "cell_type": "markdown",
   "metadata": {},
   "source": [
    "#### Padding"
   ]
  },
  {
   "cell_type": "code",
   "execution_count": 37,
   "metadata": {},
   "outputs": [],
   "source": [
    "from tensorflow.keras.preprocessing.sequence import pad_sequences"
   ]
  },
  {
   "cell_type": "code",
   "execution_count": 38,
   "metadata": {},
   "outputs": [],
   "source": [
    "X_train = pad_sequences(X_train, maxlen=max_len, padding=\"post\")\n",
    "X_att_train = pad_sequences(X_att_train, maxlen=max_len, padding=\"post\")\n",
    "Y_train = pad_sequences(Y_train, maxlen=max_len, padding=\"post\")\n",
    "Y_starts_train = pad_sequences(Y_starts_train, maxlen=max_len, padding=\"post\")\n",
    "Y_stops_train = pad_sequences(Y_stops_train, maxlen=max_len, padding=\"post\")\n",
    "\n",
    "X_val = pad_sequences(X_val, maxlen=max_len, padding=\"post\")\n",
    "X_att_val = pad_sequences(X_att_val, maxlen=max_len, padding=\"post\")\n",
    "Y_val = pad_sequences(Y_val, maxlen=max_len, padding=\"post\")\n",
    "Y_starts_val = pad_sequences(Y_starts_val, maxlen=max_len, padding=\"post\")\n",
    "Y_stops_val = pad_sequences(Y_stops_val, maxlen=max_len, padding=\"post\")\n",
    "\n",
    "X_test = pad_sequences(X_test, maxlen=max_len, padding=\"post\")\n",
    "X_att_test = pad_sequences(X_att_test, maxlen=max_len, padding=\"post\")"
   ]
  },
  {
   "cell_type": "code",
   "execution_count": 113,
   "metadata": {},
   "outputs": [
    {
     "name": "stdout",
     "output_type": "stream",
     "text": [
      "\n",
      " (20803, 110) \t: X_train  \n",
      " (20803, 110) \t: X_att_train  \n",
      " (20803, 110) \t: Y_train  \n",
      " (20803, 110) \t: Y_starts_train  \n",
      " (20803, 110) \t: Y_stops_train  \n",
      " (5201, 110) \t: X_val  \n",
      " (5201, 110) \t: X_att_val  \n",
      " (5201, 110) \t: Y_val  \n",
      " (5201, 110) \t: Y_starts_val  \n",
      " (5201, 110) \t: Y_stops_val  \n",
      " (3534, 110) \t: X_test  \n",
      " (3534, 110) \t: X_att_test  \n",
      "\n"
     ]
    }
   ],
   "source": [
    "print(\"\\n\",\n",
    "     X_train.shape, \"\\t: X_train \", \"\\n\",\n",
    "     X_att_train.shape, \"\\t: X_att_train \", \"\\n\",\n",
    "     Y_train.shape, \"\\t: Y_train \", \"\\n\",\n",
    "     Y_starts_train.shape, \"\\t: Y_starts_train \", \"\\n\",\n",
    "     Y_stops_train.shape, \"\\t: Y_stops_train \", \"\\n\",\n",
    "\n",
    "     X_val.shape, \"\\t: X_val \", \"\\n\",\n",
    "     X_att_val.shape, \"\\t: X_att_val \", \"\\n\",\n",
    "     Y_val.shape, \"\\t: Y_val \", \"\\n\",\n",
    "     Y_starts_val.shape, \"\\t: Y_starts_val \", \"\\n\",\n",
    "     Y_stops_val.shape, \"\\t: Y_stops_val \", \"\\n\",\n",
    "\n",
    "     X_test.shape, \"\\t: X_test \", \"\\n\",\n",
    "     X_att_test.shape, \"\\t: X_att_test \", \"\\n\"\n",
    ")"
   ]
  },
  {
   "cell_type": "markdown",
   "metadata": {},
   "source": [
    "#### Checking for zero input vectors"
   ]
  },
  {
   "cell_type": "code",
   "execution_count": 40,
   "metadata": {},
   "outputs": [
    {
     "name": "stdout",
     "output_type": "stream",
     "text": [
      "0 36\n",
      "0 36\n"
     ]
    }
   ],
   "source": [
    "print(np.argmax([X_train.sum(axis=1)==0]), np.min([X_train.sum(axis=1)]))\n",
    "print(np.argmax([X_val.sum(axis=1)==0]), np.min([X_val.sum(axis=1)]))"
   ]
  },
  {
   "cell_type": "markdown",
   "metadata": {},
   "source": [
    "#### Check inputs and outputs"
   ]
  },
  {
   "cell_type": "code",
   "execution_count": 41,
   "metadata": {},
   "outputs": [
    {
     "data": {
      "text/plain": [
       "[[2, 1, 1662, 0, 0],\n",
       " [87, 1, 648, 0, 0],\n",
       " [17, 1, 2533, 0, 0],\n",
       " [2174, 1, 7, 0, 0],\n",
       " [669, 1, 1685, 0, 0],\n",
       " [84, 1, 278, 0, 0],\n",
       " [1662, 1, 17, 1, 0],\n",
       " [648, 1, 229, 0, 0],\n",
       " [2533, 1, 4625, 0, 0],\n",
       " [7, 1, 116, 0, 0],\n",
       " [1685, 1, 44, 0, 0],\n",
       " [278, 1, 406, 0, 0],\n",
       " [17, 1, 8227, 0, 0],\n",
       " [229, 1, 0, 0, 0],\n",
       " [4625, 1, 0, 0, 0],\n",
       " [116, 1, 0, 0, 0],\n",
       " [44, 1, 0, 0, 0],\n",
       " [406, 1, 0, 0, 0],\n",
       " [8227, 1, 0, 0, 1],\n",
       " [7492, 1, 0, 0, 0],\n",
       " [10, 1, 0, 0, 0],\n",
       " [11, 1, 0, 0, 0],\n",
       " [12, 1, 0, 0, 0],\n",
       " [0, 0, 0, 0, 0],\n",
       " [0, 0, 0, 0, 0],\n",
       " [0, 0, 0, 0, 0],\n",
       " [0, 0, 0, 0, 0],\n",
       " [0, 0, 0, 0, 0],\n",
       " [0, 0, 0, 0, 0],\n",
       " [0, 0, 0, 0, 0],\n",
       " [0, 0, 0, 0, 0],\n",
       " [0, 0, 0, 0, 0],\n",
       " [0, 0, 0, 0, 0],\n",
       " [0, 0, 0, 0, 0],\n",
       " [0, 0, 0, 0, 0],\n",
       " [0, 0, 0, 0, 0],\n",
       " [0, 0, 0, 0, 0],\n",
       " [0, 0, 0, 0, 0],\n",
       " [0, 0, 0, 0, 0],\n",
       " [0, 0, 0, 0, 0],\n",
       " [0, 0, 0, 0, 0],\n",
       " [0, 0, 0, 0, 0],\n",
       " [0, 0, 0, 0, 0],\n",
       " [0, 0, 0, 0, 0],\n",
       " [0, 0, 0, 0, 0],\n",
       " [0, 0, 0, 0, 0],\n",
       " [0, 0, 0, 0, 0],\n",
       " [0, 0, 0, 0, 0],\n",
       " [0, 0, 0, 0, 0],\n",
       " [0, 0, 0, 0, 0],\n",
       " [0, 0, 0, 0, 0],\n",
       " [0, 0, 0, 0, 0],\n",
       " [0, 0, 0, 0, 0],\n",
       " [0, 0, 0, 0, 0],\n",
       " [0, 0, 0, 0, 0],\n",
       " [0, 0, 0, 0, 0],\n",
       " [0, 0, 0, 0, 0],\n",
       " [0, 0, 0, 0, 0],\n",
       " [0, 0, 0, 0, 0],\n",
       " [0, 0, 0, 0, 0],\n",
       " [0, 0, 0, 0, 0],\n",
       " [0, 0, 0, 0, 0],\n",
       " [0, 0, 0, 0, 0],\n",
       " [0, 0, 0, 0, 0],\n",
       " [0, 0, 0, 0, 0],\n",
       " [0, 0, 0, 0, 0],\n",
       " [0, 0, 0, 0, 0],\n",
       " [0, 0, 0, 0, 0],\n",
       " [0, 0, 0, 0, 0],\n",
       " [0, 0, 0, 0, 0],\n",
       " [0, 0, 0, 0, 0],\n",
       " [0, 0, 0, 0, 0],\n",
       " [0, 0, 0, 0, 0],\n",
       " [0, 0, 0, 0, 0],\n",
       " [0, 0, 0, 0, 0],\n",
       " [0, 0, 0, 0, 0],\n",
       " [0, 0, 0, 0, 0],\n",
       " [0, 0, 0, 0, 0],\n",
       " [0, 0, 0, 0, 0],\n",
       " [0, 0, 0, 0, 0],\n",
       " [0, 0, 0, 0, 0],\n",
       " [0, 0, 0, 0, 0],\n",
       " [0, 0, 0, 0, 0],\n",
       " [0, 0, 0, 0, 0],\n",
       " [0, 0, 0, 0, 0],\n",
       " [0, 0, 0, 0, 0],\n",
       " [0, 0, 0, 0, 0],\n",
       " [0, 0, 0, 0, 0],\n",
       " [0, 0, 0, 0, 0],\n",
       " [0, 0, 0, 0, 0],\n",
       " [0, 0, 0, 0, 0],\n",
       " [0, 0, 0, 0, 0],\n",
       " [0, 0, 0, 0, 0],\n",
       " [0, 0, 0, 0, 0],\n",
       " [0, 0, 0, 0, 0],\n",
       " [0, 0, 0, 0, 0],\n",
       " [0, 0, 0, 0, 0],\n",
       " [0, 0, 0, 0, 0],\n",
       " [0, 0, 0, 0, 0],\n",
       " [0, 0, 0, 0, 0],\n",
       " [0, 0, 0, 0, 0],\n",
       " [0, 0, 0, 0, 0],\n",
       " [0, 0, 0, 0, 0],\n",
       " [0, 0, 0, 0, 0],\n",
       " [0, 0, 0, 0, 0],\n",
       " [0, 0, 0, 0, 0],\n",
       " [0, 0, 0, 0, 0],\n",
       " [0, 0, 0, 0, 0],\n",
       " [0, 0, 0, 0, 0],\n",
       " [0, 0, 0, 0, 0]]"
      ]
     },
     "execution_count": 41,
     "metadata": {},
     "output_type": "execute_result"
    }
   ],
   "source": [
    "#Train\n",
    "num = 100\n",
    "[[i,j,k,l,m] for i,j,k,l,m in zip(X_train[num],\n",
    "                                  X_att_train[num],\n",
    "                                  Y_train[num],\n",
    "                                  Y_starts_train[num],\n",
    "                                  Y_stops_train[num])]"
   ]
  },
  {
   "cell_type": "code",
   "execution_count": 42,
   "metadata": {},
   "outputs": [
    {
     "data": {
      "text/plain": [
       "[[2, 1, 9890, 0, 0],\n",
       " [9890, 1, 8753, 1, 0],\n",
       " [8753, 1, 55, 0, 0],\n",
       " [55, 1, 4465, 0, 0],\n",
       " [4465, 1, 305, 0, 0],\n",
       " [305, 1, 1, 0, 0],\n",
       " [1, 1, 28, 0, 0],\n",
       " [28, 1, 0, 0, 1],\n",
       " [47, 1, 0, 0, 0],\n",
       " [48, 1, 0, 0, 0],\n",
       " [49, 1, 0, 0, 0],\n",
       " [49, 1, 0, 0, 0],\n",
       " [50, 1, 0, 0, 0],\n",
       " [28, 1, 0, 0, 0],\n",
       " [1, 1, 0, 0, 0],\n",
       " [28, 1, 0, 0, 0],\n",
       " [51, 1, 0, 0, 0],\n",
       " [49, 1, 0, 0, 0],\n",
       " [1, 1, 0, 0, 0],\n",
       " [49, 1, 0, 0, 0],\n",
       " [9890, 1, 0, 0, 0],\n",
       " [28, 1, 0, 0, 0],\n",
       " [7327, 1, 0, 0, 0],\n",
       " [10, 1, 0, 0, 0],\n",
       " [11, 1, 0, 0, 0],\n",
       " [12, 1, 0, 0, 0],\n",
       " [0, 0, 0, 0, 0],\n",
       " [0, 0, 0, 0, 0],\n",
       " [0, 0, 0, 0, 0],\n",
       " [0, 0, 0, 0, 0],\n",
       " [0, 0, 0, 0, 0],\n",
       " [0, 0, 0, 0, 0],\n",
       " [0, 0, 0, 0, 0],\n",
       " [0, 0, 0, 0, 0],\n",
       " [0, 0, 0, 0, 0],\n",
       " [0, 0, 0, 0, 0],\n",
       " [0, 0, 0, 0, 0],\n",
       " [0, 0, 0, 0, 0],\n",
       " [0, 0, 0, 0, 0],\n",
       " [0, 0, 0, 0, 0],\n",
       " [0, 0, 0, 0, 0],\n",
       " [0, 0, 0, 0, 0],\n",
       " [0, 0, 0, 0, 0],\n",
       " [0, 0, 0, 0, 0],\n",
       " [0, 0, 0, 0, 0],\n",
       " [0, 0, 0, 0, 0],\n",
       " [0, 0, 0, 0, 0],\n",
       " [0, 0, 0, 0, 0],\n",
       " [0, 0, 0, 0, 0],\n",
       " [0, 0, 0, 0, 0],\n",
       " [0, 0, 0, 0, 0],\n",
       " [0, 0, 0, 0, 0],\n",
       " [0, 0, 0, 0, 0],\n",
       " [0, 0, 0, 0, 0],\n",
       " [0, 0, 0, 0, 0],\n",
       " [0, 0, 0, 0, 0],\n",
       " [0, 0, 0, 0, 0],\n",
       " [0, 0, 0, 0, 0],\n",
       " [0, 0, 0, 0, 0],\n",
       " [0, 0, 0, 0, 0],\n",
       " [0, 0, 0, 0, 0],\n",
       " [0, 0, 0, 0, 0],\n",
       " [0, 0, 0, 0, 0],\n",
       " [0, 0, 0, 0, 0],\n",
       " [0, 0, 0, 0, 0],\n",
       " [0, 0, 0, 0, 0],\n",
       " [0, 0, 0, 0, 0],\n",
       " [0, 0, 0, 0, 0],\n",
       " [0, 0, 0, 0, 0],\n",
       " [0, 0, 0, 0, 0],\n",
       " [0, 0, 0, 0, 0],\n",
       " [0, 0, 0, 0, 0],\n",
       " [0, 0, 0, 0, 0],\n",
       " [0, 0, 0, 0, 0],\n",
       " [0, 0, 0, 0, 0],\n",
       " [0, 0, 0, 0, 0],\n",
       " [0, 0, 0, 0, 0],\n",
       " [0, 0, 0, 0, 0],\n",
       " [0, 0, 0, 0, 0],\n",
       " [0, 0, 0, 0, 0],\n",
       " [0, 0, 0, 0, 0],\n",
       " [0, 0, 0, 0, 0],\n",
       " [0, 0, 0, 0, 0],\n",
       " [0, 0, 0, 0, 0],\n",
       " [0, 0, 0, 0, 0],\n",
       " [0, 0, 0, 0, 0],\n",
       " [0, 0, 0, 0, 0],\n",
       " [0, 0, 0, 0, 0],\n",
       " [0, 0, 0, 0, 0],\n",
       " [0, 0, 0, 0, 0],\n",
       " [0, 0, 0, 0, 0],\n",
       " [0, 0, 0, 0, 0],\n",
       " [0, 0, 0, 0, 0],\n",
       " [0, 0, 0, 0, 0],\n",
       " [0, 0, 0, 0, 0],\n",
       " [0, 0, 0, 0, 0],\n",
       " [0, 0, 0, 0, 0],\n",
       " [0, 0, 0, 0, 0],\n",
       " [0, 0, 0, 0, 0],\n",
       " [0, 0, 0, 0, 0],\n",
       " [0, 0, 0, 0, 0],\n",
       " [0, 0, 0, 0, 0],\n",
       " [0, 0, 0, 0, 0],\n",
       " [0, 0, 0, 0, 0],\n",
       " [0, 0, 0, 0, 0],\n",
       " [0, 0, 0, 0, 0],\n",
       " [0, 0, 0, 0, 0],\n",
       " [0, 0, 0, 0, 0],\n",
       " [0, 0, 0, 0, 0],\n",
       " [0, 0, 0, 0, 0]]"
      ]
     },
     "execution_count": 42,
     "metadata": {},
     "output_type": "execute_result"
    }
   ],
   "source": [
    "#Val\n",
    "num = 100\n",
    "[[i,j,k,l,m] for i,j,k,l,m in zip(X_val[num],\n",
    "                                  X_att_val[num],\n",
    "                                  Y_val[num],\n",
    "                                  Y_starts_val[num],\n",
    "                                  Y_stops_val[num])]"
   ]
  },
  {
   "cell_type": "code",
   "execution_count": 43,
   "metadata": {
    "scrolled": true
   },
   "outputs": [
    {
     "data": {
      "text/plain": [
       "[['xxxSTART', 2, 1],\n",
       " ['oooh', 3482, 1],\n",
       " [',', 5, 1],\n",
       " ['sunshine', 1726, 1],\n",
       " ['!', 22, 1],\n",
       " ['a', 142, 1],\n",
       " ['patch', 905, 1],\n",
       " ['of', 34, 1],\n",
       " ['sunshine', 1726, 1],\n",
       " ['!', 22, 1],\n",
       " ['and', 68, 1],\n",
       " ['it', 144, 1],\n",
       " ['will', 15, 1],\n",
       " ['be', 89, 1],\n",
       " ['gone', 544, 1],\n",
       " ['by', 106, 1],\n",
       " ['the', 42, 1],\n",
       " ['time', 504, 1],\n",
       " ['i', 7, 1],\n",
       " ['leave', 31, 1],\n",
       " ['work', 342, 1],\n",
       " ['and', 68, 1],\n",
       " ['replaced', 1, 1],\n",
       " ['with', 278, 1],\n",
       " ['rain', 1901, 1],\n",
       " ['.', 28, 1],\n",
       " ['/', 49, 1],\n",
       " ['vent', 9146, 1],\n",
       " ['xxxSENTIMENT', 10, 1],\n",
       " ['neutral', 11, 1],\n",
       " ['xxxEND', 12, 1]]"
      ]
     },
     "execution_count": 43,
     "metadata": {},
     "output_type": "execute_result"
    }
   ],
   "source": [
    "#Test\n",
    "num = 100\n",
    "[[i,j,k] for i,j,k in zip(X_words_test[num],\n",
    "                          X_test[num],\n",
    "                          X_att_test[num])]"
   ]
  },
  {
   "cell_type": "markdown",
   "metadata": {},
   "source": [
    "## Model"
   ]
  },
  {
   "cell_type": "code",
   "execution_count": 44,
   "metadata": {
    "scrolled": true
   },
   "outputs": [],
   "source": [
    "input_att_flags = Input((max_len), name=\"att_flags\")\n",
    "input_sequences = Input((max_len), name=\"words\")\n",
    "\n",
    "emb_sequences = Embedding(input_dim=VOCAB_SIZE, input_length=max_len, output_dim=32, mask_zero=True)(input_sequences)\n",
    "\n",
    "seq = Bidirectional(LSTM(16, activation='relu', return_sequences=True))(emb_sequences)\n",
    "seq = BatchNormalization()(seq)\n",
    "seq = Dropout(DROPOUT)(seq)\n",
    "\n",
    "seq = Bidirectional(LSTM(16, activation='relu', return_sequences=False))(seq)\n",
    "seq = BatchNormalization()(seq)\n",
    "seq = Dropout(DROPOUT)(seq)\n",
    "\n",
    "seq = Dense(max_len, activation=\"relu\")(seq)\n",
    "seq = BatchNormalization()(seq)\n",
    "seq = Dropout(DROPOUT)(seq)\n",
    "\n",
    "att = Dense(max_len, activation=\"relu\")(input_att_flags)\n",
    "att = BatchNormalization()(att)\n",
    "att = Dropout(DROPOUT)(att)\n",
    "\n",
    "seq = Multiply()([att, seq])\n",
    "\n",
    "output_starts = Dense(max_len, activation='softmax', name=\"starts\")(seq)\n",
    "output_stops = Dense(max_len, activation='softmax', name=\"stops\")(seq)"
   ]
  },
  {
   "cell_type": "code",
   "execution_count": 45,
   "metadata": {
    "scrolled": true
   },
   "outputs": [
    {
     "name": "stdout",
     "output_type": "stream",
     "text": [
      "Model: \"model\"\n",
      "__________________________________________________________________________________________________\n",
      "Layer (type)                    Output Shape         Param #     Connected to                     \n",
      "==================================================================================================\n",
      "words (InputLayer)              [(None, 110)]        0                                            \n",
      "__________________________________________________________________________________________________\n",
      "embedding (Embedding)           (None, 110, 32)      325760      words[0][0]                      \n",
      "__________________________________________________________________________________________________\n",
      "bidirectional (Bidirectional)   (None, 110, 32)      6272        embedding[0][0]                  \n",
      "__________________________________________________________________________________________________\n",
      "batch_normalization (BatchNorma (None, 110, 32)      128         bidirectional[0][0]              \n",
      "__________________________________________________________________________________________________\n",
      "dropout (Dropout)               (None, 110, 32)      0           batch_normalization[0][0]        \n",
      "__________________________________________________________________________________________________\n",
      "bidirectional_1 (Bidirectional) (None, 32)           6272        dropout[0][0]                    \n",
      "__________________________________________________________________________________________________\n",
      "batch_normalization_1 (BatchNor (None, 32)           128         bidirectional_1[0][0]            \n",
      "__________________________________________________________________________________________________\n",
      "att_flags (InputLayer)          [(None, 110)]        0                                            \n",
      "__________________________________________________________________________________________________\n",
      "dropout_1 (Dropout)             (None, 32)           0           batch_normalization_1[0][0]      \n",
      "__________________________________________________________________________________________________\n",
      "dense_1 (Dense)                 (None, 110)          12210       att_flags[0][0]                  \n",
      "__________________________________________________________________________________________________\n",
      "dense (Dense)                   (None, 110)          3630        dropout_1[0][0]                  \n",
      "__________________________________________________________________________________________________\n",
      "batch_normalization_3 (BatchNor (None, 110)          440         dense_1[0][0]                    \n",
      "__________________________________________________________________________________________________\n",
      "batch_normalization_2 (BatchNor (None, 110)          440         dense[0][0]                      \n",
      "__________________________________________________________________________________________________\n",
      "dropout_3 (Dropout)             (None, 110)          0           batch_normalization_3[0][0]      \n",
      "__________________________________________________________________________________________________\n",
      "dropout_2 (Dropout)             (None, 110)          0           batch_normalization_2[0][0]      \n",
      "__________________________________________________________________________________________________\n",
      "multiply (Multiply)             (None, 110)          0           dropout_3[0][0]                  \n",
      "                                                                 dropout_2[0][0]                  \n",
      "__________________________________________________________________________________________________\n",
      "starts (Dense)                  (None, 110)          12210       multiply[0][0]                   \n",
      "__________________________________________________________________________________________________\n",
      "stops (Dense)                   (None, 110)          12210       multiply[0][0]                   \n",
      "==================================================================================================\n",
      "Total params: 379,700\n",
      "Trainable params: 379,132\n",
      "Non-trainable params: 568\n",
      "__________________________________________________________________________________________________\n"
     ]
    }
   ],
   "source": [
    "model = Model([input_att_flags, input_sequences], [output_starts, output_stops])\n",
    "model.summary()"
   ]
  },
  {
   "cell_type": "code",
   "execution_count": 46,
   "metadata": {},
   "outputs": [],
   "source": [
    "adam = Adam(learning_rate=MIN_LR)\n",
    "\n",
    "model.compile(loss='binary_crossentropy',\n",
    "              optimizer=adam) # , metrics=['accuracy']"
   ]
  },
  {
   "cell_type": "code",
   "execution_count": 47,
   "metadata": {},
   "outputs": [],
   "source": [
    "#callbacks\n",
    "mcp = ModelCheckpoint(filepath=\"../results/\"+MODEL_PREFIX+\"Checkpoint.h5\",\n",
    "                      monitor='val_loss',\n",
    "                      mode=\"auto\",\n",
    "                      save_weights_only=False,\n",
    "                      save_best_only=True)\n",
    "\n",
    "clr = CyclicLR(mode=CLR_METHOD,\n",
    "               base_lr=MIN_LR,\n",
    "               max_lr=MAX_LR,\n",
    "               step_size= STEP_SIZE * (X_train.shape[0] // BATCH_SIZE))"
   ]
  },
  {
   "cell_type": "code",
   "execution_count": 48,
   "metadata": {
    "scrolled": true
   },
   "outputs": [
    {
     "name": "stdout",
     "output_type": "stream",
     "text": [
      "Train on 20803 samples, validate on 5201 samples\n",
      "Epoch 1/200\n",
      "20803/20803 [==============================] - 20s 941us/sample - loss: 0.1085 - starts_loss: 0.0536 - stops_loss: 0.0547 - val_loss: 0.1033 - val_starts_loss: 0.0517 - val_stops_loss: 0.0517\n",
      "Epoch 2/200\n",
      "20803/20803 [==============================] - 12s 589us/sample - loss: 0.0875 - starts_loss: 0.0400 - stops_loss: 0.0471 - val_loss: 0.1030 - val_starts_loss: 0.0516 - val_stops_loss: 0.0514\n",
      "Epoch 3/200\n",
      "20803/20803 [==============================] - 13s 605us/sample - loss: 0.0585 - starts_loss: 0.0248 - stops_loss: 0.0333 - val_loss: 0.1032 - val_starts_loss: 0.0519 - val_stops_loss: 0.0514\n",
      "Epoch 4/200\n",
      "20803/20803 [==============================] - 13s 601us/sample - loss: 0.0437 - starts_loss: 0.0203 - stops_loss: 0.0234 - val_loss: 0.1025 - val_starts_loss: 0.0517 - val_stops_loss: 0.0510\n",
      "Epoch 5/200\n",
      "20803/20803 [==============================] - 12s 594us/sample - loss: 0.0399 - starts_loss: 0.0193 - stops_loss: 0.0206 - val_loss: 0.1023 - val_starts_loss: 0.0516 - val_stops_loss: 0.0510\n",
      "Epoch 6/200\n",
      "20803/20803 [==============================] - 12s 594us/sample - loss: 0.0377 - starts_loss: 0.0182 - stops_loss: 0.0194 - val_loss: 0.0990 - val_starts_loss: 0.0500 - val_stops_loss: 0.0494\n",
      "Epoch 7/200\n",
      "20803/20803 [==============================] - 13s 606us/sample - loss: 0.0354 - starts_loss: 0.0171 - stops_loss: 0.0182 - val_loss: 0.0977 - val_starts_loss: 0.0501 - val_stops_loss: 0.0482\n",
      "Epoch 8/200\n",
      "20803/20803 [==============================] - 12s 600us/sample - loss: 0.0331 - starts_loss: 0.0162 - stops_loss: 0.0169 - val_loss: 0.0949 - val_starts_loss: 0.0492 - val_stops_loss: 0.0464\n",
      "Epoch 9/200\n",
      "20803/20803 [==============================] - 12s 594us/sample - loss: 0.0313 - starts_loss: 0.0153 - stops_loss: 0.0161 - val_loss: 0.0985 - val_starts_loss: 0.0521 - val_stops_loss: 0.0472\n",
      "Epoch 10/200\n",
      "20803/20803 [==============================] - 12s 595us/sample - loss: 0.0296 - starts_loss: 0.0145 - stops_loss: 0.0152 - val_loss: 0.0969 - val_starts_loss: 0.0516 - val_stops_loss: 0.0462\n",
      "Epoch 11/200\n",
      "20803/20803 [==============================] - 13s 605us/sample - loss: 0.0282 - starts_loss: 0.0137 - stops_loss: 0.0146 - val_loss: 0.0921 - val_starts_loss: 0.0470 - val_stops_loss: 0.0462\n",
      "Epoch 12/200\n",
      "20803/20803 [==============================] - 13s 605us/sample - loss: 0.0264 - starts_loss: 0.0129 - stops_loss: 0.0135 - val_loss: 0.0959 - val_starts_loss: 0.0497 - val_stops_loss: 0.0474\n",
      "Epoch 13/200\n",
      "20803/20803 [==============================] - 12s 591us/sample - loss: 0.0251 - starts_loss: 0.0123 - stops_loss: 0.0128 - val_loss: 0.0987 - val_starts_loss: 0.0518 - val_stops_loss: 0.0482\n",
      "Epoch 14/200\n",
      "20803/20803 [==============================] - 12s 580us/sample - loss: 0.0238 - starts_loss: 0.0117 - stops_loss: 0.0121 - val_loss: 0.1003 - val_starts_loss: 0.0534 - val_stops_loss: 0.0483\n",
      "Epoch 15/200\n",
      "20803/20803 [==============================] - 12s 591us/sample - loss: 0.0226 - starts_loss: 0.0111 - stops_loss: 0.0115 - val_loss: 0.0967 - val_starts_loss: 0.0517 - val_stops_loss: 0.0465\n",
      "Epoch 16/200\n",
      "20803/20803 [==============================] - 13s 610us/sample - loss: 0.0216 - starts_loss: 0.0107 - stops_loss: 0.0110 - val_loss: 0.0973 - val_starts_loss: 0.0526 - val_stops_loss: 0.0462\n",
      "Epoch 17/200\n",
      "20803/20803 [==============================] - 12s 599us/sample - loss: 0.0206 - starts_loss: 0.0102 - stops_loss: 0.0104 - val_loss: 0.0979 - val_starts_loss: 0.0531 - val_stops_loss: 0.0464\n",
      "Epoch 18/200\n",
      "20803/20803 [==============================] - 12s 592us/sample - loss: 0.0198 - starts_loss: 0.0098 - stops_loss: 0.0100 - val_loss: 0.0974 - val_starts_loss: 0.0533 - val_stops_loss: 0.0459\n",
      "Epoch 19/200\n",
      "20803/20803 [==============================] - 12s 591us/sample - loss: 0.0192 - starts_loss: 0.0095 - stops_loss: 0.0097 - val_loss: 0.0967 - val_starts_loss: 0.0533 - val_stops_loss: 0.0451\n",
      "Epoch 20/200\n",
      "20803/20803 [==============================] - 12s 596us/sample - loss: 0.0189 - starts_loss: 0.0093 - stops_loss: 0.0096 - val_loss: 0.0967 - val_starts_loss: 0.0535 - val_stops_loss: 0.0450\n",
      "Epoch 21/200\n",
      "20803/20803 [==============================] - 12s 598us/sample - loss: 0.0189 - starts_loss: 0.0093 - stops_loss: 0.0095 - val_loss: 0.0938 - val_starts_loss: 0.0523 - val_stops_loss: 0.0432\n",
      "Epoch 22/200\n",
      "20803/20803 [==============================] - 13s 602us/sample - loss: 0.0187 - starts_loss: 0.0093 - stops_loss: 0.0095 - val_loss: 0.0893 - val_starts_loss: 0.0501 - val_stops_loss: 0.0407\n",
      "Epoch 23/200\n",
      "20803/20803 [==============================] - 12s 599us/sample - loss: 0.0190 - starts_loss: 0.0094 - stops_loss: 0.0096 - val_loss: 0.0839 - val_starts_loss: 0.0455 - val_stops_loss: 0.0397\n",
      "Epoch 24/200\n",
      "20803/20803 [==============================] - 12s 593us/sample - loss: 0.0194 - starts_loss: 0.0095 - stops_loss: 0.0099 - val_loss: 0.0737 - val_starts_loss: 0.0421 - val_stops_loss: 0.0322\n",
      "Epoch 25/200\n",
      "20803/20803 [==============================] - 12s 592us/sample - loss: 0.0200 - starts_loss: 0.0098 - stops_loss: 0.0103 - val_loss: 0.0607 - val_starts_loss: 0.0305 - val_stops_loss: 0.0309\n",
      "Epoch 26/200\n",
      "20803/20803 [==============================] - 13s 606us/sample - loss: 0.0204 - starts_loss: 0.0100 - stops_loss: 0.0105 - val_loss: 0.0663 - val_starts_loss: 0.0359 - val_stops_loss: 0.0317\n",
      "Epoch 27/200\n",
      "20803/20803 [==============================] - 12s 599us/sample - loss: 0.0202 - starts_loss: 0.0099 - stops_loss: 0.0103 - val_loss: 0.0549 - val_starts_loss: 0.0280 - val_stops_loss: 0.0278\n",
      "Epoch 28/200\n",
      "20803/20803 [==============================] - 12s 597us/sample - loss: 0.0204 - starts_loss: 0.0100 - stops_loss: 0.0105 - val_loss: 0.0537 - val_starts_loss: 0.0252 - val_stops_loss: 0.0288\n",
      "Epoch 29/200\n",
      "20803/20803 [==============================] - 12s 594us/sample - loss: 0.0202 - starts_loss: 0.0099 - stops_loss: 0.0103 - val_loss: 0.0504 - val_starts_loss: 0.0247 - val_stops_loss: 0.0262\n",
      "Epoch 30/200\n",
      "20803/20803 [==============================] - 12s 594us/sample - loss: 0.0198 - starts_loss: 0.0096 - stops_loss: 0.0102 - val_loss: 0.0528 - val_starts_loss: 0.0271 - val_stops_loss: 0.0265\n",
      "Epoch 31/200\n",
      "20803/20803 [==============================] - 12s 599us/sample - loss: 0.0183 - starts_loss: 0.0089 - stops_loss: 0.0095 - val_loss: 0.0577 - val_starts_loss: 0.0278 - val_stops_loss: 0.0306\n",
      "Epoch 32/200\n",
      "20803/20803 [==============================] - 12s 596us/sample - loss: 0.0170 - starts_loss: 0.0083 - stops_loss: 0.0088 - val_loss: 0.0575 - val_starts_loss: 0.0285 - val_stops_loss: 0.0297\n",
      "Epoch 33/200\n",
      "20803/20803 [==============================] - 12s 588us/sample - loss: 0.0159 - starts_loss: 0.0077 - stops_loss: 0.0082 - val_loss: 0.0585 - val_starts_loss: 0.0287 - val_stops_loss: 0.0301\n",
      "Epoch 34/200\n",
      "20803/20803 [==============================] - 12s 587us/sample - loss: 0.0149 - starts_loss: 0.0073 - stops_loss: 0.0076 - val_loss: 0.0611 - val_starts_loss: 0.0307 - val_stops_loss: 0.0302\n",
      "Epoch 35/200\n",
      "20803/20803 [==============================] - 12s 600us/sample - loss: 0.0143 - starts_loss: 0.0069 - stops_loss: 0.0074 - val_loss: 0.0624 - val_starts_loss: 0.0320 - val_stops_loss: 0.0300\n",
      "Epoch 36/200\n",
      "20803/20803 [==============================] - 12s 597us/sample - loss: 0.0135 - starts_loss: 0.0065 - stops_loss: 0.0069 - val_loss: 0.0635 - val_starts_loss: 0.0324 - val_stops_loss: 0.0307\n",
      "Epoch 37/200\n",
      "20803/20803 [==============================] - 12s 590us/sample - loss: 0.0128 - starts_loss: 0.0061 - stops_loss: 0.0067 - val_loss: 0.0640 - val_starts_loss: 0.0324 - val_stops_loss: 0.0311\n",
      "Epoch 38/200\n",
      "20803/20803 [==============================] - 12s 600us/sample - loss: 0.0123 - starts_loss: 0.0059 - stops_loss: 0.0064 - val_loss: 0.0657 - val_starts_loss: 0.0333 - val_stops_loss: 0.0320\n",
      "Epoch 39/200\n",
      "20803/20803 [==============================] - 13s 608us/sample - loss: 0.0120 - starts_loss: 0.0058 - stops_loss: 0.0062 - val_loss: 0.0658 - val_starts_loss: 0.0332 - val_stops_loss: 0.0321\n",
      "Epoch 40/200\n",
      "20803/20803 [==============================] - 12s 598us/sample - loss: 0.0120 - starts_loss: 0.0058 - stops_loss: 0.0062 - val_loss: 0.0671 - val_starts_loss: 0.0338 - val_stops_loss: 0.0327\n"
     ]
    },
    {
     "name": "stdout",
     "output_type": "stream",
     "text": [
      "Epoch 41/200\n",
      "20803/20803 [==============================] - 13s 608us/sample - loss: 0.0119 - starts_loss: 0.0058 - stops_loss: 0.0061 - val_loss: 0.0692 - val_starts_loss: 0.0345 - val_stops_loss: 0.0341\n",
      "Epoch 42/200\n",
      "20803/20803 [==============================] - 13s 601us/sample - loss: 0.0122 - starts_loss: 0.0059 - stops_loss: 0.0064 - val_loss: 0.0714 - val_starts_loss: 0.0366 - val_stops_loss: 0.0342\n",
      "Epoch 43/200\n",
      "20803/20803 [==============================] - 13s 604us/sample - loss: 0.0128 - starts_loss: 0.0062 - stops_loss: 0.0067 - val_loss: 0.0728 - val_starts_loss: 0.0364 - val_stops_loss: 0.0359\n",
      "Epoch 44/200\n",
      "20803/20803 [==============================] - 12s 596us/sample - loss: 0.0135 - starts_loss: 0.0066 - stops_loss: 0.0070 - val_loss: 0.0713 - val_starts_loss: 0.0350 - val_stops_loss: 0.0356\n",
      "Epoch 45/200\n",
      "20803/20803 [==============================] - 13s 607us/sample - loss: 0.0143 - starts_loss: 0.0069 - stops_loss: 0.0074 - val_loss: 0.0734 - val_starts_loss: 0.0370 - val_stops_loss: 0.0361\n",
      "Epoch 46/200\n",
      "20803/20803 [==============================] - 13s 603us/sample - loss: 0.0149 - starts_loss: 0.0072 - stops_loss: 0.0078 - val_loss: 0.0719 - val_starts_loss: 0.0362 - val_stops_loss: 0.0357\n",
      "Epoch 47/200\n",
      "20803/20803 [==============================] - 12s 599us/sample - loss: 0.0152 - starts_loss: 0.0073 - stops_loss: 0.0079 - val_loss: 0.0723 - val_starts_loss: 0.0355 - val_stops_loss: 0.0368\n",
      "Epoch 48/200\n",
      "20803/20803 [==============================] - 12s 595us/sample - loss: 0.0152 - starts_loss: 0.0073 - stops_loss: 0.0080 - val_loss: 0.0848 - val_starts_loss: 0.0356 - val_stops_loss: 0.0484\n",
      "Epoch 49/200\n",
      "20803/20803 [==============================] - 12s 592us/sample - loss: 0.0149 - starts_loss: 0.0072 - stops_loss: 0.0077 - val_loss: 0.0849 - val_starts_loss: 0.0383 - val_stops_loss: 0.0458\n",
      "Epoch 50/200\n",
      "20803/20803 [==============================] - 13s 629us/sample - loss: 0.0138 - starts_loss: 0.0066 - stops_loss: 0.0072 - val_loss: 0.0907 - val_starts_loss: 0.0412 - val_stops_loss: 0.0486\n",
      "Epoch 51/200\n",
      "20803/20803 [==============================] - 13s 610us/sample - loss: 0.0128 - starts_loss: 0.0061 - stops_loss: 0.0067 - val_loss: 0.0790 - val_starts_loss: 0.0384 - val_stops_loss: 0.0411\n",
      "Epoch 52/200\n",
      "20803/20803 [==============================] - 13s 620us/sample - loss: 0.0116 - starts_loss: 0.0055 - stops_loss: 0.0061 - val_loss: 0.0793 - val_starts_loss: 0.0386 - val_stops_loss: 0.0403\n",
      "Epoch 53/200\n",
      "20803/20803 [==============================] - 13s 603us/sample - loss: 0.0110 - starts_loss: 0.0052 - stops_loss: 0.0058 - val_loss: 0.0776 - val_starts_loss: 0.0385 - val_stops_loss: 0.0387\n",
      "Epoch 54/200\n",
      "20803/20803 [==============================] - 12s 592us/sample - loss: 0.0102 - starts_loss: 0.0047 - stops_loss: 0.0054 - val_loss: 0.0785 - val_starts_loss: 0.0387 - val_stops_loss: 0.0389\n",
      "Epoch 55/200\n",
      "20803/20803 [==============================] - 13s 612us/sample - loss: 0.0095 - starts_loss: 0.0045 - stops_loss: 0.0050 - val_loss: 0.0799 - val_starts_loss: 0.0400 - val_stops_loss: 0.0391\n",
      "Epoch 56/200\n",
      "20803/20803 [==============================] - 13s 601us/sample - loss: 0.0089 - starts_loss: 0.0041 - stops_loss: 0.0048 - val_loss: 0.0795 - val_starts_loss: 0.0398 - val_stops_loss: 0.0390\n",
      "Epoch 57/200\n",
      "20803/20803 [==============================] - 13s 605us/sample - loss: 0.0084 - starts_loss: 0.0039 - stops_loss: 0.0045 - val_loss: 0.0791 - val_starts_loss: 0.0396 - val_stops_loss: 0.0386\n",
      "Epoch 58/200\n",
      "20803/20803 [==============================] - 12s 596us/sample - loss: 0.0082 - starts_loss: 0.0038 - stops_loss: 0.0045 - val_loss: 0.0797 - val_starts_loss: 0.0398 - val_stops_loss: 0.0391\n",
      "Epoch 59/200\n",
      "20803/20803 [==============================] - 13s 608us/sample - loss: 0.0082 - starts_loss: 0.0038 - stops_loss: 0.0044 - val_loss: 0.0804 - val_starts_loss: 0.0399 - val_stops_loss: 0.0399\n",
      "Epoch 60/200\n",
      "20803/20803 [==============================] - 13s 610us/sample - loss: 0.0082 - starts_loss: 0.0037 - stops_loss: 0.0044 - val_loss: 0.0824 - val_starts_loss: 0.0414 - val_stops_loss: 0.0403\n",
      "Epoch 61/200\n",
      "20803/20803 [==============================] - 13s 603us/sample - loss: 0.0084 - starts_loss: 0.0039 - stops_loss: 0.0045 - val_loss: 0.0840 - val_starts_loss: 0.0419 - val_stops_loss: 0.0415\n",
      "Epoch 62/200\n",
      "20803/20803 [==============================] - 12s 594us/sample - loss: 0.0088 - starts_loss: 0.0041 - stops_loss: 0.0047 - val_loss: 0.0854 - val_starts_loss: 0.0423 - val_stops_loss: 0.0424\n",
      "Epoch 63/200\n",
      "20803/20803 [==============================] - 12s 585us/sample - loss: 0.0096 - starts_loss: 0.0045 - stops_loss: 0.0051 - val_loss: 0.0835 - val_starts_loss: 0.0405 - val_stops_loss: 0.0421\n",
      "Epoch 64/200\n",
      "20803/20803 [==============================] - 12s 590us/sample - loss: 0.0102 - starts_loss: 0.0046 - stops_loss: 0.0055 - val_loss: 0.0857 - val_starts_loss: 0.0430 - val_stops_loss: 0.0423\n",
      "Epoch 65/200\n",
      "20803/20803 [==============================] - 13s 620us/sample - loss: 0.0109 - starts_loss: 0.0051 - stops_loss: 0.0059 - val_loss: 0.0825 - val_starts_loss: 0.0411 - val_stops_loss: 0.0413\n",
      "Epoch 66/200\n",
      "20803/20803 [==============================] - 15s 711us/sample - loss: 0.0115 - starts_loss: 0.0054 - stops_loss: 0.0061 - val_loss: 0.0837 - val_starts_loss: 0.0416 - val_stops_loss: 0.0425\n",
      "Epoch 67/200\n",
      "20803/20803 [==============================] - 12s 601us/sample - loss: 0.0120 - starts_loss: 0.0057 - stops_loss: 0.0063 - val_loss: 0.0817 - val_starts_loss: 0.0410 - val_stops_loss: 0.0405\n",
      "Epoch 68/200\n",
      "20803/20803 [==============================] - 12s 598us/sample - loss: 0.0118 - starts_loss: 0.0056 - stops_loss: 0.0063 - val_loss: 0.0772 - val_starts_loss: 0.0382 - val_stops_loss: 0.0392\n",
      "Epoch 69/200\n",
      "20803/20803 [==============================] - 13s 622us/sample - loss: 0.0109 - starts_loss: 0.0050 - stops_loss: 0.0059 - val_loss: 0.0808 - val_starts_loss: 0.0408 - val_stops_loss: 0.0404\n",
      "Epoch 70/200\n",
      "20803/20803 [==============================] - 13s 620us/sample - loss: 0.0100 - starts_loss: 0.0046 - stops_loss: 0.0055 - val_loss: 0.0847 - val_starts_loss: 0.0427 - val_stops_loss: 0.0414\n",
      "Epoch 71/200\n",
      "20803/20803 [==============================] - 13s 618us/sample - loss: 0.0091 - starts_loss: 0.0042 - stops_loss: 0.0050 - val_loss: 0.0833 - val_starts_loss: 0.0422 - val_stops_loss: 0.0398\n",
      "Epoch 72/200\n",
      "20803/20803 [==============================] - 13s 644us/sample - loss: 0.0085 - starts_loss: 0.0038 - stops_loss: 0.0047 - val_loss: 0.0855 - val_starts_loss: 0.0433 - val_stops_loss: 0.0411\n",
      "Epoch 73/200\n",
      "20803/20803 [==============================] - 13s 602us/sample - loss: 0.0078 - starts_loss: 0.0035 - stops_loss: 0.0043 - val_loss: 0.0875 - val_starts_loss: 0.0451 - val_stops_loss: 0.0411\n",
      "Epoch 74/200\n",
      "20803/20803 [==============================] - 12s 600us/sample - loss: 0.0071 - starts_loss: 0.0032 - stops_loss: 0.0039 - val_loss: 0.0892 - val_starts_loss: 0.0460 - val_stops_loss: 0.0424\n",
      "Epoch 75/200\n",
      "20803/20803 [==============================] - 13s 605us/sample - loss: 0.0066 - starts_loss: 0.0030 - stops_loss: 0.0036 - val_loss: 0.0887 - val_starts_loss: 0.0447 - val_stops_loss: 0.0430\n",
      "Epoch 76/200\n",
      "20803/20803 [==============================] - 12s 600us/sample - loss: 0.0062 - starts_loss: 0.0028 - stops_loss: 0.0035 - val_loss: 0.0888 - val_starts_loss: 0.0454 - val_stops_loss: 0.0427\n",
      "Epoch 77/200\n",
      "20803/20803 [==============================] - 14s 675us/sample - loss: 0.0061 - starts_loss: 0.0027 - stops_loss: 0.0034 - val_loss: 0.0887 - val_starts_loss: 0.0451 - val_stops_loss: 0.0429\n",
      "Epoch 78/200\n",
      "20803/20803 [==============================] - 13s 646us/sample - loss: 0.0060 - starts_loss: 0.0027 - stops_loss: 0.0033 - val_loss: 0.0899 - val_starts_loss: 0.0455 - val_stops_loss: 0.0436\n",
      "Epoch 79/200\n",
      "20803/20803 [==============================] - 13s 622us/sample - loss: 0.0060 - starts_loss: 0.0026 - stops_loss: 0.0034 - val_loss: 0.0911 - val_starts_loss: 0.0461 - val_stops_loss: 0.0440\n",
      "Epoch 80/200\n",
      "20803/20803 [==============================] - 13s 627us/sample - loss: 0.0061 - starts_loss: 0.0027 - stops_loss: 0.0034 - val_loss: 0.0941 - val_starts_loss: 0.0478 - val_stops_loss: 0.0454\n"
     ]
    },
    {
     "name": "stdout",
     "output_type": "stream",
     "text": [
      "Epoch 81/200\n",
      "20803/20803 [==============================] - 14s 652us/sample - loss: 0.0065 - starts_loss: 0.0029 - stops_loss: 0.0036 - val_loss: 0.0935 - val_starts_loss: 0.0475 - val_stops_loss: 0.0452\n",
      "Epoch 82/200\n",
      "20803/20803 [==============================] - 14s 682us/sample - loss: 0.0072 - starts_loss: 0.0033 - stops_loss: 0.0039 - val_loss: 0.0953 - val_starts_loss: 0.0482 - val_stops_loss: 0.0460\n",
      "Epoch 83/200\n",
      "20803/20803 [==============================] - 13s 619us/sample - loss: 0.0078 - starts_loss: 0.0035 - stops_loss: 0.0043 - val_loss: 0.0975 - val_starts_loss: 0.0500 - val_stops_loss: 0.0467\n",
      "Epoch 84/200\n",
      "20803/20803 [==============================] - 13s 629us/sample - loss: 0.0085 - starts_loss: 0.0039 - stops_loss: 0.0046 - val_loss: 0.0913 - val_starts_loss: 0.0460 - val_stops_loss: 0.0451\n",
      "Epoch 85/200\n",
      "20803/20803 [==============================] - 13s 617us/sample - loss: 0.0092 - starts_loss: 0.0042 - stops_loss: 0.0050 - val_loss: 0.0846 - val_starts_loss: 0.0413 - val_stops_loss: 0.0425\n",
      "Epoch 86/200\n",
      "20803/20803 [==============================] - 12s 599us/sample - loss: 0.0096 - starts_loss: 0.0044 - stops_loss: 0.0052 - val_loss: 0.0896 - val_starts_loss: 0.0422 - val_stops_loss: 0.0468\n",
      "Epoch 87/200\n",
      "20803/20803 [==============================] - 13s 627us/sample - loss: 0.0095 - starts_loss: 0.0044 - stops_loss: 0.0052 - val_loss: 0.0883 - val_starts_loss: 0.0433 - val_stops_loss: 0.0459\n",
      "Epoch 88/200\n",
      "20803/20803 [==============================] - 13s 631us/sample - loss: 0.0090 - starts_loss: 0.0041 - stops_loss: 0.0049 - val_loss: 0.0938 - val_starts_loss: 0.0445 - val_stops_loss: 0.0505\n",
      "Epoch 89/200\n",
      "20803/20803 [==============================] - 13s 625us/sample - loss: 0.0083 - starts_loss: 0.0037 - stops_loss: 0.0046 - val_loss: 0.0896 - val_starts_loss: 0.0443 - val_stops_loss: 0.0458\n",
      "Epoch 90/200\n",
      "20803/20803 [==============================] - 13s 621us/sample - loss: 0.0073 - starts_loss: 0.0033 - stops_loss: 0.0040 - val_loss: 0.0889 - val_starts_loss: 0.0456 - val_stops_loss: 0.0433\n",
      "Epoch 91/200\n",
      "20803/20803 [==============================] - 13s 602us/sample - loss: 0.0065 - starts_loss: 0.0029 - stops_loss: 0.0035 - val_loss: 0.0923 - val_starts_loss: 0.0478 - val_stops_loss: 0.0444\n",
      "Epoch 92/200\n",
      "20803/20803 [==============================] - 13s 608us/sample - loss: 0.0059 - starts_loss: 0.0026 - stops_loss: 0.0034 - val_loss: 0.0936 - val_starts_loss: 0.0484 - val_stops_loss: 0.0453\n",
      "Epoch 93/200\n",
      "20803/20803 [==============================] - 13s 623us/sample - loss: 0.0057 - starts_loss: 0.0025 - stops_loss: 0.0032 - val_loss: 0.0936 - val_starts_loss: 0.0485 - val_stops_loss: 0.0449\n",
      "Epoch 94/200\n",
      "20803/20803 [==============================] - 14s 655us/sample - loss: 0.0052 - starts_loss: 0.0023 - stops_loss: 0.0029 - val_loss: 0.0956 - val_starts_loss: 0.0487 - val_stops_loss: 0.0464\n",
      "Epoch 95/200\n",
      "20803/20803 [==============================] - 13s 639us/sample - loss: 0.0050 - starts_loss: 0.0022 - stops_loss: 0.0028 - val_loss: 0.0951 - val_starts_loss: 0.0483 - val_stops_loss: 0.0464\n",
      "Epoch 96/200\n",
      "20803/20803 [==============================] - 13s 635us/sample - loss: 0.0046 - starts_loss: 0.0020 - stops_loss: 0.0026 - val_loss: 0.0953 - val_starts_loss: 0.0483 - val_stops_loss: 0.0464\n",
      "Epoch 97/200\n",
      "20803/20803 [==============================] - 12s 599us/sample - loss: 0.0047 - starts_loss: 0.0020 - stops_loss: 0.0027 - val_loss: 0.0977 - val_starts_loss: 0.0489 - val_stops_loss: 0.0482\n",
      "Epoch 98/200\n",
      "20803/20803 [==============================] - 13s 602us/sample - loss: 0.0047 - starts_loss: 0.0020 - stops_loss: 0.0027 - val_loss: 0.0987 - val_starts_loss: 0.0499 - val_stops_loss: 0.0482\n",
      "Epoch 99/200\n",
      "20803/20803 [==============================] - 13s 632us/sample - loss: 0.0049 - starts_loss: 0.0021 - stops_loss: 0.0027 - val_loss: 0.0976 - val_starts_loss: 0.0501 - val_stops_loss: 0.0471\n",
      "Epoch 100/200\n",
      "20803/20803 [==============================] - 13s 603us/sample - loss: 0.0050 - starts_loss: 0.0022 - stops_loss: 0.0027 - val_loss: 0.1011 - val_starts_loss: 0.0516 - val_stops_loss: 0.0489\n",
      "Epoch 101/200\n",
      "20803/20803 [==============================] - 13s 601us/sample - loss: 0.0053 - starts_loss: 0.0024 - stops_loss: 0.0030 - val_loss: 0.1011 - val_starts_loss: 0.0506 - val_stops_loss: 0.0506\n",
      "Epoch 102/200\n",
      "20803/20803 [==============================] - 13s 616us/sample - loss: 0.0061 - starts_loss: 0.0027 - stops_loss: 0.0034 - val_loss: 0.1004 - val_starts_loss: 0.0497 - val_stops_loss: 0.0500\n",
      "Epoch 103/200\n",
      "20803/20803 [==============================] - 13s 623us/sample - loss: 0.0070 - starts_loss: 0.0032 - stops_loss: 0.0039 - val_loss: 0.0993 - val_starts_loss: 0.0497 - val_stops_loss: 0.0487\n",
      "Epoch 104/200\n",
      "20803/20803 [==============================] - 13s 606us/sample - loss: 0.0077 - starts_loss: 0.0035 - stops_loss: 0.0042 - val_loss: 0.0980 - val_starts_loss: 0.0484 - val_stops_loss: 0.0486\n",
      "Epoch 105/200\n",
      "20803/20803 [==============================] - 25s 1ms/sample - loss: 0.0081 - starts_loss: 0.0037 - stops_loss: 0.0045 - val_loss: 0.0917 - val_starts_loss: 0.0463 - val_stops_loss: 0.0434\n",
      "Epoch 106/200\n",
      "20803/20803 [==============================] - 31s 1ms/sample - loss: 0.0083 - starts_loss: 0.0038 - stops_loss: 0.0046 - val_loss: 0.0907 - val_starts_loss: 0.0455 - val_stops_loss: 0.0438\n",
      "Epoch 107/200\n",
      "20803/20803 [==============================] - 27s 1ms/sample - loss: 0.0076 - starts_loss: 0.0035 - stops_loss: 0.0041 - val_loss: 0.0918 - val_starts_loss: 0.0460 - val_stops_loss: 0.0448\n",
      "Epoch 108/200\n",
      "20803/20803 [==============================] - 13s 617us/sample - loss: 0.0067 - starts_loss: 0.0031 - stops_loss: 0.0037 - val_loss: 0.0902 - val_starts_loss: 0.0451 - val_stops_loss: 0.0444\n",
      "Epoch 109/200\n",
      "20803/20803 [==============================] - 13s 611us/sample - loss: 0.0060 - starts_loss: 0.0027 - stops_loss: 0.0033 - val_loss: 0.0942 - val_starts_loss: 0.0475 - val_stops_loss: 0.0462\n",
      "Epoch 110/200\n",
      "20803/20803 [==============================] - 13s 635us/sample - loss: 0.0055 - starts_loss: 0.0024 - stops_loss: 0.0032 - val_loss: 0.0964 - val_starts_loss: 0.0484 - val_stops_loss: 0.0469\n",
      "Epoch 111/200\n",
      "20803/20803 [==============================] - 13s 610us/sample - loss: 0.0050 - starts_loss: 0.0022 - stops_loss: 0.0028 - val_loss: 0.0987 - val_starts_loss: 0.0497 - val_stops_loss: 0.0482\n",
      "Epoch 112/200\n",
      "20803/20803 [==============================] - 14s 671us/sample - loss: 0.0046 - starts_loss: 0.0020 - stops_loss: 0.0026 - val_loss: 0.0993 - val_starts_loss: 0.0508 - val_stops_loss: 0.0481\n",
      "Epoch 113/200\n",
      "20803/20803 [==============================] - 13s 641us/sample - loss: 0.0042 - starts_loss: 0.0018 - stops_loss: 0.0024 - val_loss: 0.1002 - val_starts_loss: 0.0511 - val_stops_loss: 0.0483\n",
      "Epoch 114/200\n",
      "20803/20803 [==============================] - 13s 626us/sample - loss: 0.0040 - starts_loss: 0.0017 - stops_loss: 0.0023 - val_loss: 0.0992 - val_starts_loss: 0.0504 - val_stops_loss: 0.0482\n",
      "Epoch 115/200\n",
      "20803/20803 [==============================] - 13s 606us/sample - loss: 0.0038 - starts_loss: 0.0016 - stops_loss: 0.0022 - val_loss: 0.0999 - val_starts_loss: 0.0507 - val_stops_loss: 0.0484\n",
      "Epoch 116/200\n",
      "20803/20803 [==============================] - 13s 616us/sample - loss: 0.0038 - starts_loss: 0.0015 - stops_loss: 0.0022 - val_loss: 0.1002 - val_starts_loss: 0.0505 - val_stops_loss: 0.0489\n",
      "Epoch 117/200\n",
      "20803/20803 [==============================] - 13s 611us/sample - loss: 0.0037 - starts_loss: 0.0016 - stops_loss: 0.0021 - val_loss: 0.1012 - val_starts_loss: 0.0513 - val_stops_loss: 0.0490\n",
      "Epoch 118/200\n",
      "20803/20803 [==============================] - 13s 628us/sample - loss: 0.0040 - starts_loss: 0.0017 - stops_loss: 0.0023 - val_loss: 0.1035 - val_starts_loss: 0.0523 - val_stops_loss: 0.0500\n",
      "Epoch 119/200\n",
      "20803/20803 [==============================] - 13s 645us/sample - loss: 0.0040 - starts_loss: 0.0017 - stops_loss: 0.0024 - val_loss: 0.1054 - val_starts_loss: 0.0530 - val_stops_loss: 0.0519\n",
      "Epoch 120/200\n",
      "20803/20803 [==============================] - 13s 644us/sample - loss: 0.0043 - starts_loss: 0.0019 - stops_loss: 0.0025 - val_loss: 0.1040 - val_starts_loss: 0.0538 - val_stops_loss: 0.0496\n"
     ]
    },
    {
     "name": "stdout",
     "output_type": "stream",
     "text": [
      "Epoch 121/200\n",
      "20803/20803 [==============================] - 13s 605us/sample - loss: 0.0050 - starts_loss: 0.0022 - stops_loss: 0.0028 - val_loss: 0.1089 - val_starts_loss: 0.0552 - val_stops_loss: 0.0532\n",
      "Epoch 122/200\n",
      "20803/20803 [==============================] - 13s 603us/sample - loss: 0.0058 - starts_loss: 0.0026 - stops_loss: 0.0032 - val_loss: 0.1037 - val_starts_loss: 0.0519 - val_stops_loss: 0.0508\n",
      "Epoch 123/200\n",
      "20803/20803 [==============================] - 13s 625us/sample - loss: 0.0065 - starts_loss: 0.0030 - stops_loss: 0.0036 - val_loss: 0.0995 - val_starts_loss: 0.0506 - val_stops_loss: 0.0489\n",
      "Epoch 124/200\n",
      "20803/20803 [==============================] - 13s 631us/sample - loss: 0.0072 - starts_loss: 0.0033 - stops_loss: 0.0039 - val_loss: 0.0996 - val_starts_loss: 0.0493 - val_stops_loss: 0.0497\n",
      "Epoch 125/200\n",
      "20803/20803 [==============================] - 14s 663us/sample - loss: 0.0073 - starts_loss: 0.0035 - stops_loss: 0.0039 - val_loss: 0.0966 - val_starts_loss: 0.0489 - val_stops_loss: 0.0478\n",
      "Epoch 126/200\n",
      "20803/20803 [==============================] - 13s 610us/sample - loss: 0.0068 - starts_loss: 0.0031 - stops_loss: 0.0038 - val_loss: 0.0934 - val_starts_loss: 0.0466 - val_stops_loss: 0.0463\n",
      "Epoch 127/200\n",
      "20803/20803 [==============================] - 13s 604us/sample - loss: 0.0060 - starts_loss: 0.0027 - stops_loss: 0.0034 - val_loss: 0.0984 - val_starts_loss: 0.0489 - val_stops_loss: 0.0493\n",
      "Epoch 128/200\n",
      "20803/20803 [==============================] - 12s 597us/sample - loss: 0.0053 - starts_loss: 0.0023 - stops_loss: 0.0031 - val_loss: 0.0972 - val_starts_loss: 0.0496 - val_stops_loss: 0.0471\n",
      "Epoch 129/200\n",
      "20803/20803 [==============================] - 13s 614us/sample - loss: 0.0049 - starts_loss: 0.0021 - stops_loss: 0.0028 - val_loss: 0.0996 - val_starts_loss: 0.0505 - val_stops_loss: 0.0483\n",
      "Epoch 130/200\n",
      "20803/20803 [==============================] - 12s 600us/sample - loss: 0.0044 - starts_loss: 0.0018 - stops_loss: 0.0026 - val_loss: 0.1013 - val_starts_loss: 0.0522 - val_stops_loss: 0.0486\n",
      "Epoch 131/200\n",
      "20803/20803 [==============================] - 13s 606us/sample - loss: 0.0039 - starts_loss: 0.0017 - stops_loss: 0.0022 - val_loss: 0.1019 - val_starts_loss: 0.0518 - val_stops_loss: 0.0493\n",
      "Epoch 132/200\n",
      "20803/20803 [==============================] - 13s 604us/sample - loss: 0.0037 - starts_loss: 0.0016 - stops_loss: 0.0021 - val_loss: 0.1032 - val_starts_loss: 0.0528 - val_stops_loss: 0.0495\n",
      "Epoch 133/200\n",
      "20803/20803 [==============================] - 13s 618us/sample - loss: 0.0034 - starts_loss: 0.0014 - stops_loss: 0.0020 - val_loss: 0.1031 - val_starts_loss: 0.0527 - val_stops_loss: 0.0495\n",
      "Epoch 134/200\n",
      "20803/20803 [==============================] - 13s 606us/sample - loss: 0.0033 - starts_loss: 0.0014 - stops_loss: 0.0020 - val_loss: 0.1031 - val_starts_loss: 0.0525 - val_stops_loss: 0.0498\n",
      "Epoch 135/200\n",
      "20803/20803 [==============================] - 13s 612us/sample - loss: 0.0033 - starts_loss: 0.0014 - stops_loss: 0.0019 - val_loss: 0.1043 - val_starts_loss: 0.0530 - val_stops_loss: 0.0504\n",
      "Epoch 136/200\n",
      "20803/20803 [==============================] - 13s 616us/sample - loss: 0.0032 - starts_loss: 0.0014 - stops_loss: 0.0018 - val_loss: 0.1046 - val_starts_loss: 0.0533 - val_stops_loss: 0.0504\n",
      "Epoch 137/200\n",
      "20803/20803 [==============================] - 13s 602us/sample - loss: 0.0032 - starts_loss: 0.0013 - stops_loss: 0.0019 - val_loss: 0.1059 - val_starts_loss: 0.0539 - val_stops_loss: 0.0511\n",
      "Epoch 138/200\n",
      "20803/20803 [==============================] - 13s 602us/sample - loss: 0.0033 - starts_loss: 0.0014 - stops_loss: 0.0019 - val_loss: 0.1077 - val_starts_loss: 0.0554 - val_stops_loss: 0.0521\n",
      "Epoch 139/200\n",
      "20803/20803 [==============================] - 14s 661us/sample - loss: 0.0035 - starts_loss: 0.0015 - stops_loss: 0.0021 - val_loss: 0.1095 - val_starts_loss: 0.0553 - val_stops_loss: 0.0531\n",
      "Epoch 140/200\n",
      "20803/20803 [==============================] - 13s 636us/sample - loss: 0.0041 - starts_loss: 0.0018 - stops_loss: 0.0024 - val_loss: 0.1086 - val_starts_loss: 0.0547 - val_stops_loss: 0.0535\n",
      "Epoch 141/200\n",
      "20803/20803 [==============================] - 14s 657us/sample - loss: 0.0048 - starts_loss: 0.0022 - stops_loss: 0.0027 - val_loss: 0.1071 - val_starts_loss: 0.0553 - val_stops_loss: 0.0510\n",
      "Epoch 142/200\n",
      "20803/20803 [==============================] - 13s 644us/sample - loss: 0.0056 - starts_loss: 0.0026 - stops_loss: 0.0031 - val_loss: 0.1013 - val_starts_loss: 0.0520 - val_stops_loss: 0.0492\n",
      "Epoch 143/200\n",
      "20803/20803 [==============================] - 13s 627us/sample - loss: 0.0064 - starts_loss: 0.0029 - stops_loss: 0.0036 - val_loss: 0.0995 - val_starts_loss: 0.0483 - val_stops_loss: 0.0511\n",
      "Epoch 144/200\n",
      "20803/20803 [==============================] - 13s 615us/sample - loss: 0.0067 - starts_loss: 0.0031 - stops_loss: 0.0037 - val_loss: 0.0957 - val_starts_loss: 0.0471 - val_stops_loss: 0.0479\n",
      "Epoch 145/200\n",
      "20803/20803 [==============================] - 13s 621us/sample - loss: 0.0060 - starts_loss: 0.0027 - stops_loss: 0.0033 - val_loss: 0.0973 - val_starts_loss: 0.0495 - val_stops_loss: 0.0471\n",
      "Epoch 146/200\n",
      "20803/20803 [==============================] - 13s 607us/sample - loss: 0.0053 - starts_loss: 0.0024 - stops_loss: 0.0030 - val_loss: 0.0979 - val_starts_loss: 0.0492 - val_stops_loss: 0.0479\n",
      "Epoch 147/200\n",
      "20803/20803 [==============================] - 13s 608us/sample - loss: 0.0049 - starts_loss: 0.0021 - stops_loss: 0.0027 - val_loss: 0.0978 - val_starts_loss: 0.0501 - val_stops_loss: 0.0465\n",
      "Epoch 148/200\n",
      "20803/20803 [==============================] - 13s 613us/sample - loss: 0.0043 - starts_loss: 0.0019 - stops_loss: 0.0025 - val_loss: 0.1008 - val_starts_loss: 0.0504 - val_stops_loss: 0.0492\n",
      "Epoch 149/200\n",
      "20803/20803 [==============================] - 13s 626us/sample - loss: 0.0038 - starts_loss: 0.0017 - stops_loss: 0.0022 - val_loss: 0.1031 - val_starts_loss: 0.0523 - val_stops_loss: 0.0500\n",
      "Epoch 150/200\n",
      "20803/20803 [==============================] - 13s 613us/sample - loss: 0.0035 - starts_loss: 0.0015 - stops_loss: 0.0020 - val_loss: 0.1059 - val_starts_loss: 0.0542 - val_stops_loss: 0.0509\n",
      "Epoch 151/200\n",
      "20803/20803 [==============================] - 13s 640us/sample - loss: 0.0032 - starts_loss: 0.0013 - stops_loss: 0.0019 - val_loss: 0.1033 - val_starts_loss: 0.0525 - val_stops_loss: 0.0500\n",
      "Epoch 152/200\n",
      "20803/20803 [==============================] - 14s 654us/sample - loss: 0.0030 - starts_loss: 0.0013 - stops_loss: 0.0017 - val_loss: 0.1040 - val_starts_loss: 0.0530 - val_stops_loss: 0.0502\n",
      "Epoch 153/200\n",
      "20803/20803 [==============================] - 14s 656us/sample - loss: 0.0028 - starts_loss: 0.0011 - stops_loss: 0.0017 - val_loss: 0.1042 - val_starts_loss: 0.0531 - val_stops_loss: 0.0504\n",
      "Epoch 154/200\n",
      "20803/20803 [==============================] - 14s 650us/sample - loss: 0.0028 - starts_loss: 0.0012 - stops_loss: 0.0016 - val_loss: 0.1056 - val_starts_loss: 0.0537 - val_stops_loss: 0.0511\n",
      "Epoch 155/200\n",
      "20803/20803 [==============================] - 13s 619us/sample - loss: 0.0028 - starts_loss: 0.0011 - stops_loss: 0.0017 - val_loss: 0.1062 - val_starts_loss: 0.0541 - val_stops_loss: 0.0517\n",
      "Epoch 156/200\n",
      "20803/20803 [==============================] - 13s 603us/sample - loss: 0.0029 - starts_loss: 0.0012 - stops_loss: 0.0017 - val_loss: 0.1071 - val_starts_loss: 0.0549 - val_stops_loss: 0.0516\n",
      "Epoch 157/200\n",
      "20803/20803 [==============================] - 13s 612us/sample - loss: 0.0030 - starts_loss: 0.0013 - stops_loss: 0.0018 - val_loss: 0.1089 - val_starts_loss: 0.0561 - val_stops_loss: 0.0524\n",
      "Epoch 158/200\n",
      "20803/20803 [==============================] - 13s 605us/sample - loss: 0.0034 - starts_loss: 0.0015 - stops_loss: 0.0019 - val_loss: 0.1098 - val_starts_loss: 0.0564 - val_stops_loss: 0.0531\n",
      "Epoch 159/200\n",
      "20803/20803 [==============================] - 13s 616us/sample - loss: 0.0037 - starts_loss: 0.0016 - stops_loss: 0.0021 - val_loss: 0.1118 - val_starts_loss: 0.0569 - val_stops_loss: 0.0551\n",
      "Epoch 160/200\n",
      "20803/20803 [==============================] - 13s 612us/sample - loss: 0.0041 - starts_loss: 0.0018 - stops_loss: 0.0023 - val_loss: 0.1122 - val_starts_loss: 0.0577 - val_stops_loss: 0.0540\n"
     ]
    },
    {
     "name": "stdout",
     "output_type": "stream",
     "text": [
      "Epoch 161/200\n",
      "20803/20803 [==============================] - 13s 616us/sample - loss: 0.0050 - starts_loss: 0.0023 - stops_loss: 0.0027 - val_loss: 0.1067 - val_starts_loss: 0.0542 - val_stops_loss: 0.0526\n",
      "Epoch 162/200\n",
      "20803/20803 [==============================] - 13s 624us/sample - loss: 0.0058 - starts_loss: 0.0026 - stops_loss: 0.0032 - val_loss: 0.1062 - val_starts_loss: 0.0531 - val_stops_loss: 0.0527\n",
      "Epoch 163/200\n",
      "20803/20803 [==============================] - 13s 624us/sample - loss: 0.0062 - starts_loss: 0.0029 - stops_loss: 0.0034 - val_loss: 0.0993 - val_starts_loss: 0.0496 - val_stops_loss: 0.0501\n",
      "Epoch 164/200\n",
      "20803/20803 [==============================] - 13s 617us/sample - loss: 0.0057 - starts_loss: 0.0026 - stops_loss: 0.0031 - val_loss: 0.0976 - val_starts_loss: 0.0485 - val_stops_loss: 0.0491\n",
      "Epoch 165/200\n",
      "20803/20803 [==============================] - 13s 604us/sample - loss: 0.0048 - starts_loss: 0.0021 - stops_loss: 0.0027 - val_loss: 0.1004 - val_starts_loss: 0.0507 - val_stops_loss: 0.0499\n",
      "Epoch 166/200\n",
      "20803/20803 [==============================] - 13s 609us/sample - loss: 0.0042 - starts_loss: 0.0018 - stops_loss: 0.0024 - val_loss: 0.1011 - val_starts_loss: 0.0512 - val_stops_loss: 0.0496\n",
      "Epoch 167/200\n",
      "20803/20803 [==============================] - 13s 642us/sample - loss: 0.0038 - starts_loss: 0.0016 - stops_loss: 0.0022 - val_loss: 0.1027 - val_starts_loss: 0.0527 - val_stops_loss: 0.0501\n",
      "Epoch 168/200\n",
      "20803/20803 [==============================] - 13s 617us/sample - loss: 0.0033 - starts_loss: 0.0014 - stops_loss: 0.0019 - val_loss: 0.1040 - val_starts_loss: 0.0531 - val_stops_loss: 0.0508\n",
      "Epoch 169/200\n",
      "20803/20803 [==============================] - 12s 601us/sample - loss: 0.0030 - starts_loss: 0.0013 - stops_loss: 0.0018 - val_loss: 0.1050 - val_starts_loss: 0.0532 - val_stops_loss: 0.0514\n",
      "Epoch 170/200\n",
      "20803/20803 [==============================] - 12s 598us/sample - loss: 0.0029 - starts_loss: 0.0012 - stops_loss: 0.0017 - val_loss: 0.1069 - val_starts_loss: 0.0543 - val_stops_loss: 0.0522\n",
      "Epoch 171/200\n",
      "20803/20803 [==============================] - 13s 603us/sample - loss: 0.0026 - starts_loss: 0.0011 - stops_loss: 0.0015 - val_loss: 0.1071 - val_starts_loss: 0.0545 - val_stops_loss: 0.0522\n",
      "Epoch 172/200\n",
      "20803/20803 [==============================] - 12s 594us/sample - loss: 0.0025 - starts_loss: 0.0011 - stops_loss: 0.0014 - val_loss: 0.1073 - val_starts_loss: 0.0546 - val_stops_loss: 0.0523\n",
      "Epoch 173/200\n",
      "20803/20803 [==============================] - 13s 605us/sample - loss: 0.0025 - starts_loss: 0.0010 - stops_loss: 0.0014 - val_loss: 0.1076 - val_starts_loss: 0.0549 - val_stops_loss: 0.0524\n",
      "Epoch 174/200\n",
      "20803/20803 [==============================] - 12s 595us/sample - loss: 0.0024 - starts_loss: 9.7411e-04 - stops_loss: 0.0015 - val_loss: 0.1100 - val_starts_loss: 0.0554 - val_stops_loss: 0.0542\n",
      "Epoch 175/200\n",
      "20803/20803 [==============================] - 12s 594us/sample - loss: 0.0025 - starts_loss: 0.0010 - stops_loss: 0.0014 - val_loss: 0.1096 - val_starts_loss: 0.0562 - val_stops_loss: 0.0536\n",
      "Epoch 176/200\n",
      "20803/20803 [==============================] - 12s 590us/sample - loss: 0.0026 - starts_loss: 0.0011 - stops_loss: 0.0015 - val_loss: 0.1114 - val_starts_loss: 0.0571 - val_stops_loss: 0.0546\n",
      "Epoch 177/200\n",
      "20803/20803 [==============================] - 12s 585us/sample - loss: 0.0029 - starts_loss: 0.0012 - stops_loss: 0.0017 - val_loss: 0.1122 - val_starts_loss: 0.0567 - val_stops_loss: 0.0551\n",
      "Epoch 178/200\n",
      "20803/20803 [==============================] - 12s 597us/sample - loss: 0.0031 - starts_loss: 0.0013 - stops_loss: 0.0018 - val_loss: 0.1142 - val_starts_loss: 0.0583 - val_stops_loss: 0.0565\n",
      "Epoch 179/200\n",
      "20803/20803 [==============================] - 13s 604us/sample - loss: 0.0037 - starts_loss: 0.0016 - stops_loss: 0.0021 - val_loss: 0.1108 - val_starts_loss: 0.0558 - val_stops_loss: 0.0541\n",
      "Epoch 180/200\n",
      "20803/20803 [==============================] - 12s 596us/sample - loss: 0.0045 - starts_loss: 0.0022 - stops_loss: 0.0025 - val_loss: 0.1073 - val_starts_loss: 0.0537 - val_stops_loss: 0.0538\n",
      "Epoch 181/200\n",
      "20803/20803 [==============================] - 12s 592us/sample - loss: 0.0053 - starts_loss: 0.0023 - stops_loss: 0.0030 - val_loss: 0.1057 - val_starts_loss: 0.0522 - val_stops_loss: 0.0538\n",
      "Epoch 182/200\n",
      "20803/20803 [==============================] - 13s 609us/sample - loss: 0.0056 - starts_loss: 0.0025 - stops_loss: 0.0032 - val_loss: 0.1012 - val_starts_loss: 0.0521 - val_stops_loss: 0.0501\n",
      "Epoch 183/200\n",
      "20803/20803 [==============================] - 12s 589us/sample - loss: 0.0053 - starts_loss: 0.0024 - stops_loss: 0.0029 - val_loss: 0.1018 - val_starts_loss: 0.0513 - val_stops_loss: 0.0520\n",
      "Epoch 184/200\n",
      "20803/20803 [==============================] - 13s 604us/sample - loss: 0.0045 - starts_loss: 0.0021 - stops_loss: 0.0025 - val_loss: 0.1030 - val_starts_loss: 0.0518 - val_stops_loss: 0.0521\n",
      "Epoch 185/200\n",
      "20803/20803 [==============================] - 12s 599us/sample - loss: 0.0039 - starts_loss: 0.0017 - stops_loss: 0.0023 - val_loss: 0.1057 - val_starts_loss: 0.0545 - val_stops_loss: 0.0528\n",
      "Epoch 186/200\n",
      "20803/20803 [==============================] - 12s 589us/sample - loss: 0.0034 - starts_loss: 0.0015 - stops_loss: 0.0019 - val_loss: 0.1090 - val_starts_loss: 0.0574 - val_stops_loss: 0.0529\n",
      "Epoch 187/200\n",
      "20803/20803 [==============================] - 12s 601us/sample - loss: 0.0032 - starts_loss: 0.0014 - stops_loss: 0.0018 - val_loss: 0.1078 - val_starts_loss: 0.0550 - val_stops_loss: 0.0542\n",
      "Epoch 188/200\n",
      "20803/20803 [==============================] - 13s 629us/sample - loss: 0.0028 - starts_loss: 0.0012 - stops_loss: 0.0016 - val_loss: 0.1082 - val_starts_loss: 0.0561 - val_stops_loss: 0.0534\n",
      "Epoch 189/200\n",
      "20803/20803 [==============================] - 13s 622us/sample - loss: 0.0026 - starts_loss: 0.0011 - stops_loss: 0.0015 - val_loss: 0.1091 - val_starts_loss: 0.0564 - val_stops_loss: 0.0538\n",
      "Epoch 190/200\n",
      "20803/20803 [==============================] - 13s 621us/sample - loss: 0.0024 - starts_loss: 9.5065e-04 - stops_loss: 0.0014 - val_loss: 0.1087 - val_starts_loss: 0.0562 - val_stops_loss: 0.0534\n",
      "Epoch 191/200\n",
      "20803/20803 [==============================] - 13s 627us/sample - loss: 0.0023 - starts_loss: 9.4615e-04 - stops_loss: 0.0014 - val_loss: 0.1088 - val_starts_loss: 0.0562 - val_stops_loss: 0.0534\n",
      "Epoch 192/200\n",
      "20803/20803 [==============================] - 13s 622us/sample - loss: 0.0022 - starts_loss: 9.1056e-04 - stops_loss: 0.0013 - val_loss: 0.1096 - val_starts_loss: 0.0569 - val_stops_loss: 0.0539\n",
      "Epoch 193/200\n",
      "20803/20803 [==============================] - 13s 615us/sample - loss: 0.0022 - starts_loss: 8.3997e-04 - stops_loss: 0.0013 - val_loss: 0.1112 - val_starts_loss: 0.0578 - val_stops_loss: 0.0545\n",
      "Epoch 194/200\n",
      "20803/20803 [==============================] - 12s 601us/sample - loss: 0.0022 - starts_loss: 9.3350e-04 - stops_loss: 0.0013 - val_loss: 0.1123 - val_starts_loss: 0.0577 - val_stops_loss: 0.0551\n",
      "Epoch 195/200\n",
      "20803/20803 [==============================] - 13s 603us/sample - loss: 0.0023 - starts_loss: 9.4801e-04 - stops_loss: 0.0014 - val_loss: 0.1142 - val_starts_loss: 0.0592 - val_stops_loss: 0.0555\n",
      "Epoch 196/200\n",
      "20803/20803 [==============================] - 12s 594us/sample - loss: 0.0026 - starts_loss: 0.0011 - stops_loss: 0.0015 - val_loss: 0.1143 - val_starts_loss: 0.0601 - val_stops_loss: 0.0558\n",
      "Epoch 197/200\n",
      "20803/20803 [==============================] - 12s 592us/sample - loss: 0.0029 - starts_loss: 0.0013 - stops_loss: 0.0017 - val_loss: 0.1128 - val_starts_loss: 0.0591 - val_stops_loss: 0.0552\n",
      "Epoch 198/200\n",
      "20803/20803 [==============================] - 12s 591us/sample - loss: 0.0034 - starts_loss: 0.0015 - stops_loss: 0.0020 - val_loss: 0.1142 - val_starts_loss: 0.0588 - val_stops_loss: 0.0557\n",
      "Epoch 199/200\n",
      "20803/20803 [==============================] - 12s 595us/sample - loss: 0.0040 - starts_loss: 0.0017 - stops_loss: 0.0023 - val_loss: 0.1117 - val_starts_loss: 0.0563 - val_stops_loss: 0.0558\n",
      "Epoch 200/200\n",
      "20803/20803 [==============================] - 13s 611us/sample - loss: 0.0049 - starts_loss: 0.0022 - stops_loss: 0.0027 - val_loss: 0.1100 - val_starts_loss: 0.0570 - val_stops_loss: 0.0542\n"
     ]
    }
   ],
   "source": [
    "history = model.fit(x={\"att_flags\":X_att_train,\n",
    "                       \"words\":X_train},\n",
    "                    y={\"starts\":Y_starts_train,\n",
    "                       \"stops\":Y_stops_train},\n",
    "                    shuffle=True,\n",
    "                    batch_size=BATCH_SIZE,\n",
    "                    epochs=NUM_EPOCHS,\n",
    "                    validation_data=({\"att_flags\":X_att_val, \"words\":X_val},\n",
    "                                     {\"starts\":Y_starts_val, \"stops\":Y_stops_val}),\n",
    "                    verbose=1,\n",
    "                    callbacks=[clr, mcp]) #es, rlrop, tb, mcp,"
   ]
  },
  {
   "cell_type": "code",
   "execution_count": 49,
   "metadata": {},
   "outputs": [
    {
     "data": {
      "image/png": "[encoded data removed]",
      "text/plain": [
       "<Figure size 432x288 with 1 Axes>"
      ]
     },
     "metadata": {
      "needs_background": "light"
     },
     "output_type": "display_data"
    },
    {
     "data": {
      "image/png": "[encoded data removed]",
      "text/plain": [
       "<Figure size 432x288 with 1 Axes>"
      ]
     },
     "metadata": {
      "needs_background": "light"
     },
     "output_type": "display_data"
    },
    {
     "data": {
      "image/png": "[encoded data removed]",
      "text/plain": [
       "<Figure size 432x288 with 1 Axes>"
      ]
     },
     "metadata": {
      "needs_background": "light"
     },
     "output_type": "display_data"
    }
   ],
   "source": [
    "#metric_names = ['loss' ,'accuracy']\n",
    "metric_names = [\"loss\", \"starts_loss\", \"stops_loss\"]\n",
    "\n",
    "for i, j in zip(metric_names, ['val_'+i for i in metric_names]):\n",
    "    plt.plot(history.history[i])\n",
    "    plt.plot(history.history[j])\n",
    "    plt.title('Model '+i)\n",
    "    plt.ylabel(i.upper())\n",
    "    plt.xlabel('Epoch')\n",
    "    plt.legend(['Train', 'Validation'])\n",
    "    plt.show()"
   ]
  },
  {
   "cell_type": "markdown",
   "metadata": {},
   "source": [
    "## Validation"
   ]
  },
  {
   "cell_type": "markdown",
   "metadata": {},
   "source": [
    "#### Inference"
   ]
  },
  {
   "cell_type": "code",
   "execution_count": 50,
   "metadata": {},
   "outputs": [],
   "source": [
    "from tensorflow.keras.models import load_model\n",
    "\n",
    "model = tf.keras.models.load_model(\n",
    "    filepath=\"../results/\"+MODEL_PREFIX+\"Checkpoint.h5\",\n",
    "    compile=True\n",
    ")"
   ]
  },
  {
   "cell_type": "code",
   "execution_count": 51,
   "metadata": {},
   "outputs": [
    {
     "name": "stdout",
     "output_type": "stream",
     "text": [
      "5201/5201 [==============================] - 1s 196us/sample - loss: 0.0504 - starts_loss: 0.0243 - stops_loss: 0.0260\n"
     ]
    },
    {
     "data": {
      "text/plain": [
       "[0.05038982066219299, 0.02431308, 0.025985407]"
      ]
     },
     "execution_count": 51,
     "metadata": {},
     "output_type": "execute_result"
    }
   ],
   "source": [
    "model.evaluate(x = {\"att_flags\":X_att_val, \"words\":X_val},\n",
    "               y={\"starts\":Y_starts_val, \"stops\":Y_stops_val},\n",
    "               batch_size=PREDICT_BATCH_SIZE)"
   ]
  },
  {
   "cell_type": "code",
   "execution_count": 69,
   "metadata": {},
   "outputs": [],
   "source": [
    "pred_train = model.predict(x = {\"att_flags\":X_att_train, \"words\":X_train},\n",
    "                           batch_size=PREDICT_BATCH_SIZE)\n",
    "pred_val = model.predict(x = {\"att_flags\":X_att_val, \"words\":X_val},\n",
    "                         batch_size=PREDICT_BATCH_SIZE)\n",
    "pred_test = model.predict(x = {\"att_flags\":X_att_test, \"words\":X_test},\n",
    "                          batch_size=PREDICT_BATCH_SIZE)"
   ]
  },
  {
   "cell_type": "code",
   "execution_count": 72,
   "metadata": {},
   "outputs": [],
   "source": [
    "pred_starts_train, pred_stops_train = pred_train[0], pred_train[1]\n",
    "pred_starts_val, pred_stops_val = pred_val[0], pred_val[1]\n",
    "pred_starts_test, pred_stops_test = pred_test[0], pred_test[1]"
   ]
  },
  {
   "cell_type": "code",
   "execution_count": 73,
   "metadata": {},
   "outputs": [
    {
     "name": "stdout",
     "output_type": "stream",
     "text": [
      "(20803, 110) (20803, 110)\n",
      "(5201, 110) (5201, 110)\n",
      "(3534, 110) (3534, 110)\n"
     ]
    }
   ],
   "source": [
    "print(pred_starts_train.shape, pred_stops_train.shape)\n",
    "print(pred_starts_val.shape, pred_stops_val.shape)\n",
    "print(pred_starts_test.shape, pred_stops_test.shape)"
   ]
  },
  {
   "cell_type": "code",
   "execution_count": 65,
   "metadata": {},
   "outputs": [],
   "source": [
    "from sklearn.metrics import accuracy_score, confusion_matrix, f1_score, precision_score, recall_score"
   ]
  },
  {
   "cell_type": "code",
   "execution_count": 120,
   "metadata": {},
   "outputs": [],
   "source": [
    "preds = {\n",
    "    \"train\":{\n",
    "        \"starts\":{\n",
    "            \"y_true\":Y_starts_train.argmax(axis=1),\n",
    "            \"y_pred\":pred_starts_train.argmax(axis=1)\n",
    "        },\n",
    "        \"stops\":{\n",
    "            \"y_true\":Y_stops_train.argmax(axis=1),\n",
    "            \"y_pred\":pred_stops_train.argmax(axis=1)\n",
    "        }\n",
    "    },\n",
    "    \"valid\":{\n",
    "        \"starts\":{\n",
    "            \"y_true\":Y_starts_val.argmax(axis=1),\n",
    "            \"y_pred\":pred_starts_val.argmax(axis=1)\n",
    "        },\n",
    "        \"stops\":{\n",
    "            \"y_true\":Y_stops_train.argmax(axis=1),\n",
    "            \"y_pred\":pred_stops_train.argmax(axis=1)\n",
    "        }        \n",
    "    }\n",
    "}"
   ]
  },
  {
   "cell_type": "code",
   "execution_count": 131,
   "metadata": {},
   "outputs": [
    {
     "name": "stdout",
     "output_type": "stream",
     "text": [
      "73.97 \t|| train \t|| starts \t|| accuracy_score\n",
      "70.28 \t|| train \t|| stops \t|| accuracy_score\n",
      "56.53 \t|| valid \t|| starts \t|| accuracy_score\n",
      "70.28 \t|| valid \t|| stops \t|| accuracy_score\n",
      "================================================================\n",
      "40.86 \t|| train \t|| starts \t|| f1_score\n",
      "71.22 \t|| train \t|| stops \t|| f1_score\n",
      "8.08 \t|| valid \t|| starts \t|| f1_score\n",
      "71.22 \t|| valid \t|| stops \t|| f1_score\n",
      "================================================================\n",
      "52.04 \t|| train \t|| starts \t|| precision_score\n",
      "78.74 \t|| train \t|| stops \t|| precision_score\n",
      "10.13 \t|| valid \t|| starts \t|| precision_score\n",
      "78.74 \t|| valid \t|| stops \t|| precision_score\n",
      "================================================================\n",
      "41.12 \t|| train \t|| starts \t|| recall_score\n",
      "69.99 \t|| train \t|| stops \t|| recall_score\n",
      "8.51 \t|| valid \t|| starts \t|| recall_score\n",
      "69.99 \t|| valid \t|| stops \t|| recall_score\n",
      "================================================================\n",
      "\t|| train \t|| starts \t|| confusion_matrix \t|| ../results/ConfusionMatrix_V08_train_starts.csv\n",
      "\t|| train \t|| stops \t|| confusion_matrix \t|| ../results/ConfusionMatrix_V08_train_stops.csv\n",
      "\t|| valid \t|| starts \t|| confusion_matrix \t|| ../results/ConfusionMatrix_V08_valid_starts.csv\n",
      "\t|| valid \t|| stops \t|| confusion_matrix \t|| ../results/ConfusionMatrix_V08_valid_stops.csv\n",
      "================================================================\n"
     ]
    }
   ],
   "source": [
    "def print_metrics():\n",
    "    funcs = [accuracy_score, f1_score, precision_score, recall_score, confusion_matrix]\n",
    "    for f in funcs:\n",
    "        for data_set in [\"train\",\"valid\"]:\n",
    "            for var in [\"starts\", \"stops\"]:\n",
    "                if f in [accuracy_score]:\n",
    "                    res = f(**preds[data_set][var])\n",
    "                    print(\"{:.2f}\".format(100 * res), \"\\t||\", data_set, \"\\t||\", var, \"\\t||\", f.__name__)\n",
    "                elif f in [confusion_matrix]:\n",
    "                    res = f(**preds[data_set][var])\n",
    "                    np.savetxt(X=res, fmt='%i', delimiter=\",\",\n",
    "                               fname=\"../results/ConfusionMatrix_\"+MODEL_PREFIX+\"_\"+data_set+\"_\"+var+\".csv\")\n",
    "                    print(\"\\t||\", data_set, \"\\t||\", var, \"\\t||\", f.__name__, \"\\t||\", \n",
    "                          \"../results/ConfusionMatrix_\"+MODEL_PREFIX+\"_\"+data_set+\"_\"+var+\".csv\")\n",
    "                else:\n",
    "                    res = f(**preds[data_set][var], average=\"macro\")\n",
    "                    print(\"{:.2f}\".format(100 * res), \"\\t||\", data_set, \"\\t||\", var, \"\\t||\", f.__name__)\n",
    "        print(\"================================================================\")\n",
    "\n",
    "print_metrics()"
   ]
  },
  {
   "cell_type": "code",
   "execution_count": 102,
   "metadata": {},
   "outputs": [
    {
     "name": "stdout",
     "output_type": "stream",
     "text": [
      "Min Accuracy: TRAINING: \t 91.95\n",
      "Min Accuracy: VALIDATION: \t 92.02\n"
     ]
    }
   ],
   "source": [
    "# Accuracy is not a good metric\n",
    "print(\"Min Accuracy: TRAINING: \\t\", \"{:.2f}\".format(100 * np.sum(Y_train == 0) / (Y_train.shape[0] * Y_train.shape[1])))\n",
    "print(\"Min Accuracy: VALIDATION: \\t\", \"{:.2f}\".format(100 * np.sum(Y_val == 0) / (Y_val.shape[0] * Y_val.shape[1])))"
   ]
  },
  {
   "cell_type": "markdown",
   "metadata": {},
   "source": [
    "#### Postprocessing"
   ]
  },
  {
   "cell_type": "code",
   "execution_count": null,
   "metadata": {},
   "outputs": [],
   "source": [
    "sent_labels = {i:j for i,j in enumerate(df.sentiment_code.cat.categories)}"
   ]
  },
  {
   "cell_type": "code",
   "execution_count": null,
   "metadata": {},
   "outputs": [],
   "source": [
    "pred_train_words = [i[j>0.5].tolist() for i,j in zip(X_train, pred_train)]\n",
    "pred_val_words = [i[j>0.5].tolist() for i,j in zip(X_val, pred_val)]\n",
    "pred_test_words = [i[j>0.5].tolist() for i,j in zip(X_test, pred_test)]"
   ]
  },
  {
   "cell_type": "markdown",
   "metadata": {},
   "source": [
    "#### Spot Checks"
   ]
  },
  {
   "cell_type": "code",
   "execution_count": null,
   "metadata": {},
   "outputs": [],
   "source": [
    "def spot_check(index_to_check, mode):\n",
    "    print(\"================== Sample #\", index_to_check, \"==================\")\n",
    "    if mode == \"train\":\n",
    "        print(\"Sentiment:\")\n",
    "        print('\\t', sent_labels[X_sentiments_train[index_to_check]])\n",
    "        print(\"Selected_text:\")\n",
    "        print('\\t', Y_words[train_idx[index_to_check]])\n",
    "        print(\"Predicted_text:\")\n",
    "        print('\\t', [get_from_vocab(vocab_itos,j) for j in pred_train_words[index_to_check]])\n",
    "        print(\"Predictions:\")\n",
    "        print('\\t',*[[\"%.2f\"%j,\n",
    "                      i,\n",
    "                      X_words[train_idx[index_to_check]][num]] for num, (i,j) in enumerate(zip(X_train[index_to_check].tolist(),\n",
    "                                                                                               pred_train[index_to_check].tolist())) if i!=0], sep=\"\\n\\t\")\n",
    "        \n",
    "    elif mode == \"validation\":\n",
    "        print(\"Sentiment:\")\n",
    "        print('\\t', sent_labels[X_sentiments_val[index_to_check]])\n",
    "        print(\"Selected_text:\")\n",
    "        print('\\t', Y_words[val_idx[index_to_check]])\n",
    "        print(\"Predicted_text:\")\n",
    "        print('\\t', [get_from_vocab(vocab_itos,j) for j in pred_val_words[index_to_check]])\n",
    "        print(\"Predictions:\")\n",
    "        print('\\t',*[[\"%.2f\"%j,\n",
    "                      i,\n",
    "                      X_words[val_idx[index_to_check]][num]] for num, (i,j) in enumerate(zip(X_val[index_to_check].tolist(),\n",
    "                                                                                             pred_val[index_to_check].tolist())) if i!=0], sep=\"\\n\\t\")\n",
    "        \n",
    "    else:\n",
    "        print(\"Sentiment:\")\n",
    "        print('\\t', sent_labels[X_sentiments_test[index_to_check]])\n",
    "        print(\"Selected_text:\")\n",
    "        print('\\t', \"Not Available\")\n",
    "        print(\"Predicted_text:\")\n",
    "        print('\\t', [get_from_vocab(vocab_itos,j) for j in pred_test_words[index_to_check]])\n",
    "        print(\"Predictions:\")\n",
    "        print('\\t',*[[\"%.2f\"%j,\n",
    "                      i,\n",
    "                      X_test_words[index_to_check][num]] for num, (i,j) in enumerate(zip(X_test[index_to_check].tolist(),\n",
    "                                                                                         pred_test[index_to_check].tolist())) if i!=0], sep=\"\\n\\t\")"
   ]
  },
  {
   "cell_type": "code",
   "execution_count": null,
   "metadata": {},
   "outputs": [],
   "source": [
    "for i in range(10,20):\n",
    "    spot_check(i, mode=\"train\")"
   ]
  },
  {
   "cell_type": "code",
   "execution_count": null,
   "metadata": {},
   "outputs": [],
   "source": [
    "for i in range(200,210):\n",
    "    spot_check(i, mode=\"validation\")"
   ]
  },
  {
   "cell_type": "code",
   "execution_count": null,
   "metadata": {},
   "outputs": [],
   "source": [
    "for i in range(10,20):\n",
    "    spot_check(i, mode=\"test\")"
   ]
  },
  {
   "cell_type": "code",
   "execution_count": null,
   "metadata": {},
   "outputs": [],
   "source": [
    "def jaccard(str1, str2): \n",
    "    a = set(str1) \n",
    "    b = set(str2)\n",
    "    c = a.intersection(b)\n",
    "    return float(len(c)) / (len(a) + len(b) - len(c))"
   ]
  },
  {
   "cell_type": "code",
   "execution_count": null,
   "metadata": {},
   "outputs": [],
   "source": [
    "print(\"Training Jaccard Score\", np.mean([jaccard(str1=i[i>0], str2=j) for i,j in zip(Y_train,pred_train_words)]))\n",
    "print(\"Validation Jaccard Score\", np.mean([jaccard(str1=i[i>0], str2=j) for i,j in zip(Y_val,pred_val_words)]))"
   ]
  },
  {
   "cell_type": "code",
   "execution_count": null,
   "metadata": {},
   "outputs": [],
   "source": [
    "# Average number of words in selected text?\n",
    "pd.Series([len(i) for i in Y]).describe()"
   ]
  },
  {
   "cell_type": "code",
   "execution_count": null,
   "metadata": {},
   "outputs": [],
   "source": []
  },
  {
   "cell_type": "code",
   "execution_count": null,
   "metadata": {},
   "outputs": [],
   "source": []
  },
  {
   "cell_type": "code",
   "execution_count": null,
   "metadata": {},
   "outputs": [],
   "source": []
  },
  {
   "cell_type": "code",
   "execution_count": null,
   "metadata": {},
   "outputs": [],
   "source": []
  },
  {
   "cell_type": "code",
   "execution_count": null,
   "metadata": {},
   "outputs": [],
   "source": []
  },
  {
   "cell_type": "code",
   "execution_count": null,
   "metadata": {},
   "outputs": [],
   "source": []
  },
  {
   "cell_type": "code",
   "execution_count": null,
   "metadata": {},
   "outputs": [],
   "source": [
    "# is it generally predicting words that are in itself??\n",
    "np.mean([sum([1  if (k in j) else 0 for k in i])/len(i) if len(i)!=0 else 0 for i,j in zip(pred_val_words, Y_val)])"
   ]
  },
  {
   "cell_type": "code",
   "execution_count": null,
   "metadata": {},
   "outputs": [],
   "source": [
    "[(sent_labels[X_sentiments_test[num]], [get_from_vocab(vocab_itos,j) for j in i]) for num, i in enumerate(pred_test_words[:5])]"
   ]
  },
  {
   "cell_type": "code",
   "execution_count": null,
   "metadata": {},
   "outputs": [],
   "source": [
    "def post_process(x):\n",
    "    x = \"\".join(x)\n",
    "    x = re.sub(pattern=\"xxxSTART\", repl=\"\", string=x)\n",
    "    x = re.sub(pattern=\"xxxEND\", repl=\"\", string=x)\n",
    "    return x"
   ]
  },
  {
   "cell_type": "code",
   "execution_count": null,
   "metadata": {},
   "outputs": [],
   "source": [
    "pred_train_words = [[get_from_vocab(vocab_itos,j) for j in i] for i in pred_train_words]\n",
    "pred_val_words = [[get_from_vocab(vocab_itos,j) for j in i] for i in pred_val_words]\n",
    "pred_test_words = [[get_from_vocab(vocab_itos,j) for j in i] for i in pred_test_words]"
   ]
  },
  {
   "cell_type": "code",
   "execution_count": null,
   "metadata": {},
   "outputs": [],
   "source": [
    "a = pred_val_words[300]\n",
    "print([vocab_itos[i] for i in X_val[300] if i!=0])\n",
    "print([vocab_itos[i] for i in Y_val[300] if i!=0])\n",
    "print(pred_val_words[300])\n",
    "print(post_process(a))"
   ]
  },
  {
   "cell_type": "code",
   "execution_count": null,
   "metadata": {},
   "outputs": [],
   "source": [
    "post_process(pred_test_words[18])"
   ]
  },
  {
   "cell_type": "code",
   "execution_count": null,
   "metadata": {},
   "outputs": [],
   "source": [
    "[[post_process(i)] for num, i in enumerate(pred_test_words)]"
   ]
  },
  {
   "cell_type": "code",
   "execution_count": null,
   "metadata": {},
   "outputs": [],
   "source": [
    "from sklearn.metrics import jaccard_score"
   ]
  },
  {
   "cell_type": "code",
   "execution_count": null,
   "metadata": {},
   "outputs": [],
   "source": [
    "def jaccard(str1, str2):\n",
    "    a = set(str1.lower().split()) \n",
    "    b = set(str2.lower().split())\n",
    "    c = a.intersection(b)\n",
    "    return float(len(c)) / (len(a) + len(b) - len(c))"
   ]
  },
  {
   "cell_type": "code",
   "execution_count": null,
   "metadata": {},
   "outputs": [],
   "source": [
    "len(train_idx), keep_x_train.shape, pred_train.shape"
   ]
  },
  {
   "cell_type": "code",
   "execution_count": null,
   "metadata": {},
   "outputs": [],
   "source": [
    "predictions = pd.DataFrame({\n",
    "    \"pred_selected_text\" : pred_train_words + pred_val_words,\n",
    "    \"original_index\" : np.concatenate((np.array(train_idx, dtype=np.int64)[keep_x_train],\n",
    "                                       np.array(val_idx, dtype=np.int64)[keep_x_val])),\n",
    "    \"set\" : [\"train\" for i in range(sum(keep_x_train))] + [\"val\" for i in range(sum(keep_x_val))]\n",
    "})"
   ]
  },
  {
   "cell_type": "code",
   "execution_count": null,
   "metadata": {},
   "outputs": [],
   "source": [
    "assert (predictions.original_index.min(), predictions.original_index.max()) == (df.original_index.min(), df.original_index.max())"
   ]
  },
  {
   "cell_type": "code",
   "execution_count": null,
   "metadata": {},
   "outputs": [],
   "source": [
    "print(df.shape, predictions.shape)\n",
    "results = pd.merge(df, predictions, on = \"original_index\", how=\"inner\")\n",
    "print(df.shape, predictions.shape, results.shape)"
   ]
  },
  {
   "cell_type": "code",
   "execution_count": null,
   "metadata": {},
   "outputs": [],
   "source": [
    "results.loc[results.set==\"val\"].head(10)"
   ]
  },
  {
   "cell_type": "code",
   "execution_count": null,
   "metadata": {},
   "outputs": [],
   "source": [
    "results.loc[results.set==\"train\"].head(10)"
   ]
  },
  {
   "cell_type": "code",
   "execution_count": null,
   "metadata": {},
   "outputs": [],
   "source": []
  },
  {
   "cell_type": "code",
   "execution_count": null,
   "metadata": {},
   "outputs": [],
   "source": []
  },
  {
   "cell_type": "code",
   "execution_count": null,
   "metadata": {},
   "outputs": [],
   "source": [
    "conf_mat_train = confusion_matrix(Y_train.argmax(axis=1).reshape(-1), pred_train.reshape(-1))\n",
    "conf_mat_val = confusion_matrix(Y_val.argmax(axis=1).reshape(-1), pred_val.reshape(-1))\n",
    "print(\"The train accuracy is\\t\",np.round(100 * np.sum(np.diag(conf_mat_train)) / np.sum(conf_mat_train),2))\n",
    "print(\"The valid accuracy is\\t\",np.round(100 * np.sum(np.diag(conf_mat_val)) / np.sum(conf_mat_val),2))\n",
    "\n",
    "np.savetxt(X=conf_mat_train, fname=\"../results/ConfMatrix_train_\" + MODEL_PREFIX + \".txt\")\n",
    "np.savetxt(X=conf_mat_val, fname=\"../results/ConfMatrix_val_\" + MODEL_PREFIX + \".txt\")\n",
    "\n",
    "f1_train = f1_score(Y_train.argmax(axis=1).reshape(-1), pred_train.reshape(-1), average='macro')\n",
    "f1_val = f1_score(Y_val.argmax(axis=1).reshape(-1), pred_val.reshape(-1), average='macro')\n",
    "print(\"The train macro f1score is\\t\",np.round(f1_train,2))\n",
    "print(\"The valid macro f1score is\\t\",np.round(f1_val,2))"
   ]
  },
  {
   "cell_type": "code",
   "execution_count": null,
   "metadata": {},
   "outputs": [],
   "source": [
    "submission = pd.DataFrame({'time':test_df['time'],'open_channels':pred_test.reshape(-1)})\n",
    "submission.to_csv(\"../results/submission_20200412V\"+MODEL_NUMBER+\".csv\", index=False, float_format='%.4f')"
   ]
  },
  {
   "cell_type": "code",
   "execution_count": null,
   "metadata": {},
   "outputs": [],
   "source": [
    "from tensorflow.keras.models import load_model\n",
    "\n",
    "best_model = tf.keras.models.load_model(\n",
    "    filepath=\"../results/\"+MODEL_PREFIX+\"Checkpoint.h5\",\n",
    "    compile=True,\n",
    "    custom_objects = {'macro_soft_f1':macro_soft_f1, 'macro_f1':macro_f1}\n",
    ")"
   ]
  },
  {
   "cell_type": "code",
   "execution_count": null,
   "metadata": {},
   "outputs": [],
   "source": [
    "pred_train = best_model.predict(x = X_train, batch_size=PREDICT_BATCH_SIZE)\n",
    "pred_val = best_model.predict(x = X_val, batch_size=PREDICT_BATCH_SIZE)\n",
    "pred_test = best_model.predict(x = X_test, batch_size=PREDICT_BATCH_SIZE)"
   ]
  },
  {
   "cell_type": "code",
   "execution_count": null,
   "metadata": {},
   "outputs": [],
   "source": [
    "pred_train = pred_train.argmax(axis=1)\n",
    "pred_val = pred_val.argmax(axis=1)\n",
    "pred_test = pred_test.argmax(axis=1)"
   ]
  },
  {
   "cell_type": "code",
   "execution_count": null,
   "metadata": {},
   "outputs": [],
   "source": [
    "conf_mat_train = confusion_matrix(Y_train.argmax(axis=1).reshape(-1), pred_train.reshape(-1))\n",
    "conf_mat_val = confusion_matrix(Y_val.argmax(axis=1).reshape(-1), pred_val.reshape(-1))\n",
    "\n",
    "print(\"The train accuracy is\\t\",np.round(100 * np.sum(np.diag(conf_mat_train)) / np.sum(conf_mat_train),2))\n",
    "print(\"The valid accuracy is\\t\",np.round(100 * np.sum(np.diag(conf_mat_val)) / np.sum(conf_mat_val),2))\n",
    "\n",
    "np.savetxt(X=conf_mat_train, fname=\"../results/BestConfMatrix_train_\" + MODEL_PREFIX + \".txt\")\n",
    "np.savetxt(X=conf_mat_val, fname=\"../results/BestConfMatrix_val_\" + MODEL_PREFIX + \".txt\")\n",
    "\n",
    "f1_train = f1_score(Y_train.argmax(axis=1).reshape(-1), pred_train.reshape(-1), average='macro')\n",
    "f1_val = f1_score(Y_train.argmax(axis=1).reshape(-1), pred_train.reshape(-1), average='macro')\n",
    "print(\"The train macro f1score is\\t\",np.round(f1_train,2))\n",
    "print(\"The valid macro f1score is\\t\",np.round(f1_val,2))"
   ]
  },
  {
   "cell_type": "code",
   "execution_count": null,
   "metadata": {},
   "outputs": [],
   "source": [
    "submission = pd.DataFrame({'time':test_df['time'],'open_channels':pred_test.reshape(-1)})\n",
    "submission.to_csv(\"../results/best_submission_20200412V\"+MODEL_NUMBER+\".csv\", index=False, float_format='%.4f')"
   ]
  }
 ],
 "metadata": {
  "kernelspec": {
   "display_name": "Python 3",
   "language": "python",
   "name": "python3"
  },
  "language_info": {
   "codemirror_mode": {
    "name": "ipython",
    "version": 3
   },
   "file_extension": ".py",
   "mimetype": "text/x-python",
   "name": "python",
   "nbconvert_exporter": "python",
   "pygments_lexer": "ipython3",
   "version": "3.7.7"
  }
 },
 "nbformat": 4,
 "nbformat_minor": 2
}

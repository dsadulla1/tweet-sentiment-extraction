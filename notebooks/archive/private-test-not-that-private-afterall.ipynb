{
 "cells": [
  {
   "cell_type": "markdown",
   "metadata": {},
   "source": [
    "# Private test not that **private** afterall 🙈\n",
    "\n",
    "\n",
    "Having access to any information regarding the private test dataset is always useful. In this competition even more since [semi-supervised learning](https://www.kaggle.com/c/tweet-sentiment-extraction/discussion/143094) may play a decisive role.\n",
    "\n",
    "After some Googling, I came across the (probably) initial dataset that has been used by the author of this (atypical) Kaggle challenge.\n",
    "\n",
    "In this notebook, starting from the found dataset, I will attempt to create the **private test dataset** and will propose some ideas on how we can use this data to enhance our models.\n",
    "\n",
    "**Clean data**\n",
    "\n",
    "I believe that this is quite an important discovery, as the found dataset **has not been processed**. In the Exploratory Data Analysis part, we will see how salient information such as hashtags and uncensured words are present in that dataset. Also, and maybe even more important, all original 13 sentiments are still present (empty, sadness, enthusiasm, neutral, worry, surprise, love, fun, hate, happiness, boredom, relief, anger).\n",
    "\n",
    "**💡Ideas**\n",
    "\n",
    "Among others, one of the main advantages we can have by using this dataset is to find a subset of the training data that better match the private dataset set and try to *overfit* a model to that data.\n",
    "\n",
    "Also, as we will see later, the extra informations such as hahtags, tweet authors and sentiment can be used during pre and post-processing, as they play an important role in this challenge.\n",
    "\n",
    "**Data leakage**\n",
    "\n",
    "As some of you correctly specified, we cannot says that this is _data leakage_ as the original dataset is mentioned in the challenge description: _The dataset is titled Sentiment Analysis: Emotion in Text tweets._ Nontheless, the link (https://www.figure-eight.com/data-for-everyone/) they refers to is broken.\n",
    "\n",
    "The dataset is also available here in Kaggle: https://www.kaggle.com/icw123/emotion "
   ]
  },
  {
   "cell_type": "markdown",
   "metadata": {},
   "source": [
    "### Import ftfy and other libraries\n",
    "\n",
    "In this notebook I will use `ftfy`. I just discovered this python package some days ago and I would say it's exceptional! If you, like me, do not know it, you can check it out there [@LuminosoInsight/python-ftfy](https://github.com/LuminosoInsight/python-ftfy).\n",
    "\n",
    "Given any string, such as `Kaggle is a cool placee &lt;3`, `ftfy.fix_text()` almost magically returns:"
   ]
  },
  {
   "cell_type": "code",
   "execution_count": 1,
   "metadata": {},
   "outputs": [
    {
     "data": {
      "text/plain": [
       "'Kaggle is a cool placee <3'"
      ]
     },
     "execution_count": 1,
     "metadata": {},
     "output_type": "execute_result"
    }
   ],
   "source": [
    "import pandas as pd\n",
    "import numpy as np\n",
    "from tqdm import tqdm\n",
    "import re\n",
    "\n",
    "tqdm.pandas()\n",
    "\n",
    "import ftfy\n",
    "ftfy.fix_text('Kaggle is a cool placee &lt;3')"
   ]
  },
  {
   "cell_type": "markdown",
   "metadata": {},
   "source": [
    "# Original dataset and EDA\n",
    "\n",
    "Disclaimer: even if I call this dataframe `original`, I do not assure that it's exactly the one that the Challenge's authors used. For consistency, I will use the name for the rest of the notebook and I will try to prove that we can extract a subset of \"private train data\", but clearly I cannot assure anything. \n",
    "\n",
    "The dataframe can be found at the [following github link](https://raw.githubusercontent.com/Galanopoulog/DATA607-Project-4/master/TextEmotion.csv). If you search for some of the `train_df` and `test_df` tweets, you will shortly find a correspondency.\n",
    "\n",
    "Also, this [Github README](https://github.com/sarnthil/unify-emotion-datasets/tree/master/datasets) provides some additional information regarding the dataset. As we already know, it has been released by an AI company called _eightfigure_. The same README has an \"official\" download link from the _eightfigure_ website (http://www.crowdflower.com/wp-content/uploads/2016/07/text_emotion.csv) but the link is broken (for your reference: recently _eightfigure_ has been bought by another company and some links were lost)"
   ]
  },
  {
   "cell_type": "code",
   "execution_count": 2,
   "metadata": {},
   "outputs": [
    {
     "data": {
      "text/html": [
       "<div>\n",
       "<style scoped>\n",
       "    .dataframe tbody tr th:only-of-type {\n",
       "        vertical-align: middle;\n",
       "    }\n",
       "\n",
       "    .dataframe tbody tr th {\n",
       "        vertical-align: top;\n",
       "    }\n",
       "\n",
       "    .dataframe thead th {\n",
       "        text-align: right;\n",
       "    }\n",
       "</style>\n",
       "<table border=\"1\" class=\"dataframe\">\n",
       "  <thead>\n",
       "    <tr style=\"text-align: right;\">\n",
       "      <th></th>\n",
       "      <th>tweet_id</th>\n",
       "      <th>sentiment</th>\n",
       "      <th>author</th>\n",
       "      <th>content</th>\n",
       "    </tr>\n",
       "  </thead>\n",
       "  <tbody>\n",
       "    <tr>\n",
       "      <th>0</th>\n",
       "      <td>1956967341</td>\n",
       "      <td>empty</td>\n",
       "      <td>xoshayzers</td>\n",
       "      <td>@tiffanylue i know  i was listenin to bad habi...</td>\n",
       "    </tr>\n",
       "    <tr>\n",
       "      <th>1</th>\n",
       "      <td>1956967666</td>\n",
       "      <td>sadness</td>\n",
       "      <td>wannamama</td>\n",
       "      <td>Layin n bed with a headache  ughhhh...waitin o...</td>\n",
       "    </tr>\n",
       "    <tr>\n",
       "      <th>2</th>\n",
       "      <td>1956967696</td>\n",
       "      <td>sadness</td>\n",
       "      <td>coolfunky</td>\n",
       "      <td>Funeral ceremony...gloomy friday...</td>\n",
       "    </tr>\n",
       "    <tr>\n",
       "      <th>3</th>\n",
       "      <td>1956967789</td>\n",
       "      <td>enthusiasm</td>\n",
       "      <td>czareaquino</td>\n",
       "      <td>wants to hang out with friends SOON!</td>\n",
       "    </tr>\n",
       "    <tr>\n",
       "      <th>4</th>\n",
       "      <td>1956968416</td>\n",
       "      <td>neutral</td>\n",
       "      <td>xkilljoyx</td>\n",
       "      <td>@dannycastillo We want to trade with someone w...</td>\n",
       "    </tr>\n",
       "  </tbody>\n",
       "</table>\n",
       "</div>"
      ],
      "text/plain": [
       "     tweet_id   sentiment       author  \\\n",
       "0  1956967341       empty   xoshayzers   \n",
       "1  1956967666     sadness    wannamama   \n",
       "2  1956967696     sadness    coolfunky   \n",
       "3  1956967789  enthusiasm  czareaquino   \n",
       "4  1956968416     neutral    xkilljoyx   \n",
       "\n",
       "                                             content  \n",
       "0  @tiffanylue i know  i was listenin to bad habi...  \n",
       "1  Layin n bed with a headache  ughhhh...waitin o...  \n",
       "2                Funeral ceremony...gloomy friday...  \n",
       "3               wants to hang out with friends SOON!  \n",
       "4  @dannycastillo We want to trade with someone w...  "
      ]
     },
     "execution_count": 2,
     "metadata": {},
     "output_type": "execute_result"
    }
   ],
   "source": [
    "original_df = pd.read_csv(\"https://raw.githubusercontent.com/Galanopoulog/DATA607-Project-4/master/TextEmotion.csv\")\n",
    "original_df.head()"
   ]
  },
  {
   "cell_type": "markdown",
   "metadata": {},
   "source": [
    "### Single tweet\n",
    "\n",
    "Let's take at random a tweet from the TSE `train_df`: \"sooo sad i will miss you here in san diego!!!\" (with `textID` 549e992a42)\n",
    "\n",
    "As we can see, the `original_df` contains the span text:"
   ]
  },
  {
   "cell_type": "code",
   "execution_count": 3,
   "metadata": {},
   "outputs": [
    {
     "data": {
      "text/html": [
       "<div>\n",
       "<style scoped>\n",
       "    .dataframe tbody tr th:only-of-type {\n",
       "        vertical-align: middle;\n",
       "    }\n",
       "\n",
       "    .dataframe tbody tr th {\n",
       "        vertical-align: top;\n",
       "    }\n",
       "\n",
       "    .dataframe thead th {\n",
       "        text-align: right;\n",
       "    }\n",
       "</style>\n",
       "<table border=\"1\" class=\"dataframe\">\n",
       "  <thead>\n",
       "    <tr style=\"text-align: right;\">\n",
       "      <th></th>\n",
       "      <th>tweet_id</th>\n",
       "      <th>sentiment</th>\n",
       "      <th>author</th>\n",
       "      <th>content</th>\n",
       "    </tr>\n",
       "  </thead>\n",
       "  <tbody>\n",
       "    <tr>\n",
       "      <th>7591</th>\n",
       "      <td>1961767976</td>\n",
       "      <td>sadness</td>\n",
       "      <td>hidalgoal</td>\n",
       "      <td>@danecook Sooo SAD I will miss you here in San...</td>\n",
       "    </tr>\n",
       "  </tbody>\n",
       "</table>\n",
       "</div>"
      ],
      "text/plain": [
       "        tweet_id sentiment     author  \\\n",
       "7591  1961767976   sadness  hidalgoal   \n",
       "\n",
       "                                                content  \n",
       "7591  @danecook Sooo SAD I will miss you here in San...  "
      ]
     },
     "execution_count": 3,
     "metadata": {},
     "output_type": "execute_result"
    }
   ],
   "source": [
    "tweet = \"sooo sad i will miss you here in san diego!!!\"\n",
    "original_df[original_df['content'].str.lower().str.contains(tweet)]"
   ]
  },
  {
   "cell_type": "markdown",
   "metadata": {},
   "source": [
    "Even more interesting, we know who is the tweet `author`, hidalgoal, we have access to the hashtag, @danecook, and we have granular information information regarding the `sentiment`, sadness.\n",
    "\n",
    "### Sentiment feature\n",
    "\n",
    "In this dataset, there are **13** sentiments: "
   ]
  },
  {
   "cell_type": "code",
   "execution_count": 4,
   "metadata": {},
   "outputs": [
    {
     "data": {
      "text/plain": [
       "13"
      ]
     },
     "execution_count": 4,
     "metadata": {},
     "output_type": "execute_result"
    }
   ],
   "source": [
    "len(original_df['sentiment'].unique())"
   ]
  },
  {
   "cell_type": "code",
   "execution_count": 5,
   "metadata": {},
   "outputs": [
    {
     "data": {
      "text/plain": [
       "['empty',\n",
       " 'sadness',\n",
       " 'enthusiasm',\n",
       " 'neutral',\n",
       " 'worry',\n",
       " 'surprise',\n",
       " 'love',\n",
       " 'fun',\n",
       " 'hate',\n",
       " 'happiness',\n",
       " 'boredom',\n",
       " 'relief',\n",
       " 'anger']"
      ]
     },
     "execution_count": 5,
     "metadata": {},
     "output_type": "execute_result"
    }
   ],
   "source": [
    "list(original_df['sentiment'].unique())"
   ]
  },
  {
   "cell_type": "code",
   "execution_count": 6,
   "metadata": {},
   "outputs": [
    {
     "data": {
      "image/png": "[encoded data removed]",
      "text/plain": [
       "<Figure size 1080x360 with 1 Axes>"
      ]
     },
     "metadata": {
      "image/png": {
       "height": 380,
       "width": 884
      },
      "needs_background": "light"
     },
     "output_type": "display_data"
    }
   ],
   "source": [
    "import matplotlib.pyplot as plt\n",
    "plt.rcParams[\"figure.figsize\"] = (15,5)\n",
    "\n",
    "%config InlineBackend.figure_format='retina'\n",
    "\n",
    "title = \"Sentiment distribution in original_df\"\n",
    "original_df.groupby('sentiment')['content'].count().plot.bar(color='orange', title=title);"
   ]
  },
  {
   "cell_type": "markdown",
   "metadata": {},
   "source": [
    "`happiness`, `neutral`, `sadness` and `worry` are the most used sentiment. We can assume that `happiness` was mapped to `positive`, whereas `sadness` and `worry` were mapped to `negative`.\n",
    "\n",
    "**Key takeaways**\n",
    "\n",
    "We can notice how the distribution between the sentiment is different. We may, for instance, discover that our model has difficulties to find the _support phrase_ for sentiment fewer commons, such as `boredom` or `relief`. In this case, we may want to do some pre-processing.\n",
    "\n",
    "Also, in the official `train_df` the jaccard score for the `negative` sentiment is about 0.97. In the next versions, I will try to map each tweet to the more granular sentiment and will analyze the jaccard for each column."
   ]
  },
  {
   "cell_type": "markdown",
   "metadata": {},
   "source": [
    "### Tweet authors\n",
    "\n",
    "Among 40k different tweets, there are 33871 different authors. This fact may also be exploited to increase the score. Note also that since the data have been randomly split into train/public test/private test, it may happens that tweets from the same authors **are present both in train and test datasets**. "
   ]
  },
  {
   "cell_type": "code",
   "execution_count": 7,
   "metadata": {},
   "outputs": [
    {
     "data": {
      "text/plain": [
       "33871"
      ]
     },
     "execution_count": 7,
     "metadata": {},
     "output_type": "execute_result"
    }
   ],
   "source": [
    "len(original_df['author'].unique())"
   ]
  },
  {
   "cell_type": "markdown",
   "metadata": {},
   "source": [
    "_MissxMarisa_ is the most active users with 23 tweets, followed by _ChineseLearn_, _erkagarcia_ and _MiDesfileNegro_."
   ]
  },
  {
   "cell_type": "code",
   "execution_count": 8,
   "metadata": {},
   "outputs": [
    {
     "data": {
      "text/plain": [
       "MissxMarisa       23\n",
       "ChineseLearn      22\n",
       "MiDesfileNegro    19\n",
       "erkagarcia        19\n",
       "lost_dog          18\n",
       "                  ..\n",
       "midilli            1\n",
       "Caiteee            1\n",
       "theeval            1\n",
       "jaispot            1\n",
       "negativeman        1\n",
       "Name: author, Length: 33871, dtype: int64"
      ]
     },
     "execution_count": 8,
     "metadata": {},
     "output_type": "execute_result"
    }
   ],
   "source": [
    "original_df['author'].value_counts()"
   ]
  },
  {
   "cell_type": "markdown",
   "metadata": {},
   "source": [
    "# Construction of private test set\n",
    "\n",
    "The `original_df` has exactly 40 thousand tweets, by simply subtracting the size of the train and test TSE datasets, we can find the private test dataset size. "
   ]
  },
  {
   "cell_type": "code",
   "execution_count": 9,
   "metadata": {},
   "outputs": [],
   "source": [
    "TSE_DATA = \"/kaggle/input/tweet-sentiment-extraction/\"\n",
    "\n",
    "train_df = pd.read_csv(TSE_DATA + \"train.csv\").dropna().reset_index(drop=True)\n",
    "test_df = pd.read_csv(TSE_DATA + \"test.csv\")"
   ]
  },
  {
   "cell_type": "code",
   "execution_count": 10,
   "metadata": {},
   "outputs": [
    {
     "data": {
      "text/plain": [
       "8986"
      ]
     },
     "execution_count": 10,
     "metadata": {},
     "output_type": "execute_result"
    }
   ],
   "source": [
    "size_private_df = original_df.shape[0] - train_df.shape[0] - test_df.shape[0]\n",
    "size_private_df"
   ]
  },
  {
   "cell_type": "markdown",
   "metadata": {},
   "source": [
    "[](http://)From the TSE leaderboard we discover that **leaderboard [..] approximately 30% of the test data. The final results will be based on the other 70%**. By a simple calculus, the expected size of the private leaderboard is 8246, 700 less than our estimation. Probably, this is due to the fact that some of the tweets were removed during the [Leaderboard update coming!](https://www.kaggle.com/c/tweet-sentiment-extraction/discussion/142073)."
   ]
  },
  {
   "cell_type": "code",
   "execution_count": 11,
   "metadata": {},
   "outputs": [
    {
     "data": {
      "text/plain": [
       "8246.0"
      ]
     },
     "execution_count": 11,
     "metadata": {},
     "output_type": "execute_result"
    }
   ],
   "source": [
    "test_df.shape[0] / 30 * 70"
   ]
  },
  {
   "cell_type": "markdown",
   "metadata": {},
   "source": [
    "To construct the private_test_set I tried many different things and algorithms. Finally, I picked a very simple solution that nonetheless shows great results.\n",
    "\n",
    "We iterate over each tweet in the original_df and verify if it is present in train_df or test_df. But, since the train_df/test_df tweets have been cleaned further, we check whether the tweet of train_df is contained in the original dataframe and not the other way around.\n",
    "\n",
    "As you can see, the private dataset is composed of about 8000 items; a good indication that we are on the right track."
   ]
  },
  {
   "cell_type": "code",
   "execution_count": 12,
   "metadata": {},
   "outputs": [
    {
     "name": "stderr",
     "output_type": "stream",
     "text": [
      "100%|██████████| 40000/40000 [00:55<00:00, 722.22it/s]\n"
     ]
    }
   ],
   "source": [
    "train_test_tweets = list(train_df['text'].str.lower()) + list(test_df['text'].str.lower())\n",
    "\n",
    "def tweet_in_private(content):\n",
    "    for tweet in train_test_tweets:\n",
    "        if tweet in content:\n",
    "            return False\n",
    "    return True\n",
    "\n",
    "original_df['content'] = original_df['content'].str.lower()\n",
    "original_df['in_private'] = original_df['content'].progress_apply(tweet_in_private)"
   ]
  },
  {
   "cell_type": "code",
   "execution_count": 13,
   "metadata": {},
   "outputs": [
    {
     "data": {
      "text/plain": [
       "False    31507\n",
       "True      8493\n",
       "Name: in_private, dtype: int64"
      ]
     },
     "execution_count": 13,
     "metadata": {},
     "output_type": "execute_result"
    }
   ],
   "source": [
    "original_df['in_private'].value_counts()"
   ]
  },
  {
   "cell_type": "markdown",
   "metadata": {},
   "source": [
    "# Private dataset and EDA\n",
    "\n",
    "Let's analyze at our findings ..."
   ]
  },
  {
   "cell_type": "code",
   "execution_count": 14,
   "metadata": {},
   "outputs": [
    {
     "data": {
      "text/html": [
       "<div>\n",
       "<style scoped>\n",
       "    .dataframe tbody tr th:only-of-type {\n",
       "        vertical-align: middle;\n",
       "    }\n",
       "\n",
       "    .dataframe tbody tr th {\n",
       "        vertical-align: top;\n",
       "    }\n",
       "\n",
       "    .dataframe thead th {\n",
       "        text-align: right;\n",
       "    }\n",
       "</style>\n",
       "<table border=\"1\" class=\"dataframe\">\n",
       "  <thead>\n",
       "    <tr style=\"text-align: right;\">\n",
       "      <th></th>\n",
       "      <th>tweet_id</th>\n",
       "      <th>sentiment</th>\n",
       "      <th>author</th>\n",
       "      <th>content</th>\n",
       "      <th>in_private</th>\n",
       "    </tr>\n",
       "  </thead>\n",
       "  <tbody>\n",
       "    <tr>\n",
       "      <th>5</th>\n",
       "      <td>1956968477</td>\n",
       "      <td>worry</td>\n",
       "      <td>xxxPEACHESxxx</td>\n",
       "      <td>re-pinging @ghostridah14: why didn't you go to...</td>\n",
       "      <td>True</td>\n",
       "    </tr>\n",
       "    <tr>\n",
       "      <th>9</th>\n",
       "      <td>1956969172</td>\n",
       "      <td>sadness</td>\n",
       "      <td>Ingenue_Em</td>\n",
       "      <td>@kelcouch i'm sorry  at least it's friday?</td>\n",
       "      <td>True</td>\n",
       "    </tr>\n",
       "    <tr>\n",
       "      <th>15</th>\n",
       "      <td>1956971077</td>\n",
       "      <td>sadness</td>\n",
       "      <td>Sim_34</td>\n",
       "      <td>the storm is here and the electricity is gone</td>\n",
       "      <td>True</td>\n",
       "    </tr>\n",
       "    <tr>\n",
       "      <th>20</th>\n",
       "      <td>1956971981</td>\n",
       "      <td>worry</td>\n",
       "      <td>andreagauster</td>\n",
       "      <td>@raaaaaaek oh too bad! i hope it gets better. ...</td>\n",
       "      <td>True</td>\n",
       "    </tr>\n",
       "    <tr>\n",
       "      <th>22</th>\n",
       "      <td>1956972116</td>\n",
       "      <td>neutral</td>\n",
       "      <td>jansc</td>\n",
       "      <td>no topic maps talks at the balisage markup con...</td>\n",
       "      <td>True</td>\n",
       "    </tr>\n",
       "  </tbody>\n",
       "</table>\n",
       "</div>"
      ],
      "text/plain": [
       "      tweet_id sentiment         author  \\\n",
       "5   1956968477     worry  xxxPEACHESxxx   \n",
       "9   1956969172   sadness     Ingenue_Em   \n",
       "15  1956971077   sadness         Sim_34   \n",
       "20  1956971981     worry  andreagauster   \n",
       "22  1956972116   neutral          jansc   \n",
       "\n",
       "                                              content  in_private  \n",
       "5   re-pinging @ghostridah14: why didn't you go to...        True  \n",
       "9          @kelcouch i'm sorry  at least it's friday?        True  \n",
       "15      the storm is here and the electricity is gone        True  \n",
       "20  @raaaaaaek oh too bad! i hope it gets better. ...        True  \n",
       "22  no topic maps talks at the balisage markup con...        True  "
      ]
     },
     "execution_count": 14,
     "metadata": {},
     "output_type": "execute_result"
    }
   ],
   "source": [
    "private_df = original_df[original_df['in_private'] == True]\n",
    "private_df.head()"
   ]
  },
  {
   "cell_type": "code",
   "execution_count": 15,
   "metadata": {},
   "outputs": [
    {
     "data": {
      "text/plain": [
       "(8493, 5)"
      ]
     },
     "execution_count": 15,
     "metadata": {},
     "output_type": "execute_result"
    }
   ],
   "source": [
    "private_df.shape"
   ]
  },
  {
   "cell_type": "code",
   "execution_count": 16,
   "metadata": {},
   "outputs": [
    {
     "data": {
      "image/png": "[encoded data removed]",
      "text/plain": [
       "<Figure size 1080x360 with 1 Axes>"
      ]
     },
     "metadata": {
      "image/png": {
       "height": 380,
       "width": 884
      },
      "needs_background": "light"
     },
     "output_type": "display_data"
    }
   ],
   "source": [
    "title = \"Sentiment distribution in private_df\"\n",
    "private_df.groupby('sentiment')['content'].count().plot.bar(color='orange', title=title);"
   ]
  },
  {
   "cell_type": "markdown",
   "metadata": {},
   "source": [
    "It seems that the `sentiment` distributions follows somehow the distribution of the entire dataset. Nice."
   ]
  },
  {
   "cell_type": "code",
   "execution_count": 17,
   "metadata": {},
   "outputs": [
    {
     "data": {
      "text/plain": [
       "PhotoAlert        8\n",
       "erkagarcia        7\n",
       "lesley007         5\n",
       "ComcastBonnie     5\n",
       "MiDesfileNegro    5\n",
       "                 ..\n",
       "CROOKLYNMAYO      1\n",
       "jaffejuice        1\n",
       "giselle6          1\n",
       "tina5b5           1\n",
       "megan_os          1\n",
       "Name: author, Length: 8046, dtype: int64"
      ]
     },
     "execution_count": 17,
     "metadata": {},
     "output_type": "execute_result"
    }
   ],
   "source": [
    "private_df['author'].value_counts()"
   ]
  },
  {
   "cell_type": "markdown",
   "metadata": {},
   "source": [
    "We save the private_df in a CSV for further analysis! Now it's up to you ;)"
   ]
  },
  {
   "cell_type": "code",
   "execution_count": 18,
   "metadata": {},
   "outputs": [],
   "source": [
    "private_df.to_csv(\"test_private_df.csv\", index=False)"
   ]
  },
  {
   "cell_type": "markdown",
   "metadata": {},
   "source": [
    "# Conclusions and next steps\n",
    "\n",
    "There are much more that can be done, but some groundworks have been done. In the next days, I will investigate further the creation of the dataset, for instance by trying to map all tweets and try to construct a new model with the new features.\n",
    "\n",
    "Please, let me know your opinions and share your advice on how to improve this notebook. I put a lot of effort into it and hope you appreciated.\n",
    "\n",
    "Thank you for reading; I hope you learned something !! 🤗"
   ]
  }
 ],
 "metadata": {
  "kernelspec": {
   "display_name": "Python 3",
   "language": "python",
   "name": "python3"
  },
  "language_info": {
   "codemirror_mode": {
    "name": "ipython",
    "version": 3
   },
   "file_extension": ".py",
   "mimetype": "text/x-python",
   "name": "python",
   "nbconvert_exporter": "python",
   "pygments_lexer": "ipython3",
   "version": "3.6.6"
  }
 },
 "nbformat": 4,
 "nbformat_minor": 4
}
